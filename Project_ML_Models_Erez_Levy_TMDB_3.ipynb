{
  "cells": [
    {
      "cell_type": "markdown",
      "metadata": {
        "id": "view-in-github",
        "colab_type": "text"
      },
      "source": [
        "<a href=\"https://colab.research.google.com/github/Elbx88/ML-Model-Perdiction/blob/main/Project_ML_Models_Erez_Levy_TMDB_3.ipynb\" target=\"_parent\"><img src=\"https://colab.research.google.com/assets/colab-badge.svg\" alt=\"Open In Colab\"/></a>"
      ]
    },
    {
      "cell_type": "markdown",
      "metadata": {
        "id": "7xR9BPtee_5K"
      },
      "source": [
        "## ML Model Perdiction - Project By Erez Levy-Part III Data Cleansing"
      ]
    },
    {
      "cell_type": "markdown",
      "metadata": {
        "id": "5vDOpq8ceFDc"
      },
      "source": [
        "# The TMDB Dataset"
      ]
    },
    {
      "cell_type": "markdown",
      "metadata": {
        "id": "Xom-cpySeLy6"
      },
      "source": [
        "The TMDB (The Movie Database) is a widely-used resource for movie and TV show data, providing valuable information such as ratings, plot summaries, and more.\n",
        "\n",
        "This dataset contains a collection of 150,000 tv shows from the TMDB database, collected and cleaned."
      ]
    },
    {
      "cell_type": "markdown",
      "metadata": {
        "id": "Pf0gzlgHe2jD"
      },
      "source": [
        "# The Project Overview:"
      ]
    },
    {
      "cell_type": "markdown",
      "metadata": {
        "id": "T6lD38XxewZB"
      },
      "source": [
        "\n",
        "This dataset opens up a wide range of possibilities for data analysts and data scientists. Here are some ideas to get you started:\n",
        "\n",
        "Explore trends in TV show popularity based on vote count and average.\n",
        "Analyze TV show genres to identify the most popular genres or combinations of genres.\n",
        "Investigate the relationship between TV show ratings and the number of seasons and episodes.\n",
        "Build a recommendation system that suggests TV shows based on a user's favorite genres or languages.\n",
        "Predict the success of a TV show based on features like vote count, average, and popularity.\n",
        "Identify the most prolific TV show creators or production companies based on the number of shows they have created.\n",
        "Explore the distribution of TV show run times and investigate whether episode duration affects the overall ratings.\n",
        "Investigate TV show production trends across different countries and networks.\n",
        "Analyze the relationship between TV show language and popularity, and investigate the popularity of non-English shows.\n",
        "Track the status of TV shows (in production or not) and analyze their popularity over time.\n",
        "Develop a language analysis model to identify sentiment or themes from TV show overviews."
      ]
    },
    {
      "cell_type": "markdown",
      "metadata": {
        "id": "eEr2j2vr0T7j"
      },
      "source": [
        "I need to build a predictive model to determine the success of a TV show based on features like vote count, vote average, and popularity. We'll approach this as a regression problem, where we predict a continuous success metric, and we'll use multiple regression models.\n",
        "\n",
        "\n",
        "\n",
        "**Approach**\n",
        "Feature Selection: Choose the features you want to use for prediction (vote_count, vote_average, popularity, and potentially others like number_of_episodes, number_of_seasons).\n",
        "\n",
        "Target Variable: Define the target variable. In this case, we'll use popularity as a measure of success.\n",
        "\n",
        "Data Splitting: Split the data into training and testing sets.\n",
        "\n",
        "Model Selection: Try several regression models:\n",
        "Linear Regression: A good starting point for regression problems.\n",
        "Random Forest Regressor: A more complex model that can capture non-linear relationships.\n",
        "Gradient Boosting Regressor: Another advanced model known for good performance.\n",
        "\n",
        "Model Training: Train the models on the training set.\n",
        "\n",
        "Model Evaluation: Evaluate the models on the testing set using appropriate metrics (e.g., R-squared, Mean Absolute Error (MAE), Root Mean Squared Error (RMSE)).\n",
        "\n",
        "Cross-Validation: Use Cross-Validation to ensure that the model does not overfit.\n",
        "\n",
        "Hyperparameter Tuning: Use Hyperparameter Tuning to optimize the model parameters."
      ]
    },
    {
      "cell_type": "markdown",
      "metadata": {
        "id": "oWshw2uxr08p"
      },
      "source": [
        "# Target Value prediction\n",
        "Based on the potential insights and business value, I would suggest focusing on predicting either:\n",
        "\n",
        "Popularity: It is a complex and dynamic metric that reflects overall success.\n",
        "Vote Average (Rating): It captures audience satisfaction and critical acclaim.\n",
        "Both of these targets have valuable real-world implications and can be approached with a variety of machine learning models.\n",
        "\n",
        "Important Considerations:\n",
        "\n",
        "Feature Engineering: Carefully select and engineer features from the TMDB data that you think will be most relevant to your chosen target variable.\n",
        "Model Selection: Experiment with different machine learning models (regression for popularity or ratings, classification for status/renewal) to find the best performer.\n",
        "Evaluation: Use appropriate metrics (like RMSE for regression or accuracy for classification) to assess the performance of your predictive model."
      ]
    },
    {
      "cell_type": "markdown",
      "source": [
        "# Import tmdb.eda pickel file from my Google Drive Location"
      ],
      "metadata": {
        "id": "wXRe69Z9Jiz4"
      }
    },
    {
      "cell_type": "code",
      "execution_count": 1,
      "metadata": {
        "colab": {
          "base_uri": "https://localhost:8080/"
        },
        "outputId": "ee477f0a-4adf-4655-9602-600cdaf7704b",
        "id": "eHeGP6jbKC4B"
      },
      "outputs": [
        {
          "output_type": "stream",
          "name": "stdout",
          "text": [
            "Mounted at /content/drive\n",
            "tmdb_eda loaded from /content/drive/My Drive/1pBDwupkA4bAYBLsQilnu8YrNra72QfKz/tmdb_eda.pkl successfully.\n",
            "              name      id  number_of_seasons  number_of_episodes  vote_count  \\\n",
            "0          minutes   39280                  0                   0           0   \n",
            "1              man  222976                  1                   5           3   \n",
            "2   erne tur retur  231560                  1                  10           0   \n",
            "3                    34835                  1                  12          10   \n",
            "4             bama   42598                  0                   0           0   \n",
            "\n",
            "   vote_average  adult first_air_date last_air_date  popularity  type  genres  \\\n",
            "0           0.0  False           None          None       0.600     4      19   \n",
            "1           7.7  False     2023-05-28    2023-06-25       4.606     4      12   \n",
            "2           0.0  False     2014-05-15    2014-07-17       0.600     4      19   \n",
            "3           6.4  False     2006-10-06    2006-12-22       9.761     4      19   \n",
            "4           0.0  False           None          None       0.600     4       5   \n",
            "\n",
            "   created_by  languages  networks  origin_country  production_companies  \\\n",
            "0          20          6        18              19                    18   \n",
            "1          20         10        18              12                    18   \n",
            "2          20         13        18               5                    18   \n",
            "3          15         10        18              12                    18   \n",
            "4          20         13        18              20                    18   \n",
            "\n",
            "   episode_run_time  \n",
            "0                30  \n",
            "1                50  \n",
            "2                 0  \n",
            "3                30  \n",
            "4                 0  \n"
          ]
        }
      ],
      "source": [
        "import pickle\n",
        "from google.colab import drive\n",
        "\n",
        "# Mount Google Drive (if you haven't already)\n",
        "drive.mount('/content/drive')\n",
        "\n",
        "# Define the file path where the pickle file is located in your Google Drive\n",
        "file_path = '/content/drive/My Drive/1pBDwupkA4bAYBLsQilnu8YrNra72QfKz/tmdb_eda.pkl'  # Replace 'your_folder' with the actual folder name\n",
        "\n",
        "# Load the data from the pickle file\n",
        "try:\n",
        "    with open(file_path, 'rb') as file:\n",
        "        tmdb_eda = pickle.load(file)\n",
        "    print(f\"tmdb_eda loaded from {file_path} successfully.\")\n",
        "\n",
        "    #  use the loaded DataFrame (tmdb_eda)\n",
        "    #  display the first few rows:\n",
        "    print(tmdb_eda.head())\n",
        "except FileNotFoundError:\n",
        "    print(f\"Error: File not found at {file_path}. Please check the file path and ensure the file exists in your Google Drive.\")\n",
        "except Exception as e:\n",
        "    print(f\"An error occurred: {e}\")\n"
      ]
    },
    {
      "cell_type": "markdown",
      "source": [
        "# 3. Data Cleansing\n",
        "\n",
        "Data cleansing, also known as data cleaning, is the process of identifying and correcting or removing errors, inconsistencies, and inaccuracies in a dataset. This is a crucial step in data analysis and machine learning as it ensures the quality and reliability of your data, leading to more accurate and meaningful results."
      ],
      "metadata": {
        "id": "1B7Cdiu1Ry6O"
      }
    },
    {
      "cell_type": "markdown",
      "source": [
        "# Removing Outliers using Z-score  & IQR  methods\n",
        "\n",
        "Outliers are data points that are significantly different from other data points in a dataset. They can have a negative impact on the accuracy of machine learning models. There are several methods for removing outliers, but two of the most common are the Z-score method and the IQR method.\n",
        "\n",
        "**Z-score Method**\n",
        "\n",
        "The Z-score method involves calculating the Z-score for each data point in a dataset. The Z-score is a measure of how many standard deviations a data point is from the mean of the dataset. Data points with a Z-score greater than 3 or less than -3 are typically considered to be outliers.\n",
        "\n",
        "**Reasoning:**\n",
        "\n",
        "The Z-score method is based on the assumption that the data is normally distributed. If the data is not normally distributed, the Z-score method may not be effective.\n",
        "The Z-score method is sensitive to the size of the dataset. For small datasets, the Z-score method may identify too many data points as outliers.\n",
        "\n",
        "**IQR Method**\n",
        "\n",
        "The IQR method involves calculating the interquartile range (IQR) for a dataset. The IQR is the difference between the 75th percentile and the 25th percentile of the dataset. Data points that are more than 1.5 times the IQR below the 25th percentile or more than 1.5 times the IQR above the 75th percentile are typically considered to be outliers.\n",
        "\n",
        "**Reasoning:**\n",
        "\n",
        "The IQR method is more robust to outliers than the Z-score method.\n",
        "The IQR method does not assume that the data is normally distributed."
      ],
      "metadata": {
        "id": "PQfBQP-r439l"
      }
    },
    {
      "cell_type": "code",
      "source": [
        "import numpy as np\n",
        "import pandas as pd\n",
        "from scipy import stats\n",
        "import matplotlib.pyplot as plt # Import the pyplot module\n",
        "\n",
        "# Assuming tmdb_eda is your DataFrame\n",
        "\n",
        "# 1. Using Z-Score:\n",
        "# Calculate Z-scores for numerical features\n",
        "numerical_features = tmdb_eda.select_dtypes(include=['number']).columns\n",
        "z_scores = np.abs(stats.zscore(tmdb_eda[numerical_features]))\n",
        "\n",
        "# Set a threshold for outlier detection (e.g., 3)\n",
        "threshold = 3\n",
        "\n",
        "# Identify outliers\n",
        "outliers = np.where(z_scores > threshold)\n",
        "\n",
        "# Remove outliers (optional)\n",
        "# tmdb_eda = tmdb_eda[(z_scores < threshold).all(axis=1)]\n",
        "\n",
        "# 2. Using IQR:\n",
        "\n",
        "# Calculate IQR for numerical features\n",
        "Q1 = tmdb_eda[numerical_features].quantile(0.25)\n",
        "Q3 = tmdb_eda[numerical_features].quantile(0.75)\n",
        "IQR = Q3 - Q1\n",
        "\n",
        "# Set lower and upper bounds for outlier detection\n",
        "lower_bound = Q1 - 1.5 * IQR\n",
        "upper_bound = Q3 + 1.5 * IQR\n",
        "\n",
        "# Identify IQR outliers\n",
        "outliers_iqr = tmdb_eda[((tmdb_eda[numerical_features] < lower_bound) | (tmdb_eda[numerical_features] > upper_bound)).any(axis=1)]\n",
        "\n",
        "# Remove outliers (optional)\n",
        "# tmdb_eda = tmdb_eda[~((tmdb_eda[numerical_features] < lower_bound) | (tmdb_eda[numerical_features] > upper_bound)).any(axis=1)]\n",
        "\n",
        "# 3. Capping Outliers:\n",
        "\n",
        "# Cap outliers at a certain percentile (e.g., 95th and 5th)\n",
        "for feature in numerical_features:\n",
        "    upper_limit = tmdb_eda[feature].quantile(0.95)\n",
        "    lower_limit = tmdb_eda[feature].quantile(0.05)\n",
        "    tmdb_eda[feature] = np.clip(tmdb_eda[feature], lower_limit, upper_limit)\n",
        "\n",
        "# 4. Transformation:\n",
        "\n",
        "# Apply transformations like log or Box-Cox to reduce the impact of outliers (optional)\n",
        "# For example, for right-skewed data:\n",
        "\n",
        "tmdb_eda['popularity'] = np.log(tmdb_eda['popularity'] + 1)  # Add 1 to avoid log(0)\n",
        "\n",
        "# Apply the log transformation:\n",
        "tmdb_eda['popularity_log'] = np.log(tmdb_eda['popularity'] + 1)\n",
        "# option 1: print the entire column\n",
        "print(tmdb_eda['popularity_log'])\n",
        "\n",
        "# Option 2: Print a sample of the transformed column:\n",
        "print(tmdb_eda['popularity_log'].head())  # Prints the first 5 values\n",
        "\n",
        "# Option 3: Print descriptive statistics:\n",
        "print(tmdb_eda['popularity_log'].describe()) # Prints statistical summary\n",
        "\n",
        "# Option 4: Create a histogram to visualize the distribution:\n",
        "tmdb_eda['popularity_log'].hist(bins=20)\n",
        "plt.xlabel('Log-Transformed Popularity')\n",
        "plt.ylabel('Frequency')\n",
        "plt.title('Distribution of Log-Transformed Popularity')\n",
        "plt.show()"
      ],
      "metadata": {
        "id": "u1WtaCWiidGU",
        "colab": {
          "base_uri": "https://localhost:8080/",
          "height": 941
        },
        "outputId": "18944147-6d71-4d4e-ca26-65bbf3dff81a"
      },
      "execution_count": 2,
      "outputs": [
        {
          "output_type": "stream",
          "name": "stdout",
          "text": [
            "0        0.385265\n",
            "1        1.002042\n",
            "2        0.385265\n",
            "3        1.216670\n",
            "4        0.385265\n",
            "           ...   \n",
            "82867    0.685842\n",
            "82868    0.552804\n",
            "82869    0.732257\n",
            "82870    0.572607\n",
            "82871    0.552254\n",
            "Name: popularity_log, Length: 82872, dtype: float64\n",
            "0    0.385265\n",
            "1    1.002042\n",
            "2    0.385265\n",
            "3    1.216670\n",
            "4    0.385265\n",
            "Name: popularity_log, dtype: float64\n",
            "count    82872.000000\n",
            "mean         0.662134\n",
            "std          0.329013\n",
            "min          0.385265\n",
            "25%          0.385265\n",
            "50%          0.523624\n",
            "75%          0.869322\n",
            "max          1.411689\n",
            "Name: popularity_log, dtype: float64\n"
          ]
        },
        {
          "output_type": "display_data",
          "data": {
            "text/plain": [
              "<Figure size 640x480 with 1 Axes>"
            ],
            "image/png": "[encoded data removed]"
          },
          "metadata": {}
        }
      ]
    },
    {
      "cell_type": "markdown",
      "source": [
        "# Interquartile Range (IQR):\n",
        "\n",
        "Best for: Data that is skewed or has a non-normal distribution.\n",
        "\n",
        "The Reasoning: IQR is a robust measure that is less affected by extreme values than Z-score. It's also more flexible as it doesn't assume any specific data distribution.\n",
        "\n",
        "The Example: My 'popularity' data has a long tail on the right (many shows with low popularity and a few with very high popularity), IQR would be a good choice.\n",
        "\n",
        "To Consider: My dataset has many missing values, using IQR might remove too much data if the outliers are also concentrated in the same areas as the missing values.\n",
        "\n",
        "Explanation: The IQR is the range between the first quartile (25th percentile) and the third quartile (75th percentile) of the data. Data points that fall outside a certain range below the first quartile or above the third quartile (e.g., 1.5 times the IQR) are considered outliers.\n",
        "Reasoning: IQR is a robust measure of spread and is less sensitive to extreme values than the standard deviation. It's effective for data that may not follow a normal distribution.\n",
        "How to use it in your code: You can use the pandas.DataFrame.quantile function to calculate quartiles and the IQR. You can then filter out data points that fall outside the calculated outlier range."
      ],
      "metadata": {
        "id": "gJRmaNcwTQIV"
      }
    },
    {
      "cell_type": "markdown",
      "source": [
        "# IQR popularity & cap Outliers"
      ],
      "metadata": {
        "id": "zR-Vi-OaegWk"
      }
    },
    {
      "cell_type": "code",
      "source": [
        "import pandas as pd\n",
        "import numpy as np\n",
        "\n",
        "# Assuming tmdb_eda is your DataFrame\n",
        "\n",
        "# 1. Calculate quartiles and IQR:\n",
        "Q1 = tmdb_eda['popularity'].quantile(0.25)\n",
        "Q3 = tmdb_eda['popularity'].quantile(0.75)\n",
        "IQR = Q3 - Q1\n",
        "\n",
        "# 2. Calculate bounds:\n",
        "lower_bound = Q1 - 1.5 * IQR\n",
        "upper_bound = Q3 + 1.5 * IQR\n",
        "\n",
        "# 3. Cap outliers:\n",
        "tmdb_eda['popularity'] = np.clip(tmdb_eda['popularity'], lower_bound, upper_bound)\n",
        "\n",
        "# 4. (Optional) Print information:\n",
        "print(\"Lower bound:\", lower_bound)\n",
        "print(\"Upper bound:\", upper_bound)\n",
        "# You can also print the DataFrame to see the capped values\n",
        "print(tmdb_eda['number_of_episodes'])\n"
      ],
      "metadata": {
        "colab": {
          "base_uri": "https://localhost:8080/"
        },
        "outputId": "f0f35627-8e16-483a-f32f-9c07eb992ddb",
        "id": "PLDzZNRNeN5i"
      },
      "execution_count": 3,
      "outputs": [
        {
          "output_type": "stream",
          "name": "stdout",
          "text": [
            "Lower bound: -0.9029317180651213\n",
            "Upper bound: 2.758229208097164\n",
            "0         0\n",
            "1         5\n",
            "2        10\n",
            "3        12\n",
            "4         0\n",
            "         ..\n",
            "82867     8\n",
            "82868     9\n",
            "82869    14\n",
            "82870     9\n",
            "82871    12\n",
            "Name: number_of_episodes, Length: 82872, dtype: int64\n"
          ]
        }
      ]
    },
    {
      "cell_type": "markdown",
      "metadata": {
        "id": "ECi3R9WSLbdr"
      },
      "source": [
        "# The IQR for number_of_episodes' for tmdb_eda  DataFrame\n",
        "\n"
      ]
    },
    {
      "cell_type": "code",
      "execution_count": 4,
      "metadata": {
        "colab": {
          "base_uri": "https://localhost:8080/"
        },
        "id": "JtKKj7Bzy9te",
        "outputId": "661c256d-d65e-4f49-d566-add3c29f10c3"
      },
      "outputs": [
        {
          "output_type": "stream",
          "name": "stdout",
          "text": [
            "IQR for number_of_episodes: 19.0\n",
            "Number of outliers: 8554\n"
          ]
        }
      ],
      "source": [
        "import pandas as pd\n",
        "\n",
        "# Assuming tmdb_eda is your DataFrame\n",
        "\n",
        "# 1. Calculate Quartiles and IQR:\n",
        "Q1 = tmdb_eda['number_of_episodes'].quantile(0.25)\n",
        "Q3 = tmdb_eda['number_of_episodes'].quantile(0.75)\n",
        "IQR = Q3 - Q1\n",
        "\n",
        "# 2. Print the IQR:\n",
        "print(\"IQR for number_of_episodes:\", IQR)\n",
        "\n",
        "# 3. (Optional) Define Outlier Bounds and Identify Outliers:\n",
        "lower_bound = Q1 - 1.5 * IQR\n",
        "upper_bound = Q3 + 1.5 * IQR\n",
        "outliers = tmdb_eda[(tmdb_eda['number_of_episodes'] < lower_bound) | (tmdb_eda['number_of_episodes'] > upper_bound)]\n",
        "\n",
        "# 4. (Optional) Print Outlier Information:\n",
        "print(\"Number of outliers:\", len(outliers))\n",
        "# print(\"Outlier values:\", outliers['number_of_episodes'].tolist())\n",
        "# Avoid printing the output, per the persona rules"
      ]
    },
    {
      "cell_type": "markdown",
      "source": [
        "# IQR 'number_of_episodes' & cap Outliers"
      ],
      "metadata": {
        "id": "HZqvJX51emfh"
      }
    },
    {
      "cell_type": "code",
      "source": [
        "import pandas as pd\n",
        "import numpy as np\n",
        "\n",
        "# Assuming tmdb_eda is your DataFrame\n",
        "\n",
        "# 1. Calculate quartiles and IQR:\n",
        "Q1 = tmdb_eda['number_of_episodes'].quantile(0.25)\n",
        "Q3 = tmdb_eda['number_of_episodes'].quantile(0.75)\n",
        "IQR = Q3 - Q1\n",
        "\n",
        "# 2. Calculate bounds:\n",
        "lower_bound = Q1 - 1.5 * IQR\n",
        "upper_bound = Q3 + 1.5 * IQR\n",
        "\n",
        "# 3. Cap outliers:\n",
        "tmdb_eda['number_of_episodes'] = np.clip(tmdb_eda['number_of_episodes'], lower_bound, upper_bound)\n",
        "\n",
        "# 4. (Optional) Print information:\n",
        "print(\"Lower bound:\", lower_bound)\n",
        "print(\"Upper bound:\", upper_bound)\n",
        "# You can also print the DataFrame to see the capped values\n",
        "print(tmdb_eda['number_of_episodes'])\n"
      ],
      "metadata": {
        "colab": {
          "base_uri": "https://localhost:8080/"
        },
        "outputId": "b11722f0-eef5-4c5c-96ba-76ecef30345a",
        "id": "DtXMdHoXetZ6"
      },
      "execution_count": 5,
      "outputs": [
        {
          "output_type": "stream",
          "name": "stdout",
          "text": [
            "Lower bound: -27.5\n",
            "Upper bound: 48.5\n",
            "0         0.0\n",
            "1         5.0\n",
            "2        10.0\n",
            "3        12.0\n",
            "4         0.0\n",
            "         ... \n",
            "82867     8.0\n",
            "82868     9.0\n",
            "82869    14.0\n",
            "82870     9.0\n",
            "82871    12.0\n",
            "Name: number_of_episodes, Length: 82872, dtype: float64\n"
          ]
        }
      ]
    },
    {
      "cell_type": "markdown",
      "source": [
        "# IQR episode_run_time & cap Outliers"
      ],
      "metadata": {
        "id": "ce3hlC2Zd9MR"
      }
    },
    {
      "cell_type": "code",
      "source": [
        "import pandas as pd\n",
        "import numpy as np\n",
        "\n",
        "# Assuming tmdb_eda is your DataFrame\n",
        "\n",
        "# 1. Calculate quartiles and IQR:\n",
        "Q1 = tmdb_eda['episode_run_time'].quantile(0.25)\n",
        "Q3 = tmdb_eda['episode_run_time'].quantile(0.75)\n",
        "IQR = Q3 - Q1\n",
        "\n",
        "# 2. Calculate bounds:\n",
        "lower_bound = Q1 - 1.5 * IQR\n",
        "upper_bound = Q3 + 1.5 * IQR\n",
        "\n",
        "# 3. Cap outliers:\n",
        "tmdb_eda['episode_run_time'] = np.clip(tmdb_eda['episode_run_time'], lower_bound, upper_bound)\n",
        "\n",
        "# 4. (Optional) Print information:\n",
        "print(\"Lower bound:\", lower_bound)\n",
        "print(\"Upper bound:\", upper_bound)\n",
        "# You can also print the DataFrame to see the capped values\n",
        "print(tmdb_eda['episode_run_time'])\n"
      ],
      "metadata": {
        "colab": {
          "base_uri": "https://localhost:8080/"
        },
        "outputId": "f94d1356-85f4-4cd9-e286-11cbd8ba8475",
        "id": "7vQyLpsXc2gt"
      },
      "execution_count": 6,
      "outputs": [
        {
          "output_type": "stream",
          "name": "stdout",
          "text": [
            "Lower bound: -67.5\n",
            "Upper bound: 112.5\n",
            "0        30\n",
            "1        50\n",
            "2         0\n",
            "3        30\n",
            "4         0\n",
            "         ..\n",
            "82867     0\n",
            "82868    70\n",
            "82869    49\n",
            "82870     0\n",
            "82871     0\n",
            "Name: episode_run_time, Length: 82872, dtype: int64\n"
          ]
        }
      ]
    },
    {
      "cell_type": "markdown",
      "source": [
        "# The IQR for 'number_of_seasons' for tmdb_eda Data Frame"
      ],
      "metadata": {
        "id": "Bsqoe4YxXfG8"
      }
    },
    {
      "cell_type": "code",
      "source": [
        "import pandas as pd\n",
        "\n",
        "# Assuming tmdb_eda is your DataFrame\n",
        "\n",
        "# 1. Calculate quartiles and IQR:\n",
        "Q1 = tmdb_eda['number_of_seasons'].quantile(0.25)\n",
        "Q3 = tmdb_eda['number_of_seasons'].quantile(0.75)\n",
        "IQR = Q3 - Q1\n",
        "\n",
        "# 2. Calculate bounds:\n",
        "lower_bound = Q1 - 1.5 * IQR\n",
        "upper_bound = Q3 + 1.5 * IQR\n",
        "\n",
        "# 3. Identify outliers:\n",
        "outliers = tmdb_eda[(tmdb_eda['number_of_seasons'] < lower_bound) | (tmdb_eda['number_of_seasons'] > upper_bound)]\n",
        "\n",
        "# 4. Print outlier information:\n",
        "print(\"Number of outliers:\", len(outliers))\n",
        "print(\"Outlier values:\", outliers['number_of_seasons'].tolist())\n"
      ],
      "metadata": {
        "colab": {
          "base_uri": "https://localhost:8080/"
        },
        "id": "i1GqCr8eXfjT",
        "outputId": "52112551-2352-4b24-c239-d04bbedd1ec3"
      },
      "execution_count": 7,
      "outputs": [
        {
          "output_type": "stream",
          "name": "stdout",
          "text": [
            "Number of outliers: 32274\n",
            "Outlier values: [0, 0, 0, 0, 0, 0, 0, 4, 0, 0, 0, 0, 0, 0, 0, 0, 4, 3, 0, 0, 0, 2, 3, 4, 2, 0, 0, 2, 4, 2, 3, 0, 3, 3, 3, 3, 2, 0, 0, 2, 0, 3, 0, 0, 4, 4, 0, 4, 3, 0, 2, 3, 0, 0, 0, 0, 0, 0, 0, 0, 0, 0, 0, 0, 0, 2, 4, 2, 4, 2, 4, 0, 2, 0, 0, 0, 4, 2, 0, 2, 0, 0, 2, 0, 0, 0, 4, 0, 4, 0, 4, 4, 0, 4, 2, 0, 0, 0, 2, 2, 0, 2, 0, 0, 0, 0, 3, 0, 0, 2, 4, 2, 2, 4, 0, 0, 0, 0, 0, 0, 0, 2, 0, 0, 2, 4, 3, 0, 2, 0, 0, 0, 4, 3, 0, 2, 0, 0, 2, 0, 0, 0, 0, 0, 2, 0, 0, 0, 2, 2, 0, 2, 0, 0, 4, 0, 0, 0, 2, 0, 0, 0, 2, 0, 0, 0, 0, 0, 0, 0, 0, 0, 0, 3, 0, 0, 0, 0, 4, 4, 0, 4, 0, 0, 0, 2, 2, 0, 0, 0, 0, 2, 2, 0, 4, 0, 3, 0, 0, 0, 0, 0, 0, 0, 0, 0, 0, 0, 0, 0, 0, 0, 0, 0, 0, 0, 0, 0, 4, 0, 0, 0, 0, 0, 0, 0, 0, 0, 0, 0, 0, 0, 0, 0, 0, 0, 0, 0, 0, 0, 0, 0, 0, 0, 0, 0, 0, 0, 0, 0, 3, 2, 2, 0, 0, 2, 2, 4, 0, 0, 0, 0, 0, 4, 4, 4, 0, 4, 4, 0, 2, 0, 0, 0, 2, 0, 0, 4, 2, 0, 2, 0, 0, 0, 0, 0, 2, 0, 0, 0, 3, 0, 0, 4, 0, 4, 0, 0, 4, 4, 4, 3, 4, 0, 4, 2, 0, 0, 0, 4, 0, 2, 0, 2, 0, 0, 2, 2, 2, 4, 0, 2, 3, 0, 4, 0, 4, 0, 0, 4, 0, 4, 0, 2, 4, 0, 0, 4, 4, 0, 0, 0, 0, 3, 0, 0, 2, 4, 0, 2, 0, 4, 0, 2, 2, 0, 0, 3, 2, 4, 0, 4, 0, 0, 4, 0, 0, 0, 0, 0, 0, 3, 0, 0, 2, 4, 0, 0, 0, 4, 0, 0, 0, 0, 0, 0, 4, 0, 4, 0, 0, 0, 2, 0, 0, 0, 0, 0, 4, 0, 4, 0, 0, 0, 0, 0, 0, 0, 0, 0, 0, 0, 0, 0, 0, 0, 2, 0, 3, 0, 0, 0, 0, 0, 0, 0, 0, 2, 0, 0, 0, 0, 0, 2, 0, 4, 0, 0, 0, 0, 0, 0, 0, 2, 4, 0, 0, 3, 0, 0, 4, 0, 0, 0, 0, 0, 2, 0, 0, 4, 0, 0, 0, 0, 4, 2, 2, 0, 0, 0, 4, 2, 0, 4, 4, 0, 2, 0, 4, 0, 2, 3, 0, 2, 4, 0, 0, 3, 0, 0, 2, 0, 0, 0, 0, 0, 4, 3, 0, 0, 0, 0, 2, 4, 0, 0, 2, 2, 0, 0, 2, 3, 4, 2, 0, 0, 0, 4, 0, 0, 0, 0, 0, 0, 0, 0, 0, 0, 0, 0, 0, 0, 0, 0, 0, 2, 3, 0, 0, 0, 0, 0, 0, 0, 0, 0, 0, 0, 2, 2, 4, 3, 0, 0, 4, 0, 3, 0, 0, 0, 0, 0, 0, 0, 0, 2, 0, 0, 0, 0, 0, 0, 2, 0, 0, 0, 0, 4, 0, 2, 0, 0, 0, 0, 2, 2, 0, 0, 2, 0, 0, 0, 0, 0, 0, 0, 0, 0, 0, 0, 0, 4, 2, 0, 3, 2, 0, 4, 2, 0, 4, 4, 4, 0, 0, 2, 2, 0, 0, 2, 0, 0, 0, 3, 0, 0, 0, 0, 3, 0, 2, 0, 0, 0, 0, 0, 0, 4, 0, 3, 3, 0, 2, 0, 2, 2, 2, 4, 0, 3, 0, 2, 3, 3, 2, 2, 0, 2, 0, 2, 3, 2, 2, 2, 0, 2, 4, 0, 0, 0, 0, 2, 2, 0, 4, 0, 0, 0, 0, 0, 0, 0, 0, 3, 2, 0, 0, 4, 0, 2, 2, 0, 0, 2, 0, 0, 0, 0, 0, 0, 2, 0, 4, 2, 0, 3, 0, 3, 4, 0, 0, 4, 0, 0, 3, 2, 3, 3, 2, 2, 3, 0, 0, 0, 0, 0, 4, 0, 0, 2, 0, 2, 2, 0, 0, 0, 0, 4, 0, 0, 0, 4, 2, 4, 2, 0, 0, 0, 0, 0, 3, 3, 0, 0, 0, 0, 3, 4, 4, 0, 0, 0, 0, 4, 0, 0, 0, 0, 0, 0, 0, 2, 3, 3, 0, 3, 2, 0, 3, 0, 2, 3, 0, 4, 2, 2, 0, 0, 0, 0, 2, 3, 0, 0, 2, 4, 2, 0, 0, 3, 0, 0, 4, 3, 3, 0, 0, 4, 3, 4, 4, 2, 0, 0, 0, 4, 4, 2, 2, 0, 3, 0, 0, 0, 0, 3, 2, 4, 0, 2, 2, 2, 0, 0, 4, 2, 4, 0, 0, 3, 0, 0, 4, 0, 0, 0, 2, 4, 0, 0, 0, 2, 0, 0, 4, 0, 0, 3, 0, 2, 0, 2, 0, 0, 0, 0, 0, 0, 0, 2, 0, 2, 0, 0, 0, 0, 4, 2, 0, 0, 0, 0, 0, 4, 4, 0, 2, 0, 0, 0, 0, 0, 0, 0, 0, 0, 0, 2, 0, 0, 3, 0, 4, 0, 0, 0, 0, 4, 0, 0, 0, 0, 0, 3, 0, 2, 3, 0, 0, 2, 0, 4, 0, 0, 2, 2, 2, 0, 0, 0, 0, 0, 0, 0, 0, 0, 0, 0, 0, 0, 0, 0, 0, 0, 0, 0, 0, 0, 0, 0, 0, 0, 0, 0, 0, 0, 0, 0, 0, 0, 0, 0, 0, 0, 2, 0, 0, 3, 2, 0, 0, 0, 2, 2, 4, 2, 0, 0, 0, 0, 3, 2, 0, 2, 4, 4, 0, 0, 0, 0, 0, 3, 4, 3, 0, 4, 3, 4, 0, 0, 0, 0, 0, 2, 0, 0, 4, 4, 0, 0, 4, 4, 0, 4, 0, 0, 0, 3, 0, 0, 0, 0, 0, 0, 0, 0, 2, 0, 0, 0, 2, 0, 0, 0, 2, 0, 3, 0, 0, 0, 0, 0, 0, 0, 0, 0, 0, 0, 0, 0, 0, 0, 0, 0, 0, 0, 0, 3, 0, 0, 0, 0, 0, 0, 0, 0, 0, 0, 0, 0, 0, 0, 0, 0, 2, 4, 0, 4, 0, 0, 0, 0, 0, 0, 0, 4, 4, 0, 0, 0, 0, 0, 0, 0, 0, 0, 0, 0, 0, 0, 0, 0, 0, 0, 0, 0, 0, 0, 0, 0, 0, 0, 0, 0, 0, 0, 0, 0, 0, 0, 0, 3, 0, 0, 0, 3, 0, 0, 0, 0, 0, 0, 0, 0, 0, 0, 0, 0, 0, 0, 0, 0, 4, 0, 0, 0, 0, 0, 0, 0, 0, 0, 0, 0, 0, 0, 0, 0, 0, 0, 0, 0, 0, 0, 0, 0, 0, 0, 0, 0, 0, 0, 0, 0, 0, 0, 0, 0, 0, 0, 0, 0, 0, 0, 0, 0, 0, 2, 3, 0, 4, 0, 0, 0, 3, 2, 4, 0, 0, 0, 0, 0, 0, 2, 0, 4, 0, 0, 0, 0, 2, 0, 4, 0, 2, 0, 0, 0, 4, 0, 2, 2, 0, 0, 0, 0, 0, 0, 0, 2, 2, 2, 3, 0, 0, 0, 2, 0, 4, 0, 0, 0, 2, 2, 4, 0, 3, 0, 0, 4, 2, 0, 0, 2, 3, 0, 4, 2, 0, 0, 0, 2, 2, 0, 0, 0, 3, 4, 2, 4, 2, 0, 0, 3, 0, 0, 0, 0, 0, 2, 0, 0, 0, 2, 4, 4, 3, 0, 4, 0, 0, 0, 2, 0, 2, 2, 0, 3, 0, 2, 0, 2, 0, 0, 0, 4, 0, 0, 0, 0, 0, 0, 0, 3, 0, 0, 0, 0, 0, 0, 0, 0, 2, 2, 0, 4, 2, 2, 0, 4, 3, 2, 2, 0, 2, 2, 0, 0, 4, 0, 4, 3, 4, 0, 4, 3, 4, 0, 0, 0, 0, 3, 0, 0, 3, 0, 0, 4, 2, 4, 3, 3, 2, 2, 0, 0, 0, 0, 0, 0, 0, 2, 4, 4, 0, 2, 0, 2, 0, 0, 0, 4, 0, 0, 3, 3, 0, 0, 3, 2, 4, 0, 4, 0, 0, 4, 2, 2, 0, 0, 4, 0, 3, 2, 0, 2, 0, 2, 0, 0, 0, 2, 0, 0, 0, 2, 0, 0, 2, 0, 0, 0, 4, 0, 0, 0, 0, 0, 2, 0, 4, 0, 0, 3, 0, 0, 2, 0, 4, 0, 2, 0, 0, 3, 0, 2, 0, 0, 0, 0, 0, 0, 0, 0, 0, 0, 0, 4, 0, 4, 4, 0, 0, 0, 0, 2, 2, 4, 0, 0, 0, 0, 0, 2, 0, 0, 0, 0, 0, 3, 0, 0, 0, 0, 0, 0, 4, 0, 0, 0, 0, 2, 0, 0, 0, 0, 0, 0, 0, 0, 2, 0, 0, 0, 0, 0, 2, 2, 4, 0, 0, 2, 0, 0, 2, 0, 0, 3, 0, 0, 4, 2, 0, 2, 0, 3, 2, 2, 3, 0, 4, 0, 4, 0, 0, 0, 2, 0, 0, 0, 2, 3, 0, 2, 0, 0, 0, 0, 0, 0, 2, 3, 2, 4, 0, 0, 0, 0, 0, 3, 0, 0, 0, 0, 4, 0, 0, 0, 0, 4, 0, 2, 4, 2, 2, 0, 4, 0, 0, 0, 0, 0, 0, 2, 0, 3, 0, 0, 0, 0, 2, 0, 2, 3, 0, 0, 3, 0, 0, 0, 0, 0, 0, 3, 0, 0, 0, 0, 3, 0, 0, 0, 0, 3, 0, 3, 0, 2, 4, 0, 0, 2, 0, 3, 0, 0, 2, 0, 0, 0, 0, 0, 0, 0, 4, 0, 2, 0, 4, 2, 0, 0, 4, 2, 0, 3, 2, 0, 0, 2, 0, 0, 2, 0, 3, 0, 0, 2, 0, 4, 2, 3, 2, 4, 3, 3, 0, 4, 3, 0, 2, 2, 0, 0, 0, 0, 2, 0, 0, 0, 0, 0, 0, 2, 0, 0, 0, 0, 4, 2, 2, 2, 0, 2, 2, 3, 0, 2, 4, 2, 0, 0, 2, 2, 2, 0, 0, 2, 4, 0, 2, 2, 0, 4, 2, 0, 4, 0, 3, 4, 0, 0, 3, 0, 3, 4, 2, 2, 0, 3, 2, 0, 0, 0, 4, 0, 0, 4, 0, 0, 3, 4, 2, 0, 4, 0, 0, 0, 0, 0, 0, 0, 0, 0, 3, 0, 0, 2, 3, 3, 3, 4, 0, 2, 2, 2, 0, 2, 0, 4, 3, 0, 0, 0, 2, 0, 4, 2, 0, 0, 0, 0, 3, 0, 0, 0, 0, 3, 3, 0, 3, 4, 2, 2, 3, 2, 4, 0, 4, 2, 0, 0, 0, 0, 4, 0, 0, 3, 0, 0, 0, 0, 0, 0, 0, 0, 0, 0, 0, 0, 0, 0, 2, 4, 0, 0, 3, 0, 0, 4, 2, 0, 0, 0, 2, 0, 0, 0, 0, 0, 0, 2, 0, 2, 4, 4, 0, 0, 0, 2, 0, 0, 4, 0, 0, 0, 0, 0, 0, 0, 3, 0, 0, 0, 0, 0, 0, 2, 0, 0, 0, 4, 0, 0, 2, 3, 0, 0, 0, 0, 0, 0, 0, 0, 0, 0, 0, 0, 0, 2, 4, 2, 0, 0, 0, 2, 0, 2, 2, 0, 0, 0, 0, 0, 0, 0, 0, 0, 0, 3, 3, 2, 0, 2, 2, 4, 3, 3, 0, 0, 4, 4, 0, 2, 2, 0, 0, 0, 0, 0, 0, 0, 4, 0, 0, 0, 4, 0, 2, 0, 4, 2, 2, 0, 2, 2, 0, 0, 2, 0, 0, 0, 0, 0, 4, 4, 0, 0, 0, 4, 0, 3, 0, 0, 2, 0, 0, 0, 4, 2, 0, 0, 4, 0, 2, 0, 0, 0, 2, 2, 0, 4, 0, 4, 2, 2, 2, 4, 4, 3, 0, 4, 0, 2, 2, 0, 0, 0, 4, 0, 0, 2, 0, 3, 0, 2, 2, 0, 0, 2, 3, 4, 0, 0, 4, 2, 3, 4, 0, 2, 0, 4, 2, 0, 2, 2, 0, 3, 0, 2, 2, 0, 0, 2, 2, 0, 0, 4, 2, 0, 0, 0, 0, 0, 2, 0, 0, 0, 0, 0, 0, 0, 0, 0, 3, 0, 0, 0, 0, 0, 0, 0, 0, 0, 0, 0, 0, 0, 0, 0, 0, 2, 4, 0, 2, 0, 0, 3, 0, 2, 2, 3, 2, 2, 0, 0, 0, 0, 0, 0, 0, 0, 4, 0, 0, 0, 0, 0, 2, 0, 2, 0, 3, 0, 0, 0, 0, 0, 0, 0, 0, 2, 0, 0, 0, 0, 4, 0, 0, 0, 0, 2, 0, 2, 0, 2, 0, 2, 0, 0, 4, 4, 0, 0, 0, 0, 0, 0, 2, 0, 0, 3, 0, 0, 0, 0, 0, 2, 2, 0, 0, 0, 0, 0, 4, 0, 4, 2, 0, 2, 0, 0, 2, 0, 3, 2, 0, 0, 0, 0, 0, 0, 0, 0, 0, 0, 4, 0, 3, 0, 3, 0, 2, 2, 2, 2, 2, 0, 0, 0, 0, 0, 0, 0, 0, 0, 0, 0, 0, 0, 4, 3, 0, 2, 4, 2, 0, 0, 2, 3, 0, 4, 4, 0, 0, 2, 0, 0, 0, 0, 0, 4, 3, 3, 4, 3, 4, 2, 2, 2, 0, 0, 0, 0, 0, 0, 2, 0, 2, 0, 0, 0, 0, 2, 3, 0, 2, 0, 0, 4, 0, 0, 0, 0, 0, 2, 0, 0, 0, 0, 0, 0, 0, 0, 0, 0, 2, 3, 0, 0, 0, 0, 0, 2, 2, 0, 2, 0, 4, 0, 0, 0, 4, 3, 0, 0, 2, 3, 0, 0, 0, 3, 3, 2, 0, 0, 2, 4, 3, 0, 0, 0, 0, 4, 4, 0, 4, 0, 0, 0, 3, 0, 0, 0, 0, 0, 0, 2, 3, 2, 0, 2, 0, 0, 0, 0, 0, 0, 0, 0, 0, 0, 0, 0, 0, 2, 2, 2, 2, 0, 2, 0, 0, 0, 0, 0, 0, 0, 4, 4, 0, 0, 4, 2, 0, 0, 0, 0, 0, 0, 0, 0, 0, 0, 0, 0, 0, 0, 0, 0, 0, 0, 0, 0, 4, 2, 0, 3, 2, 2, 0, 0, 2, 0, 0, 2, 2, 0, 4, 0, 0, 3, 3, 2, 0, 0, 0, 0, 0, 2, 0, 2, 0, 2, 2, 0, 0, 0, 2, 2, 0, 2, 2, 0, 0, 0, 0, 4, 0, 0, 0, 0, 0, 0, 0, 0, 0, 4, 0, 2, 2, 0, 0, 0, 0, 2, 0, 2, 0, 0, 3, 3, 0, 0, 3, 2, 0, 0, 2, 0, 2, 0, 0, 0, 2, 4, 0, 0, 2, 2, 2, 0, 0, 0, 2, 4, 3, 0, 0, 0, 4, 4, 0, 0, 3, 4, 0, 3, 2, 0, 3, 0, 0, 0, 0, 4, 0, 3, 2, 0, 4, 0, 0, 0, 0, 4, 0, 0, 2, 3, 0, 2, 4, 2, 0, 4, 3, 4, 0, 2, 2, 2, 0, 0, 0, 0, 4, 4, 2, 2, 2, 0, 0, 0, 0, 0, 2, 4, 2, 0, 0, 2, 0, 4, 0, 2, 0, 0, 0, 0, 0, 0, 0, 0, 0, 3, 0, 0, 2, 4, 0, 0, 0, 0, 0, 2, 4, 0, 4, 0, 2, 4, 0, 0, 3, 2, 0, 2, 2, 2, 0, 0, 2, 4, 4, 3, 3, 0, 4, 0, 0, 0, 0, 0, 0, 0, 2, 3, 0, 2, 0, 0, 0, 0, 0, 0, 0, 0, 0, 0, 0, 0, 4, 0, 0, 0, 0, 0, 0, 0, 4, 0, 0, 2, 2, 3, 0, 4, 0, 0, 4, 0, 0, 4, 0, 0, 2, 0, 0, 0, 0, 0, 2, 3, 4, 2, 0, 0, 0, 0, 0, 0, 0, 0, 0, 2, 2, 3, 0, 0, 0, 0, 0, 0, 3, 2, 3, 0, 4, 4, 0, 0, 0, 0, 0, 0, 2, 0, 0, 0, 0, 0, 2, 0, 0, 0, 2, 4, 4, 0, 0, 3, 0, 0, 2, 0, 0, 0, 0, 2, 2, 4, 0, 0, 2, 0, 2, 0, 0, 0, 0, 0, 2, 0, 2, 0, 0, 4, 0, 4, 0, 2, 0, 0, 0, 0, 0, 0, 0, 4, 0, 4, 0, 4, 2, 0, 0, 0, 0, 0, 2, 4, 2, 0, 0, 0, 0, 4, 0, 0, 3, 0, 0, 0, 0, 4, 0, 4, 2, 0, 3, 4, 0, 2, 0, 0, 0, 4, 0, 0, 0, 0, 0, 0, 0, 4, 0, 0, 3, 0, 0, 4, 0, 0, 0, 0, 0, 0, 3, 3, 0, 0, 0, 0, 0, 4, 2, 2, 0, 0, 0, 0, 4, 0, 0, 0, 4, 0, 0, 0, 2, 0, 3, 2, 2, 0, 0, 0, 4, 4, 0, 0, 0, 0, 0, 0, 0, 4, 3, 2, 3, 2, 0, 0, 0, 0, 0, 2, 0, 0, 0, 4, 2, 0, 2, 0, 0, 0, 2, 2, 0, 4, 0, 0, 2, 0, 0, 0, 4, 2, 2, 0, 0, 0, 0, 0, 0, 0, 0, 0, 0, 0, 4, 0, 4, 0, 0, 0, 0, 0, 0, 0, 0, 0, 0, 0, 0, 0, 4, 0, 2, 0, 4, 4, 0, 0, 0, 2, 0, 3, 4, 2, 4, 0, 0, 0, 4, 0, 4, 4, 0, 0, 2, 0, 2, 3, 3, 2, 0, 3, 0, 0, 0, 0, 0, 0, 2, 2, 0, 0, 0, 0, 0, 2, 0, 0, 0, 0, 2, 3, 3, 0, 0, 2, 0, 2, 2, 0, 0, 0, 0, 3, 2, 2, 0, 0, 2, 0, 0, 0, 3, 4, 2, 4, 0, 0, 4, 0, 4, 0, 4, 0, 0, 0, 3, 4, 3, 2, 0, 0, 2, 2, 0, 2, 2, 4, 0, 0, 2, 0, 0, 0, 3, 2, 2, 4, 2, 3, 2, 4, 0, 0, 0, 0, 0, 2, 2, 0, 0, 0, 0, 0, 2, 2, 0, 0, 0, 0, 0, 4, 3, 0, 4, 0, 0, 0, 0, 0, 2, 2, 0, 2, 0, 2, 2, 0, 0, 0, 0, 0, 0, 0, 2, 0, 4, 3, 0, 3, 4, 0, 4, 2, 4, 0, 0, 4, 4, 4, 3, 4, 2, 4, 0, 0, 2, 0, 3, 0, 0, 3, 0, 0, 0, 0, 0, 0, 0, 0, 0, 2, 2, 4, 4, 4, 2, 0, 3, 0, 2, 0, 0, 0, 3, 3, 0, 0, 0, 0, 3, 4, 2, 4, 0, 0, 3, 4, 0, 0, 2, 2, 4, 4, 2, 0, 0, 4, 4, 3, 2, 4, 4, 3, 2, 4, 0, 0, 0, 0, 0, 3, 2, 2, 2, 0, 0, 0, 2, 0, 4, 0, 0, 0, 2, 0, 2, 0, 0, 0, 0, 0, 0, 0, 2, 2, 4, 2, 3, 2, 0, 0, 2, 2, 3, 0, 2, 0, 0, 0, 2, 3, 2, 4, 4, 0, 0, 4, 0, 0, 0, 0, 0, 0, 0, 0, 0, 2, 3, 2, 0, 0, 0, 0, 0, 0, 4, 4, 0, 3, 0, 3, 0, 2, 4, 4, 4, 0, 0, 0, 0, 4, 3, 0, 4, 4, 2, 2, 0, 2, 3, 4, 0, 0, 2, 0, 0, 3, 4, 2, 0, 0, 0, 4, 0, 3, 0, 0, 0, 4, 0, 0, 0, 3, 2, 2, 0, 2, 3, 0, 0, 2, 3, 2, 3, 0, 4, 0, 2, 0, 0, 0, 0, 0, 0, 0, 0, 0, 0, 2, 0, 0, 4, 0, 0, 0, 4, 2, 0, 0, 2, 0, 0, 0, 0, 0, 0, 3, 0, 2, 4, 4, 2, 0, 0, 0, 0, 2, 2, 4, 4, 0, 2, 2, 2, 2, 3, 0, 2, 2, 0, 4, 0, 3, 0, 4, 0, 4, 0, 4, 4, 4, 4, 0, 0, 4, 0, 0, 0, 0, 2, 0, 4, 0, 0, 4, 0, 4, 0, 0, 0, 4, 0, 0, 4, 4, 0, 3, 2, 4, 0, 2, 3, 2, 0, 3, 3, 0, 2, 0, 0, 0, 0, 0, 0, 3, 0, 0, 2, 0, 0, 4, 0, 2, 3, 4, 0, 4, 0, 2, 4, 0, 0, 2, 0, 0, 0, 0, 0, 0, 0, 0, 0, 0, 4, 2, 0, 0, 3, 2, 0, 0, 0, 0, 0, 0, 0, 0, 0, 0, 0, 0, 4, 0, 2, 2, 4, 2, 0, 2, 3, 0, 0, 0, 0, 2, 4, 0, 0, 0, 0, 0, 4, 0, 0, 0, 0, 0, 4, 3, 4, 3, 3, 3, 0, 0, 0, 0, 0, 2, 0, 2, 0, 3, 2, 0, 0, 0, 3, 0, 0, 4, 0, 0, 2, 0, 2, 3, 0, 0, 2, 0, 0, 0, 3, 4, 0, 0, 0, 0, 2, 0, 4, 0, 0, 2, 0, 0, 0, 0, 2, 0, 0, 0, 0, 0, 0, 0, 2, 0, 0, 0, 2, 0, 0, 0, 0, 0, 0, 0, 4, 2, 3, 0, 0, 2, 0, 0, 4, 0, 0, 0, 0, 0, 0, 0, 0, 2, 3, 4, 0, 0, 2, 0, 0, 0, 0, 0, 0, 2, 4, 0, 0, 2, 0, 3, 0, 0, 0, 0, 0, 0, 3, 2, 0, 4, 0, 0, 0, 3, 0, 4, 0, 4, 4, 0, 4, 0, 0, 0, 0, 0, 4, 0, 3, 0, 4, 4, 2, 3, 2, 3, 4, 0, 3, 3, 4, 2, 2, 2, 4, 2, 4, 2, 2, 2, 2, 4, 2, 0, 4, 3, 4, 4, 0, 2, 2, 4, 0, 3, 0, 4, 0, 3, 0, 0, 4, 0, 2, 3, 2, 4, 0, 0, 0, 2, 0, 0, 0, 2, 2, 2, 0, 0, 0, 0, 0, 3, 4, 0, 0, 2, 0, 4, 0, 0, 4, 0, 0, 0, 0, 0, 2, 0, 0, 0, 0, 0, 4, 0, 0, 2, 2, 0, 0, 2, 2, 2, 0, 0, 3, 0, 0, 4, 3, 2, 0, 2, 0, 2, 0, 0, 0, 0, 0, 0, 2, 4, 0, 0, 0, 0, 0, 0, 2, 3, 4, 2, 3, 0, 2, 0, 0, 4, 2, 0, 3, 3, 4, 0, 0, 0, 2, 0, 3, 2, 0, 0, 0, 4, 4, 0, 0, 3, 0, 2, 0, 0, 0, 3, 0, 2, 4, 4, 0, 3, 4, 3, 4, 0, 3, 4, 0, 2, 0, 3, 4, 0, 0, 2, 0, 4, 0, 0, 4, 3, 4, 4, 2, 0, 4, 2, 0, 4, 3, 2, 0, 0, 0, 2, 3, 0, 0, 0, 4, 0, 0, 3, 3, 0, 0, 4, 0, 4, 2, 2, 0, 0, 0, 0, 4, 0, 4, 0, 0, 2, 0, 0, 0, 0, 2, 0, 0, 4, 0, 2, 0, 0, 0, 2, 0, 2, 4, 0, 0, 0, 0, 0, 0, 3, 4, 4, 0, 0, 0, 0, 0, 0, 2, 0, 0, 2, 0, 0, 4, 0, 3, 3, 3, 4, 2, 0, 0, 4, 2, 2, 0, 0, 0, 0, 0, 0, 0, 2, 2, 0, 0, 0, 2, 0, 0, 2, 0, 3, 3, 3, 0, 0, 0, 0, 0, 0, 0, 0, 0, 2, 2, 0, 0, 2, 2, 0, 2, 2, 4, 0, 2, 2, 0, 0, 0, 4, 0, 0, 0, 0, 3, 2, 2, 3, 3, 0, 3, 3, 3, 3, 0, 2, 0, 0, 0, 4, 0, 0, 0, 0, 0, 0, 0, 0, 0, 0, 0, 2, 4, 0, 0, 2, 4, 4, 2, 2, 0, 2, 2, 0, 0, 4, 4, 0, 3, 0, 2, 0, 2, 2, 3, 0, 0, 0, 0, 0, 2, 4, 4, 2, 0, 0, 2, 2, 0, 0, 4, 4, 2, 0, 0, 0, 0, 0, 0, 2, 0, 0, 0, 0, 0, 0, 0, 0, 2, 3, 4, 4, 0, 2, 0, 0, 0, 0, 0, 0, 0, 0, 2, 3, 0, 0, 0, 0, 2, 0, 0, 0, 2, 2, 0, 3, 2, 0, 2, 0, 0, 0, 0, 3, 4, 2, 2, 0, 0, 0, 0, 0, 4, 0, 0, 0, 0, 0, 4, 4, 2, 0, 0, 3, 0, 3, 0, 4, 2, 0, 0, 2, 2, 0, 4, 2, 0, 0, 2, 3, 0, 0, 0, 4, 2, 0, 0, 2, 2, 0, 2, 4, 3, 0, 0, 0, 0, 4, 0, 4, 0, 3, 0, 4, 0, 2, 0, 0, 0, 0, 2, 0, 0, 0, 0, 0, 0, 2, 0, 0, 4, 4, 2, 0, 0, 2, 4, 0, 2, 2, 0, 0, 4, 4, 0, 0, 2, 2, 4, 2, 0, 2, 3, 3, 0, 0, 0, 0, 2, 2, 0, 4, 0, 0, 2, 0, 3, 0, 4, 2, 3, 2, 0, 0, 2, 3, 0, 0, 0, 0, 0, 0, 0, 4, 4, 2, 0, 2, 0, 2, 0, 0, 4, 3, 2, 0, 2, 0, 2, 0, 0, 0, 0, 0, 0, 0, 0, 0, 2, 0, 4, 4, 4, 0, 0, 3, 2, 0, 0, 0, 4, 2, 0, 3, 3, 2, 0, 0, 2, 3, 2, 0, 4, 0, 2, 3, 2, 2, 4, 4, 0, 0, 0, 0, 2, 4, 0, 4, 3, 4, 0, 2, 0, 3, 0, 0, 4, 2, 0, 0, 3, 0, 0, 0, 4, 3, 2, 3, 2, 0, 2, 2, 0, 3, 4, 2, 0, 0, 2, 4, 2, 2, 0, 0, 0, 0, 0, 0, 0, 0, 0, 0, 0, 4, 0, 0, 0, 0, 2, 0, 0, 0, 2, 0, 0, 0, 2, 0, 0, 0, 2, 0, 2, 3, 0, 0, 4, 0, 0, 2, 2, 0, 0, 4, 0, 3, 3, 4, 0, 0, 3, 0, 0, 0, 0, 2, 0, 0, 0, 0, 2, 4, 0, 0, 4, 0, 0, 0, 2, 2, 2, 4, 0, 0, 0, 0, 0, 4, 4, 0, 0, 0, 2, 2, 0, 3, 4, 0, 4, 3, 0, 2, 4, 2, 4, 0, 0, 2, 0, 0, 0, 0, 0, 0, 4, 0, 0, 0, 0, 0, 0, 0, 3, 2, 0, 0, 0, 0, 4, 4, 2, 0, 0, 0, 0, 4, 4, 2, 0, 4, 0, 2, 0, 2, 3, 0, 0, 4, 0, 0, 0, 2, 0, 3, 0, 3, 0, 0, 0, 0, 0, 0, 0, 0, 2, 0, 0, 0, 2, 0, 0, 4, 0, 4, 0, 3, 0, 3, 0, 0, 0, 0, 0, 0, 0, 0, 0, 0, 0, 0, 0, 0, 0, 4, 0, 3, 2, 0, 2, 4, 2, 3, 2, 0, 4, 0, 0, 3, 0, 4, 0, 0, 0, 0, 3, 2, 0, 2, 0, 0, 0, 0, 2, 4, 4, 4, 0, 0, 4, 2, 4, 2, 2, 0, 0, 0, 3, 2, 0, 4, 2, 4, 0, 3, 0, 4, 3, 4, 0, 3, 0, 0, 0, 0, 4, 4, 3, 3, 0, 2, 2, 0, 2, 3, 0, 4, 0, 0, 2, 4, 0, 0, 4, 0, 0, 0, 3, 2, 0, 0, 4, 0, 2, 0, 0, 0, 0, 3, 4, 2, 0, 0, 0, 0, 2, 0, 2, 0, 0, 4, 0, 4, 0, 0, 0, 0, 4, 4, 3, 0, 3, 4, 0, 0, 2, 0, 0, 2, 0, 0, 2, 4, 0, 2, 4, 0, 2, 0, 4, 0, 4, 4, 2, 2, 0, 4, 0, 0, 0, 0, 0, 4, 4, 2, 4, 4, 0, 0, 0, 0, 0, 0, 0, 0, 3, 0, 0, 0, 4, 4, 0, 0, 0, 0, 4, 3, 2, 0, 4, 3, 0, 0, 4, 3, 4, 0, 0, 0, 0, 0, 0, 0, 0, 2, 0, 0, 0, 0, 2, 4, 2, 0, 3, 2, 2, 3, 0, 2, 0, 3, 0, 0, 4, 4, 0, 0, 0, 0, 3, 0, 0, 0, 3, 0, 3, 0, 2, 0, 0, 0, 0, 0, 0, 0, 2, 0, 0, 4, 4, 0, 0, 0, 0, 0, 0, 0, 0, 0, 0, 0, 4, 4, 0, 0, 0, 0, 3, 2, 0, 0, 0, 0, 4, 0, 0, 2, 0, 0, 0, 0, 0, 2, 0, 4, 4, 0, 0, 0, 0, 0, 0, 0, 0, 0, 0, 2, 0, 2, 0, 0, 2, 4, 0, 0, 0, 3, 3, 0, 0, 0, 0, 0, 0, 0, 3, 0, 0, 0, 3, 0, 0, 0, 2, 0, 0, 2, 2, 0, 3, 0, 0, 4, 2, 0, 0, 0, 2, 0, 0, 4, 0, 2, 2, 2, 2, 2, 2, 4, 0, 0, 0, 0, 0, 0, 0, 2, 3, 4, 2, 0, 2, 3, 2, 3, 4, 2, 2, 4, 2, 0, 0, 0, 0, 0, 0, 0, 0, 0, 0, 0, 0, 4, 0, 4, 4, 0, 0, 2, 0, 2, 0, 4, 4, 0, 0, 2, 4, 4, 0, 0, 2, 0, 0, 0, 0, 3, 2, 0, 2, 0, 4, 0, 0, 0, 0, 2, 0, 0, 2, 0, 2, 0, 3, 3, 0, 0, 0, 2, 0, 2, 3, 0, 0, 4, 0, 0, 0, 0, 4, 0, 0, 4, 2, 3, 0, 0, 0, 0, 2, 0, 2, 4, 0, 0, 0, 0, 0, 0, 0, 4, 4, 0, 0, 0, 0, 0, 0, 2, 4, 0, 0, 0, 4, 2, 0, 2, 0, 2, 4, 2, 0, 0, 3, 0, 0, 4, 4, 0, 4, 2, 0, 2, 4, 0, 0, 0, 4, 0, 0, 0, 0, 0, 0, 0, 0, 4, 0, 3, 3, 0, 2, 4, 0, 3, 0, 0, 0, 3, 4, 0, 0, 0, 2, 2, 0, 0, 0, 0, 0, 0, 4, 0, 0, 2, 0, 2, 0, 0, 4, 0, 0, 0, 0, 0, 0, 0, 0, 0, 0, 0, 0, 0, 0, 0, 0, 0, 0, 0, 0, 0, 0, 0, 0, 0, 0, 0, 0, 0, 0, 0, 0, 0, 0, 0, 0, 0, 0, 0, 0, 0, 0, 0, 0, 0, 0, 0, 0, 4, 0, 0, 4, 0, 0, 0, 0, 0, 0, 0, 0, 0, 3, 4, 0, 0, 0, 0, 3, 3, 0, 0, 0, 0, 0, 3, 0, 2, 4, 0, 0, 0, 0, 2, 0, 0, 4, 0, 0, 0, 0, 4, 0, 0, 2, 3, 2, 4, 4, 2, 0, 2, 0, 4, 0, 2, 0, 2, 0, 4, 0, 0, 0, 3, 0, 2, 0, 4, 4, 0, 2, 2, 4, 0, 0, 0, 0, 0, 2, 2, 0, 2, 3, 0, 0, 0, 4, 0, 4, 2, 0, 0, 3, 0, 0, 0, 0, 0, 0, 0, 4, 0, 0, 4, 0, 0, 0, 2, 2, 0, 3, 0, 2, 0, 0, 2, 2, 2, 0, 2, 0, 4, 2, 0, 4, 2, 0, 0, 2, 0, 0, 0, 0, 0, 3, 3, 2, 3, 0, 4, 4, 3, 0, 0, 4, 0, 0, 4, 0, 3, 0, 0, 2, 2, 4, 0, 0, 4, 0, 0, 0, 2, 0, 0, 4, 2, 0, 2, 0, 3, 0, 0, 2, 0, 4, 0, 4, 0, 0, 2, 0, 0, 0, 0, 0, 0, 0, 0, 0, 3, 0, 2, 0, 0, 0, 0, 2, 2, 0, 2, 0, 0, 0, 0, 0, 4, 0, 0, 0, 0, 0, 0, 0, 0, 0, 2, 0, 0, 0, 2, 0, 0, 4, 4, 0, 0, 0, 0, 3, 2, 0, 3, 4, 0, 0, 0, 0, 0, 0, 0, 0, 4, 0, 0, 0, 0, 0, 0, 2, 4, 0, 4, 3, 0, 0, 2, 4, 0, 4, 2, 0, 2, 4, 0, 0, 0, 0, 4, 0, 0, 3, 0, 0, 2, 3, 4, 0, 0, 2, 0, 0, 0, 0, 2, 0, 3, 0, 3, 2, 0, 0, 0, 2, 3, 2, 0, 0, 0, 2, 0, 0, 0, 3, 4, 0, 0, 2, 3, 2, 4, 0, 2, 4, 0, 0, 3, 2, 0, 2, 0, 4, 0, 0, 0, 2, 2, 0, 3, 2, 2, 2, 4, 0, 0, 0, 2, 0, 0, 0, 0, 0, 3, 2, 0, 2, 0, 0, 4, 3, 0, 0, 0, 2, 0, 4, 4, 0, 0, 0, 0, 2, 0, 0, 4, 4, 2, 4, 0, 4, 0, 3, 0, 0, 0, 0, 4, 2, 4, 0, 0, 2, 0, 0, 0, 4, 0, 4, 0, 0, 3, 2, 0, 4, 4, 0, 2, 0, 2, 0, 3, 0, 0, 0, 0, 0, 0, 0, 4, 2, 4, 2, 4, 0, 0, 0, 0, 0, 0, 0, 0, 0, 0, 0, 0, 0, 0, 0, 3, 0, 0, 0, 4, 4, 0, 0, 0, 0, 2, 2, 0, 2, 0, 4, 0, 0, 4, 3, 0, 3, 2, 0, 3, 2, 2, 0, 0, 0, 0, 0, 0, 0, 0, 0, 3, 0, 0, 4, 0, 0, 0, 2, 0, 0, 0, 0, 3, 0, 0, 0, 0, 3, 0, 0, 0, 4, 0, 0, 0, 0, 0, 0, 2, 3, 0, 0, 0, 3, 0, 4, 3, 0, 3, 0, 2, 0, 3, 2, 2, 0, 4, 0, 0, 0, 2, 0, 0, 4, 0, 0, 0, 2, 0, 0, 2, 0, 0, 0, 0, 0, 0, 0, 0, 0, 0, 0, 0, 0, 0, 0, 0, 0, 4, 0, 4, 0, 2, 3, 0, 0, 0, 0, 0, 0, 0, 2, 0, 4, 2, 0, 2, 0, 0, 2, 4, 0, 3, 0, 0, 0, 0, 4, 0, 0, 3, 0, 0, 0, 0, 4, 0, 0, 0, 0, 3, 0, 0, 0, 0, 0, 0, 0, 3, 0, 0, 0, 0, 0, 0, 0, 0, 0, 0, 3, 0, 0, 0, 0, 2, 3, 4, 0, 0, 0, 0, 0, 0, 0, 0, 0, 0, 0, 0, 0, 2, 0, 0, 0, 4, 0, 0, 0, 0, 2, 0, 0, 0, 0, 2, 4, 0, 0, 2, 0, 0, 4, 0, 0, 2, 0, 4, 0, 0, 3, 4, 0, 0, 4, 0, 0, 0, 4, 2, 0, 0, 3, 2, 0, 2, 0, 2, 4, 4, 4, 2, 4, 0, 4, 2, 0, 0, 0, 0, 0, 0, 0, 0, 3, 0, 0, 3, 3, 3, 2, 0, 0, 0, 2, 0, 2, 0, 4, 0, 3, 4, 3, 0, 0, 0, 0, 2, 0, 2, 2, 0, 2, 0, 2, 2, 0, 0, 4, 0, 0, 2, 0, 0, 0, 0, 0, 2, 0, 0, 0, 2, 0, 4, 0, 2, 0, 4, 4, 0, 2, 0, 0, 0, 0, 0, 2, 2, 4, 0, 0, 2, 0, 0, 0, 0, 2, 4, 2, 2, 0, 0, 4, 4, 2, 0, 0, 0, 0, 2, 4, 0, 0, 0, 4, 0, 4, 3, 2, 4, 0, 2, 2, 2, 0, 0, 0, 4, 0, 0, 0, 4, 2, 3, 0, 2, 0, 0, 4, 0, 0, 0, 0, 4, 4, 0, 3, 0, 0, 0, 0, 0, 3, 0, 2, 0, 0, 0, 0, 4, 4, 2, 0, 2, 0, 0, 0, 2, 2, 0, 3, 0, 4, 4, 0, 0, 0, 2, 0, 0, 0, 2, 0, 0, 0, 0, 0, 0, 0, 0, 0, 0, 0, 0, 0, 0, 4, 0, 0, 4, 0, 0, 0, 2, 4, 0, 4, 0, 2, 3, 0, 4, 4, 0, 0, 2, 0, 2, 2, 4, 0, 2, 3, 3, 2, 2, 0, 0, 4, 2, 0, 4, 3, 0, 2, 4, 2, 0, 4, 0, 2, 4, 2, 0, 2, 0, 0, 0, 0, 4, 0, 2, 4, 3, 4, 4, 2, 0, 4, 0, 2, 2, 0, 4, 2, 0, 2, 0, 2, 0, 3, 0, 0, 0, 0, 0, 0, 0, 0, 0, 4, 0, 0, 4, 0, 0, 0, 0, 2, 0, 0, 3, 0, 0, 0, 0, 2, 0, 0, 0, 0, 0, 0, 4, 3, 0, 4, 4, 0, 2, 0, 4, 2, 0, 2, 0, 0, 0, 0, 0, 2, 0, 0, 2, 0, 0, 2, 0, 2, 0, 0, 2, 0, 4, 0, 0, 0, 0, 4, 0, 0, 0, 4, 0, 0, 0, 0, 4, 0, 0, 3, 0, 0, 4, 4, 0, 4, 0, 0, 0, 0, 4, 0, 0, 4, 2, 2, 0, 2, 3, 0, 4, 0, 0, 0, 2, 3, 0, 2, 0, 0, 0, 0, 3, 0, 2, 0, 0, 0, 3, 0, 4, 0, 2, 3, 0, 2, 0, 0, 4, 0, 0, 2, 0, 0, 0, 3, 3, 0, 2, 0, 4, 0, 0, 0, 2, 0, 4, 3, 2, 0, 0, 3, 2, 0, 0, 0, 0, 4, 0, 0, 0, 0, 4, 0, 0, 0, 0, 4, 0, 0, 0, 0, 0, 4, 0, 0, 3, 3, 3, 0, 0, 2, 3, 3, 0, 0, 4, 2, 0, 0, 0, 2, 0, 0, 2, 0, 0, 0, 0, 0, 0, 0, 0, 0, 4, 0, 4, 3, 0, 0, 2, 0, 0, 0, 0, 0, 0, 0, 0, 2, 0, 0, 0, 0, 0, 0, 2, 3, 2, 0, 2, 4, 0, 0, 4, 4, 2, 2, 0, 0, 2, 0, 0, 4, 0, 0, 4, 0, 4, 2, 0, 0, 0, 0, 0, 3, 4, 0, 0, 3, 0, 0, 0, 0, 0, 0, 0, 0, 0, 3, 4, 4, 0, 4, 4, 0, 2, 2, 0, 0, 0, 0, 0, 0, 0, 0, 3, 0, 0, 0, 0, 0, 0, 0, 0, 2, 0, 0, 3, 0, 0, 0, 0, 0, 0, 0, 0, 0, 2, 0, 0, 0, 0, 0, 0, 0, 0, 0, 0, 0, 0, 2, 2, 0, 0, 2, 2, 0, 4, 3, 0, 2, 0, 0, 0, 0, 0, 0, 2, 2, 0, 0, 2, 4, 2, 4, 4, 0, 0, 0, 2, 2, 4, 3, 0, 0, 0, 2, 2, 0, 0, 0, 0, 0, 3, 0, 2, 4, 4, 0, 0, 2, 0, 2, 0, 2, 4, 2, 2, 3, 2, 0, 0, 0, 0, 0, 0, 0, 2, 4, 0, 4, 0, 0, 3, 4, 0, 0, 0, 0, 0, 3, 0, 0, 0, 0, 2, 3, 0, 4, 0, 0, 0, 4, 0, 0, 2, 0, 0, 0, 2, 4, 0, 0, 0, 4, 0, 4, 0, 0, 0, 0, 0, 3, 0, 3, 0, 0, 0, 0, 0, 0, 2, 0, 2, 4, 0, 4, 0, 0, 2, 0, 0, 0, 4, 4, 2, 2, 3, 0, 0, 4, 0, 0, 0, 2, 0, 0, 0, 2, 4, 3, 2, 2, 0, 2, 2, 0, 2, 0, 0, 0, 0, 0, 2, 2, 2, 0, 0, 3, 4, 0, 0, 4, 0, 4, 2, 0, 0, 0, 3, 0, 0, 2, 0, 2, 0, 0, 0, 0, 2, 0, 2, 0, 0, 0, 0, 2, 3, 2, 4, 0, 2, 0, 2, 0, 0, 0, 0, 0, 0, 4, 2, 0, 0, 0, 0, 0, 0, 4, 4, 2, 0, 0, 2, 4, 0, 0, 3, 2, 4, 0, 0, 0, 0, 2, 3, 3, 2, 4, 2, 0, 4, 0, 0, 0, 0, 4, 0, 0, 0, 2, 0, 0, 3, 0, 0, 0, 2, 4, 2, 0, 0, 0, 0, 0, 0, 0, 3, 4, 3, 0, 0, 0, 0, 4, 0, 0, 0, 0, 2, 0, 4, 0, 0, 0, 0, 0, 0, 0, 0, 0, 4, 0, 0, 2, 0, 0, 0, 2, 0, 0, 0, 0, 3, 0, 0, 0, 0, 4, 0, 0, 2, 0, 4, 4, 4, 0, 0, 2, 0, 0, 0, 0, 0, 0, 0, 0, 2, 4, 0, 0, 4, 2, 0, 2, 3, 0, 0, 0, 4, 0, 0, 0, 0, 0, 0, 0, 2, 4, 0, 0, 0, 3, 2, 2, 0, 0, 4, 0, 0, 0, 3, 0, 0, 2, 2, 0, 3, 0, 0, 0, 0, 3, 4, 0, 0, 0, 4, 0, 0, 0, 0, 2, 0, 4, 3, 2, 0, 2, 0, 4, 4, 0, 0, 0, 0, 4, 0, 0, 0, 0, 4, 2, 0, 2, 0, 0, 0, 0, 2, 3, 3, 0, 2, 0, 4, 0, 0, 2, 0, 0, 0, 0, 0, 4, 0, 4, 4, 3, 0, 0, 4, 2, 0, 0, 2, 4, 0, 0, 0, 0, 0, 0, 0, 3, 3, 4, 4, 0, 0, 0, 0, 0, 0, 0, 0, 4, 4, 2, 0, 0, 2, 2, 0, 4, 0, 0, 2, 0, 2, 0, 3, 0, 3, 0, 4, 2, 0, 2, 0, 4, 0, 0, 0, 0, 0, 0, 3, 4, 0, 0, 0, 4, 0, 0, 0, 2, 0, 4, 0, 0, 2, 4, 4, 4, 3, 0, 4, 3, 4, 4, 0, 2, 4, 2, 0, 0, 0, 0, 2, 0, 0, 0, 0, 0, 0, 2, 0, 4, 3, 0, 3, 0, 3, 2, 0, 0, 0, 0, 0, 4, 0, 0, 4, 0, 2, 0, 0, 0, 4, 0, 0, 4, 0, 0, 0, 0, 0, 0, 0, 0, 4, 0, 2, 2, 4, 0, 4, 4, 2, 4, 0, 2, 0, 2, 0, 0, 3, 4, 2, 4, 2, 4, 2, 0, 3, 4, 2, 2, 0, 4, 0, 0, 0, 0, 2, 4, 3, 4, 4, 0, 3, 0, 0, 2, 3, 0, 0, 0, 0, 0, 0, 0, 0, 0, 0, 0, 3, 2, 3, 0, 0, 0, 0, 2, 0, 0, 2, 0, 0, 0, 0, 0, 0, 0, 4, 4, 0, 0, 3, 2, 0, 0, 3, 2, 2, 3, 2, 3, 2, 0, 2, 4, 2, 2, 0, 0, 0, 2, 3, 2, 3, 0, 3, 0, 0, 4, 0, 4, 4, 2, 3, 2, 2, 3, 4, 4, 2, 2, 2, 2, 2, 0, 4, 0, 0, 4, 2, 3, 2, 0, 0, 0, 2, 0, 0, 2, 2, 0, 0, 0, 0, 0, 3, 0, 0, 0, 0, 2, 2, 3, 2, 4, 2, 2, 2, 0, 2, 3, 0, 0, 0, 4, 4, 0, 0, 0, 0, 3, 4, 0, 2, 4, 0, 0, 0, 0, 0, 0, 0, 0, 0, 0, 0, 0, 0, 2, 4, 0, 0, 0, 2, 2, 4, 4, 3, 0, 0, 0, 0, 0, 0, 0, 2, 0, 0, 0, 0, 2, 0, 0, 0, 0, 0, 0, 3, 0, 0, 4, 0, 2, 4, 4, 3, 2, 0, 0, 0, 0, 0, 3, 3, 3, 0, 2, 4, 2, 0, 2, 2, 0, 2, 3, 4, 2, 3, 2, 4, 4, 3, 3, 3, 4, 2, 4, 4, 2, 0, 4, 3, 0, 3, 0, 0, 2, 3, 0, 4, 2, 2, 0, 0, 0, 2, 2, 2, 4, 2, 0, 0, 2, 0, 4, 0, 2, 0, 4, 4, 2, 3, 0, 0, 0, 0, 3, 0, 2, 0, 2, 0, 3, 0, 0, 3, 3, 2, 0, 2, 0, 0, 0, 0, 0, 3, 0, 0, 4, 4, 0, 0, 0, 0, 4, 0, 4, 0, 0, 2, 0, 0, 0, 2, 0, 0, 0, 0, 0, 4, 2, 4, 3, 3, 0, 3, 2, 0, 0, 4, 0, 0, 0, 0, 0, 0, 0, 0, 2, 0, 0, 0, 0, 4, 0, 0, 2, 0, 0, 0, 2, 4, 0, 0, 0, 2, 0, 4, 4, 2, 0, 2, 2, 0, 0, 0, 0, 4, 2, 4, 2, 0, 0, 0, 4, 0, 4, 0, 0, 0, 4, 0, 4, 0, 0, 0, 0, 0, 0, 2, 4, 0, 2, 3, 4, 4, 0, 2, 0, 0, 0, 0, 0, 4, 0, 0, 3, 2, 0, 0, 0, 0, 3, 0, 0, 0, 0, 0, 0, 2, 2, 2, 3, 0, 0, 0, 0, 3, 4, 0, 0, 0, 0, 2, 0, 0, 2, 0, 3, 4, 4, 0, 2, 2, 0, 4, 3, 2, 2, 2, 2, 2, 0, 0, 0, 0, 0, 0, 0, 2, 0, 0, 3, 0, 0, 0, 0, 2, 3, 4, 4, 2, 4, 4, 3, 0, 0, 2, 3, 3, 3, 2, 4, 2, 2, 3, 3, 4, 0, 3, 2, 2, 2, 2, 2, 4, 4, 4, 3, 4, 4, 4, 2, 2, 3, 2, 3, 3, 2, 0, 2, 4, 3, 4, 4, 2, 3, 0, 2, 0, 0, 0, 0, 0, 0, 0, 0, 0, 3, 2, 4, 0, 3, 4, 0, 0, 0, 2, 4, 0, 4, 3, 2, 0, 0, 2, 4, 0, 2, 4, 0, 0, 4, 0, 0, 0, 0, 4, 0, 0, 0, 2, 4, 0, 0, 4, 0, 0, 0, 0, 0, 0, 0, 0, 4, 0, 4, 0, 0, 0, 4, 4, 0, 0, 0, 0, 2, 0, 0, 0, 0, 2, 0, 2, 2, 4, 0, 0, 2, 0, 4, 0, 0, 2, 2, 0, 0, 0, 2, 0, 2, 2, 4, 4, 0, 0, 2, 2, 4, 2, 4, 0, 2, 2, 2, 0, 4, 3, 3, 2, 2, 4, 4, 0, 0, 0, 3, 0, 0, 4, 3, 2, 2, 4, 2, 3, 4, 2, 4, 2, 0, 0, 0, 0, 0, 2, 0, 4, 4, 0, 0, 0, 0, 0, 0, 0, 4, 3, 4, 0, 0, 0, 0, 2, 0, 4, 0, 0, 0, 0, 0, 2, 0, 0, 0, 0, 0, 0, 0, 2, 2, 0, 4, 0, 0, 0, 0, 0, 2, 0, 0, 2, 0, 0, 0, 0, 4, 0, 0, 4, 2, 0, 0, 2, 3, 0, 4, 0, 3, 0, 2, 4, 0, 4, 2, 4, 2, 2, 4, 4, 0, 0, 2, 0, 0, 3, 0, 2, 3, 0, 4, 0, 2, 2, 2, 4, 0, 2, 4, 4, 4, 4, 4, 2, 2, 2, 4, 3, 2, 2, 4, 2, 2, 2, 2, 3, 2, 4, 2, 4, 0, 3, 3, 2, 2, 2, 3, 0, 3, 2, 4, 4, 4, 4, 3, 2, 2, 4, 0, 4, 2, 3, 3, 4, 2, 2, 0, 2, 3, 3, 2, 3, 4, 4, 2, 3, 2, 3, 4, 3, 4, 2, 2, 4, 0, 4, 3, 4, 2, 4, 4, 2, 2, 2, 4, 4, 4, 0, 0, 2, 2, 4, 2, 2, 4, 0, 0, 0, 0, 2, 0, 4, 4, 0, 0, 4, 2, 2, 0, 0, 0, 0, 0, 0, 2, 0, 0, 2, 3, 0, 0, 0, 4, 0, 2, 2, 2, 0, 2, 0, 4, 0, 0, 0, 0, 2, 0, 2, 0, 2, 0, 4, 0, 0, 2, 2, 2, 0, 0, 2, 0, 2, 4, 2, 0, 0, 4, 0, 0, 0, 0, 0, 0, 0, 0, 2, 0, 0, 4, 0, 0, 2, 0, 2, 2, 0, 3, 2, 2, 4, 2, 0, 0, 0, 2, 4, 4, 0, 0, 2, 0, 0, 2, 0, 2, 0, 0, 0, 0, 0, 4, 0, 0, 4, 0, 0, 0, 4, 0, 0, 0, 2, 0, 0, 0, 3, 3, 0, 0, 2, 0, 0, 0, 4, 0, 0, 0, 3, 0, 0, 0, 4, 4, 0, 0, 3, 4, 0, 0, 3, 3, 0, 2, 0, 0, 0, 2, 2, 0, 0, 4, 4, 4, 3, 0, 2, 0, 0, 0, 0, 4, 4, 0, 2, 0, 0, 2, 0, 4, 0, 4, 4, 3, 2, 0, 0, 0, 4, 0, 0, 0, 0, 0, 0, 0, 4, 2, 4, 3, 0, 0, 0, 2, 0, 0, 0, 0, 2, 0, 0, 0, 4, 0, 2, 4, 0, 0, 4, 0, 0, 4, 4, 4, 2, 0, 4, 3, 4, 4, 2, 2, 2, 2, 2, 0, 4, 2, 4, 0, 0, 3, 4, 0, 0, 0, 4, 0, 0, 2, 0, 0, 3, 0, 3, 4, 0, 3, 3, 0, 0, 2, 0, 2, 2, 4, 2, 3, 0, 2, 0, 4, 0, 0, 0, 0, 0, 0, 4, 4, 3, 2, 0, 2, 4, 0, 2, 0, 2, 0, 0, 0, 0, 0, 0, 0, 2, 2, 0, 2, 0, 0, 4, 4, 2, 0, 0, 0, 0, 3, 0, 0, 2, 0, 2, 4, 0, 0, 0, 0, 2, 2, 0, 2, 0, 4, 0, 0, 2, 4, 0, 0, 0, 0, 0, 0, 0, 4, 0, 0, 4, 0, 0, 0, 2, 2, 2, 4, 0, 4, 4, 0, 0, 0, 4, 0, 0, 2, 0, 2, 4, 3, 0, 0, 4, 2, 2, 0, 0, 0, 0, 0, 0, 0, 4, 2, 2, 0, 2, 0, 0, 0, 0, 0, 0, 0, 2, 2, 0, 2, 4, 0, 0, 0, 0, 4, 3, 0, 0, 0, 0, 3, 4, 4, 0, 0, 0, 0, 0, 0, 0, 2, 0, 0, 0, 0, 4, 4, 0, 0, 0, 4, 0, 4, 0, 0, 0, 3, 0, 0, 2, 4, 3, 3, 2, 4, 0, 2, 0, 0, 0, 0, 0, 0, 0, 0, 4, 3, 4, 4, 3, 2, 0, 2, 4, 0, 0, 2, 4, 2, 3, 0, 0, 4, 2, 4, 2, 0, 4, 0, 0, 2, 3, 0, 0, 4, 2, 2, 2, 0, 0, 0, 0, 4, 0, 2, 0, 0, 0, 0, 0, 0, 0, 2, 0, 2, 2, 0, 4, 3, 0, 0, 0, 2, 0, 0, 3, 0, 4, 0, 0, 4, 2, 4, 2, 2, 2, 2, 2, 0, 4, 0, 3, 4, 0, 0, 0, 0, 2, 0, 3, 0, 0, 0, 0, 2, 0, 4, 0, 0, 0, 4, 4, 2, 0, 3, 0, 0, 0, 4, 0, 0, 2, 0, 4, 0, 0, 0, 0, 2, 0, 2, 0, 0, 4, 4, 0, 0, 0, 0, 0, 0, 4, 0, 0, 0, 2, 0, 0, 2, 3, 2, 3, 4, 2, 4, 4, 0, 3, 0, 2, 0, 0, 4, 2, 0, 3, 0, 0, 0, 0, 0, 2, 0, 4, 0, 0, 0, 3, 2, 0, 3, 0, 0, 2, 0, 0, 0, 0, 0, 0, 0, 0, 0, 0, 3, 0, 2, 4, 3, 2, 0, 3, 2, 4, 0, 0, 0, 0, 3, 0, 0, 0, 0, 3, 2, 0, 3, 0, 0, 0, 0, 0, 0, 0, 0, 0, 4, 0, 0, 0, 0, 4, 0, 2, 3, 0, 0, 0, 0, 0, 0, 0, 0, 3, 0, 0, 0, 0, 0, 0, 3, 2, 0, 0, 0, 0, 0, 0, 0, 4, 3, 2, 0, 3, 0, 3, 3, 0, 0, 0, 2, 0, 2, 2, 4, 0, 4, 0, 0, 0, 0, 0, 4, 4, 0, 0, 2, 2, 2, 2, 0, 0, 0, 0, 0, 0, 0, 2, 0, 0, 2, 0, 2, 4, 0, 0, 3, 4, 4, 3, 0, 4, 3, 2, 0, 4, 3, 3, 2, 3, 0, 0, 0, 0, 3, 0, 2, 0, 0, 0, 0, 0, 0, 0, 2, 2, 0, 2, 2, 2, 3, 2, 0, 0, 4, 0, 0, 0, 0, 0, 0, 0, 0, 4, 2, 4, 4, 0, 0, 0, 2, 2, 0, 0, 0, 0, 4, 0, 3, 0, 0, 0, 0, 0, 4, 2, 0, 0, 2, 4, 0, 4, 0, 4, 0, 0, 4, 0, 0, 4, 0, 0, 0, 0, 4, 0, 0, 0, 0, 0, 0, 2, 0, 0, 4, 3, 2, 0, 0, 0, 0, 0, 3, 2, 0, 4, 0, 4, 2, 0, 0, 0, 0, 2, 0, 4, 2, 2, 0, 0, 4, 0, 0, 0, 2, 4, 2, 0, 0, 0, 2, 3, 0, 0, 4, 2, 0, 0, 0, 0, 0, 0, 4, 2, 4, 3, 3, 2, 2, 2, 2, 2, 4, 2, 2, 2, 3, 0, 2, 2, 4, 0, 0, 4, 0, 0, 0, 4, 0, 0, 0, 0, 0, 0, 0, 0, 0, 0, 0, 2, 2, 2, 3, 0, 2, 0, 0, 0, 0, 4, 3, 0, 3, 0, 0, 4, 0, 0, 0, 0, 0, 0, 0, 3, 3, 4, 3, 4, 4, 2, 2, 4, 4, 0, 2, 3, 0, 0, 3, 4, 2, 0, 0, 0, 0, 2, 2, 0, 0, 0, 0, 0, 3, 2, 3, 4, 0, 0, 4, 0, 0, 4, 0, 2, 0, 0, 0, 2, 0, 0, 3, 0, 0, 2, 0, 2, 2, 0, 0, 2, 0, 2, 0, 0, 0, 0, 0, 0, 0, 3, 0, 0, 2, 0, 4, 2, 4, 0, 2, 0, 0, 0, 0, 0, 0, 0, 0, 0, 4, 0, 2, 0, 0, 4, 3, 0, 2, 2, 0, 2, 3, 0, 0, 0, 0, 3, 0, 0, 0, 0, 0, 4, 0, 0, 2, 0, 2, 0, 0, 4, 4, 2, 0, 0, 3, 4, 0, 0, 0, 4, 4, 0, 0, 3, 0, 2, 0, 0, 0, 0, 0, 0, 0, 0, 0, 0, 2, 2, 3, 4, 2, 0, 0, 0, 0, 0, 0, 0, 2, 3, 0, 4, 2, 2, 4, 4, 0, 0, 2, 3, 0, 4, 0, 0, 0, 0, 0, 2, 2, 0, 0, 0, 0, 2, 0, 0, 2, 4, 0, 2, 0, 0, 2, 4, 0, 4, 0, 0, 0, 0, 4, 4, 3, 0, 2, 4, 3, 0, 2, 0, 0, 3, 0, 4, 0, 4, 4, 4, 3, 2, 3, 0, 2, 2, 0, 0, 0, 0, 0, 0, 0, 0, 0, 0, 4, 4, 2, 0, 4, 2, 0, 2, 2, 0, 0, 2, 2, 0, 4, 2, 3, 2, 2, 0, 4, 0, 2, 0, 0, 3, 2, 0, 3, 0, 0, 0, 0, 0, 0, 0, 4, 0, 2, 2, 4, 2, 4, 0, 0, 2, 2, 0, 0, 0, 0, 0, 0, 0, 0, 0, 0, 0, 0, 2, 4, 2, 3, 0, 0, 4, 0, 0, 0, 4, 0, 0, 4, 0, 0, 2, 0, 0, 2, 0, 0, 4, 0, 2, 0, 0, 0, 4, 4, 0, 0, 0, 0, 0, 0, 0, 4, 2, 0, 0, 2, 0, 2, 0, 0, 0, 0, 3, 0, 0, 4, 0, 4, 4, 0, 2, 0, 0, 0, 4, 3, 2, 0, 0, 0, 4, 2, 0, 0, 4, 2, 4, 4, 2, 3, 4, 2, 0, 0, 0, 4, 0, 4, 0, 0, 0, 0, 4, 2, 2, 2, 0, 0, 0, 0, 4, 0, 0, 0, 3, 0, 0, 0, 0, 4, 0, 4, 4, 4, 2, 2, 0, 0, 0, 0, 2, 0, 0, 0, 0, 2, 0, 0, 2, 0, 0, 4, 2, 0, 0, 0, 0, 0, 0, 4, 0, 0, 2, 0, 0, 0, 0, 0, 0, 0, 0, 0, 0, 4, 0, 0, 4, 0, 2, 2, 0, 0, 2, 2, 0, 0, 0, 0, 2, 0, 0, 0, 0, 2, 0, 3, 2, 0, 0, 0, 0, 0, 0, 0, 0, 0, 0, 0, 4, 0, 0, 0, 0, 4, 4, 2, 2, 0, 3, 0, 2, 0, 3, 2, 4, 0, 0, 4, 0, 0, 0, 0, 0, 4, 0, 4, 0, 0, 0, 0, 0, 0, 0, 0, 0, 0, 2, 0, 0, 0, 0, 2, 4, 2, 2, 3, 0, 0, 0, 0, 0, 0, 0, 3, 2, 0, 4, 2, 0, 0, 0, 0, 0, 0, 0, 0, 0, 0, 0, 3, 0, 4, 2, 3, 2, 4, 2, 2, 4, 0, 0, 0, 0, 2, 2, 2, 2, 0, 0, 3, 0, 4, 0, 3, 0, 2, 0, 4, 0, 0, 0, 0, 0, 0, 0, 0, 0, 2, 0, 0, 0, 0, 3, 0, 2, 0, 0, 2, 2, 0, 4, 0, 3, 0, 2, 3, 3, 0, 4, 0, 0, 2, 0, 0, 0, 0, 2, 0, 0, 4, 4, 0, 3, 2, 3, 0, 0, 0, 0, 0, 0, 0, 0, 0, 2, 0, 0, 0, 0, 2, 0, 2, 2, 0, 0, 0, 4, 4, 0, 4, 0, 0, 2, 0, 2, 4, 0, 0, 0, 0, 4, 0, 0, 0, 0, 0, 2, 2, 0, 0, 0, 0, 4, 0, 0, 4, 0, 0, 3, 0, 0, 0, 0, 4, 0, 0, 0, 0, 0, 0, 0, 0, 0, 0, 0, 0, 0, 0, 0, 3, 2, 0, 3, 2, 2, 2, 0, 0, 0, 4, 0, 0, 3, 0, 4, 0, 2, 0, 2, 0, 0, 0, 0, 0, 0, 3, 2, 0, 4, 3, 0, 0, 0, 4, 2, 0, 4, 4, 2, 0, 0, 0, 0, 0, 0, 3, 0, 0, 0, 4, 0, 0, 0, 0, 3, 0, 0, 0, 3, 0, 0, 4, 4, 2, 0, 3, 0, 4, 2, 4, 0, 2, 0, 0, 4, 0, 2, 3, 2, 2, 4, 4, 0, 0, 0, 0, 0, 0, 0, 0, 0, 0, 0, 2, 4, 4, 4, 2, 2, 4, 2, 2, 2, 0, 0, 4, 4, 4, 4, 4, 4, 0, 0, 3, 0, 0, 0, 0, 0, 0, 4, 3, 0, 0, 0, 0, 0, 0, 4, 0, 2, 4, 0, 2, 2, 2, 0, 0, 0, 3, 0, 2, 0, 4, 0, 4, 0, 0, 0, 0, 2, 0, 4, 0, 0, 3, 2, 0, 0, 2, 0, 2, 0, 2, 2, 0, 0, 0, 0, 0, 0, 0, 0, 2, 0, 0, 0, 0, 2, 0, 0, 4, 2, 0, 3, 0, 2, 0, 0, 0, 4, 4, 0, 0, 4, 0, 0, 0, 2, 4, 2, 3, 0, 0, 0, 0, 0, 2, 3, 4, 0, 0, 3, 0, 0, 2, 0, 2, 0, 0, 0, 4, 0, 0, 0, 4, 2, 0, 0, 0, 0, 0, 0, 0, 0, 0, 0, 0, 0, 4, 0, 4, 0, 0, 4, 4, 0, 0, 2, 3, 3, 2, 0, 0, 4, 0, 2, 2, 4, 4, 4, 0, 0, 0, 2, 4, 2, 2, 0, 0, 4, 3, 0, 4, 2, 0, 3, 0, 2, 0, 3, 0, 0, 0, 2, 2, 0, 0, 0, 2, 0, 2, 0, 0, 3, 3, 0, 0, 0, 0, 0, 0, 2, 0, 3, 0, 0, 0, 2, 4, 0, 2, 0, 2, 0, 0, 4, 0, 4, 0, 0, 0, 0, 0, 2, 2, 2, 0, 0, 0, 0, 0, 0, 0, 0, 2, 0, 2, 0, 4, 0, 0, 4, 2, 3, 0, 0, 0, 3, 0, 3, 3, 0, 0, 2, 0, 0, 0, 3, 0, 2, 2, 0, 4, 4, 0, 0, 3, 4, 0, 0, 2, 4, 0, 0, 0, 2, 0, 4, 0, 0, 2, 2, 2, 2, 0, 0, 2, 2, 0, 2, 2, 0, 0, 0, 3, 4, 0, 0, 0, 0, 0, 0, 0, 0, 0, 0, 2, 2, 0, 0, 0, 2, 3, 0, 4, 0, 4, 2, 0, 2, 2, 2, 2, 2, 2, 0, 0, 0, 0, 0, 0, 0, 0, 2, 0, 0, 4, 4, 2, 3, 0, 0, 2, 0, 4, 0, 4, 4, 0, 4, 0, 0, 3, 2, 0, 0, 0, 2, 0, 0, 0, 3, 0, 4, 0, 0, 2, 0, 0, 0, 2, 3, 0, 0, 2, 0, 2, 2, 0, 0, 0, 0, 0, 0, 0, 2, 3, 0, 0, 4, 0, 2, 2, 0, 0, 4, 0, 0, 0, 3, 0, 0, 0, 0, 2, 2, 0, 2, 0, 0, 0, 0, 2, 0, 3, 4, 2, 0, 0, 0, 0, 0, 0, 0, 0, 0, 3, 2, 0, 4, 0, 2, 2, 0, 0, 2, 0, 0, 0, 3, 0, 0, 4, 0, 0, 2, 3, 0, 2, 0, 0, 0, 0, 2, 2, 4, 0, 0, 2, 0, 0, 0, 2, 4, 2, 0, 0, 3, 0, 0, 0, 0, 0, 0, 0, 0, 0, 4, 2, 0, 2, 0, 0, 0, 0, 0, 2, 0, 4, 0, 0, 0, 0, 4, 2, 0, 3, 0, 4, 0, 2, 0, 0, 0, 0, 4, 3, 0, 3, 4, 0, 2, 2, 0, 0, 2, 0, 0, 0, 0, 0, 0, 0, 4, 2, 0, 2, 4, 4, 0, 4, 3, 3, 2, 0, 0, 0, 0, 0, 0, 2, 0, 0, 0, 4, 2, 0, 2, 0, 0, 0, 2, 0, 3, 2, 2, 2, 0, 0, 2, 0, 0, 4, 3, 2, 0, 3, 0, 0, 4, 0, 0, 0, 0, 4, 0, 3, 2, 0, 0, 0, 3, 3, 0, 0, 0, 0, 0, 0, 2, 0, 0, 2, 0, 4, 0, 0, 0, 0, 0, 0, 0, 0, 2, 0, 4, 0, 0, 0, 3, 0, 3, 0, 0, 2, 0, 2, 0, 0, 4, 2, 4, 2, 0, 2, 0, 4, 4, 2, 0, 0, 0, 3, 4, 0, 0, 0, 0, 2, 0, 0, 4, 0, 4, 0, 0, 3, 0, 0, 0, 0, 4, 0, 0, 0, 3, 4, 0, 0, 4, 2, 0, 0, 0, 0, 0, 0, 0, 2, 4, 0, 2, 0, 0, 0, 0, 0, 3, 3, 0, 0, 0, 0, 3, 4, 0, 4, 4, 3, 3, 0, 0, 0, 3, 3, 0, 0, 0, 0, 0, 2, 0, 0, 2, 0, 0, 0, 0, 4, 3, 0, 3, 0, 2, 0, 4, 3, 2, 2, 4, 0, 3, 4, 3, 0, 2, 0, 0, 0, 3, 0, 4, 4, 0, 0, 3, 4, 4, 0, 0, 3, 3, 0, 0, 2, 0, 0, 0, 2, 0, 0, 4, 4, 3, 3, 0, 0, 0, 2, 0, 0, 0, 0, 0, 0, 0, 0, 0, 0, 2, 0, 0, 0, 0, 0, 0, 0, 0, 0, 0, 0, 0, 2, 2, 0, 0, 0, 0, 4, 0, 4, 4, 0, 2, 2, 2, 0, 0, 0, 0, 3, 3, 0, 2, 2, 3, 4, 2, 2, 2, 2, 4, 0, 0, 2, 0, 2, 4, 4, 2, 0, 0, 4, 2, 0, 4, 0, 2, 2, 2, 0, 0, 2, 0, 2, 2, 2, 3, 0, 0, 0, 0, 0, 0, 2, 0, 0, 0, 3, 2, 3, 3, 0, 0, 2, 0, 0, 2, 0, 0, 0, 0, 0, 0, 4, 0, 4, 4, 4, 2, 0, 0, 0, 2, 0, 4, 3, 0, 4, 0, 4, 0, 0, 0, 0, 0, 4, 0, 0, 4, 0, 0, 4, 4, 3, 3, 0, 0, 0, 2, 0, 4, 3, 0, 0, 0, 0, 0, 0, 0, 4, 0, 0, 4, 0, 4, 0, 4, 0, 2, 0, 0, 4, 2, 2, 0, 0, 0, 3, 0, 0, 0, 0, 0, 2, 2, 0, 4, 0, 0, 0, 0, 3, 0, 4, 0, 0, 0, 2, 4, 0, 2, 0, 0, 4, 0, 0, 2, 2, 0, 0, 0, 0, 0, 0, 4, 0, 0, 0, 2, 0, 3, 0, 3, 0, 0, 0, 0, 0, 4, 0, 0, 0, 2, 0, 2, 3, 3, 2, 0, 2, 2, 2, 0, 3, 0, 2, 0, 2, 2, 0, 0, 0, 0, 2, 4, 2, 3, 4, 0, 2, 0, 2, 0, 0, 4, 0, 4, 2, 2, 4, 0, 4, 4, 0, 4, 0, 3, 0, 4, 0, 0, 2, 0, 4, 0, 0, 4, 0, 0, 0, 0, 3, 2, 0, 4, 4, 0, 0, 2, 0, 0, 0, 0, 2, 0, 0, 2, 0, 0, 0, 0, 3, 3, 0, 2, 2, 0, 4, 0, 4, 4, 4, 0, 0, 3, 0, 4, 2, 4, 2, 0, 0, 0, 4, 3, 3, 0, 0, 0, 3, 0, 0, 3, 0, 2, 2, 0, 0, 0, 0, 2, 3, 3, 0, 2, 0, 0, 4, 0, 0, 0, 2, 4, 3, 0, 2, 0, 2, 2, 4, 2, 0, 0, 4, 3, 2, 0, 2, 0, 0, 4, 0, 2, 2, 0, 0, 3, 0, 0, 0, 0, 4, 4, 0, 0, 4, 3, 4, 2, 0, 2, 3, 0, 0, 0, 3, 0, 4, 0, 2, 3, 2, 0, 4, 0, 2, 3, 2, 2, 3, 4, 0, 0, 0, 0, 0, 0, 4, 0, 0, 0, 0, 0, 0, 0, 4, 0, 0, 4, 0, 0, 0, 0, 3, 2, 0, 0, 0, 4, 0, 4, 0, 2, 0, 0, 0, 0, 3, 0, 0, 2, 0, 0, 0, 0, 0, 0, 0, 0, 0, 0, 4, 0, 0, 0, 0, 0, 0, 2, 2, 0, 0, 4, 2, 4, 0, 2, 0, 0, 2, 0, 2, 0, 0, 0, 0, 3, 0, 3, 0, 0, 0, 0, 0, 0, 4, 4, 4, 3, 0, 4, 0, 2, 3, 0, 0, 4, 2, 4, 0, 2, 4, 0, 3, 2, 4, 2, 0, 2, 3, 0, 2, 0, 0, 0, 2, 0, 0, 0, 0, 2, 3, 2, 0, 0, 0, 2, 3, 4, 0, 0, 0, 0, 2, 0, 3, 0, 3, 0, 0, 2, 0, 0, 2, 0, 0, 2, 0, 0, 0, 0, 2, 0, 0, 3, 0, 4, 2, 2, 0, 4, 0, 0, 0, 0, 0, 2, 2, 2, 0, 4, 2, 2, 2, 4, 4, 0, 0, 0, 0, 4, 0, 0, 4, 0, 2, 0, 0, 0, 0, 4, 2, 0, 0, 0, 0, 0, 2, 0, 2, 3, 4, 3, 2, 4, 2, 3, 3, 0, 2, 2, 3, 2, 2, 2, 0, 4, 0, 2, 0, 0, 0, 0, 2, 2, 0, 0, 0, 4, 0, 0, 0, 0, 0, 2, 0, 4, 4, 0, 0, 2, 0, 2, 0, 0, 4, 0, 0, 3, 0, 0, 0, 0, 0, 0, 2, 0, 0, 0, 0, 0, 3, 0, 0, 2, 3, 0, 3, 2, 0, 0, 0, 0, 2, 3, 2, 4, 2, 2, 4, 2, 2, 2, 4, 2, 0, 0, 4, 2, 0, 0, 0, 0, 2, 2, 0, 0, 0, 0, 4, 2, 0, 0, 2, 0, 0, 3, 4, 4, 0, 0, 0, 2, 0, 0, 0, 0, 3, 2, 3, 0, 0, 0, 0, 2, 3, 2, 4, 0, 0, 0, 0, 0, 0, 0, 0, 0, 0, 0, 0, 0, 2, 2, 2, 2, 2, 3, 4, 2, 3, 4, 2, 2, 2, 2, 4, 2, 2, 2, 3, 0, 4, 4, 0, 4, 0, 3, 0, 0, 2, 2, 4, 0, 0, 0, 0, 2, 0, 0, 0, 0, 3, 0, 0, 2, 0, 2, 2, 4, 0, 0, 0, 4, 0, 3, 0, 2, 2, 3, 0, 4, 3, 0, 0, 2, 0, 0, 0, 4, 0, 3, 4, 0, 0, 4, 3, 2, 2, 2, 2, 4, 2, 4, 0, 0, 2, 0, 0, 2, 0, 3, 4, 4, 4, 0, 0, 2, 0, 0, 0, 0, 0, 2, 0, 2, 4, 0, 2, 3, 4, 0, 2, 0, 0, 2, 0, 0, 0, 4, 0, 0, 0, 4, 0, 0, 2, 2, 0, 0, 0, 0, 2, 4, 0, 0, 0, 0, 0, 0, 0, 0, 2, 0, 2, 0, 0, 4, 0, 0, 0, 0, 4, 4, 0, 0, 2, 0, 0, 2, 0, 0, 2, 0, 3, 2, 0, 0, 0, 0, 2, 0, 0, 0, 0, 0, 0, 0, 0, 4, 0, 3, 0, 0, 0, 0, 0, 2, 0, 0, 2, 0, 0, 0, 0, 4, 0, 2, 3, 0, 0, 0, 0, 0, 0, 0, 0, 0, 0, 0, 4, 0, 0, 0, 0, 0, 4, 0, 0, 0, 4, 0, 4, 0, 0, 0, 0, 0, 0, 0, 0, 0, 0, 0, 0, 0, 0, 0, 0, 0, 2, 0, 0, 4, 0, 0, 3, 0, 0, 0, 0, 0, 4, 0, 2, 0, 0, 0, 0, 2, 0, 0, 2, 0, 2, 0, 2, 4, 0, 0, 2, 0, 0, 0, 0, 0, 0, 4, 2, 0, 4, 0, 4, 0, 0, 0, 3, 2, 2, 0, 4, 2, 3, 2, 0, 2, 0, 2, 0, 2, 0, 4, 0, 3, 0, 4, 0, 0, 4, 4, 3, 0, 0, 0, 0, 0, 0, 2, 0, 2, 2, 0, 2, 0, 0, 0, 0, 0, 0, 0, 0, 0, 0, 4, 4, 0, 4, 0, 4, 3, 3, 0, 3, 0, 0, 0, 0, 2, 0, 2, 0, 0, 0, 4, 0, 4, 2, 0, 2, 0, 2, 4, 0, 0, 4, 2, 0, 0, 4, 0, 0, 3, 4, 0, 2, 3, 0, 0, 0, 0, 0, 2, 3, 4, 4, 4, 4, 0, 0, 0, 0, 0, 2, 0, 0, 0, 0, 0, 0, 0, 0, 0, 4, 0, 0, 4, 0, 0, 0, 0, 0, 4, 0, 0, 0, 0, 0, 0, 0, 4, 0, 0, 0, 4, 0, 0, 0, 0, 0, 0, 4, 3, 2, 2, 0, 4, 0, 4, 3, 2, 0, 0, 4, 0, 4, 0, 0, 0, 2, 0, 0, 0, 0, 2, 0, 0, 2, 0, 0, 0, 0, 0, 3, 2, 0, 0, 0, 0, 0, 2, 0, 4, 2, 2, 0, 0, 0, 0, 4, 0, 3, 2, 4, 0, 4, 0, 0, 3, 4, 3, 2, 0, 4, 2, 4, 4, 4, 3, 4, 2, 0, 2, 4, 4, 0, 4, 2, 4, 4, 2, 3, 0, 0, 3, 4, 0, 0, 0, 4, 3, 0, 0, 4, 2, 2, 3, 2, 4, 0, 0, 4, 2, 0, 0, 2, 0, 0, 0, 0, 0, 0, 3, 4, 4, 2, 4, 3, 2, 0, 0, 4, 0, 3, 4, 3, 0, 4, 0, 0, 3, 0, 2, 0, 0, 2, 2, 2, 4, 2, 2, 0, 3, 0, 0, 0, 2, 0, 4, 4, 0, 2, 2, 0, 0, 2, 3, 2, 0, 0, 0, 4, 0, 2, 0, 2, 0, 0, 4, 0, 4, 0, 0, 0, 0, 0, 0, 4, 0, 0, 4, 4, 0, 2, 0, 0, 0, 0, 0, 0, 3, 0, 3, 0, 4, 0, 4, 2, 0, 2, 3, 0, 0, 3, 0, 0, 0, 0, 0, 0, 0, 0, 3, 0, 3, 0, 0, 2, 0, 2, 0, 0, 3, 0, 0, 0, 0, 0, 0, 2, 4, 0, 0, 0, 4, 2, 0, 4, 0, 0, 3, 0, 2, 0, 0, 0, 2, 0, 3, 4, 3, 0, 3, 0, 0, 4, 2, 2, 0, 2, 0, 0, 0, 2, 0, 0, 4, 0, 3, 3, 4, 4, 0, 2, 0, 3, 3, 4, 2, 2, 2, 0, 2, 3, 3, 3, 2, 2, 3, 0, 0, 0, 2, 0, 3, 4, 0, 4, 0, 0, 0, 0, 4, 4, 0, 4, 0, 2, 0, 0, 4, 2, 0, 0, 2, 2, 4, 0, 0, 4, 2, 3, 0, 0, 0, 3, 0, 4, 0, 3, 3, 0, 0, 0, 2, 4, 0, 2, 3, 3, 2, 0, 0, 0, 0, 2, 2, 0, 3, 0, 3, 0, 2, 2, 0, 0, 0, 0, 2, 0, 2, 0, 0, 0, 2, 0, 0, 0, 0, 0, 0, 2, 2, 0, 0, 0, 0, 0, 0, 0, 0, 4, 0, 3, 2, 0, 0, 3, 2, 0, 0, 0, 2, 4, 0, 0, 0, 3, 0, 4, 0, 2, 2, 2, 3, 0, 4, 0, 3, 2, 4, 0, 4, 2, 2, 4, 0, 0, 0, 2, 0, 2, 0, 2, 0, 3, 0, 0, 0, 0, 0, 3, 4, 0, 4, 0, 2, 0, 2, 0, 2, 0, 0, 4, 3, 2, 0, 0, 2, 2, 4, 0, 4, 2, 2, 0, 0, 0, 0, 2, 0, 0, 0, 0, 0, 0, 0, 0, 0, 0, 0, 0, 0, 0, 0, 4, 2, 0, 0, 0, 4, 0, 0, 0, 0, 3, 0, 0, 4, 0, 0, 0, 0, 0, 2, 0, 0, 0, 0, 0, 0, 0, 0, 0, 0, 0, 0, 4, 0, 0, 3, 4, 2, 4, 0, 0, 0, 0, 0, 0, 0, 0, 4, 0, 0, 0, 0, 0, 0, 2, 3, 0, 2, 2, 3, 2, 0, 0, 4, 4, 4, 0, 2, 0, 2, 4, 2, 0, 2, 2, 0, 0, 0, 2, 2, 3, 0, 0, 0, 0, 0, 0, 0, 4, 0, 0, 4, 4, 4, 3, 0, 0, 0, 2, 0, 4, 0, 0, 2, 3, 2, 3, 4, 4, 4, 0, 0, 0, 4, 2, 0, 2, 0, 0, 0, 0, 0, 2, 0, 4, 4, 3, 4, 3, 0, 0, 0, 0, 0, 3, 0, 0, 0, 0, 0, 0, 0, 0, 0, 0, 2, 2, 2, 2, 4, 2, 3, 0, 0, 0, 0, 0, 0, 0, 2, 0, 2, 3, 0, 4, 2, 3, 4, 0, 4, 2, 0, 0, 0, 3, 3, 0, 0, 4, 2, 3, 0, 0, 4, 0, 0, 4, 0, 0, 2, 0, 4, 0, 0, 2, 3, 2, 0, 0, 3, 3, 0, 3, 0, 0, 4, 0, 0, 2, 0, 0, 0, 0, 0, 0, 0, 0, 2, 0, 0, 0, 0, 4, 0, 4, 3, 0, 0, 0, 0, 0, 0, 0, 4, 4, 0, 0, 0, 0, 0, 3, 0, 0, 0, 2, 2, 3, 3, 0, 4, 0, 0, 2, 0, 3, 3, 4, 0, 2, 0, 2, 0, 2, 0, 0, 0, 3, 0, 0, 3, 0, 2, 2, 0, 0, 0, 3, 2, 2, 2, 2, 4, 2, 2, 0, 3, 3, 3, 2, 4, 2, 0, 4, 0, 4, 0, 4, 0, 0, 4, 0, 3, 0, 4, 2, 4, 0, 4, 0, 2, 2, 2, 2, 0, 0, 0, 2, 4, 3, 2, 2, 0, 0, 0, 0, 0, 0, 0, 0, 0, 0, 0, 0, 0, 2, 0, 0, 0, 3, 2, 3, 3, 2, 2, 2, 4, 0, 0, 0, 2, 3, 0, 2, 2, 2, 4, 2, 0, 0, 0, 4, 4, 0, 4, 0, 0, 0, 3, 0, 2, 2, 0, 0, 4, 2, 0, 2, 2, 0, 0, 4, 0, 0, 0, 0, 0, 4, 2, 2, 2, 4, 0, 2, 0, 3, 0, 4, 0, 2, 0, 2, 2, 2, 0, 0, 0, 0, 0, 0, 0, 0, 0, 0, 0, 0, 3, 0, 2, 0, 2, 0, 2, 0, 0, 0, 0, 0, 0, 0, 0, 0, 0, 3, 3, 0, 2, 0, 0, 4, 0, 2, 3, 0, 0, 0, 0, 3, 2, 0, 0, 0, 0, 4, 0, 2, 2, 2, 4, 0, 2, 2, 4, 2, 0, 2, 2, 2, 0, 2, 0, 3, 0, 0, 4, 0, 2, 2, 0, 0, 0, 2, 0, 0, 2, 2, 2, 4, 2, 0, 2, 4, 3, 3, 2, 2, 2, 0, 0, 0, 0, 0, 0, 2, 0, 0, 2, 3, 2, 0, 4, 4, 0, 3, 4, 0, 0, 4, 0, 0, 4, 0, 4, 0, 4, 2, 2, 3, 0, 2, 0, 4, 2, 0, 0, 4, 0, 2, 0, 0, 0, 2, 4, 0, 4, 0, 0, 0, 0, 0, 0, 2, 0, 2, 4, 0, 4, 2, 4, 2, 0, 3, 2, 0, 0, 0, 2, 3, 0, 4, 4, 4, 4, 0, 2, 0, 2, 2, 2, 0, 2, 0, 0, 0, 2, 2, 3, 4, 0, 0, 3, 0, 0, 0, 0, 0, 0, 2, 3, 2, 0, 4, 4, 0, 0, 2, 4, 0, 3, 0, 0, 0, 0, 2, 4, 0, 0, 4, 0, 0, 2, 3, 0, 0, 3, 2, 4, 2, 4, 2, 0, 2, 4, 4, 0, 4, 4, 2, 2, 4, 4, 2, 0, 4, 2, 2, 0, 0, 0, 2, 3, 4, 4, 4, 4, 4, 4, 4, 0, 2, 2, 4, 4, 0, 2, 4, 4, 0, 0, 3, 4, 0, 0, 0, 0, 0, 0, 0, 2, 4, 0, 2, 3, 0, 0, 2, 3, 0, 0, 0, 2, 0, 2, 0, 0, 0, 4, 0, 3, 2, 3, 2, 2, 4, 4, 2, 0, 3, 4, 0, 4, 4, 0, 0, 0, 0, 2, 0, 4, 0, 0, 0, 0, 4, 2, 0, 0, 4, 2, 0, 0, 0, 0, 0, 0, 0, 3, 2, 0, 0, 0, 0, 0, 0, 3, 2, 4, 0, 0, 4, 0, 2, 4, 0, 4, 4, 2, 2, 2, 2, 2, 0, 3, 0, 0, 2, 0, 2, 2, 0, 3, 0, 4, 4, 0, 0, 0, 4, 0, 0, 4, 2, 0, 0, 2, 3, 0, 2, 2, 0, 2, 0, 0, 0, 4, 3, 0, 0, 4, 0, 0, 0, 2, 0, 0, 0, 3, 2, 0, 3, 0, 0, 2, 2, 3, 0, 2, 4, 2, 2, 2, 4, 3, 4, 2, 4, 3, 0, 0, 0, 2, 2, 4, 0, 0, 0, 0, 0, 4, 0, 0, 0, 0, 2, 4, 3, 0, 0, 0, 2, 0, 0, 0, 4, 0, 2, 0, 0, 0, 2, 2, 0, 0, 2, 0, 0, 0, 0, 0, 0, 0, 2, 0, 3, 0, 4, 0, 0, 0, 3, 0, 0, 0, 0, 3, 0, 4, 4, 0, 0, 0, 0, 2, 0, 0, 0, 0, 3, 0, 3, 3, 2, 2, 3, 4, 4, 4, 4, 3, 2, 0, 0, 0, 0, 2, 0, 0, 0, 4, 2, 4, 0, 0, 3, 0, 0, 0, 0, 0, 0, 0, 0, 4, 0, 4, 0, 4, 0, 4, 0, 0, 0, 4, 2, 2, 0, 2, 4, 2, 2, 0, 0, 0, 0, 0, 0, 0, 0, 0, 0, 0, 4, 0, 0, 0, 0, 0, 2, 0, 3, 0, 0, 0, 4, 0, 4, 0, 0, 0, 0, 4, 0, 0, 0, 0, 0, 0, 0, 0, 0, 0, 0, 0, 0, 0, 2, 0, 0, 0, 0, 0, 0, 4, 3, 0, 3, 0, 0, 0, 2, 0, 0, 2, 0, 2, 4, 0, 4, 2, 2, 0, 0, 0, 2, 0, 0, 4, 2, 0, 4, 2, 0, 0, 2, 3, 0, 0, 4, 0, 4, 0, 0, 4, 0, 0, 4, 0, 3, 0, 0, 4, 0, 2, 0, 0, 0, 2, 0, 0, 4, 0, 0, 0, 0, 2, 0, 2, 0, 0, 4, 0, 4, 0, 0, 3, 0, 4, 4, 0, 2, 0, 2, 2, 0, 0, 0, 4, 4, 4, 0, 2, 0, 3, 0, 0, 2, 2, 2, 0, 3, 0, 0, 0, 0, 0, 0, 0, 0, 0, 0, 4, 0, 0, 0, 2, 2, 0, 0, 0, 0, 4, 3, 2, 0, 0, 3, 0, 0, 0, 2, 0, 0, 2, 0, 2, 2, 2, 3, 2, 2, 0, 0, 0, 2, 4, 2, 0, 0, 0, 0, 0, 0, 0, 2, 0, 4, 3, 0, 3, 0, 0, 2, 0, 3, 3, 2, 0, 0, 3, 0, 0, 0, 3, 2, 3, 0, 0, 4, 2, 2, 0, 2, 0, 4, 4, 0, 0, 0, 4, 0, 0, 0, 0, 0, 0, 0, 2, 0, 0, 2, 0, 2, 0, 0, 0, 0, 2, 0, 0, 0, 0, 0, 0, 0, 0, 2, 2, 2, 0, 0, 4, 2, 4, 4, 2, 0, 4, 0, 3, 3, 0, 3, 2, 4, 0, 0, 0, 2, 0, 2, 4, 0, 0, 2, 4, 2, 0, 0, 0, 0, 0, 2, 0, 0, 0, 0, 2, 3, 3, 4, 3, 4, 0, 0, 0, 0, 4, 2, 3, 0, 4, 2, 0, 4, 2, 3, 4, 0, 0, 3, 0, 3, 2, 0, 0, 0, 2, 0, 3, 0, 2, 2, 0, 4, 0, 0, 0, 0, 0, 4, 0, 0, 0, 0, 0, 0, 0, 3, 4, 0, 4, 4, 0, 0, 2, 0, 4, 0, 0, 0, 0, 0, 0, 0, 0, 4, 0, 4, 0, 0, 0, 0, 0, 0, 2, 0, 0, 0, 0, 0, 0, 2, 2, 0, 0, 0, 0, 0, 0, 0, 0, 0, 0, 0, 0, 0, 0, 0, 0, 2, 0, 0, 0, 0, 0, 0, 4, 0, 4, 0, 0, 0, 0, 0, 0, 0, 0, 0, 4, 3, 4, 0, 2, 0, 0, 0, 0, 2, 2, 0, 0, 0, 0, 0, 0, 0, 0, 0, 0, 0, 0, 0, 0, 2, 2, 2, 0, 2, 0, 4, 0, 0, 0, 0, 0, 2, 2, 0, 3, 4, 2, 3, 0, 0, 0, 0, 2, 4, 0, 3, 3, 2, 0, 2, 0, 3, 2, 0, 0, 0, 0, 0, 4, 0, 0, 0, 2, 0, 0, 0, 0, 0, 4, 3, 0, 2, 0, 2, 0, 0, 2, 4, 0, 0, 4, 0, 0, 0, 0, 2, 0, 0, 0, 0, 0, 2, 0, 2, 2, 0, 4, 2, 2, 0, 2, 0, 0, 0, 0, 2, 3, 0, 0, 0, 0, 0, 0, 0, 0, 0, 4, 4, 0, 4, 4, 0, 0, 0, 2, 0, 3, 4, 0, 4, 0, 3, 3, 3, 3, 0, 4, 0, 0, 2, 0, 0, 0, 0, 4, 0, 0, 2, 3, 0, 0, 0, 4, 2, 4, 0, 3, 2, 2, 0, 2, 0, 0, 0, 0, 0, 3, 0, 0, 0, 0, 0, 0, 0, 0, 2, 3, 0, 0, 0, 0, 4, 0, 2, 0, 2, 3, 3, 4, 2, 2, 2, 2, 2, 2, 2, 4, 2, 2, 3, 0, 0, 0, 0, 3, 0, 2, 0, 4, 0, 0, 0, 2, 0, 0, 2, 2, 0, 2, 2, 0, 3, 4, 0, 0, 0, 2, 0, 4, 0, 0, 0, 3, 0, 0, 3, 0, 2, 2, 4, 3, 3, 0, 3, 0, 0, 0, 0, 0, 0, 0, 0, 0, 2, 2, 2, 3, 0, 3, 3, 0, 0, 2, 0, 2, 3, 0, 2, 0, 0, 0, 0, 0, 0, 3, 0, 0, 2, 4, 2, 2, 3, 2, 0, 3, 0, 0, 4, 4, 0, 0, 0, 0, 2, 0, 0, 0, 0, 0, 0, 0, 0, 0, 0, 0, 2, 0, 2, 2, 0, 0, 0, 0, 0, 0, 0, 2, 0, 4, 0, 0, 0, 0, 3, 0, 0, 2, 0, 3, 4, 3, 3, 0, 2, 0, 0, 4, 0, 3, 4, 0, 4, 0, 0, 2, 2, 4, 2, 4, 0, 2, 0, 2, 0, 0, 2, 0, 0, 0, 0, 0, 4, 2, 0, 0, 0, 0, 2, 0, 0, 0, 2, 2, 4, 2, 2, 2, 3, 4, 4, 0, 3, 0, 0, 3, 0, 0, 0, 0, 0, 0, 0, 4, 0, 2, 0, 0, 0, 3, 0, 0, 0, 0, 0, 0, 4, 0, 0, 0, 0, 0, 0, 3, 0, 4, 4, 0, 0, 0, 0, 2, 4, 0, 4, 0, 0, 4, 0, 4, 3, 2, 2, 2, 0, 4, 4, 4, 4, 4, 4, 2, 4, 0, 0, 4, 2, 0, 2, 3, 0, 4, 0, 0, 0, 0, 0, 0, 0, 0, 0, 0, 0, 0, 0, 0, 0, 2, 0, 0, 0, 0, 0, 0, 2, 0, 0, 0, 4, 0, 2, 0, 2, 2, 0, 0, 0, 0, 4, 0, 0, 2, 2, 2, 0, 2, 2, 0, 0, 3, 0, 4, 0, 2, 0, 4, 2, 0, 0, 2, 2, 2, 2, 0, 0, 0, 0, 2, 3, 0, 0, 0, 2, 4, 0, 0, 0, 0, 0, 0, 0, 0, 0, 0, 2, 0, 0, 0, 3, 0, 0, 0, 0, 4, 0, 0, 2, 2, 2, 2, 0, 0, 0, 4, 2, 0, 4, 2, 3, 0, 0, 0, 2, 0, 3, 3, 2, 2, 4, 3, 0, 0, 2, 0, 0, 0, 0, 3, 0, 0, 3, 0, 2, 0, 0, 0, 0, 0, 4, 0, 4, 2, 0, 2, 0, 0, 0, 0, 2, 3, 2, 0, 0, 0, 0, 3, 0, 4, 0, 0, 2, 0, 3, 0, 0, 0, 0, 0, 0, 0, 0, 0, 0, 0, 0, 0, 0, 0, 0, 4, 4, 0, 0, 0, 0, 0, 0, 4, 0, 0, 0, 0, 4, 3, 4, 0, 0, 3, 0, 0, 4, 0, 3, 0, 0, 0, 0, 2, 2, 0, 0, 0, 0, 3, 0, 0, 0, 0, 4, 0, 4, 2, 4, 0, 2, 2, 0, 4, 4, 2, 3, 2, 0, 0, 0, 4, 0, 2, 3, 0, 2, 0, 4, 0, 3, 0, 0, 4, 4, 0, 0, 0, 2, 0, 0, 2, 2, 0, 3, 4, 0, 0, 0, 0, 0, 0, 0, 0, 0, 0, 4, 2, 0, 0, 0, 0, 0, 2, 2, 4, 2, 2, 0, 3, 0, 0, 0, 0, 0, 0, 0, 3, 0, 0, 2, 0, 0, 0, 0, 0, 0, 0, 3, 2, 3, 2, 2, 0, 0, 0, 3, 0, 2, 0, 0, 4, 2, 2, 3, 0, 3, 2, 2, 0, 0, 0, 0, 0, 0, 2, 0, 0, 4, 0, 3, 2, 0, 0, 3, 2, 0, 0, 0, 4, 2, 0, 0, 2, 0, 0, 0, 0, 0, 0, 3, 2, 0, 0, 0, 0, 0, 0, 3, 2, 0, 0, 0, 2, 0, 0, 2, 0, 0, 0, 0, 0, 3, 0, 0, 0, 0, 0, 0, 0, 0, 0, 0, 3, 0, 0, 2, 3, 0, 3, 0, 0, 2, 0, 2, 0, 0, 4, 3, 2, 2, 0, 2, 0, 0, 4, 2, 4, 3, 0, 0, 0, 0, 0, 2, 3, 2, 0, 2, 0, 3, 2, 4, 0, 4, 0, 0, 2, 2, 0, 4, 0, 2, 0, 0, 0, 0, 3, 0, 2, 4, 0, 4, 0, 3, 2, 2, 0, 0, 4, 2, 0, 4, 0, 0, 0, 3, 3, 2, 4, 2, 4, 4, 0, 0, 0, 0, 0, 0, 0, 0, 0, 0, 0, 3, 0, 0, 0, 4, 4, 2, 0, 3, 0, 0, 2, 0, 2, 0, 4, 0, 2, 0, 0, 0, 0, 2, 3, 0, 0, 0, 2, 0, 3, 2, 0, 2, 3, 0, 2, 2, 0, 0, 0, 0, 2, 2, 3, 2, 2, 0, 0, 0, 0, 0, 2, 0, 0, 3, 0, 4, 2, 0, 2, 3, 3, 0, 4, 0, 0, 4, 0, 0, 0, 0, 3, 0, 0, 2, 0, 0, 0, 3, 0, 4, 0, 0, 0, 3, 3, 0, 0, 0, 2, 4, 2, 0, 0, 0, 0, 0, 0, 3, 0, 0, 0, 0, 0, 2, 0, 4, 0, 0, 0, 0, 4, 4, 0, 0, 0, 0, 3, 0, 0, 4, 0, 2, 0, 0, 0, 0, 0, 2, 0, 3, 0, 0, 3, 0, 4, 3, 0, 4, 0, 0, 2, 3, 3, 0, 0, 3, 0, 2, 0, 0, 0, 2, 3, 0, 0, 2, 4, 3, 2, 2, 2, 0, 4, 0, 0, 0, 4, 4, 0, 2, 3, 2, 2, 2, 2, 0, 3, 0, 2, 0, 0, 2, 3, 0, 0, 2, 0, 0, 0, 0, 0, 0, 3, 0, 0, 0, 2, 0, 0, 2, 3, 2, 2, 0, 0, 0, 2, 0, 0, 4, 2, 0, 2, 0, 2, 3, 2, 0, 3, 0, 2, 0, 2, 2, 2, 2, 0, 0, 0, 3, 4, 4, 4, 0, 0, 2, 0, 4, 0, 0, 0, 0, 0, 0, 0, 3, 0, 0, 0, 0, 0, 4, 0, 0, 2, 0, 0, 2, 4, 3, 2, 2, 4, 2, 0, 4, 4, 4, 0, 0, 0, 0, 3, 0, 0, 0, 0, 2, 2, 0, 2, 0, 0, 0, 0, 0, 2, 0, 4, 4, 0, 4, 0, 3, 0, 4, 0, 0, 0, 0, 0, 3, 3, 2, 0, 2, 0, 0, 3, 2, 4, 2, 0, 4, 0, 0, 0, 0, 2, 3, 0, 2, 2, 0, 4, 0, 3, 2, 3, 0, 2, 0, 2, 2, 0, 0, 3, 2, 4, 4, 4, 0, 0, 0, 4, 3, 4, 2, 0, 0, 0, 3, 0, 0, 0, 0, 3, 0, 4, 2, 3, 0, 4, 2, 0, 0, 0, 0, 0, 0, 0, 0, 0, 0, 0, 4, 0, 0, 4, 0, 0, 0, 0, 0, 0, 0, 0, 2, 4, 0, 0, 3, 2, 0, 0, 0, 0, 2, 0, 0, 2, 0, 0, 0, 0, 0, 0, 0, 0, 0, 0, 4, 0, 3, 2, 2, 2, 0, 0, 0, 0, 0, 0, 0, 0, 0, 0, 0, 0, 2, 0, 0, 0, 2, 2, 2, 2, 4, 0, 3, 0, 4, 0, 3, 0, 4, 0, 0, 2, 0, 0, 0, 0, 3, 0, 0, 0, 0, 0, 0, 0, 0, 2, 2, 0, 0, 0, 0, 0, 4, 0, 0, 2, 0, 2, 0, 3, 4, 0, 0, 2, 0, 0, 0, 0, 0, 0, 0, 0, 0, 0, 3, 2, 3, 0, 0, 0, 0, 0, 0, 3, 2, 0, 0, 4, 0, 2, 3, 0, 2, 0, 0, 0, 0, 0, 0, 0, 0, 0, 0, 2, 0, 3, 0, 0, 2, 2, 0, 0, 0, 0, 0, 2, 4, 0, 3, 0, 0, 0, 0, 0, 0, 0, 0, 0, 0, 0, 0, 0, 0, 2, 0, 2, 0, 0, 4, 3, 3, 0, 0, 4, 0, 0, 0, 0, 3, 3, 2, 2, 0, 0, 0, 3, 0, 0, 0, 0, 0, 3, 0, 0, 0, 0, 0, 0, 0, 0, 3, 0, 0, 0, 0, 4, 4, 0, 0, 3, 0, 0, 0, 0, 0, 0, 0, 0, 0, 0, 4, 0, 0, 0, 2, 0, 2, 0, 4, 0, 0, 2, 0, 0, 4, 0, 0, 0, 0, 2, 0, 0, 3, 0, 2, 0, 2, 4, 3, 0, 3, 0, 0, 4, 3, 2, 2, 2, 0, 0, 0, 0, 0, 0, 4, 0, 0, 2, 0, 4, 4, 0, 0, 2, 4, 0, 0, 0, 3, 0, 0, 3, 0, 4, 2, 0, 0, 2, 0, 0, 0, 0, 4, 0, 0, 2, 0, 0, 4, 3, 4, 4, 0, 4, 0, 0, 3, 0, 0, 3, 0, 3, 2, 0, 0, 2, 0, 0, 0, 0, 0, 0, 4, 0, 0, 0, 0, 0, 0, 0, 2, 0, 0, 4, 3, 0, 0, 4, 0, 4, 0, 0, 0, 0, 0, 0, 4, 4, 0, 0, 0, 0, 0, 2, 4, 0, 0, 2, 3, 0, 0, 0, 0, 0, 2, 2, 3, 0, 0, 0, 0, 0, 0, 0, 0, 0, 0, 0, 3, 2, 2, 0, 4, 0, 0, 0, 0, 0, 4, 4, 4, 0, 3, 3, 3, 2, 0, 0, 0, 0, 0, 0, 0, 0, 0, 0, 0, 2, 0, 0, 0, 0, 0, 0, 0, 4, 0, 0, 0, 0, 0, 3, 2, 0, 0, 0, 0, 0, 0, 0, 0, 0, 0, 0, 0, 0, 0, 0, 0, 0, 0, 0, 0, 0, 0, 0, 0, 0, 0, 0, 0, 0, 0, 0, 0, 0, 0, 0, 0, 0, 2, 0, 0, 2, 2, 0, 0, 4, 0, 0, 0, 2, 3, 2, 0, 0, 0, 2, 0, 0, 2, 2, 2, 0, 0, 3, 0, 0, 0, 0, 0, 0, 0, 0, 4, 4, 0, 0, 0, 0, 0, 2, 0, 0, 0, 0, 0, 0, 0, 0, 4, 0, 0, 0, 0, 0, 0, 2, 0, 0, 0, 2, 4, 0, 0, 0, 0, 0, 3, 0, 4, 2, 4, 3, 2, 2, 3, 2, 0, 4, 4, 0, 4, 0, 4, 2, 4, 0, 0, 0, 0, 0, 4, 0, 4, 0, 2, 0, 0, 3, 0, 0, 4, 4, 0, 0, 0, 3, 0, 4, 4, 4, 0, 3, 0, 0, 0, 0, 2, 2, 2, 0, 2, 2, 0, 0, 0, 0, 0, 2, 0, 3, 0, 4, 3, 0, 4, 0, 0, 0, 0, 0, 0, 3, 0, 4, 0, 2, 0, 2, 0, 0, 0, 0, 0, 4, 0, 2, 2, 0, 2, 0, 0, 0, 0, 0, 3, 4, 4, 3, 3, 0, 0, 2, 2, 0, 0, 0, 0, 4, 0, 0, 0, 0, 0, 0, 2, 0, 0, 0, 0, 0, 3, 0, 0, 0, 0, 2, 2, 2, 2, 4, 2, 2, 4, 0, 0, 4, 0, 3, 0, 0, 2, 0, 0, 0, 0, 0, 0, 0, 0, 0, 0, 0, 4, 0, 0, 0, 0, 0, 2, 2, 3, 0, 3, 4, 4, 0, 0, 4, 0, 0, 3, 2, 2, 4, 3, 0, 0, 4, 2, 0, 0, 0, 4, 4, 0, 3, 2, 4, 3, 2, 4, 2, 0, 2, 4, 0, 2, 0, 4, 0, 4, 4, 0, 0, 4, 0, 0, 4, 0, 0, 0, 0, 0, 2, 3, 0, 0, 0, 2, 0, 0, 4, 2, 0, 4, 2, 0, 2, 0, 0, 2, 0, 0, 0, 0, 4, 2, 0, 0, 0, 0, 2, 0, 2, 3, 0, 0, 4, 0, 0, 4, 2, 0, 0, 0, 0, 0, 0, 0, 0, 0, 4, 2, 0, 0, 0, 0, 3, 4, 0, 0, 0, 0, 3, 3, 3, 2, 0, 0, 0, 0, 0, 0, 0, 2, 0, 4, 0, 0, 0, 0, 0, 2, 4, 2, 0, 0, 0, 2, 0, 0, 0, 0, 0, 0, 0, 0, 0, 0, 0, 0, 0, 0, 0, 0, 4, 2, 2, 0, 0, 0, 0, 3, 0, 0, 0, 3, 0, 0, 0, 0, 0, 2, 0, 4, 0, 2, 0, 3, 2, 2, 0, 2, 0, 0, 2, 4, 3, 0, 2, 0, 2, 2, 0, 0, 0, 0, 0, 2, 0, 4, 2, 3, 2, 2, 0, 0, 0, 2, 0, 3, 4, 0, 0, 2, 3, 2, 4, 0, 0, 0, 0, 4, 2, 0, 0, 4, 2, 4, 3, 0, 0, 2, 0, 4, 3, 0, 0, 0, 0, 4, 0, 0, 0, 0, 0, 3, 0, 0, 0, 3, 0, 0, 3, 0, 0, 0, 0, 0, 0, 2, 2, 0, 0, 0, 2, 0, 0, 0, 2, 0, 0, 0, 0, 2, 4, 0, 0, 0, 0, 2, 4, 0, 0, 0, 0, 0, 0, 0, 0, 4, 0, 3, 3, 0, 3, 0, 0, 2, 2, 3, 2, 4, 0, 0, 2, 0, 0, 4, 0, 2, 0, 3, 0, 0, 3, 0, 3, 0, 0, 3, 2, 4, 0, 0, 4, 0, 0, 0, 0, 0, 0, 0, 0, 0, 2, 0, 0, 0, 0, 2, 0, 0, 3, 0, 2, 2, 2, 0, 3, 2, 0, 4, 4, 0, 3, 4, 4, 2, 4, 2, 0, 0, 3, 4, 0, 0, 2, 2, 0, 0, 0, 2, 0, 2, 3, 2, 3, 2, 3, 0, 0, 0, 2, 0, 0, 0, 0, 0, 0, 3, 4, 4, 4, 4, 0, 3, 4, 2, 4, 2, 2, 2, 2, 0, 2, 2, 4, 2, 2, 4, 2, 3, 2, 0, 0, 4, 0, 2, 0, 4, 0, 2, 0, 0, 2, 0, 3, 4, 0, 4, 0, 0, 0, 0, 0, 0, 2, 4, 3, 4, 4, 2, 0, 2, 4, 0, 2, 0, 3, 0, 3, 4, 4, 2, 2, 0, 0, 3, 2, 0, 3, 0, 0, 2, 0, 0, 2, 3, 3, 3, 0, 2, 4, 3, 0, 0, 0, 4, 0, 0, 0, 4, 3, 0, 3, 0, 4, 2, 0, 4, 2, 2, 4, 0, 0, 0, 0, 0, 0, 0, 3, 4, 2, 3, 4, 3, 0, 0, 0, 3, 0, 0, 0, 3, 2, 3, 0, 4, 4, 2, 4, 4, 0, 0, 0, 4, 2, 0, 2, 4, 4, 0, 2, 2, 2, 0, 4, 3, 0, 0, 0, 4, 0, 2, 2, 0, 0, 0, 3, 0, 2, 0, 4, 3, 3, 0, 3, 0, 0, 0, 4, 0, 4, 3, 0, 0, 2, 2, 2, 0, 0, 4, 0, 4, 2, 2, 0, 0, 3, 2, 0, 0, 0, 2, 2, 0, 0, 0, 2, 0, 0, 4, 2, 0, 0, 4, 0, 0, 0, 0, 2, 0, 3, 0, 2, 0, 0, 2, 2, 0, 0, 0, 0, 3, 2, 2, 0, 0, 0, 4, 0, 0, 2, 2, 2, 4, 0, 4, 0, 0, 0, 0, 4, 0, 2, 2, 2, 3, 0, 3, 0, 3, 3, 2, 0, 0, 0, 0, 4, 0, 0, 0, 0, 0, 0, 0, 0, 0, 0, 0, 0, 0, 0, 0, 0, 0, 0, 0, 2, 4, 2, 0, 0, 2, 3, 4, 0, 0, 0, 2, 4, 4, 0, 0, 2, 0, 4, 0, 0, 0, 2, 0, 0, 2, 0, 0, 2, 0, 0, 2, 0, 4, 0, 2, 0, 0, 0, 0, 0, 4, 0, 0, 0, 0, 0, 0, 0, 0, 4, 4, 0, 0, 0, 4, 0, 2, 0, 0, 0, 0, 0, 2, 3, 4, 4, 4, 0, 0, 0, 0, 0, 0, 0, 0, 0, 2, 4, 0, 4, 4, 0, 0, 0, 0, 2, 0, 0, 4, 0, 0, 2, 0, 4, 4, 4, 4, 2, 0, 2, 4, 0, 0, 4, 4, 0, 4, 4, 0, 2, 0, 0, 2, 0, 0, 0, 2, 4, 0, 3, 3, 0, 3, 0, 0, 0, 0, 0, 0, 0, 4, 4, 0, 0, 0, 0, 0, 3, 3, 0, 3, 0, 0, 0, 0, 3, 0, 0, 0, 0, 2, 3, 3, 2, 2, 2, 2, 0, 2, 0, 4, 0, 0, 4, 0, 4, 2, 4, 4, 2, 2, 0, 3, 4, 0, 2, 0, 4, 0, 2, 0, 0, 0, 0, 0, 0, 0, 0, 3, 2, 4, 0, 0, 0, 2, 2, 0, 0, 2, 4, 4, 0, 0, 3, 3, 3, 2, 0, 3, 2, 4, 0, 2, 0, 2, 0, 0, 4, 3, 2, 4, 4, 2, 0, 4, 2, 2, 0, 0, 4, 0, 0, 0, 0, 0, 0, 4, 0, 0, 0, 0, 4, 3, 0, 3, 2, 3, 0, 2, 4, 2, 0, 0, 0, 0, 0, 4, 0, 0, 0, 4, 4, 3, 0, 0, 0, 0, 4, 0, 0, 0, 0, 2, 2, 4, 0, 3, 0, 0, 0, 2, 0, 0, 0, 0, 3, 3, 0, 3, 0, 2, 2, 0, 0, 0, 0, 0, 0, 2, 3, 3, 3, 3, 2, 2, 4, 2, 0, 0, 0, 0, 4, 0, 0, 2, 3, 3, 2, 4, 2, 0, 0, 2, 0, 0, 0, 0, 0, 0, 0, 0, 0, 4, 3, 4, 2, 2, 0, 3, 2, 3, 0, 0, 2, 3, 3, 2, 2, 2, 4, 3, 2, 2, 0, 0, 0, 3, 3, 4, 0, 0, 0, 0, 3, 0, 2, 3, 2, 0, 0, 0, 0, 3, 0, 2, 2, 4, 4, 4, 0, 0, 0, 0, 0, 0, 0, 0, 2, 0, 2, 2, 4, 4, 0, 0, 4, 0, 3, 3, 4, 3, 0, 4, 0, 4, 2, 2, 3, 3, 4, 2, 4, 4, 4, 3, 2, 4, 3, 2, 0, 0, 3, 4, 3, 3, 2, 4, 4, 2, 2, 3, 4, 2, 2, 3, 4, 2, 4, 2, 2, 2, 2, 2, 4, 4, 4, 4, 2, 3, 3, 2, 2, 4, 3, 2, 0, 2, 4, 2, 0, 4, 0, 2, 2, 0, 0, 3, 2, 0, 3, 0, 2, 0, 0, 0, 0, 2, 0, 4, 0, 0, 2, 0, 2, 0, 0, 2, 0, 0, 0, 2, 2, 0, 0, 4, 0, 0, 0, 2, 0, 0, 0, 0, 0, 0, 0, 2, 2, 0, 0, 4, 2, 0, 2, 2, 4, 0, 4, 4, 4, 0, 4, 2, 2, 4, 3, 4, 2, 0, 0, 0, 0, 0, 2, 0, 3, 0, 0, 0, 2, 0, 2, 0, 0, 0, 2, 0, 0, 4, 3, 0, 2, 0, 0, 0, 0, 0, 0, 0, 0, 4, 2, 4, 0, 0, 0, 0, 0, 0, 0, 3, 2, 0, 0, 2, 0, 2, 0, 0, 0, 4, 2, 2, 2, 0, 0, 4, 3, 2, 2, 0, 4, 0, 0, 4, 0, 0, 4, 0, 4, 4, 0, 0, 2, 0, 0, 0, 4, 0, 0, 0, 2, 3, 0, 4, 0, 2, 3, 4, 0, 2, 0, 3, 3, 2, 0, 4, 0, 0, 3, 3, 0, 4, 0, 3, 0, 3, 0, 2, 0, 0, 2, 0, 0, 3, 0, 0, 0, 0, 0, 0, 2, 0, 0, 4, 0, 0, 0, 0, 0, 4, 0, 2, 0, 0, 0, 0, 0, 0, 4, 0, 0, 0, 0, 0, 2, 0, 4, 0, 0, 0, 0, 0, 3, 4, 0, 0, 0, 0, 4, 0, 2, 0, 0, 3, 0, 4, 0, 0, 4, 0, 0, 2, 2, 0, 0, 2, 0, 0, 0, 3, 2, 0, 3, 0, 3, 0, 0, 2, 0, 4, 3, 2, 0, 4, 2, 4, 0, 2, 3, 0, 0, 3, 2, 2, 0, 4, 0, 0, 2, 2, 0, 2, 0, 0, 3, 0, 0, 0, 4, 2, 2, 0, 2, 0, 2, 2, 0, 0, 0, 3, 0, 0, 2, 0, 0, 2, 0, 0, 2, 4, 0, 0, 2, 0, 0, 0, 3, 2, 4, 0, 4, 3, 0, 0, 4, 0, 0, 0, 3, 2, 3, 0, 4, 3, 3, 2, 0, 2, 2, 2, 0, 0, 0, 0, 2, 4, 0, 0, 0, 0, 0, 3, 0, 4, 2, 3, 0, 2, 2, 0, 2, 0, 4, 0, 2, 0, 0, 2, 0, 2, 2, 4, 3, 0, 4, 4, 2, 2, 0, 2, 3, 3, 0, 4, 4, 4, 0, 0, 0, 4, 0, 3, 0, 0, 4, 0, 0, 0, 0, 2, 4, 4, 0, 4, 3, 0, 0, 0, 4, 4, 0, 0, 2, 0, 0, 0, 0, 0, 0, 0, 0, 0, 2, 0, 4, 0, 0, 0, 0, 0, 0, 2, 4, 2, 0, 0, 0, 4, 0, 2, 0, 0, 0, 0, 2, 0, 0, 2, 0, 0, 0, 0, 4, 0, 2, 3, 0, 2, 0, 0, 0, 0, 4, 0, 0, 4, 0, 2, 0, 0, 0, 0, 0, 0, 3, 0, 4, 4, 2, 0, 2, 0, 3, 2, 2, 0, 0, 0, 0, 2, 4, 0, 4, 0, 0, 0, 3, 0, 0, 4, 2, 0, 0, 0, 0, 0, 0, 0, 0, 2, 0, 3, 4, 2, 0, 2, 2, 4, 2, 3, 2, 0, 2, 0, 0, 3, 0, 0, 0, 3, 2, 0, 0, 0, 0, 4, 0, 0, 2, 2, 0, 0, 0, 4, 4, 0, 2, 0, 0, 0, 0, 0, 2, 4, 0, 2, 3, 3, 0, 0, 4, 4, 0, 0, 0, 0, 0, 0, 0, 2, 0, 0, 0, 0, 0, 4, 0, 0, 0, 2, 0, 2, 4, 0, 2, 0, 0, 0, 4, 0, 0, 0, 0, 0, 2, 0, 0, 0, 0, 0, 0, 2, 4, 2, 2, 0, 2, 0, 0, 4, 4, 0, 2, 2, 0, 3, 0, 4, 0, 0, 0, 4, 0, 4, 0, 0, 2, 2, 0, 0, 4, 2, 4, 2, 2, 0, 3, 4, 4, 3, 0, 2, 3, 0, 2, 2, 4, 2, 3, 0, 2, 2, 0, 0, 0, 0, 0, 0, 4, 0, 0, 0, 0, 0, 0, 0, 0, 4, 4, 2, 0, 0, 3, 3, 0, 4, 0, 2, 2, 0, 0, 2, 2, 2, 0, 4, 0, 3, 3, 0, 4, 4, 2, 3, 0, 2, 0, 2, 0, 0, 4, 0, 0, 2, 2, 4, 0, 2, 2, 2, 3, 2, 0, 2, 0, 0, 0, 4, 2, 0, 3, 0, 2, 4, 2, 0, 4, 0, 0, 0, 2, 2, 0, 0, 0, 0, 0, 3, 3, 3, 0, 2, 0, 2, 2, 3, 0, 0, 2, 0, 0, 0, 0, 2, 2, 2, 0, 2, 0, 4, 3, 2, 0, 0, 2, 0, 2, 0, 2, 0, 0, 0, 0, 0, 4, 2, 2, 0, 0, 0, 0, 2, 0, 4, 0, 2, 0, 2, 0, 0, 2, 2, 2, 0, 4, 0, 0, 4, 2, 0, 0, 0, 0, 0, 3, 3, 3, 2, 0, 0, 4, 0, 0, 4, 0, 0, 0, 0, 0, 3, 0, 2, 0, 4, 0, 0, 0, 2, 0, 2, 2, 0, 0, 4, 0, 0, 2, 2, 0, 0, 0, 0, 2, 2, 3, 0, 2, 4, 0, 3, 0, 4, 2, 0, 0, 3, 0, 0, 2, 4, 2, 0, 0, 0, 4, 3, 0, 0, 4, 2, 2, 0, 0, 0, 0, 0, 0, 2, 0, 3, 0, 0, 0, 4, 0, 2, 0, 0, 2, 0, 2, 0, 0, 2, 0, 0, 4, 2, 0, 2, 4, 4, 0, 0, 0, 2, 4, 0, 0, 2, 0, 0, 2, 0, 2, 0, 2, 2, 0, 0, 0, 3, 2, 0, 0, 4, 4, 3, 0, 0, 4, 0, 4, 0, 0, 0, 0, 0, 0, 0, 0, 0, 0, 0, 0, 0, 0, 0, 0, 0, 0, 0, 0, 3, 0, 0, 2, 0, 0, 0, 0, 3, 4, 0, 2, 0, 0, 3, 0, 0, 0, 4, 0, 0, 0, 0, 0, 0, 0, 4, 4, 0, 2, 0, 0, 2, 0, 0, 0, 4, 2, 2, 0, 0, 2, 0, 0, 3, 0, 2, 4, 0, 0, 0, 3, 3, 0, 4, 4, 0, 0, 0, 0, 0, 0, 0, 0, 0, 0, 0, 0, 0, 0, 0, 0, 4, 4, 0, 4, 4, 0, 0, 0, 0, 0, 0, 0, 0, 0, 0, 4, 0, 0, 0, 3, 3, 0, 0, 0, 2, 2, 3, 0, 2, 2, 0, 0, 0, 0, 0, 0, 4, 2, 2, 0, 3, 0, 2, 2, 0, 0, 0, 0, 2, 2, 0, 0, 4, 2, 0, 0, 0, 0, 0, 0, 2, 4, 2, 4, 2, 0, 2, 2, 0, 0, 4, 0, 0, 0, 2, 0, 0, 0, 3, 4, 2, 2, 0, 4, 0, 0, 0, 0, 4, 0, 0, 0, 0, 0, 4, 0, 0, 2, 0, 0, 2, 0, 0, 2, 2, 3, 4, 4, 4, 2, 2, 2, 2, 2, 0, 0, 0, 4, 2, 0, 4, 0, 4, 0, 2, 0, 4, 0, 0, 0, 0, 0, 0, 0, 3, 2, 4, 0, 2, 2, 3, 4, 4, 2, 0, 4, 4, 0, 0, 0, 2, 4, 0, 0, 0, 0, 2, 2, 2, 0, 3, 0, 0, 0, 0, 0, 0, 0, 0, 0, 0, 0, 0, 0, 0, 0, 0, 0, 2, 2, 0, 0, 0, 0, 2, 2, 0, 0, 2, 0, 0, 0, 0, 0, 0, 0, 0, 2, 0, 2, 3, 3, 3, 0, 0, 0, 0, 0, 0, 0, 0, 2, 0, 0, 2, 2, 0, 0, 0, 0, 0, 0, 2, 4, 0, 0, 3, 0, 0, 0, 0, 0, 0, 0, 2, 0, 2, 0, 0, 4, 4, 4, 0, 4, 0, 3, 0, 2, 0, 0, 0, 0, 0, 2, 0, 0, 0, 0, 2, 2, 3, 2, 2, 0, 2, 2, 0, 4, 0, 3, 0, 0, 0, 2, 2, 0, 2, 0, 2, 4, 0, 0, 2, 2, 3, 0, 0, 2, 0, 2, 2, 0, 2, 4, 2, 0, 2, 0, 0, 0, 4, 0, 4, 4, 0, 0, 4, 0, 0, 2, 0, 0, 2, 0, 0, 0, 0, 0, 0, 2, 0, 4, 4, 4, 2, 0, 0, 2, 4, 4, 0, 0, 4, 0, 2, 0, 2, 0, 2, 0, 0, 0, 0, 0, 0, 2, 0, 2, 0, 0, 0, 3, 0, 0, 0, 0, 0, 0, 2, 0, 0, 3, 3, 0, 4, 0, 0, 0, 0, 4, 2, 0, 4, 4, 0, 0, 0, 0, 3, 0, 4, 4, 0, 0, 4, 0, 0, 0, 0, 4, 0, 0, 0, 4, 0, 2, 0, 4, 0, 0, 3, 0, 0, 0, 0, 2, 0, 0, 0, 0, 0, 2, 0, 0, 3, 0, 4, 0, 3, 3, 2, 0, 0, 3, 0, 2, 0, 4, 0, 0, 0, 0, 0, 0, 3, 2, 2, 4, 0, 0, 0, 0, 2, 3, 0, 4, 0, 0, 0, 2, 2, 0, 0, 2, 0, 0, 0, 0, 0, 2, 0, 0, 0, 0, 4, 0, 0, 3, 4, 0, 0, 0, 2, 4, 0, 0, 0, 0, 0, 0, 0, 0, 0, 0, 2, 0, 0, 2, 2, 0, 0, 0, 0, 2, 0, 0, 0, 4, 2, 0, 0, 2, 0, 0, 4, 2, 2, 3, 2, 0, 0, 2, 2, 0, 3, 2, 0, 2, 0, 0, 2, 2, 0, 0, 2, 2, 2, 0, 0, 0, 0, 0, 0, 4, 0, 2, 2, 4, 0, 0, 2, 0, 0, 4, 0, 4, 3, 0, 2, 0, 0, 0, 2, 0, 0, 0, 4, 2, 4, 3, 2, 3, 2, 3, 4, 4, 3, 4, 0, 2, 0, 0, 2, 0, 4, 3, 4, 3, 4, 2, 4, 0, 0, 0, 2, 0, 0, 0, 0, 0, 4, 0, 0, 0, 0, 2, 2, 3, 3, 2, 0, 4, 0, 0, 0, 0, 0, 0, 2, 0, 2, 4, 2, 0, 2, 3, 3, 0, 2, 0, 3, 0, 2, 2, 4, 4, 0, 2, 4, 0, 4, 4, 2, 3, 4, 0, 0, 0, 0, 2, 0, 0, 4, 0, 0, 0, 0, 0, 0, 0, 0, 4, 0, 3, 2, 4, 0, 0, 0, 0, 0, 0, 0, 0, 0, 0, 0, 2, 0, 0, 0, 0, 0, 4, 0, 0, 0, 2, 0, 3, 0, 0, 2, 4, 4, 4, 2, 0, 0, 4, 3, 0, 0, 0, 3, 4, 2, 0, 4, 0, 0, 0, 0, 0, 0, 0, 4, 0, 3, 2, 4, 0, 2, 0, 0, 2, 0, 0, 0, 0, 2, 0, 0, 0, 0, 2, 2, 0, 0, 2, 0, 0, 2, 4, 0, 4, 0, 0, 0, 0, 2, 2, 0, 0, 0, 2, 2, 0, 0, 4, 0, 0, 2, 2, 3, 4, 3, 2, 4, 0, 0, 2, 2, 0, 3, 0, 2, 0, 0, 0, 0, 2, 0, 4, 0, 3, 0, 2, 0, 4, 0, 4, 4, 0, 3, 0, 0, 0, 0, 0, 2, 2, 2, 0, 2, 4, 2, 3, 2, 2, 2, 0, 0, 2, 0, 4, 4, 0, 0, 0, 0, 2, 3, 0, 0, 4, 4, 4, 4, 0, 3, 0, 0, 3, 0, 0, 4, 3, 2, 2, 0, 4, 0, 0, 2, 2, 0, 0, 0, 0, 2, 2, 0, 2, 2, 0, 0, 0, 0, 4, 4, 0, 4, 0, 3, 3, 0, 2, 2, 2, 4, 3, 0, 0, 0, 0, 0, 0, 0, 2, 4, 4, 2, 3, 2, 0, 0, 0, 0, 0, 2, 3, 2, 0, 2, 3, 4, 2, 0, 3, 2, 0, 0, 0, 0, 0, 0, 0, 0, 0, 0, 0, 0, 0, 2, 0, 0, 0, 4, 4, 0, 0, 0, 4, 0, 0, 2, 0, 0, 0, 4, 3, 0, 3, 0, 0, 2, 0, 0, 2, 0, 0, 0, 0, 0, 4, 4, 0, 0, 0, 4, 3, 0, 4, 4, 2, 0, 0, 0, 0, 2, 0, 0, 0, 2, 0, 0, 0, 3, 2, 0, 0, 0, 0, 0, 4, 4, 3, 2, 0, 4, 0, 2, 4, 0, 4, 0, 4, 0, 0, 0, 0, 0, 2, 0, 4, 4, 4, 0, 3, 0, 3, 0, 3, 2, 0, 0, 4, 4, 3, 2, 0, 2, 3, 0, 0, 3, 0, 4, 0, 0, 0, 0, 0, 0, 0, 0, 2, 2, 4, 0, 0, 2, 0, 4, 4, 4, 2, 3, 2, 0, 0, 0, 0, 0, 2, 0, 2, 4, 0, 0, 0, 0, 3, 4, 0, 2, 0, 0, 3, 4, 0, 0, 0, 2, 0, 0, 0, 0, 2, 0, 2, 0, 0, 2, 2, 0, 4, 0, 4, 0, 3, 0, 2, 4, 4, 0, 0, 2, 0, 0, 0, 2, 0, 0, 0, 4, 0, 0, 0, 0, 4, 4, 0, 3, 2, 3, 0, 2, 4, 2, 0, 2, 0, 0, 4, 0, 0, 0, 0, 4, 0, 0, 2, 0, 3, 4, 3, 2, 4, 0, 0, 0, 0, 0, 0, 0, 0, 0, 0, 0, 0, 0, 0, 0, 0, 3, 4, 0, 0, 2, 3, 3, 2, 0, 0, 2, 2, 0, 2, 4, 4, 4, 0, 0, 0, 0, 0, 0, 3, 4, 3, 3, 0, 2, 4, 0, 0, 0, 3, 0, 4, 2, 2, 0, 0, 0, 0, 4, 0, 0, 0, 2, 4, 4, 0, 0, 4, 0, 2, 0, 0, 0, 0, 0, 2, 0, 3, 0, 3, 0, 0, 0, 0, 0, 0, 0, 0, 2, 0, 0, 0, 0, 0, 2, 2, 0, 0, 0, 0, 0, 0, 0, 4, 4, 0, 0, 4, 2, 0, 4, 0, 2, 0, 0, 0, 0, 2, 2, 0, 0, 0, 0, 2, 2, 4, 0, 4, 4, 4, 0, 0, 2, 0, 4, 0, 2, 4, 4, 0, 0, 2, 3, 3, 2, 2, 0, 4, 2, 2, 3, 0, 0, 4, 0, 0, 0, 2, 2, 2, 0, 0, 3, 2, 0, 4, 4, 2, 0, 0, 3, 4, 2, 3, 2, 2, 2, 0, 0, 2, 0, 2, 0, 0, 3, 0, 3, 0, 4, 4, 3, 2, 2, 0, 4, 2, 0, 0, 3, 0, 2, 2, 4, 0, 0, 0, 3, 2, 4, 0, 0, 0, 0, 3, 2, 0, 0, 0, 0, 2, 2, 0, 0, 0, 2, 3, 0, 0, 3, 0, 0, 0, 0, 3, 2, 2, 2, 0, 0, 0, 4, 0, 2, 0, 3, 0, 4, 4, 0, 2, 0, 4, 3, 4, 2, 0, 0, 0, 0, 4, 4, 0, 0, 0, 4, 0, 3, 3, 0, 0, 3, 0, 2, 3, 3, 4, 2, 0, 4, 2, 0, 0, 0, 3, 2, 0, 0, 0, 0, 0, 0, 0, 0, 3, 2, 3, 0, 2, 4, 0, 0, 4, 0, 2, 0, 0, 0, 0, 0, 0, 0, 4, 0, 0, 0, 0, 0, 0, 0, 2, 0, 3, 0, 2, 3, 2, 0, 0, 3, 0, 4, 0, 4, 2, 0, 0, 0, 0, 3, 0, 0, 0, 0, 0, 2, 0, 0, 4, 0, 0, 0, 4, 2, 0, 3, 2, 2, 0, 0, 0, 2, 2, 0, 0, 4, 2, 0, 0, 0, 0, 0, 2, 4, 0, 2, 0, 0, 2, 0, 2, 2, 0, 0, 0, 4, 0, 2, 2, 0, 0, 0, 2, 2, 0, 0, 0, 0, 2, 2, 0, 0, 4, 2, 3, 0, 0, 0, 0, 0, 0, 0, 0, 4, 4, 0, 0, 0, 0, 0, 0, 0, 0, 0, 0, 0, 0, 2, 0, 3, 4, 0, 0, 0, 0, 0, 0, 0, 0, 0, 4, 0, 0, 2, 0, 0, 0, 4, 0, 0, 0, 0, 2, 0, 4, 2, 2, 4, 3, 0, 0, 0, 0, 0, 4, 0, 4, 3, 3, 2, 0, 2, 2, 2, 4, 4, 0, 2, 0, 0, 4, 4, 3, 3, 0, 0, 4, 3, 4, 3, 0, 4, 0, 3, 0, 2, 0, 0, 0, 2, 0, 2, 0, 0, 0, 0, 0, 4, 0, 0, 3, 0, 0, 0, 0, 4, 0, 0, 2, 4, 3, 2, 0, 0, 0, 4, 0, 0, 0, 3, 0, 0, 0, 2, 4, 4, 0, 0, 0, 0, 4, 0, 3, 4, 0, 0, 2, 2, 0, 0, 0, 4, 0, 0, 3, 0, 2, 0, 2, 4, 2, 4, 0, 0, 0, 0, 0, 0, 0, 0, 0, 0, 4, 2, 0, 0, 0, 0, 0, 0, 0, 0, 0, 2, 2, 0, 0, 0, 2, 2, 0, 2, 2, 0, 0, 0, 4, 0, 0, 0, 3, 0, 2, 0, 2, 2, 2, 4, 0, 0, 0, 0, 3, 4, 4, 0, 3, 3, 3, 0, 0, 4, 2, 4, 0, 2, 4, 0, 0, 0, 4, 0, 0, 4, 0, 0, 0, 0, 0, 0, 0, 0, 4, 0, 2, 0, 0, 0, 0, 0, 0, 0, 0, 0, 0, 0, 2, 4, 4, 0, 0, 2, 0, 2, 0, 0, 4, 0, 0, 0, 0, 2, 0, 0, 0, 2, 2, 3, 0, 0, 0, 2, 0, 0, 0, 0, 0, 0, 2, 0, 0, 0, 4, 0, 0, 2, 2, 2, 0, 4, 4, 0, 0, 4, 3, 0, 0, 0, 3, 2, 0, 0, 0, 0, 0, 0, 0, 0, 0, 0, 3, 0, 0, 0, 0, 4, 0, 0, 2, 0, 0, 4, 2, 0, 2, 3, 2, 3, 0, 0, 0, 2, 0, 0, 2, 0, 3, 2, 0, 3, 2, 0, 4, 0, 0, 3, 4, 4, 0, 0, 0, 0, 0, 2, 3, 0, 3, 0, 2, 0, 2, 2, 0, 2, 0, 0, 4, 0, 0, 0, 3, 0, 0, 4, 0, 0, 0, 0, 0, 3, 0, 0, 0, 0, 0, 0, 0, 0, 0, 0, 0, 0, 0, 0, 0, 0, 0, 0, 0, 0, 0, 0, 0, 0, 0, 0, 0, 0, 0, 3, 0, 0, 0, 0, 0, 0, 4, 4, 0, 0, 0, 0, 0, 4, 0, 0, 0, 0, 0, 0, 0, 0, 0, 3, 4, 0, 3, 0, 0, 0, 0, 0, 2, 0, 0, 0, 0, 0, 2, 0, 2, 0, 0, 0, 0, 0, 0, 0, 2, 3, 0, 0, 0, 0, 0, 3, 0, 0, 0, 2, 0, 0, 0, 0, 0, 0, 0, 2, 4, 0, 0, 2, 3, 0, 0, 4, 0, 4, 2, 2, 0, 0, 2, 3, 2, 4, 0, 2, 0, 3, 0, 0, 0, 0, 0, 2, 3, 0, 4, 0, 4, 4, 0, 4, 2, 0, 0, 3, 2, 0, 0, 0, 0, 0, 0, 0, 0, 2, 0, 0, 0, 3, 0, 0, 2, 0, 0, 0, 0, 0, 0, 0, 0, 0, 0, 0, 2, 0, 0, 0, 0, 0, 0, 0, 0, 0, 0, 4, 0, 0, 0, 0, 0, 0, 0, 0, 3, 0, 0, 2, 2, 0, 0, 0, 2, 2, 0, 3, 2, 0, 0, 0, 4, 0, 0, 2, 4, 2, 0, 3, 2, 2, 2, 0, 0, 0, 0, 4, 2, 0, 0, 2, 0, 0, 4, 4, 2, 0, 2, 4, 0, 0, 0, 2, 2, 0, 2, 4, 2, 4, 0, 0, 0, 2, 4, 0, 2, 2, 0, 2, 0, 0, 0, 0, 2, 3, 4, 2, 2, 3, 0, 0, 0, 3, 2, 4, 4, 2, 2, 4, 2, 3, 4, 0, 4, 0, 2, 0, 3, 2, 2, 2, 0, 2, 0, 0, 0, 0, 0, 0, 3, 2, 0, 3, 2, 0, 0, 2, 0, 0, 2, 0, 0, 2, 0, 0, 0, 0, 0, 0, 0, 4, 0, 0, 2, 0, 0, 0, 0, 0, 0, 2, 0, 0, 0, 0, 0, 0, 0, 4, 0, 0, 0, 0, 0, 2, 2, 3, 3, 0, 2, 3, 4, 2, 0, 2, 0, 3, 0, 0, 0, 3, 0, 4, 0, 2, 0, 0, 0, 2, 0, 3, 3, 2, 0, 0, 2, 0, 0, 3, 0, 2, 0, 0, 0, 2, 4, 0, 4, 0, 0, 0, 0, 0, 0, 0, 0, 0, 0, 0, 0, 4, 4, 0, 3, 0, 3, 2, 0, 4, 2, 3, 4, 0, 0, 2, 3, 3, 3, 0, 0, 0, 0, 0, 0, 0, 4, 4, 0, 0, 0, 0, 0, 0, 0, 0, 0, 0, 0, 0, 0, 0, 0, 0, 0, 0, 2, 0, 0, 2, 0, 4, 4, 2, 0, 4, 4, 0, 0, 0, 0, 3, 0, 0, 0, 0, 4, 2, 0, 0, 0, 2, 0, 2, 0, 0, 0, 0, 0, 0, 4, 2, 3, 0, 3, 4, 0, 2, 0, 0, 0, 2, 2, 4, 4, 2, 4, 0, 2, 0, 0, 4, 0, 3, 0, 0, 2, 3, 4, 0, 0, 0, 0, 0, 0, 0, 4, 0, 0, 4, 3, 2, 0, 0, 2, 2, 2, 0, 2, 4, 0, 2, 0, 0, 0, 0, 0, 0, 4, 0, 0, 0, 0, 0, 0, 0, 0, 4, 4, 2, 3, 2, 3, 2, 0, 0, 4, 0, 2, 3, 3, 2, 4, 2, 4, 0, 2, 0, 4, 3, 0, 0, 0, 0, 0, 0, 0, 2, 0, 0, 4, 0, 0, 2, 2, 0, 0, 0, 0, 0, 0, 0, 3, 2, 2, 0, 3, 0, 2, 3, 2, 2, 4, 2, 2, 4, 3, 0, 3, 2, 2, 4, 0, 2, 0, 0, 0, 3, 4, 2, 0, 0, 0, 0, 4, 0, 0, 0, 0, 0, 0, 0, 0, 0, 2, 0, 4, 2, 2, 0, 2, 0, 4, 2, 2, 4, 0, 4, 0, 4, 0, 2, 0, 0, 2, 2, 2, 2, 2, 2, 2, 3, 0, 0, 0, 4, 3, 4, 2, 2, 4, 0, 4, 0, 2, 2, 0, 0, 0, 3, 0, 0, 0, 0, 0, 0, 3, 2, 0, 0, 0, 0, 3, 0, 2, 2, 0, 2, 2, 4, 0, 0, 2, 4, 3, 2, 4, 0, 2, 0, 0, 3, 0, 0, 0, 4, 0, 0, 3, 0, 0, 0, 3, 2, 2, 4, 0, 0, 4, 0, 4, 2, 2, 0, 4, 0, 0, 2, 3, 0, 2, 4, 4, 0, 0, 0, 0, 0, 0, 0, 0, 4, 0, 2, 0, 0, 3, 3, 0, 0, 0, 0, 4, 2, 2, 2, 3, 0, 2, 0, 0, 0, 0, 0, 0, 0, 0, 0, 0, 0, 0, 0, 0, 0, 0, 0, 0, 0, 0, 0, 0, 0, 0, 0, 2, 0, 0, 0, 0, 0, 0, 0, 0, 0, 0, 0, 0, 0, 0, 0, 0, 0, 0, 0, 0, 0, 0, 0, 0, 0, 0, 0, 0, 0, 0, 0, 0, 0, 4, 0, 4, 2, 3, 0, 0, 0, 0, 0, 0, 3, 0, 0, 0, 0, 2, 0, 4, 0, 0, 2, 0, 0, 0, 4, 0, 4, 0, 2, 0, 0, 0, 0, 0, 2, 2, 0, 2, 0, 0, 0, 0, 0, 0, 0, 0, 0, 0, 0, 0, 0, 0, 0, 0, 2, 0, 0, 0, 0, 0, 0, 2, 4, 0, 0, 0, 0, 0, 2, 0, 0, 0, 2, 0, 2, 3, 2, 2, 0, 0, 0, 0, 0, 0, 0, 0, 2, 0, 0, 2, 0, 0, 2, 0, 0, 4, 0, 0, 0, 0, 0, 0, 0, 0, 0, 0, 0, 0, 4, 0, 4, 0, 0, 2, 4, 0, 2, 3, 3, 4, 2, 0, 0, 0, 2, 2, 0, 0, 2, 4, 0, 2, 0, 0, 0, 0, 0, 0, 0, 3, 2, 4, 0, 2, 2, 4, 0, 0, 0, 0, 0, 3, 0, 0, 4, 0, 0, 0, 0, 2, 0, 2, 4, 0, 0, 2, 0, 0, 2, 0, 0, 0, 4, 4, 0, 0, 0, 0, 0, 2, 0, 0, 0, 0, 0, 0, 3, 0, 4, 2, 0, 2, 2, 2, 3, 4, 0, 0, 0, 4, 0, 0, 0, 4, 0, 0, 0, 0, 0, 0, 0, 0, 0, 0, 0, 0, 2, 0, 3, 0, 2, 4, 4, 0, 0, 4, 0, 0, 0, 0, 2, 0, 0, 0, 0, 0, 0, 0, 2, 0, 0, 0, 0, 2, 0, 0, 0, 3, 2, 3, 0, 0, 2, 0, 0, 4, 2, 4, 2, 4, 0, 3, 2, 4, 4, 4, 0, 2, 0, 2, 0, 0, 0, 0, 0, 0, 2, 0, 2, 0, 3, 0, 0, 0, 0, 0, 0, 0, 4, 3, 4, 0, 0, 0, 0, 0, 0, 2, 4, 0, 2, 2, 0, 0, 3, 3, 0, 0, 0, 0, 2, 0, 0, 4, 2, 0, 4, 0, 0, 3, 0, 0, 0, 4, 2, 0, 3, 2, 0, 0, 0, 0, 3, 0, 0, 0, 0, 0, 0, 4, 0, 0, 2, 4, 2, 2, 3, 2, 0, 0, 0, 0, 0, 2, 0, 0, 0, 3, 0, 4, 0, 2, 2, 2, 3, 4, 2, 2, 3, 4, 0, 0, 0, 0, 2, 0, 2, 0, 3, 0, 0, 0, 0, 2, 0, 0, 0, 0, 0, 2, 2, 2, 0, 0, 0, 2, 0, 4, 0, 0, 0, 2, 2, 2, 0, 0, 0, 0, 0, 3, 4, 0, 0, 2, 0, 0, 4, 0, 2, 2, 0, 0, 0, 0, 3, 0, 0, 2, 0, 0, 0, 0, 0, 0, 0, 3, 0, 0, 2, 2, 0, 0, 2, 4, 0, 0, 0, 0, 0, 2, 2, 2, 0, 0, 0, 4, 0, 0, 2, 2, 0, 0, 2, 2, 0, 0, 4, 0, 0, 0, 2, 0, 2, 0, 0, 0, 2, 0, 2, 0, 0, 3, 2, 0, 0, 3, 0, 4, 4, 0, 0, 0, 2, 0, 2, 4, 0, 4, 4, 0, 0, 4, 0, 0, 0, 3, 0, 0, 0, 2, 0, 2, 4, 0, 3, 0, 4, 4, 0, 0, 0, 4, 0, 0, 0, 0, 0, 4, 4, 0, 0, 0, 4, 0, 2, 3, 0, 2, 2, 2, 0, 0, 0, 2, 3, 3, 0, 2, 0, 0, 0, 0, 2, 0, 4, 2, 0, 0, 0, 0, 0, 0, 0, 0, 0, 0, 2, 0, 0, 3, 0, 0, 2, 0, 0, 0, 0, 0, 0, 0, 0, 4, 0, 0, 0, 0, 4, 4, 0, 0, 0, 0, 3, 4, 4, 4, 2, 0, 0, 0, 0, 0, 0, 0, 4, 0, 0, 0, 2, 0, 2, 0, 2, 2, 0, 0, 0, 0, 0, 0, 0, 0, 0, 0, 0, 0, 0, 3, 2, 2, 2, 0, 0, 0, 0, 0, 0, 0, 4, 3, 2, 2, 4, 0, 3, 0, 2, 0, 0, 0, 0, 0, 0, 4, 0, 4, 0, 2, 4, 4, 0, 3, 0, 0, 0, 0, 0, 0, 0, 0, 0, 0, 0, 0, 4, 0, 4, 0, 0, 0, 0, 0, 0, 2, 3, 0, 0, 0, 3, 0, 4, 3, 2, 0, 2, 0, 2, 0, 3, 4, 0, 0, 0, 4, 2, 4, 3, 0, 2, 2, 2, 2, 2, 0, 0, 3, 0, 0, 4, 4, 0, 0, 4, 4, 0, 0, 0, 3, 0, 0, 0, 0, 4, 0, 0, 2, 0, 0, 0, 0, 0, 0, 0, 0, 0, 2, 0, 0, 0, 0, 0, 0, 0, 2, 0, 3, 0, 0, 3, 0, 0, 2, 0, 0, 0, 2, 0, 0, 0, 2, 0, 0, 4, 0, 0, 0, 4, 0, 4, 0, 0, 0, 0, 2, 4, 0, 0, 0, 2, 0, 0, 0, 2, 0, 4, 2, 2, 0, 2, 2, 0, 3, 2, 4, 0, 2, 3, 2, 0, 0, 0, 0, 0, 4, 0, 4, 4, 0, 0, 4, 3, 0, 0, 2, 2, 2, 3, 0, 2, 2, 3, 2, 4, 3, 4, 0, 0, 2, 2, 0, 2, 0, 0, 2, 0, 2, 0, 2, 0, 0, 0, 0, 0, 0, 0, 0, 0, 2, 2, 2, 0, 0, 0, 0, 0, 0, 0, 0, 0, 0, 2, 2, 4, 0, 0, 0, 0, 0, 4, 0, 0, 2, 4, 0, 2, 3, 4, 2, 3, 3, 2, 0, 4, 0, 0, 4, 2, 4, 0, 0, 0, 0, 2, 3, 3, 0, 4, 2, 2, 0, 0, 4, 0, 2, 4, 0, 3, 2, 0, 2, 0, 0, 0, 2, 4, 4, 3, 0, 0, 0, 0, 0, 0, 0, 2, 3, 0, 0, 0, 2, 3, 0, 0, 0, 4, 0, 2, 0, 4, 2, 2, 0, 2, 0, 0, 0, 2, 0, 2, 3, 0, 0, 2, 0, 3, 0, 0, 0, 0, 0, 3, 0, 2, 0, 0, 0, 0, 0, 0, 0, 0, 0, 0, 2, 0, 3, 0, 0, 0, 0, 0, 2, 0, 0, 0, 2, 2, 0, 2, 0, 0, 0, 0, 0, 0, 0, 0, 3, 0, 0, 0, 3, 0, 2, 0, 0, 4, 0, 0, 0, 0, 0, 0, 0, 0, 2, 0, 0, 0, 0, 0, 0, 0, 2, 0, 0, 3, 2, 0, 0, 0, 2, 4, 0, 4, 2, 0, 3, 4, 0, 0, 2, 0, 4, 0, 0, 2, 2, 2, 0, 2, 3, 0, 2, 0, 0, 0, 0, 0, 2, 2, 0, 2, 0, 2, 3, 4, 2, 3, 0, 0, 4, 0, 3, 0, 0, 4, 0, 2, 4, 0, 0, 4, 0, 0, 4, 0, 4, 0, 0, 2, 0, 2, 4, 0, 2, 2, 0, 0, 0, 0, 0, 4, 4, 4, 4, 4, 0, 4, 0, 0, 0, 0, 2, 3, 2, 2, 2, 0, 2, 2, 0, 2, 0, 2, 3, 4, 2, 4, 4, 4, 0, 0, 3, 0, 0, 4, 0, 0, 0, 2, 4, 4, 2, 2, 0, 0, 0, 4, 4, 0, 3, 2, 0, 2, 0, 0, 0, 0, 0, 0, 0, 0, 0, 0, 0, 4, 4, 0, 2, 0, 3, 0, 0, 0, 0, 4, 0, 0, 0, 2, 0, 0, 0, 0, 2, 4, 4, 2, 0, 4, 0, 0, 3, 0, 0, 0, 0, 0, 0, 2, 0, 0, 2, 4, 0, 0, 0, 0, 0, 0, 0, 0, 2, 0, 2, 0, 0, 0, 0, 0, 0, 0, 4, 0, 0, 0, 3, 2, 0, 0, 4, 0, 0, 4, 2, 0, 2, 2, 4, 0, 4, 4, 4, 0, 3, 0, 0, 3, 4, 0, 0, 0, 0, 4, 2, 0, 4, 0, 0, 0, 2, 0, 0, 0, 0, 3, 0, 0, 0, 4, 0, 0, 0, 0, 0, 0, 0, 0, 0, 0, 0, 4, 4, 0, 0, 0, 0, 0, 0, 4, 4, 2, 0, 0, 0, 2, 0, 0, 0, 0, 4, 0, 0, 0, 4, 0, 4, 4, 0, 2, 2, 0, 0, 0, 0, 0, 0, 0, 0, 2, 0, 4, 4, 0, 0, 3, 0, 2, 4, 2, 4, 3, 4, 2, 2, 0, 0, 2, 0, 3, 3, 0, 3, 0, 0, 0, 2, 3, 3, 0, 4, 2, 3, 0, 0, 3, 4, 0, 3, 0, 0, 0, 0, 3, 0, 0, 0, 0, 0, 0, 3, 0, 2, 0, 0, 0, 0, 0, 0, 0, 4, 2, 0, 0, 0, 4, 0, 0, 0, 0, 0, 0, 0, 2, 0, 0, 2, 2, 0, 4, 0, 0, 4, 0, 0, 0, 0, 2, 0, 2, 0, 3, 4, 2, 0, 4, 0, 0, 0, 0, 0, 0, 3, 2, 0, 0, 0, 0, 4, 0, 3, 4, 0, 0, 2, 0, 4, 0, 0, 0, 2, 2, 2, 0, 0, 0, 0, 0, 0, 0, 0, 0, 0, 0, 4, 4, 0, 0, 0, 0, 0, 0, 0, 0, 0, 4, 0, 0, 0, 2, 2, 0, 0, 0, 0, 0, 0, 3, 0, 0, 0, 2, 0, 2, 0, 0, 0, 0, 0, 2, 3, 4, 2, 0, 0, 0, 0, 2, 2, 2, 2, 4, 0, 2, 0, 0, 0, 0, 2, 0, 0, 2, 2, 0, 0, 2, 0, 4, 0, 0, 0, 4, 0, 0, 0, 0, 2, 0, 0, 0, 0, 0, 0, 3, 0, 2, 4, 0, 0, 0, 0, 4, 2, 0, 0, 0, 0, 0, 0, 0, 0, 0, 0, 4, 0, 0, 0, 0, 2, 0, 0, 3, 0, 0, 0, 0, 0, 0, 0, 0, 2, 0, 3, 2, 4, 0, 2, 2, 0, 0, 4, 0, 0, 0, 0, 0, 0, 0, 0, 0, 0, 0, 0, 4, 0, 2, 2, 0, 0, 0, 0, 0, 0, 0, 0, 0, 4, 0, 0, 0, 0, 0, 0, 2, 2, 2, 2, 2, 3, 0, 0, 2, 2, 2, 3, 0, 0, 2, 0, 0, 0, 0, 4, 3, 0, 2, 3, 2, 2, 0, 0, 0, 0, 0, 0, 0, 0, 0, 0, 2, 0, 2, 3, 0, 0, 0, 4, 0, 0, 0, 0, 2, 4, 2, 2, 3, 0, 0, 0, 0, 3, 2, 0, 0, 4, 0, 0, 0, 0, 0, 0, 0, 0, 0, 0, 0, 0, 3, 0, 0, 0, 0, 0, 0, 0, 0, 0, 0, 0, 0, 0, 0, 0, 0, 0, 0, 0, 0, 0, 0, 3, 0, 2, 0, 4, 3, 0, 0, 2, 4, 0, 0, 3, 0, 2, 0, 0, 4, 0, 0, 0, 0, 0, 0, 4, 0, 0, 0, 4, 4, 4, 0, 3, 0, 2, 0, 0, 4, 0, 0, 2, 0, 0, 0, 2, 3, 4, 4, 3, 2, 0, 0, 0, 0, 0, 0, 0, 0, 4, 0, 0, 0, 0, 0, 0, 0, 2, 0, 2, 0, 2, 0, 4, 4, 0, 3, 0, 0, 0, 4, 4, 0, 0, 2, 0, 4, 0, 0, 0, 0, 0, 4, 4, 0, 0, 0, 0, 0, 0, 4, 0, 2, 3, 0, 4, 2, 0, 0, 0, 0, 0, 0, 2, 4, 4, 0, 0, 0, 3, 0, 4, 0, 2, 0, 0, 2, 2, 2, 0, 0, 0, 0, 0, 0, 0, 0, 4, 2, 0, 4, 2, 4, 0, 4, 3, 2, 0, 0, 0, 0, 0, 0, 0, 0, 0, 0, 0, 0, 0, 2, 2, 0, 0, 2, 0, 0, 0, 0, 0, 0, 2, 4, 0, 2, 0, 3, 0, 0, 0, 0, 0, 0, 0, 0, 2, 0, 3, 0, 0, 0, 0, 0, 2, 0, 4, 4, 2, 2, 4, 0, 0, 2, 2, 0, 0, 2, 3, 3, 0, 0, 0, 0, 4, 2, 2, 0, 4, 0, 0, 0, 0, 0, 0, 0, 4, 4, 0, 0, 0, 2, 3, 3, 0, 4, 4, 3, 0, 2, 0, 0, 4, 0, 4, 0, 0, 4, 4, 2, 3, 4, 0, 2, 4, 0, 4, 0, 3, 0, 3, 0, 0, 0, 0, 2, 2, 0, 0, 4, 3, 3, 0, 0, 0, 0, 4, 4, 4, 0, 0, 0, 0, 2, 0, 2, 4, 4, 0, 2, 0, 0, 3, 0, 2, 2, 4, 2, 0, 2, 0, 0, 0, 0, 2, 0, 2, 0, 0, 0, 0, 0, 2, 0, 2, 0, 0, 0, 0, 0, 0, 2, 0, 0, 4, 0, 0, 2, 0, 0, 0, 0, 4, 0, 2, 0, 0, 0, 0, 0, 3, 2, 0, 2, 2, 0, 0, 0, 2, 0, 0, 0, 3, 0, 0, 2, 0, 0, 0, 0, 0, 0, 0, 3, 2, 2, 4, 0, 0, 0, 0, 0, 0, 0, 2, 0, 3, 0, 0, 0, 4, 2, 2, 0, 3, 2, 4, 0, 0, 3, 2, 0, 2, 2, 4, 0, 0, 0, 0, 0, 0, 0, 4, 3, 0, 0, 2, 0, 0, 0, 0, 0, 0, 2, 0, 0, 0, 0, 4, 3, 0, 0, 2, 0, 0, 4, 0, 3, 0, 2, 0, 0, 2, 2, 0, 0, 2, 2, 4, 0, 0, 0, 0, 0, 0, 2, 0, 4, 0, 2, 2, 0, 0, 0, 0, 0, 4, 0, 3, 0, 4, 4, 2, 0, 0, 0, 0, 4, 0, 3, 2, 0, 4, 4, 0, 2, 0, 4, 0, 0, 0, 0, 2, 0, 0, 2, 0, 0, 0, 0, 0, 0, 0, 0, 4, 0, 4, 4, 0, 0, 0, 0, 0, 0, 0, 0, 0, 0, 4, 2, 0, 0, 0, 0, 0, 0, 4, 0, 0, 0, 2, 0, 4, 3, 0, 4, 4, 3, 0, 0, 2, 0, 0, 2, 0, 0, 0, 0, 0, 0, 0, 0, 0, 2, 0, 2, 3, 0, 0, 0, 2, 2, 0, 0, 0, 0, 4, 2, 0, 0, 4, 0, 0, 3, 0, 0, 4, 0, 2, 0, 0, 0, 3, 0, 4, 2, 4, 3, 2, 0, 0, 2, 0, 0, 2, 0, 2, 2, 0, 4, 2, 0, 2, 0, 4, 4, 3, 0, 4, 0, 2, 2, 0, 0, 3, 2, 0, 0, 2, 4, 0, 4, 4, 4, 2, 0, 0, 0, 0, 0, 0, 3, 2, 2, 0, 2, 0, 2, 2, 3, 0, 0, 4, 4, 0, 0, 0, 0, 0, 4, 0, 0, 0, 2, 0, 0, 0, 4, 0, 0, 4, 2, 0, 0, 0, 2, 0, 4, 0, 4, 2, 3, 0, 0, 3, 4, 0, 0, 0, 0, 0, 0, 4, 2, 0, 4, 0, 0, 0, 0, 0, 2, 0, 0, 0, 2, 0, 0, 0, 0, 3, 0, 4, 0, 0, 0, 0, 2, 0, 0, 0, 4, 4, 3, 3, 2, 4, 4, 0, 2, 0, 0, 0, 0, 0, 4, 0, 2, 0, 0, 0, 3, 2, 4, 0, 4, 0, 0, 0, 0, 0, 3, 0, 4, 4, 4, 0, 2, 4, 3, 3, 0, 2, 3, 4, 2, 2, 2, 2, 0, 2, 4, 2, 0, 2, 3, 4, 0, 0, 2, 0, 0, 0, 0, 0, 0, 3, 0, 4, 2, 0, 0, 0, 0, 0, 0, 2, 2, 0, 0, 2, 2, 3, 2, 0, 0, 0, 0, 3, 0, 0, 0, 0, 0, 0, 0, 0, 0, 4, 0, 4, 0, 2, 4, 0, 4, 0, 4, 0, 0, 0, 4, 0, 4, 2, 2, 0, 2, 0, 0, 0, 0, 0, 0, 0, 0, 0, 0, 2, 0, 0, 2, 2, 0, 0, 0, 2, 0, 0, 0, 0, 0, 0, 0, 0, 0, 4, 0, 0, 0, 4, 0, 0, 0, 0, 0, 0, 0, 2, 2, 2, 0, 2, 0, 4, 4, 0, 2, 0, 0, 2, 2, 3, 4, 2, 2, 2, 0, 0, 0, 2, 2, 0, 0, 0, 0, 0, 0, 0, 0, 0, 3, 0, 0, 0, 4, 0, 0, 3, 0, 0, 0, 0, 3, 4, 0, 2, 0, 0, 4, 0, 3, 0, 2, 0, 0, 2, 0, 0, 0, 3, 0, 2, 0, 3, 2, 2, 2, 2, 2, 3, 0, 4, 4, 0, 3, 0, 0, 0, 2, 0, 0, 4, 0, 2, 4, 0, 2, 0, 4, 2, 0, 0, 0, 2, 3, 0, 0, 2, 3, 0, 0, 2, 2, 2, 3, 0, 2, 2, 0, 0, 4, 0, 3, 0, 0, 2, 0, 0, 3, 4, 2, 0, 0, 0, 0, 0, 0, 0, 0, 0, 0, 3, 0, 0, 4, 0, 2, 0, 3, 2, 0, 0, 0, 0, 0, 4, 0, 0, 0, 0, 2, 0, 0, 0, 0, 0, 0, 0, 0, 0, 0, 0, 0, 0, 0, 4, 2, 0, 3, 3, 0, 4, 2, 0, 4, 3, 4, 0, 4, 2, 0, 0, 3, 0, 2, 2, 4, 3, 0, 0, 0, 0, 0, 0, 4, 0, 4, 2, 0, 0, 2, 0, 0, 0, 0, 0, 2, 4, 4, 0, 0, 0, 0, 0, 0, 0, 0, 2, 4, 4, 0, 0, 0, 2, 3, 0, 0, 2, 2, 0, 4, 0, 2, 2, 0, 0, 3, 4, 4, 2, 0, 0, 0, 0, 3, 0, 0, 0, 0, 0, 0, 0, 0, 0, 0, 0, 3, 3, 4, 2, 4, 0, 0, 4, 0, 0, 2, 2, 3, 0, 0, 0, 2, 0, 0, 0, 0, 0, 0, 0, 0, 0, 3, 2, 0, 3, 2, 0, 0, 3, 0, 0, 0, 0, 0, 3, 0, 0, 4, 0, 0, 3, 4, 0, 0, 0, 0, 0, 0, 0, 0, 0, 0, 0, 0, 0, 0, 0, 0, 0, 0, 0, 0, 4, 0, 4, 0, 0, 0, 0, 2, 0, 0, 0, 0, 2, 4, 4, 0, 4, 0, 4, 0, 0, 0, 4, 0, 4, 0, 0, 0, 0, 2, 2, 2, 4, 0, 3, 3, 0, 0, 3, 0, 0, 0, 0, 3, 3, 0, 0, 0, 0, 0, 2, 3, 0, 0, 3, 0, 3, 0, 0, 0, 0, 2, 2, 0, 0, 3, 0, 0, 0, 0, 0, 0, 0, 0, 0, 4, 0, 0, 0, 0, 2, 0, 4, 4, 0, 0, 2, 3, 2, 0, 0, 2, 2, 0, 4, 2, 4, 0, 0, 0, 0, 0, 0, 2, 4, 0, 4, 0, 0, 0, 0, 0, 0, 0, 2, 2, 0, 0, 0, 2, 0, 3, 2, 0, 0, 4, 2, 0, 2, 0, 2, 0, 2, 2, 4, 4, 0, 3, 0, 3, 3, 4, 0, 0, 0, 2, 0, 0, 0, 0, 4, 4, 0, 0, 0, 4, 0, 0, 0, 3, 0, 0, 0, 0, 0, 4, 0, 2, 3, 0, 0, 0, 0, 0, 0, 0, 0, 0, 0, 0, 2, 2, 4, 0, 0, 0, 2, 2, 4, 0, 2, 2, 3, 2, 4, 4, 0, 0, 4, 0, 4, 0, 0, 4, 3, 4, 0, 0, 0, 0, 4, 0, 0, 0, 0, 3, 0, 0, 4, 0, 2, 0, 3, 0, 0, 0, 2, 0, 3, 4, 4, 0, 0, 0, 0, 4, 0, 0, 0, 3, 3, 0, 3, 2, 4, 4, 0, 2, 2, 0, 0, 2, 3, 2, 0, 0, 4, 4, 4, 2, 0, 0, 0, 0, 0, 4, 3, 2, 0, 2, 0, 0, 0, 0, 0, 0, 0, 0, 0, 0, 2, 0, 2, 0, 0, 4, 0, 0, 4, 0, 0, 2, 2, 2, 0, 0, 2, 0, 0, 0, 4, 0, 0, 0, 0, 0, 4, 0, 0, 0, 0, 4, 0, 0, 2, 4, 2, 0, 0, 0, 0, 0, 3, 0, 3, 0, 2, 0, 2, 0, 0, 3, 0, 0, 0, 0, 0, 2, 4, 0, 2, 0, 0, 0, 4, 0, 2, 0, 4, 0, 0, 0, 0, 4, 0, 0, 0, 4, 0, 4, 0, 0, 0, 0, 0, 0, 4, 4, 4, 3, 4, 2, 2, 4, 0, 0, 3, 4, 4, 0, 2, 2, 0, 0, 0, 0, 0, 2, 0, 4, 4, 0, 0, 0, 0, 4, 2, 4, 3, 3, 0, 3, 0, 0, 0, 0, 2, 0, 4, 0, 2, 2, 2, 4, 0, 3, 0, 2, 0, 2, 0, 2, 3, 4, 0, 0, 4, 0, 2, 2, 2, 0, 0, 0, 0, 2, 0, 4, 2, 0, 0, 0, 2, 0, 2, 3, 4, 0, 0, 0, 3, 0, 0, 0, 2, 3, 2, 0, 4, 0, 0, 0, 2, 0, 0, 2, 4, 0, 0, 0, 2, 0, 0, 0, 2, 3, 4, 4, 0, 0, 4, 0, 0, 0, 0, 0, 0, 0, 2, 0, 3, 0, 0, 0, 0, 3, 4, 0, 4, 2, 3, 0, 0, 0, 4, 0, 0, 2, 0, 0, 2, 2, 4, 0, 0, 2, 4, 4, 3, 0, 4, 3, 0, 0, 2, 2, 4, 0, 0, 4, 0, 2, 2, 2, 0, 0, 4, 0, 0, 0, 0, 0, 0, 0, 0, 0, 0, 0, 2, 0, 2, 4, 0, 4, 2, 3, 0, 3, 0, 0, 4, 0, 0, 3, 3, 0, 2, 2, 0, 0, 0, 0, 2, 0, 4, 0, 4, 2, 0, 2, 0, 3, 0, 4, 2, 4, 3, 0, 0, 0, 0, 0, 2, 2, 0, 0, 0, 2, 0, 4, 0, 0, 0, 4, 0, 0, 0, 0, 2, 4, 0, 0, 4, 0, 0, 0, 0, 2, 4, 3, 0, 0, 0, 0, 0, 2, 4, 2, 2, 0, 4, 0, 4, 0, 0, 0, 0, 0, 0, 0, 0, 4, 0, 2, 4, 0, 0, 0, 0, 0, 0, 0, 0, 0, 0, 2, 0, 2, 3, 2, 3, 4, 0, 0, 0, 0, 0, 0, 0, 0, 4, 4, 0, 0, 0, 0, 2, 4, 3, 0, 0, 4, 2, 0, 4, 0, 0, 0, 2, 2, 2, 0, 2, 4, 2, 4, 3, 0, 3, 3, 3, 0, 0, 2, 0, 0, 0, 3, 2, 0, 2, 2, 0, 3, 0, 0, 0, 0, 0, 0, 4, 4, 2, 0, 0, 0, 2, 2, 0, 2, 2, 0, 0, 0, 2, 3, 3, 3, 0, 0, 2, 4, 0, 2, 0, 4, 0, 2, 0, 0, 0, 2, 0, 0, 0, 3, 2, 4, 0, 0, 0, 0, 0, 0, 0, 0, 3, 0, 0, 2, 0, 4, 0, 2, 0, 0, 0, 0, 4, 3, 4, 2, 0, 0, 0, 0, 3, 0, 4, 2, 0, 3, 2, 2, 3, 4, 0, 4, 0, 4, 2, 0, 0, 0, 0, 4, 0, 0, 0, 0, 0, 0, 3, 2, 0, 0, 0, 0, 2, 0, 0, 0, 0, 0, 0, 0, 2, 0, 0, 0, 4, 2, 2, 4, 0, 0, 0, 2, 3, 0, 0, 4, 2, 0, 0, 3, 0, 0, 0, 0, 0, 4, 4, 4, 0, 2, 2, 3, 0, 0, 0, 0, 0, 4, 0, 2, 2, 2, 0, 0, 2, 0, 0, 0, 2, 4, 4, 0, 4, 2, 2, 3, 0, 2, 4, 2, 3, 0, 4, 0, 4, 4, 0, 2, 2, 4, 4, 2, 2, 4, 2, 3, 0, 0, 0, 2, 2, 0, 0, 2, 0, 0, 0, 0, 0, 0, 4, 0, 2, 3, 0, 3, 0, 0, 4, 4, 4, 0, 4, 4, 0, 0, 4, 0, 0, 0, 0, 0, 2, 3, 0, 4, 0, 0, 0, 0, 0, 0, 0, 0, 0, 4, 0, 4, 0, 0, 4, 2, 0, 0, 0, 0, 0, 0, 2, 3, 0, 2, 4, 0, 0, 0, 0, 0, 0, 2, 2, 0, 0, 2, 0, 0, 0, 0, 4, 0, 0, 0, 0, 3, 2, 0, 4, 2, 0, 0, 3, 2, 4, 2, 0, 0, 4, 4, 0, 0, 0, 0, 0, 0, 0, 3, 0, 0, 0, 0, 4, 4, 0, 0, 0, 0, 0, 0, 0, 0, 0, 0, 0, 0, 0, 0, 0, 0, 0, 0, 0, 0, 0, 0, 0, 0, 0, 2, 0, 4, 4, 0, 0, 2, 3, 0, 0, 0, 2, 0, 0, 0, 2, 0, 0, 0, 2, 3, 0, 4, 0, 0, 0, 0, 4, 0, 0, 2, 2, 4, 0, 0, 0, 4, 3, 0, 0, 0, 4, 4, 0, 0, 0, 2, 3, 0, 0, 3, 4, 4, 4, 4, 0, 0, 0, 4, 0, 2, 0, 0, 0, 3, 0, 4, 0, 2, 0, 2, 0, 2, 0, 0, 4, 0, 3, 0, 0, 0, 3, 2, 3, 4, 4, 3, 3, 3, 0, 4, 2, 3, 4, 0, 0, 0, 0, 0, 0, 0, 0, 0, 0, 0, 0, 0, 0, 0, 0, 0, 0, 0, 0, 0, 2, 0, 0, 0, 0, 0, 0, 0, 0, 0, 0, 2, 2, 2, 4, 0, 0, 2, 4, 0, 0, 2, 2, 0, 0, 3, 0, 3, 0, 0, 2, 0, 0, 0, 0, 0, 2, 0, 2, 0, 0, 0, 2, 0, 0, 0, 0, 0, 0, 0, 3, 0, 0, 0, 0, 0, 2, 4, 0, 0, 0, 0, 0, 0, 0, 0, 0, 0, 2, 0, 0, 0, 0, 4, 3, 0, 4, 0, 4, 2, 4, 4, 0, 0, 0, 0, 0, 0, 4, 0, 0, 2, 0, 2, 0, 0, 0, 0, 0, 0, 0, 0, 0, 0, 0, 0, 2, 0, 0, 2, 0, 0, 2, 2, 3, 4, 2, 4, 4, 0, 0, 0, 0, 0, 2, 0, 2, 2, 0, 0, 0, 0, 4, 0, 4, 2, 3, 3, 0, 0, 0, 0, 0, 0, 0, 0, 0, 0, 2, 3, 0, 3, 2, 0, 0, 2, 2, 4, 0, 0, 4, 4, 2, 2, 2, 4, 0, 2, 4, 0, 0, 0, 0, 0, 0, 0, 0, 0, 0, 0, 0, 3, 4, 0, 0, 3, 0, 0, 2, 0, 0, 0, 2, 0, 4, 0, 2, 4, 0, 0, 0, 0, 0, 3, 0, 0, 2, 0, 0, 0, 0, 4, 0, 0, 0, 0, 0, 0, 0, 0, 0, 0, 0, 0, 0, 0, 0, 0, 0, 0, 4, 0, 0, 0, 0, 0, 0, 3, 4, 0, 4, 2, 0, 0, 4, 0, 0, 0, 3, 0, 0, 0, 0, 0, 4, 0, 0, 0, 0, 0, 0, 0, 0, 0, 0, 0, 0, 0, 0, 2, 0, 3, 0, 3, 0, 3, 0, 0, 3, 0, 0, 0, 0, 0, 0, 3, 0, 0, 2, 3, 0, 0, 0, 0, 0, 3, 4, 0, 0, 4, 0, 0, 0, 4, 0, 4, 0, 0, 0, 0, 0, 0, 0, 3, 0, 0, 0, 4, 0, 0, 4, 0, 0, 0, 0, 0, 0, 0, 0, 4, 2, 0, 0, 0, 2, 4, 0, 2, 0, 4, 0, 4, 4, 3, 4, 0, 0, 0, 0, 0, 0, 2, 0, 0, 0, 0, 0, 0, 2, 0, 0, 0, 0, 0, 0, 4, 0, 0, 0, 0, 3, 0, 0, 0, 0, 0, 2, 4, 0, 0, 0, 4, 0, 4, 0, 2, 3, 0, 0, 2, 2, 2, 0, 2, 0, 0, 0, 0, 0, 2, 2, 0, 0, 0, 0, 0, 0, 0, 3, 2, 2, 0, 0, 2, 2, 4, 4, 4, 3, 4, 4, 2, 2, 0, 2, 4, 2, 0, 0, 0, 0, 0, 2, 0, 0, 2, 2, 4, 0, 4, 2, 2, 4, 0, 0, 4, 2, 0, 3, 3, 2, 0, 2, 0, 0, 0, 3, 2, 2, 0, 0, 2, 3, 0, 0, 0, 0, 4, 0, 0, 3, 2, 4, 3, 0, 0, 0, 2, 0, 0, 0, 0, 0, 0, 0, 4, 4, 2, 0, 0, 0, 0, 0, 0, 0, 0, 4, 0, 2, 0, 0, 3, 0, 0, 2, 0, 4, 0, 0, 0, 4, 0, 3, 0, 0, 4, 0, 0, 0, 0, 0, 0, 2, 0, 0, 4, 0, 0, 4, 0, 3, 0, 4, 0, 2, 2, 0, 0, 0, 0, 2, 4, 4, 2, 0, 4, 0, 4, 4, 0, 0, 4, 2, 0, 3, 0, 2, 3, 0, 0, 0, 4, 0, 0, 0, 0, 0, 0, 4, 2, 0, 0, 0, 3, 4, 4, 0, 0, 0, 0, 0, 2, 2, 0, 0, 4, 0, 0, 3, 0, 0, 0, 4, 0, 0, 0, 0, 2, 0, 0, 4, 2, 0, 3, 4, 2, 2, 2, 4, 0, 2, 0, 3, 0, 0, 2, 0, 3, 2, 2, 0, 4, 2, 4, 0, 2, 0, 0, 3, 0, 0, 2, 4, 0, 4, 2, 2, 2, 3, 0, 4, 4, 4, 0, 3, 2, 0, 0, 0, 0, 2, 0, 3, 2, 2, 2, 0, 4, 0, 4, 3, 0, 0, 2, 2, 2, 2, 0, 0, 3, 4, 0, 0, 4, 2, 0, 2, 0, 0, 0, 0, 0, 0, 0, 0, 0, 2, 2, 0, 3, 2, 3, 0, 0, 0, 0, 0, 0, 0, 4, 0, 0, 0, 0, 0, 4, 0, 0, 2, 2, 0, 0, 0, 0, 0, 0, 0, 2, 2, 0, 0, 2, 2, 0, 0, 4, 2, 0, 4, 0, 0, 0, 2, 0, 0, 2, 0, 0, 3, 4, 0, 0, 0, 0, 0, 0, 2, 3, 0, 0, 2, 0, 0, 0, 4, 2, 0, 3, 2, 4, 2, 0, 0, 0, 0, 0, 0, 4, 2, 2, 0, 4, 2, 4, 4, 2, 2, 0, 0, 4, 4, 0, 2, 0, 0, 0, 4, 0, 2, 0, 0, 0, 2, 0, 2, 3, 0, 0, 0, 0, 0, 0, 2, 0, 0, 2, 4, 3, 0, 2, 2, 0, 0, 3, 4, 0, 0, 2, 0, 0, 2, 0, 0, 4, 3, 4, 2, 0, 0, 0, 0, 0, 0, 0, 0, 0, 2, 2, 0, 0, 0, 0, 4, 0, 0, 0, 2, 0, 0, 0, 0, 0, 2, 0, 0, 0, 2, 3, 4, 0, 2, 0, 0, 3, 0, 2, 0, 0, 0, 0, 2, 0, 0, 0, 0, 0, 0, 0, 0, 2, 3, 4, 4, 0, 4, 2, 4, 2, 2, 0, 0, 2, 2, 0, 0, 0, 3, 0, 3, 0, 3, 0, 4, 0, 2, 2, 4, 0, 0, 2, 4, 0, 2, 4, 0, 4, 2, 0, 0, 3, 4, 0, 0, 0, 0, 0, 0, 0, 0, 4, 0, 4, 0, 0, 0, 3, 0, 3, 0, 0, 0, 0, 0, 2, 0, 0, 0, 0, 2, 2, 2, 2, 0, 2, 4, 3, 0, 0, 0, 2, 0, 0, 0, 3, 0, 4, 3, 0, 0, 2, 2, 0, 0, 0, 0, 0, 0, 0, 0, 3, 0, 4, 0, 0, 2, 0, 0, 0, 4, 0, 0, 0, 0, 0, 0, 0, 2, 0, 0, 3, 2, 0, 4, 3, 0, 0, 0, 0, 0, 0, 2, 2, 0, 0, 0, 0, 0, 0, 0, 3, 0, 0, 0, 2, 0, 3, 0, 0, 2, 0, 4, 2, 0, 4, 4, 0, 0, 3, 0, 4, 4, 0, 0, 3, 3, 0, 0, 2, 0, 2, 0, 0, 0, 0, 2, 0, 0, 0, 4, 0, 0, 4, 0, 0, 0, 0, 0, 2, 0, 0, 4, 4, 2, 2, 0, 0, 0, 2, 0, 0, 4, 0, 4, 0, 0, 2, 0, 2, 4, 0, 2, 0, 3, 0, 2, 0, 0, 4, 2, 3, 0, 2, 0, 4, 0, 0, 0, 0, 0, 0, 0, 0, 0, 0, 0, 0, 0, 2, 2, 0, 2, 0, 2, 0, 0, 3, 0, 0, 0, 2, 0, 4, 3, 2, 2, 2, 0, 0, 0, 0, 4, 4, 0, 2, 0, 0, 4, 0, 0, 0, 0, 0, 0, 0, 0, 2, 0, 0, 4, 0, 2, 0, 0, 0, 0, 0, 4, 2, 0, 0, 0, 0, 3, 2, 3, 2, 4, 4, 2, 2, 0, 0, 0, 0, 0, 0, 4, 0, 2, 0, 0, 2, 3, 4, 0, 0, 0, 0, 0, 2, 0, 0, 0, 0, 3, 0, 4, 0, 0, 0, 0, 4, 0, 0, 0, 4, 0, 0, 0, 0, 0, 0, 3, 0, 0, 3, 3, 0, 0, 0, 3, 0, 2, 3, 0, 0, 2, 0, 0, 0, 0, 0, 0, 0, 0, 0, 0, 4, 0, 0, 0, 0, 4, 0, 2, 0, 0, 0, 2, 0, 0, 2, 2, 4, 0, 0, 0, 0, 0, 0, 2, 3, 2, 3, 4, 0, 2, 4, 4, 3, 0, 2, 0, 0, 0, 0, 4, 2, 3, 0, 0, 4, 2, 0, 0, 2, 0, 2, 0, 0, 2, 4, 0, 0, 0, 3, 4, 0, 0, 0, 2, 0, 0, 0, 0, 0, 4, 3, 0, 4, 0, 0, 0, 3, 2, 2, 4, 2, 0, 0, 0, 0, 4, 0, 2, 4, 4, 0, 0, 0, 0, 0, 0, 3, 0, 0, 2, 3, 2, 2, 0, 2, 3, 3, 3, 0, 4, 3, 2, 0, 0, 0, 2, 3, 0, 0, 0, 0, 0, 4, 0, 0, 0, 0, 0, 0, 0, 0, 0, 0, 2, 0, 4, 0, 0, 4, 0, 0, 0, 0, 0, 0, 2, 4, 4, 2, 0, 0, 0, 0, 0, 0, 3, 0, 3, 0, 4, 0, 0, 2, 0, 0, 0, 0, 0, 0, 0, 4, 0, 0, 0, 4, 0, 3, 4, 2, 0, 0, 0, 0, 2, 0, 0, 0, 0, 0, 0, 0, 0, 0, 0, 0, 0, 2, 2, 2, 0, 0, 4, 0, 4, 3, 2, 0, 4, 0, 0, 0, 0, 0, 0, 0, 2, 0, 0, 0, 4, 0, 0, 0, 0, 0, 4, 2, 4, 2, 2, 0, 4, 4, 4, 0, 0, 2, 4, 4, 0, 0, 0, 0, 0, 4, 3, 0, 3, 2, 0, 2, 4, 2, 0, 2, 3, 0, 2, 4, 2, 0, 0, 0, 3, 2, 3, 2, 0, 0, 2, 0, 0, 0, 0, 0, 2, 0, 0, 2, 4, 0, 0, 0, 0, 0, 2, 0, 0, 0, 0, 3, 0, 0, 0, 0, 2, 0, 0, 3, 0, 0, 0, 4, 2, 2, 0, 2, 0, 0, 0, 0, 0, 0, 2, 0, 2, 0, 0, 4, 2, 2, 2, 2, 0, 0, 3, 2, 0, 0, 0, 4, 0, 0, 0, 0, 0, 0, 0, 0, 2, 3, 3, 4, 2, 0, 0, 0, 4, 2, 0, 4, 3, 0, 2, 0, 0, 0, 2, 0, 4, 0, 3, 0, 0, 4, 0, 0, 4, 2, 4, 0, 3, 2, 0, 0, 4, 0, 3, 0, 0, 0, 4, 4, 4, 2, 0, 2, 4, 0, 0, 0, 2, 0, 0, 0, 0, 0, 4, 0, 0, 0, 0, 0, 2, 4, 3, 3, 0, 3, 2, 4, 0, 0, 0, 4, 0, 0, 0, 4, 0, 0, 2, 0, 0, 2, 0, 0, 2, 0, 0, 3, 0, 0, 3, 4, 0, 2, 3, 0, 0, 2, 0, 3, 4, 0, 0, 0, 0, 0, 2, 0, 0, 0, 0, 0, 4, 0, 0, 0, 3, 0, 4, 0, 0, 0, 2, 0, 3, 0, 0, 0, 0, 0, 0, 0, 0, 0, 0, 2, 2, 0, 3, 0, 4, 2, 3, 0, 0, 0, 0, 0, 0, 0, 4, 0, 4, 4, 0, 0, 2, 4, 0, 2, 0, 0, 4, 4, 2, 2, 0, 0, 4, 0, 0, 0, 0, 0, 0, 0, 0, 0, 2, 0, 2, 4, 0, 0, 4, 0, 0, 0, 4, 4, 4, 4, 2, 0, 0, 3, 2, 0, 0, 0, 2, 0, 3, 0, 4, 0, 2, 4, 0, 2, 0, 3, 0, 2, 0, 2, 0, 0, 0, 0, 2, 0, 4, 0, 2, 0, 0, 4, 0, 4, 3, 0, 0, 0, 0, 2, 3, 0, 0, 0, 0, 0, 0, 0, 0, 0, 0, 4, 0, 2, 0, 0, 0, 2, 0, 0, 0, 0, 0, 0, 0, 0, 0, 0, 0, 0, 0, 0, 0, 4, 4, 0, 0, 0, 2, 2, 3, 2, 2, 2, 4, 2, 0, 2, 2, 0, 0, 4, 2, 4, 4, 0, 0, 0, 2, 0, 0, 0, 0, 0, 0, 0, 0, 3, 4, 2, 4, 0, 0, 2, 4, 0, 4, 0, 4, 3, 0, 2, 0, 2, 2, 2, 2, 2, 4, 0, 2, 0, 2, 2, 0, 0, 2, 0, 3, 4, 2, 3, 0, 2, 0, 0, 2, 0, 4, 0, 0, 0, 0, 0, 0, 0, 0, 0, 4, 0, 0, 0, 0, 0, 0, 0, 0, 0, 0, 4, 0, 0, 2, 0, 0, 3, 0, 0, 0, 0, 0, 0, 0, 3, 3, 0, 4, 2, 0, 0, 0, 3, 2, 0, 0, 0, 0, 0, 2, 0, 0, 2, 3, 2, 2, 2, 4, 2, 2, 3, 2, 2, 0, 0, 0, 0, 0, 2, 0, 0, 4, 3, 0, 0, 3, 2, 4, 0, 0, 4, 2, 3, 0, 0, 0, 2, 3, 2, 2, 3, 3, 0, 0, 4, 0, 0, 0, 0, 0, 0, 4, 3, 0, 2, 2, 0, 4, 0, 2, 2, 0, 4, 0, 0, 0, 2, 0, 3, 0, 0, 0, 0, 0, 0, 0, 2, 0, 4, 2, 0, 0, 0, 2, 0, 0, 0, 2, 4, 3, 3, 0, 0, 4, 0, 0, 4, 4, 0, 2, 0, 0, 3, 2, 0, 3, 2, 4, 0, 0, 3, 0, 3, 4, 0, 4, 0, 0, 2, 4, 0, 0, 2, 2, 2, 0, 0, 2, 0, 0, 0, 2, 3, 0, 0, 0, 0, 2, 4, 0, 3, 0, 0, 0, 0, 0, 0, 4, 0, 0, 0, 0, 0, 0, 3, 3, 0, 0, 2, 0, 0, 0, 0, 0, 0, 0, 0, 0, 0, 0, 0, 0, 0, 0, 0, 3, 0, 0, 0, 2, 0, 0, 0, 0, 0, 0, 0, 0, 0, 0, 0, 0, 0, 0, 0, 4, 0, 0, 0, 0, 0, 0, 4, 0, 0, 0, 4, 0, 0, 0, 0, 0, 0, 4, 0, 0, 0, 2, 2, 0, 0, 3, 0, 4, 0, 0, 0, 2, 0, 4, 3, 0, 0, 2, 0, 3, 2, 0, 2, 4, 0, 0, 0, 0, 0, 0, 3, 4, 2, 2, 2, 2, 0, 0, 4, 4, 2, 2, 0, 0, 0, 0, 0, 0, 2, 4, 2, 2, 2, 3, 0, 0, 4, 0, 2, 0, 0, 0, 0, 3, 2, 0, 0, 4, 0, 0, 3, 0, 2, 0, 0, 2, 2, 2, 0, 2, 4, 0, 0, 0, 0, 0, 3, 2, 0, 4, 3, 2, 0, 0, 0, 0, 0, 3, 3, 0, 0, 0, 0, 4, 0, 0, 4, 0, 2, 0, 0, 0, 0, 0, 2, 0, 2, 0, 4, 0, 2, 0, 0, 0, 0, 0, 0, 0, 0, 0, 0, 0, 0, 0, 3, 2, 0, 0, 0, 0, 4, 2, 0, 0, 0, 0, 0, 2, 0, 0, 0, 4, 0, 3, 0, 0, 0, 0, 0, 0, 0, 0, 0, 0, 0, 2, 0, 0, 0, 0, 0, 2, 0, 0, 3, 2, 0, 0, 0, 2, 0, 3, 2, 4, 2, 4, 4, 3, 3, 2, 4, 4, 0, 0, 0, 0, 4, 4, 2, 2, 2, 4, 2, 0, 4, 4, 4, 2, 2, 0, 2, 2, 2, 0, 3, 4, 0, 0, 2, 0, 3, 4, 0, 0, 0, 0, 0, 2, 0, 4, 0, 0, 0, 0, 4, 0, 0, 0, 0, 0, 2, 0, 2, 2, 0, 4, 0, 3, 0, 0, 0, 0, 2, 4, 0, 2, 0, 0, 2, 0, 0, 3, 0, 3, 2, 0, 0, 0, 0, 2, 3, 4, 0, 0, 3, 0, 0, 4, 0, 0, 4, 3, 0, 2, 0, 0, 0, 0, 0, 0, 0, 0, 0, 0, 2, 0, 4, 2, 4, 0, 2, 0, 4, 0, 4, 0, 2, 4, 3, 2, 2, 0, 0, 0, 0, 0, 2, 4, 0, 0, 0, 0, 0, 3, 4, 0, 0, 0, 4, 0, 0, 3, 0, 0, 4, 2, 0, 0, 4, 2, 0, 4, 0, 0, 0, 0, 4, 2, 0, 0, 0, 3, 0, 2, 0, 0, 0, 2, 0, 2, 0, 0, 0, 0, 0, 0, 2, 0, 0, 0, 0, 0, 0, 0, 2, 0, 0, 3, 0, 2, 0, 2, 4, 2, 0, 2, 0, 4, 2, 2, 4, 2, 0, 0, 2, 4, 0, 0, 0, 2, 0, 4, 2, 0, 3, 0, 0, 0, 2, 0, 0, 0, 0, 4, 0, 4, 0, 0, 0, 0, 0, 0, 0, 3, 0, 0, 0, 2, 4, 0, 2, 4, 0, 2, 0, 0, 4, 0, 2, 0, 2, 2, 2, 2, 0, 0, 3, 0, 2, 0, 0, 2, 3, 0, 0, 3, 0, 0, 0, 2, 0, 0, 3, 0, 4, 3, 0, 3, 4, 0, 0, 4, 0, 3, 0, 2, 3, 2, 2, 4, 0, 0, 0, 0, 2, 0, 2, 3, 0, 0, 2, 2, 4, 0, 0, 0, 2, 4, 4, 3, 0, 2, 2, 0, 2, 0, 0, 0, 0, 4, 4, 4, 0, 3, 2, 2, 0, 2, 4, 2, 0, 2, 2, 0, 0, 4, 4, 0, 2, 3, 2, 0, 0, 0, 0, 2, 2, 0, 4, 0, 0, 3, 3, 0, 2, 0, 2, 0, 0, 0, 0, 0, 0, 0, 0, 2, 4, 0, 0, 0, 0, 0, 2, 4, 0, 2, 0, 0, 0, 0, 0, 0, 2, 0, 0, 0, 2, 0, 2, 2, 0, 3, 3, 0, 0, 0, 0, 0, 0, 0, 3, 0, 0, 0, 3, 3, 0, 0, 2, 0, 0, 0, 0, 2, 4, 0, 0, 0, 4, 0, 0, 0, 0, 0, 0, 0, 0, 0, 2, 0, 3, 0, 3, 4, 0, 0, 2, 0, 2, 0, 0, 4, 0, 4, 0, 4, 0, 0, 3, 0, 0, 0, 0, 0, 0, 2, 0, 0, 2, 0, 4, 0, 0, 0, 0, 2, 0, 0, 0, 0, 0, 3, 2, 3, 2, 4, 3, 0, 0, 0, 0, 0, 0, 3, 3, 0, 0, 4, 0, 0, 0, 0, 2, 0, 0, 0, 0, 4, 3, 0, 0, 0, 0, 2, 3, 0, 2, 2, 2, 0, 0, 0, 2, 4, 0, 0, 0, 0, 2, 0, 2, 0, 0, 0, 0, 0, 0, 0, 0, 0, 3, 0, 0, 0, 0, 0, 0, 0, 0, 0, 0, 0, 0, 0, 0, 2, 0, 0, 2, 0, 0, 0, 0, 2, 3, 0, 0, 0, 0, 0, 0, 0, 0, 0, 0, 0, 0, 2, 4, 0, 0, 2, 4, 2, 0, 0, 3, 0, 2, 4, 4, 2, 2, 4, 0, 0, 2, 4, 2, 0, 0, 0, 0, 0, 0, 0, 0, 2, 0, 0, 2, 0, 3, 0, 2, 0, 0, 4, 0, 0, 4, 4, 0, 2, 4, 0, 4, 2, 4, 4, 0, 0, 2, 2, 0, 0, 0, 4, 2, 0, 4, 2, 0, 0, 0, 0, 0, 4, 0, 0, 0, 4, 3, 0, 0, 3, 0, 0, 2, 0, 3, 4, 4, 2, 4, 0, 2, 0, 0, 0, 2, 0, 0, 0, 4, 3, 4, 0, 0, 3, 2, 0, 3, 3, 0, 3, 4, 2, 0, 0, 0, 0, 0, 3, 0, 2, 0, 2, 2, 4, 0, 0, 0, 4, 0, 0, 4, 3, 0, 0, 0, 4, 4, 0, 0, 2, 0, 4, 0, 2, 0, 2, 2, 3, 0, 0, 2, 0, 3, 0, 0, 0, 0, 0, 4, 0, 0, 2, 0, 0, 0, 0, 0, 0, 2, 0, 0, 0, 2, 0, 4, 4, 4, 0, 4, 0, 0, 0, 0, 0, 2, 0, 0, 0, 0, 2, 3, 4, 4, 2, 0, 0, 4, 4, 2, 0, 0, 2, 0, 2, 2, 0, 0, 0, 2, 4, 3, 4, 2, 0, 2, 0, 0, 4, 0, 3, 2, 4, 0, 0, 0, 0, 0, 0, 2, 0, 2, 3, 0, 0, 2, 0, 0, 4, 3, 0, 4, 0, 0, 2, 0, 4, 0, 4, 0, 0, 0, 0, 0, 0, 2, 0, 2, 3, 2, 2, 4, 4, 0, 0, 0, 0, 2, 4, 2, 2, 2, 0, 0, 2, 3, 3, 4, 0, 0, 2, 0, 0, 0, 3, 4, 0, 2, 0, 4, 0, 2, 0, 0, 4, 2, 2, 0, 4, 0, 3, 0, 4, 4, 0, 0, 0, 0, 0, 4, 0, 4, 2, 3, 4, 3, 3, 0, 3, 0, 0, 0, 0, 3, 4, 3, 0, 4, 0, 0, 0, 4, 0, 0, 0, 0, 0, 0, 2, 0, 0, 0, 0, 0, 0, 0, 2, 0, 3, 4, 2, 2, 0, 2, 4, 0, 3, 2, 0, 0, 2, 4, 0, 0, 0, 0, 2, 0, 0, 4, 0, 0, 0, 4, 0, 4, 0, 0, 4, 0, 0, 2, 4, 0, 2, 0, 0, 0, 2, 0, 0, 0, 0, 0, 0, 0, 0, 0, 0, 0, 0, 0, 0, 0, 0, 4, 2, 2, 0, 0, 2, 0, 0, 2, 2, 0, 0, 0, 0, 0, 0, 2, 2, 2, 2, 2, 0, 3, 3, 4, 2, 0, 0, 0, 2, 0, 0, 0, 0, 0, 0, 0, 0, 0, 0, 0, 0, 0, 0, 0, 0, 0, 0, 0, 2, 0, 0, 0, 2, 4, 3, 4, 2, 2, 3, 0, 3, 0, 0, 3, 0, 2, 2, 0, 0, 3, 0, 0, 2, 0, 4, 0, 4, 2, 0, 0, 0, 0, 0, 4, 0, 3, 0, 0, 0, 0, 0, 0, 0, 0, 0, 0, 2, 0, 2, 3, 0, 0, 3, 0, 4, 0, 3, 0, 2, 0, 2, 0, 2, 0, 4, 2, 4, 0, 2, 0, 0, 0, 2, 0, 0, 0, 0, 4, 3, 0, 0, 0, 0, 3, 2, 0, 4, 2, 0, 4, 0, 0, 4, 0, 2, 0, 0, 0, 0, 3, 0, 0, 0, 0, 0, 3, 2, 2, 0, 0, 0, 0, 0, 0, 2, 0, 0, 0, 0, 0, 2, 0, 0, 4, 2, 3, 0, 4, 0, 3, 0, 0, 0, 0, 0, 0, 0, 0, 4, 0, 0, 0, 0, 0, 2, 0, 4, 0, 3, 3, 0, 4, 0, 0, 3, 0, 2, 0, 0, 2, 0, 4, 4, 4, 2, 0, 0, 0, 0, 0, 0, 0, 4, 0, 0, 0, 0, 0, 0, 0, 0, 0, 0, 0, 3, 3, 0, 2, 4, 0, 3, 0, 0, 2, 0, 0, 0, 2, 3, 4, 2, 4, 0, 2, 0, 3, 2, 4, 0, 2, 0, 3, 0, 0, 2, 4, 0, 4, 0, 0, 0, 0, 0, 0, 0, 4, 0, 0, 0, 0, 0, 4, 0, 0, 2, 0, 0, 0, 0, 0, 0, 0, 0, 0, 0, 4, 2, 0, 3, 0, 0, 0, 0, 0, 0, 0, 4, 2, 3, 0, 0, 0, 0, 0, 4, 0, 0, 0, 4, 0, 2, 0, 4, 0, 3, 0, 0, 0, 0, 0, 2, 4, 2, 0, 0, 4, 0, 4, 2, 0, 0, 0, 3, 0, 3, 0, 2, 0, 0, 0, 4, 0, 0, 0, 2, 0, 0, 0, 0, 0, 0, 0, 3, 0, 4, 0, 4, 0, 0, 0, 4, 0, 0, 0, 0, 0, 0, 0, 0, 0, 0, 0, 0, 4, 0, 0, 0, 4, 0, 0, 0, 0, 4, 2, 0, 3, 0, 2, 2, 0, 0, 0, 0, 0, 4, 0, 3, 0, 0, 0, 0, 0, 0, 3, 2, 2, 3, 0, 3, 3, 0, 0, 0, 0, 2, 2, 0, 0, 0, 3, 0, 4, 0, 0, 0, 0, 0, 2, 2, 4, 0, 2, 2, 4, 4, 3, 4, 4, 2, 0, 2, 0, 0, 0, 0, 0, 0, 0, 0, 0, 4, 0, 0, 2, 3, 2, 0, 0, 0, 0, 0, 2, 3, 0, 3, 0, 3, 0, 0, 4, 2, 3, 3, 0, 0, 0, 0, 0, 0, 0, 0, 0, 0, 0, 0, 0, 0, 0, 0, 0, 0, 0, 4, 0, 0, 2, 0, 0, 0, 0, 0, 2, 0, 3, 0, 0, 4, 0, 0, 4, 0, 4, 0, 0, 4, 0, 0, 0, 0, 0, 4, 2, 0, 0, 0, 0, 0, 0, 2, 2, 4, 0, 0, 3, 4, 2, 2, 2, 0, 0, 0, 0, 0, 2, 4, 0, 0, 0, 2, 2, 0, 4, 0, 0, 0, 0, 2, 0, 2, 3, 0, 4, 0, 3, 4, 0, 0, 0, 0, 0, 0, 0, 2, 0, 0, 0, 0, 2, 0, 0, 0, 2, 0, 0, 4, 0, 0, 0, 3, 0, 0, 3, 0, 0, 4, 0, 0, 0, 4, 0, 0, 4, 0, 0, 0, 4, 0, 0, 0, 2, 0, 0, 3, 0, 2, 4, 0, 2, 4, 4, 0, 0, 0, 0, 2, 2, 2, 2, 0, 2, 2, 3, 4, 3, 0, 0, 0, 0, 0, 0, 0, 0, 0, 0, 0, 0, 0, 4, 0, 3, 0, 0, 0, 0, 0, 0, 0, 0, 0, 4, 0, 0, 0, 4, 2, 0, 2, 4, 4, 4, 3, 0, 0, 2, 0, 0, 0, 2, 2, 2, 2, 4, 0, 2, 0, 0, 4, 0, 0, 0, 0, 3, 4, 0, 2, 4, 2, 2, 0, 0, 0, 2, 2, 0, 2, 0, 0, 2, 0, 3, 0, 0, 0, 2, 4, 0, 3, 2, 0, 0, 0, 0, 0, 0, 0, 0, 0, 2, 2, 2, 4, 0, 0, 0, 0, 2, 3, 0, 0, 2, 0, 0, 0, 0, 0, 0, 0, 0, 3, 0, 4, 2, 0, 0, 3, 0, 2, 2, 0, 4, 3, 2, 2, 0, 0, 4, 3, 0, 0, 4, 0, 0, 0, 4, 0, 0, 0, 0, 0, 0, 0, 0, 3, 0, 3, 0, 0, 0, 0, 0, 2, 0, 0, 0, 0, 0, 3, 0, 0, 0, 2, 3, 0, 0, 0, 0, 3, 0, 2, 0, 3, 0, 0, 0, 0, 2, 4, 0, 0, 0, 0, 0, 0, 0, 4, 0, 2, 0, 3, 2, 0, 2, 0, 4, 4, 0, 2, 2, 0, 2, 2, 3, 0, 2, 0, 0, 0, 3, 4, 0, 4, 4, 0, 0, 0, 0, 0, 0, 2, 3, 2, 2, 0, 0, 0, 4, 3, 2, 0, 2, 0, 0, 2, 0, 4, 2, 2, 0, 2, 0, 2, 0, 4, 3, 0, 3, 0, 3, 0, 0, 0, 2, 0, 0, 0, 2, 0, 2, 4, 3, 0, 0, 0, 2, 0, 0, 0, 0, 0, 0, 0, 2, 0, 2, 0, 3, 4, 4, 2, 0, 2, 0, 2, 0, 0, 2, 2, 3, 2, 0, 0, 0, 0, 0, 0, 0, 0, 0, 4, 0, 2, 0, 2, 2, 0, 0, 0, 4, 0, 0, 0, 0, 4, 4, 0, 0, 0, 3, 0, 0, 2, 2, 4, 2, 4, 0, 0, 0, 0, 0, 4, 4, 0, 0, 2, 0, 0, 2, 4, 0, 2, 4, 2, 2, 4, 0, 0, 0, 0, 0, 0, 2, 2, 0, 3, 4, 2, 0, 4, 0, 2, 0, 2, 0, 0, 0, 0, 0, 0, 2, 4, 4, 2, 0, 0, 0, 4, 2, 4, 0, 4, 2, 3, 4, 0, 0, 0, 4, 0, 0, 0, 0, 0, 2, 2, 2, 0, 0, 0, 0, 2, 0, 2, 0, 0, 0, 4, 0, 0, 0, 0, 0, 0, 0, 4, 0, 0, 0, 3, 0, 4, 0, 2, 0, 0, 0, 0, 0, 0, 4, 2, 0, 0, 2, 0, 4, 2, 2, 0, 4, 3, 0, 2, 0, 2, 2, 0, 3, 3, 3, 4, 0, 0, 2, 0, 0, 0, 0, 2, 0, 0, 0, 0, 2, 0, 0, 3, 2, 0, 2, 0, 0, 0, 0, 3, 3, 0, 0, 2, 2, 2, 2, 3, 0, 2, 4, 4, 3, 2, 2, 0, 4, 2, 3, 0, 0, 0, 0, 0, 4, 0, 0, 0, 0, 0, 3, 0, 3, 0, 0, 0, 0, 0, 4, 2, 4, 0, 2, 0, 2, 0, 2, 2, 0, 0, 4, 4, 4, 3, 4, 3, 4, 0, 0, 0, 4, 2, 0, 0, 2, 2, 3, 0, 4, 0, 2, 0, 0, 0, 0, 0, 2, 4, 0, 3, 2, 3, 0, 0, 2, 0, 0, 0, 0, 4, 0, 0, 4, 0, 0, 2, 0, 4, 2, 4, 3, 0, 0, 0, 0, 3, 0, 0, 4, 4, 0, 2, 2, 0, 0, 3, 0, 0, 0, 2, 0, 4, 0, 0, 0, 2, 0, 0, 0, 4, 2, 0, 2, 2, 0, 2, 4, 0, 0, 0, 0, 0, 0, 3, 4, 0, 0, 0, 3, 2, 0, 0, 0, 0, 2, 0, 4, 0, 3, 4, 0, 0, 0, 0, 2, 0, 0, 0, 0, 0, 2, 3, 2, 2, 0, 0, 0, 2, 0, 0, 0, 4, 0, 0, 0, 4, 4, 2, 2, 0, 3, 4, 4, 4, 0, 0, 0, 2, 2, 3, 4, 0, 0, 2, 0, 0, 3, 0, 0, 2, 2, 0, 0, 0, 0, 0, 0, 0, 2, 2, 0, 4, 2, 2, 0, 4, 4, 0, 0, 2, 2, 0, 0, 0, 2, 4, 0, 2, 0, 3, 2, 4, 0, 4, 4, 4, 0, 0, 2, 2, 0, 0, 0, 2, 0, 0, 2, 4, 0, 0, 0, 0, 0, 0, 3, 4, 0, 2, 0, 0, 0, 0, 0, 0, 2, 2, 2, 2, 0, 0, 2, 0, 0, 0, 2, 0, 0, 2, 0, 0, 0, 0, 0, 0, 0, 0, 0, 2, 4, 0, 3, 3, 4, 0, 0, 0, 0, 0, 0, 0, 0, 0, 0, 0, 2, 0, 0, 0, 0, 4, 0, 0, 0, 0, 0, 0, 3, 0, 0, 0, 0, 0, 3, 2, 0, 4, 0, 3, 4, 2, 2, 0, 2, 0, 2, 0, 0, 4, 0, 0, 0, 3, 0, 2, 0, 0, 3, 0, 0, 0, 0, 2, 0, 4, 3, 0, 0, 0, 3, 0, 2, 0, 4, 4, 0, 0, 0, 0, 0, 0, 4, 0, 0, 0, 4, 0, 0, 0, 0, 0, 2, 0, 0, 0, 2, 2, 0, 4, 4, 3, 2, 0, 0, 0, 0, 0, 0, 0, 0, 0, 0, 0, 0, 0, 0, 0, 0, 0, 0, 0, 0, 0, 0, 0, 0, 2, 0, 0, 0, 0, 0, 2, 0, 0, 4, 4, 0, 2, 0, 0, 0, 0, 0, 4, 0, 0, 0, 0, 0, 0, 0, 2, 0, 0, 0, 2, 0, 0, 3, 0, 4, 0, 0, 0, 0, 2, 4, 2, 4, 0, 0, 2, 0, 0, 2, 0, 0, 0, 2, 2, 0, 0, 3, 4, 3, 3, 2, 0, 0, 0, 0, 0, 0, 2, 2, 3, 0, 0, 2, 4, 2, 3, 2, 0, 0, 0, 3, 4, 2, 0, 0, 2, 2, 0, 4, 4, 0, 0, 2, 0, 4, 4, 2, 3, 0, 0, 4, 2, 3, 0, 0, 0, 3, 0, 0, 4, 4, 0, 0, 0, 0, 4, 0, 2, 3, 4, 0, 0, 4, 0, 0, 0, 0, 0, 0, 0, 4, 0, 0, 4, 3, 0, 0, 2, 0, 2, 4, 0, 2, 0, 3, 0, 0, 0, 0, 0, 0, 3, 0, 0, 0, 2, 4, 0, 0, 0, 0, 0, 0, 0, 0, 0, 0, 2, 2, 4, 3, 0, 4, 4, 0, 0, 0, 0, 2, 2, 4, 2, 4, 0, 0, 0, 0, 0, 0, 4, 3, 0, 3, 0, 2, 0, 0, 0, 0, 0, 0, 0, 4, 4, 0, 0, 0, 0, 0, 0, 0, 0, 3, 0, 2, 0, 0, 3, 0, 0, 0, 0, 4, 0, 0, 4, 0, 0, 2, 0, 0, 0, 0, 0, 2, 3, 0, 0, 0, 3, 0, 0, 0, 2, 0, 0, 0, 0, 4, 0, 3, 0, 0, 0, 3, 2, 0, 0, 0, 2, 2, 0, 4, 2, 0, 0, 0, 3, 0, 0, 3, 2, 0, 3, 0, 0, 2, 4, 0, 4, 0, 4, 3, 0, 0, 4, 0, 3, 0, 2, 2, 4, 0, 0, 2, 3, 4, 4, 0, 3, 3, 2, 2, 0, 4, 2, 0, 0, 4, 0, 2, 0, 0, 0, 2, 3, 0, 0, 0, 0, 0, 2, 4, 0, 0, 0, 2, 0, 0, 0, 0, 0, 0, 2, 3, 4, 3, 0, 2, 4, 0, 2, 0, 0, 2, 0, 0, 3, 2, 0, 3, 2, 2, 0, 2, 0, 0, 0, 0, 3, 2, 4, 4, 4, 4, 3, 2, 0, 0, 0, 4, 0, 2, 3, 4, 2, 0, 0, 0, 3, 2, 3, 4, 0, 4, 2, 3, 0, 0, 4, 0, 3, 3, 3, 4, 3, 2, 4, 4, 4, 0, 4, 4, 3, 0, 0, 4, 0, 4, 4, 0, 0, 0, 0, 3, 0, 4, 3, 4, 0, 2, 2, 0, 0, 0, 0, 4, 2, 4, 3, 4, 3, 0, 2, 2, 3, 3, 3, 0, 4, 0, 0, 4, 2, 4, 2, 0, 2, 4, 3, 0, 2, 0, 2, 0, 0, 2, 0, 0, 4, 0, 0, 0, 4, 0, 2, 4, 0, 0, 0, 4, 3, 2, 3, 0, 2, 0, 2, 0, 0, 0, 0, 0, 2, 2, 0, 0, 0, 0, 2, 3, 0, 0, 0, 0, 0, 0, 0, 0, 2, 0, 0, 0, 4, 0, 4, 0, 2, 0, 0, 0, 0, 2, 0, 0, 0, 0, 4, 0, 0, 3, 0, 0, 3, 4, 0, 0, 3, 2, 0, 0, 0, 0, 4, 0, 0, 4, 3, 4, 2, 0, 0, 0, 2, 0, 0, 4, 0, 4, 4, 2, 0, 0, 2, 0, 0, 4, 0, 2, 4, 0, 0, 3, 3, 0, 0, 0, 0, 0, 4, 4, 0, 0, 4, 2, 2, 2, 3, 0, 0, 3, 0, 0, 4, 0, 0, 4, 4, 4, 0, 0, 0, 0, 0, 0, 4, 2, 2, 2, 2, 0, 0, 3, 0, 4, 4, 2, 2, 0, 0, 0, 0, 0, 0, 0, 2, 2, 0, 0, 0, 2, 0, 0, 4, 0, 0, 0, 0, 2, 0, 0, 2, 2, 0, 0, 2, 0, 0, 4, 0, 3, 0, 3, 2, 4, 0, 4, 4, 2, 4, 2, 0, 0, 2, 4, 0, 0, 0, 0, 0, 2, 0, 4, 0, 0, 0, 0, 3, 3, 0, 2, 0, 0, 4, 0, 0, 2, 3, 0, 2, 0, 4, 3, 4, 4, 3, 4, 2, 2, 2, 2, 0, 0, 0, 4, 4, 0, 2, 4, 0, 0, 4, 0, 0, 2, 0, 0, 4, 4, 2, 3, 0, 0, 0, 0, 2, 3, 4, 2, 4, 2, 2, 0, 2, 0, 2, 0, 2, 0, 0, 0, 2, 2, 3, 0, 0, 0, 2, 0, 0, 2, 0, 0, 0, 3, 0, 2, 0, 0, 0, 0, 0, 0, 3, 4, 0, 0, 0, 0, 0, 4, 0, 4, 0, 0, 0, 0, 0, 0, 0, 0, 0, 0, 4, 3, 2, 0, 0, 2, 0, 0, 0, 0, 0, 2, 0, 2, 0, 0, 0, 0, 4, 2, 2, 2, 0, 2, 0, 4, 0, 4, 0, 0, 2, 2, 0, 3, 0, 0, 0, 2, 2, 2, 0, 0, 0, 0, 3, 0, 0, 3, 3, 3, 0, 0, 2, 4, 0, 2, 3, 0, 0, 4, 2, 0, 2, 4, 0, 2, 4, 3, 0, 2, 0, 0, 0, 0, 0, 4, 0, 2, 0, 3, 0, 0, 2, 0, 0, 2, 4, 0, 4, 0, 2, 0, 3, 0, 0, 2, 3, 2, 4, 0, 2, 0, 0, 4, 0, 0, 2, 0, 2, 0, 4, 0, 4, 4, 2, 3, 0, 0, 4, 0, 3, 0, 2, 0, 0, 0, 2, 0, 0, 0, 0, 2, 2, 4, 2, 0, 2, 0, 0, 0, 4, 4, 3, 0, 3, 2, 0, 4, 0, 0, 2, 0, 0, 0, 0, 2, 0, 0, 4, 4, 0, 0, 4, 4, 4, 2, 3, 0, 0, 0, 0, 0, 0, 2, 2, 0, 2, 4, 0, 4, 0, 0, 0, 2, 0, 0, 2, 0, 0, 0, 0, 4, 0, 3, 0, 0, 0, 2, 0, 0, 2, 0, 3, 4, 0, 0, 0, 0, 3, 0, 0, 0, 0, 0, 4, 0, 0, 0, 2, 0, 4, 0, 3, 0, 0, 0, 0, 0, 0, 0, 0, 0, 0, 3, 0, 4, 0, 2, 4, 0, 0, 0, 0, 2, 4, 4, 0, 3, 0, 0, 4, 0, 0, 0, 2, 2, 0, 0, 4, 0, 0, 0, 2, 0, 0, 0, 2, 0, 0, 0, 4, 3, 4, 0, 4, 2, 0, 0, 2, 0, 2, 0, 0, 4, 4, 0, 4, 0, 0, 4, 0, 0, 0, 0, 0, 0, 0, 2, 2, 0, 4, 2, 0, 2, 0, 3, 0, 4, 0, 0, 0, 0, 0, 2, 2, 0, 2, 0, 0, 4, 0, 0, 0, 0, 2, 0, 2, 2, 0, 0, 0, 0, 0, 0, 0, 2, 3, 3, 0, 0, 0, 2, 0, 4, 2, 0, 0, 0, 0, 0, 0, 2, 2, 0, 0, 0, 2, 0, 0, 3, 0, 0, 4, 2, 0, 0, 0, 0, 0, 0, 0, 0, 0, 0, 0, 4, 2, 0, 0, 3, 0, 0, 0, 0, 0, 0, 0, 0, 0, 0, 0, 0, 2, 0, 4, 2, 0, 2, 0, 4, 4, 4, 2, 2, 0, 2, 2, 4, 4, 2, 2, 0, 0, 0, 2, 0, 2, 0, 0, 0, 0, 0, 0, 0, 0, 0, 0, 0, 0, 0, 0, 0, 4, 3, 0, 2, 3, 3, 0, 0, 2, 0, 0, 0, 0, 4, 0, 0, 0, 4, 0, 0, 0, 3, 2, 0, 2, 0, 2, 4, 4, 0, 0, 0, 0, 2, 0, 0, 0, 0, 0, 0, 0, 0, 0, 2, 0, 3, 0, 0, 0, 4, 0, 0, 0, 0, 0, 0, 0, 3, 0, 0, 2, 0, 0, 0, 0, 0, 0, 0, 4, 0, 0, 0, 0, 0, 3, 4, 0, 0, 0, 0, 0, 0, 4, 3, 0, 0, 0, 0, 0, 0, 0, 0, 0, 0, 0, 0, 0, 0, 0, 0, 0, 0, 0, 0, 0, 0, 0, 0, 0, 4, 4, 0, 0, 0, 4, 0, 0, 0, 0, 0, 0, 0, 3, 2, 4, 0, 0, 0, 2, 0, 2, 0, 0, 4, 4, 0, 2, 2, 0, 0, 0, 0, 0, 2, 0, 2, 4, 2, 0, 2, 2, 0, 2, 4, 0, 0, 0, 0, 0, 4, 2, 2, 4, 0, 0, 0, 0, 4, 0, 2, 2, 0, 4, 0, 0, 0, 4, 0, 0, 0, 2, 0, 0, 4, 0, 0, 2, 2, 2, 4, 0, 4, 0, 0, 2, 0, 2, 2, 0, 0, 4, 0, 0, 0, 0, 2, 0, 0, 2, 0, 0, 0, 0, 0, 2, 0, 0, 3, 0, 0, 4, 4, 2, 0, 0, 2, 0, 0, 4, 0, 0, 0, 0, 3, 4, 0, 4, 0, 2, 0, 0, 0, 0, 0, 4, 2, 0, 0, 0, 0, 2, 0, 0, 0, 0, 0, 0, 0, 2, 0, 0, 0, 0, 4, 0, 0, 0, 0, 0, 0, 2, 0, 2, 0, 3, 2, 0, 0, 2, 0, 0, 0, 2, 0, 0, 2, 0, 4, 0, 0, 2, 4, 4, 2, 2, 0, 0, 0, 0, 0, 4, 0, 3, 2, 4, 0, 0, 2, 0, 0, 0, 2, 0, 0, 4, 0, 0, 0, 3, 0, 0, 0, 2, 3, 3, 0, 0, 2, 2, 0, 0, 3, 4, 4, 2, 2, 0, 3, 4, 0, 0, 4, 4, 0, 2, 0, 4, 0, 4, 2, 3, 4, 4, 0, 0, 0, 3, 4, 0, 2, 0, 0, 2, 0, 0, 0, 4, 2, 0, 3, 0, 0, 0, 0, 0, 2, 0, 4, 0, 3, 0, 0, 0, 0, 0, 4, 2, 0, 4, 0, 2, 0, 0, 0, 0, 0, 0, 0, 0, 0, 0, 0, 0, 0, 2, 3, 4, 0, 0, 0, 0, 0, 4, 0, 4, 0, 0, 0, 0, 2, 0, 0, 0, 0, 0, 0, 4, 2, 4, 3, 0, 0, 4, 4, 0, 2, 0, 0, 0, 0, 0, 2, 4, 0, 2, 0, 0, 3, 2, 2, 3, 0, 0, 2, 0, 4, 0, 2, 0, 4, 0, 0, 3, 2, 4, 0, 2, 0, 4, 3, 4, 0, 0, 4, 0, 0, 0, 3, 4, 4, 0, 0, 0, 0, 2, 0, 2, 0, 0, 2, 0, 0, 3, 4, 4, 0, 0, 0, 3, 0, 4, 3, 0, 0, 0, 0, 0, 0, 4, 0, 0, 0, 0, 0, 2, 0, 0, 0, 0, 0, 4, 4, 0, 0, 0, 2, 0, 0, 0, 0, 2, 0, 3, 0, 0, 2, 0, 0, 0, 0, 4, 0, 4, 2, 3, 4, 0, 0, 0, 2, 3, 0, 2, 0, 3, 0, 0, 0, 2, 0, 0, 0, 4, 4, 0, 0, 2, 3, 3, 3, 0, 0, 0, 0, 4, 0, 0, 0, 0, 0, 0, 0, 2, 3, 0, 0, 2, 4, 0, 0, 4, 4, 0, 4, 4, 2, 2, 0, 0, 0, 0, 0, 2, 4, 0, 2, 0, 0, 4, 2, 2, 0, 4, 2, 0, 2, 0, 0, 0, 0, 0, 4, 0, 0, 0, 2, 0, 0, 0, 3, 2, 2, 4, 0, 0, 0, 0, 0, 0, 0, 0, 0, 0, 0, 0, 0, 0, 0, 3, 0, 4, 4, 0, 0, 2, 4, 0, 0, 0, 0, 0, 0, 0, 0, 0, 0, 2, 2, 0, 0, 0, 3, 2, 0, 2, 2, 0, 0, 0, 0, 0, 0, 0, 0, 0, 0, 0, 0, 2, 3, 3, 4, 0, 0, 0, 0, 4, 0, 0, 2, 2, 2, 0, 0, 3, 0, 0, 0, 0, 0, 0, 0, 0, 0, 4, 0, 0, 0, 4, 0, 0, 0, 2, 0, 3, 4, 0, 4, 0, 0, 2, 0, 0, 0, 0, 0, 2, 0, 0, 0, 0, 0, 0, 3, 0, 0, 0, 0, 0, 4, 0, 0, 0, 0, 0, 0, 0, 2, 0, 0, 2, 2, 2, 2, 4, 0, 0, 0, 0, 3, 3, 2, 0, 2, 0, 0, 0, 0, 0, 0, 0, 0, 0, 2, 0, 0, 0, 2, 4, 3, 0, 3, 4, 4, 2, 4, 0, 3, 4, 4, 4, 0, 0, 0, 0, 2, 3, 0, 0, 4, 4, 0, 4, 0, 4, 0, 4, 4, 0, 0, 3, 0, 2, 2, 2, 0, 0, 0, 4, 0, 0, 0, 0, 2, 4, 2, 4, 4, 0, 0, 0, 0, 2, 2, 0, 2, 0, 2, 0, 4, 0, 2, 0, 0, 3, 0, 3, 2, 4, 0, 0, 0, 2, 4, 2, 0, 0, 2, 0, 2, 4, 0, 0, 0, 0, 0, 0, 0, 2, 0, 0, 2, 0, 0, 0, 0, 0, 0, 0, 2, 0, 0, 0, 2, 0, 0, 0, 0, 0, 0, 0, 0, 0, 0, 0, 0, 0, 4, 3, 0, 2, 0, 0, 2, 4, 0, 0, 0, 0, 0, 0, 0, 0, 0, 0, 0, 0, 0, 0, 0, 2, 0, 3, 0, 0, 4, 0, 0, 0, 0, 2, 2, 0, 4, 4, 0, 0, 2, 0, 3, 4, 2, 0, 0, 0, 0, 0, 3, 0, 0, 0, 0, 0, 0, 0, 3, 3, 0, 0, 0, 0, 0, 0, 0, 0, 0, 0, 0, 0, 0, 0, 0, 0, 2, 2, 2, 0, 4, 2, 2, 0, 3, 2, 2, 0, 0, 0, 0, 0, 0, 3, 2, 3, 0, 2, 0, 0, 0, 0, 0, 0, 0, 0, 2, 2, 2, 0, 3, 0, 0, 0, 4, 3, 3, 2, 3, 2, 0, 0, 0, 0, 0, 2, 0, 0, 0, 0, 3, 0, 0, 2, 2, 2, 3, 0, 0, 0, 4, 0, 0, 0, 4, 2, 0, 0, 4, 0, 0, 0, 4, 3, 2, 4, 0, 0, 0, 0, 2, 0, 3, 0, 2, 2, 2, 0, 2, 0, 0, 2, 3, 2, 0, 4, 0, 0, 4, 0, 0, 4, 0, 0, 0, 0, 4, 0, 2, 0, 0, 4, 2, 0, 0, 3, 0, 0, 0, 2, 2, 0, 2, 0, 2, 2, 3, 2, 0, 0, 0, 4, 2, 0, 3, 2, 0, 0, 4, 0, 0, 2, 0, 3, 2, 0, 0, 0, 2, 0, 0, 0, 2, 0, 0, 2, 0, 3, 0, 0, 0, 0, 0, 3, 0, 2, 0, 0, 4, 0, 2, 0, 0, 0, 0, 0, 4, 0, 0, 0, 0, 0, 0, 2, 0, 3, 2, 0, 4, 0, 0, 0, 0, 3, 0, 0, 2, 0, 4, 0, 0, 4, 0, 0, 3, 0, 3, 0, 0, 0, 4, 2, 2, 0, 0, 2, 0, 3, 4, 2, 0, 0, 0, 0, 0, 0, 0, 0, 0, 0, 0, 0, 3, 0, 0, 4, 0, 0, 0, 0, 0, 0, 0, 3, 2, 2, 0, 0, 0, 3, 0, 0, 2, 2, 4, 2, 0, 2, 2, 4, 0, 0, 0, 0, 2, 0, 0, 2, 2, 2, 0, 0, 2, 3, 0, 2, 0, 0, 2, 2, 0, 4, 3, 4, 4, 4, 4, 4, 0, 0, 4, 0, 0, 0, 4, 3, 0, 0, 0, 0, 0, 0, 4, 4, 0, 0, 3, 0, 2, 0, 0, 4, 2, 3, 0, 0, 0, 3, 2, 2, 0, 2, 0, 2, 3, 2, 4, 2, 0, 0, 0, 0, 4, 2, 4, 4, 4, 2, 2, 3, 0, 0, 0, 3, 0, 2, 0, 0, 4, 4, 4, 0, 0, 0, 0, 0, 0, 0, 4, 4, 0, 4, 2, 4, 0, 3, 4, 2, 4, 2, 3, 2, 0, 0, 0, 0, 0, 0, 0, 2, 0, 0, 2, 0, 2, 3, 2, 0, 0, 4, 0, 2, 3, 3, 2, 0, 0, 0, 0, 0, 0, 4, 0, 0, 0, 0, 0, 4, 4, 0, 4, 2, 0, 0, 0, 2, 0, 0, 0, 0, 2, 0, 2, 3, 2, 2, 0, 0, 0, 2, 3, 2, 3, 0, 2, 3, 4, 2, 3, 2, 0, 4, 2, 2, 2, 4, 0, 2, 2, 2, 2, 2, 0, 3, 2, 2, 2, 3, 0, 4, 4, 2, 2, 0, 2, 2, 4, 2, 2, 4, 0, 2, 2, 2, 3, 3, 3, 0, 0, 4, 3, 2, 2, 2, 2, 3, 4, 2, 2, 2, 2, 4, 2, 4, 2, 2, 3, 0, 2, 0, 2, 2, 2, 0, 2, 2, 0, 2, 0, 0, 2, 4, 2, 2, 0, 2, 4, 2, 2, 2, 3, 4, 2, 4, 3, 0, 4, 2, 4, 0, 2, 2, 0, 4, 2, 2, 2, 4, 3, 3, 2, 3, 2, 2, 3, 2, 3, 4, 4, 4, 4, 3, 2, 0, 3, 2, 4, 0, 2, 3, 0, 4, 2, 2, 4, 4, 2, 0, 2, 0, 4, 3, 4, 2, 2, 2, 2, 4, 3, 2, 0, 2, 2, 2, 3, 4, 2, 2, 4, 4, 2, 2, 2, 0, 2, 2, 0, 4, 0, 3, 2, 0, 2, 0, 0, 4, 4, 2, 2, 3, 0, 2, 0, 4, 2, 0, 0, 3, 2, 3, 2, 2, 0, 2, 0, 4, 4, 2, 0, 0, 0, 2, 0, 4, 2, 3, 4, 2, 4, 0, 0, 2, 0, 0, 0, 0, 0, 0, 2, 0, 2, 2, 0, 0, 0, 0, 4, 0, 0, 0, 0, 4, 0, 2, 0, 0, 0, 0, 0, 0, 0, 0, 0, 0, 0, 4, 0, 0, 0, 0, 0, 0, 2, 0, 0, 0, 0, 0, 4, 0, 0, 2, 0, 0, 0, 0, 0, 0, 0, 0, 0, 0, 0, 0, 0, 0, 0, 0, 0, 0, 0, 0, 0, 0, 0, 0, 0, 2, 0, 0, 2, 0, 0, 0, 0, 0, 0, 0, 0, 0, 0, 0, 4, 4, 4, 0, 0, 2, 0, 0, 0, 0, 2, 2, 2, 4, 0, 0, 0, 0, 0, 2, 0, 4, 0, 0, 0, 0, 0, 0, 0, 0, 0, 0, 4, 4, 2, 2, 4, 0, 0, 4, 0, 0, 0, 0, 0, 2, 0, 2, 4, 0, 2, 0, 2, 0, 2, 2, 4, 3, 4, 2, 2, 2, 2, 3, 2, 4, 2, 4, 4, 2, 2, 2, 3, 0, 0, 0, 2, 0, 2, 3, 0, 4, 4, 4, 2, 2, 2, 2, 3, 2, 3, 2, 2, 2, 0, 2, 4, 4, 2, 4, 2, 4, 0, 0, 4, 4, 0, 0, 2, 3, 2, 4, 2, 2, 0, 4, 4, 2, 2, 0, 2, 2, 2, 4, 2, 4, 2, 0, 2, 2, 2, 4, 4, 0, 4, 2, 2, 0, 2, 2, 4, 3, 2, 0, 0, 2, 2, 2, 0, 2, 2, 2, 2, 2, 3, 4, 3, 2, 2, 4, 4, 2, 4, 2, 2, 3, 4, 2, 0, 0, 2, 2, 2, 3, 4, 0, 2, 2, 4, 2, 4, 4, 4, 0, 0, 0, 2, 0, 3, 4, 0, 3, 4, 3, 0, 0, 2, 0, 2, 4, 0, 3, 2, 2, 2, 2, 2, 2, 0, 3, 0, 3, 3, 0, 3, 2, 0, 3, 4, 0, 2, 2, 2, 2, 2, 2, 2, 2, 0, 3, 3, 4, 4, 0, 2, 4, 2, 2, 4, 2, 0, 0, 2, 2, 2, 4, 2, 4, 2, 0, 4, 2, 2, 0, 0, 0, 2, 3, 2, 2, 4, 2, 0, 2, 0, 0, 0, 2, 3, 0, 0, 2, 3, 3, 2, 4, 4, 0, 2, 3, 4, 2, 4, 2, 3, 3, 0, 4, 2, 2, 2, 2, 3, 2, 2, 2, 2, 2]\n"
          ]
        }
      ]
    },
    {
      "cell_type": "markdown",
      "source": [
        "# IQR 'number_of_seasons' & cap Outliers"
      ],
      "metadata": {
        "id": "Wtl4535q8IhF"
      }
    },
    {
      "cell_type": "code",
      "source": [
        "import pandas as pd\n",
        "import numpy as np\n",
        "\n",
        "# Assuming tmdb_eda is your DataFrame\n",
        "\n",
        "# 1. Calculate quartiles and IQR:\n",
        "Q1 = tmdb_eda['number_of_seasons'].quantile(0.25)\n",
        "Q3 = tmdb_eda['number_of_seasons'].quantile(0.75)\n",
        "IQR = Q3 - Q1\n",
        "\n",
        "# 2. Calculate bounds:\n",
        "lower_bound = Q1 - 1.5 * IQR\n",
        "upper_bound = Q3 + 1.5 * IQR\n",
        "\n",
        "# 3. Cap outliers:\n",
        "tmdb_eda['number_of_seasons'] = np.clip(tmdb_eda['number_of_seasons'], lower_bound, upper_bound)\n",
        "\n",
        "\n",
        "# 4. (Optional) Print information:\n",
        "print(\"Lower bound:\", lower_bound)\n",
        "print(\"Upper bound:\", upper_bound)\n",
        "# You can also print the DataFrame to see the capped values\n",
        "print(tmdb_eda['number_of_seasons'])\n"
      ],
      "metadata": {
        "colab": {
          "base_uri": "https://localhost:8080/"
        },
        "outputId": "1d784265-3551-4e73-ec20-4570cc323a65",
        "id": "OEaDy4mv7L-c"
      },
      "execution_count": 8,
      "outputs": [
        {
          "output_type": "stream",
          "name": "stdout",
          "text": [
            "Lower bound: 1.0\n",
            "Upper bound: 1.0\n",
            "0        1\n",
            "1        1\n",
            "2        1\n",
            "3        1\n",
            "4        1\n",
            "        ..\n",
            "82867    1\n",
            "82868    1\n",
            "82869    1\n",
            "82870    1\n",
            "82871    1\n",
            "Name: number_of_seasons, Length: 82872, dtype: int64\n"
          ]
        }
      ]
    },
    {
      "cell_type": "markdown",
      "metadata": {
        "id": "LxL5d5u9TKVl"
      },
      "source": [
        "# The vote_count  IQR Analysis"
      ]
    },
    {
      "cell_type": "code",
      "execution_count": 9,
      "metadata": {
        "colab": {
          "base_uri": "https://localhost:8080/"
        },
        "id": "XVRoWU7oTOLZ",
        "outputId": "823b73d4-a08b-4ecc-82ac-43ffc6b88f85"
      },
      "outputs": [
        {
          "output_type": "stream",
          "name": "stdout",
          "text": [
            "Number of outliers: 10835\n",
            "Outlier values: [10, 18, 10, 8, 29, 6, 7, 15, 29, 29, 29, 11, 6, 29, 29, 29, 6, 6, 29, 8, 10, 10, 10, 29, 16, 29, 29, 19, 8, 10, 29, 29, 6, 29, 7, 6, 17, 29, 29, 10, 6, 7, 26, 29, 9, 8, 11, 20, 29, 24, 27, 9, 8, 29, 7, 29, 29, 6, 29, 7, 12, 29, 10, 8, 29, 29, 29, 9, 10, 29, 29, 24, 12, 6, 6, 8, 29, 16, 9, 12, 29, 29, 7, 10, 29, 26, 14, 29, 22, 11, 7, 12, 13, 29, 29, 14, 29, 29, 12, 11, 29, 29, 6, 21, 8, 29, 6, 17, 9, 29, 29, 12, 29, 29, 7, 20, 29, 12, 29, 10, 6, 29, 29, 20, 6, 6, 14, 11, 29, 29, 7, 7, 29, 16, 29, 8, 10, 10, 11, 12, 19, 10, 29, 23, 29, 29, 6, 29, 17, 8, 18, 7, 6, 21, 29, 29, 29, 24, 7, 29, 8, 29, 10, 29, 16, 10, 29, 6, 29, 9, 8, 29, 13, 29, 13, 7, 29, 29, 19, 29, 29, 17, 6, 29, 29, 11, 23, 24, 29, 24, 8, 29, 9, 22, 20, 29, 29, 6, 29, 15, 8, 9, 14, 15, 16, 29, 29, 29, 7, 12, 22, 7, 7, 29, 29, 15, 29, 7, 6, 7, 6, 29, 18, 10, 6, 26, 7, 29, 29, 11, 29, 29, 7, 6, 8, 29, 7, 7, 23, 7, 6, 29, 11, 29, 8, 6, 29, 6, 8, 29, 14, 11, 29, 29, 29, 29, 29, 18, 29, 12, 29, 11, 12, 29, 29, 7, 16, 29, 11, 29, 9, 9, 29, 17, 7, 10, 29, 10, 29, 12, 15, 6, 6, 29, 18, 9, 27, 16, 29, 6, 29, 14, 23, 29, 29, 29, 11, 7, 7, 8, 29, 29, 29, 29, 15, 6, 6, 10, 29, 29, 29, 29, 11, 19, 29, 17, 29, 29, 29, 27, 12, 24, 8, 17, 20, 13, 29, 6, 29, 6, 13, 25, 8, 29, 15, 29, 11, 29, 6, 25, 29, 29, 29, 29, 29, 8, 8, 19, 18, 29, 29, 15, 6, 29, 29, 29, 22, 29, 29, 29, 26, 6, 29, 7, 7, 7, 26, 21, 6, 29, 12, 29, 29, 7, 29, 19, 20, 20, 6, 9, 16, 29, 29, 6, 29, 29, 21, 29, 11, 29, 27, 8, 11, 11, 12, 7, 14, 18, 29, 6, 6, 29, 29, 8, 12, 29, 29, 7, 9, 13, 14, 16, 8, 20, 7, 9, 29, 29, 8, 11, 17, 29, 8, 29, 29, 9, 9, 7, 29, 7, 25, 7, 6, 24, 12, 25, 29, 12, 6, 29, 6, 7, 21, 6, 19, 25, 9, 29, 29, 29, 29, 7, 29, 29, 12, 29, 11, 29, 6, 17, 13, 29, 10, 6, 15, 7, 8, 29, 12, 29, 29, 29, 11, 29, 15, 13, 7, 29, 24, 29, 9, 13, 10, 10, 29, 29, 6, 29, 7, 8, 29, 29, 11, 29, 29, 9, 29, 25, 29, 29, 29, 6, 13, 29, 6, 6, 29, 29, 11, 9, 13, 29, 7, 12, 29, 12, 6, 11, 20, 11, 29, 29, 22, 29, 29, 29, 10, 29, 29, 29, 9, 29, 17, 29, 29, 29, 7, 29, 7, 11, 7, 8, 11, 29, 27, 23, 19, 18, 12, 10, 29, 24, 11, 11, 21, 29, 29, 29, 13, 29, 9, 29, 29, 29, 9, 29, 29, 21, 15, 16, 29, 29, 10, 29, 18, 29, 29, 6, 8, 9, 6, 13, 7, 29, 9, 14, 29, 10, 14, 29, 29, 29, 6, 13, 21, 17, 29, 12, 11, 24, 9, 10, 12, 8, 10, 29, 22, 11, 7, 23, 10, 29, 11, 7, 29, 29, 29, 29, 14, 15, 9, 12, 29, 14, 29, 29, 29, 16, 7, 8, 29, 29, 12, 9, 8, 29, 29, 11, 8, 29, 29, 29, 12, 29, 6, 25, 29, 29, 29, 29, 10, 20, 10, 22, 29, 9, 29, 29, 7, 29, 29, 7, 8, 20, 29, 9, 6, 10, 29, 8, 15, 13, 7, 29, 8, 12, 6, 29, 18, 29, 8, 12, 12, 29, 14, 29, 6, 29, 29, 12, 28, 29, 6, 29, 7, 29, 29, 29, 29, 6, 29, 8, 12, 14, 29, 9, 29, 12, 29, 22, 7, 13, 13, 20, 29, 8, 12, 13, 13, 15, 9, 29, 29, 29, 29, 27, 17, 6, 10, 29, 29, 13, 29, 11, 29, 6, 29, 8, 28, 29, 29, 29, 10, 14, 29, 6, 6, 8, 9, 6, 29, 9, 14, 29, 29, 29, 10, 10, 29, 29, 13, 11, 6, 29, 29, 17, 8, 29, 8, 11, 6, 8, 15, 7, 7, 14, 29, 29, 16, 29, 7, 6, 29, 29, 29, 12, 7, 9, 14, 29, 29, 13, 13, 29, 29, 7, 7, 8, 29, 13, 6, 29, 29, 15, 15, 29, 16, 29, 29, 6, 7, 14, 13, 12, 8, 29, 29, 6, 9, 7, 29, 7, 6, 29, 29, 29, 29, 9, 19, 6, 26, 13, 29, 27, 6, 29, 29, 25, 20, 29, 29, 29, 9, 13, 29, 29, 10, 13, 6, 27, 16, 29, 8, 29, 13, 29, 6, 11, 29, 6, 29, 29, 29, 7, 14, 7, 6, 29, 6, 7, 26, 29, 29, 19, 25, 13, 29, 7, 29, 13, 25, 29, 29, 21, 29, 9, 22, 25, 29, 29, 29, 29, 29, 18, 29, 29, 9, 8, 6, 7, 18, 16, 14, 7, 7, 9, 29, 10, 29, 10, 6, 29, 29, 29, 15, 22, 29, 6, 11, 9, 23, 29, 29, 29, 8, 7, 29, 9, 17, 29, 13, 29, 6, 9, 6, 19, 29, 6, 7, 7, 11, 29, 11, 6, 9, 12, 6, 29, 13, 14, 6, 29, 29, 29, 29, 29, 11, 17, 29, 29, 21, 6, 29, 6, 10, 14, 29, 27, 29, 13, 9, 24, 10, 29, 29, 29, 29, 29, 6, 27, 24, 17, 7, 13, 6, 29, 11, 13, 9, 6, 29, 6, 29, 17, 18, 12, 29, 29, 7, 29, 23, 29, 6, 29, 29, 7, 29, 29, 29, 26, 29, 29, 29, 29, 9, 29, 29, 7, 8, 29, 29, 22, 9, 29, 12, 6, 21, 9, 15, 29, 7, 21, 7, 6, 6, 29, 21, 10, 6, 6, 12, 11, 18, 29, 29, 27, 22, 8, 12, 29, 29, 29, 9, 20, 9, 21, 29, 29, 7, 10, 12, 6, 29, 16, 17, 29, 6, 13, 20, 14, 29, 23, 8, 29, 19, 29, 15, 19, 12, 24, 29, 20, 12, 8, 29, 6, 6, 29, 29, 6, 29, 7, 29, 18, 29, 29, 29, 20, 7, 15, 29, 29, 29, 14, 29, 9, 29, 29, 29, 23, 8, 29, 10, 27, 29, 17, 10, 29, 29, 7, 29, 6, 29, 29, 25, 19, 9, 7, 9, 7, 17, 29, 18, 7, 29, 23, 17, 6, 10, 29, 19, 29, 10, 29, 13, 7, 29, 11, 7, 29, 17, 6, 29, 6, 29, 12, 29, 28, 13, 29, 7, 29, 6, 29, 14, 7, 29, 7, 27, 9, 29, 29, 29, 14, 29, 29, 12, 29, 12, 29, 29, 10, 17, 6, 10, 8, 29, 8, 6, 29, 29, 9, 26, 7, 16, 7, 12, 11, 29, 15, 13, 14, 15, 10, 9, 29, 7, 29, 29, 29, 6, 6, 12, 29, 27, 14, 9, 29, 11, 11, 29, 12, 29, 29, 29, 29, 29, 29, 10, 29, 7, 29, 7, 10, 16, 29, 10, 23, 6, 29, 7, 6, 7, 29, 29, 29, 6, 8, 9, 7, 18, 29, 29, 22, 7, 8, 29, 6, 10, 29, 29, 7, 29, 29, 6, 29, 9, 25, 24, 29, 12, 16, 12, 15, 7, 29, 29, 17, 29, 6, 26, 29, 16, 29, 29, 29, 27, 29, 13, 13, 29, 9, 29, 29, 29, 11, 29, 6, 24, 12, 29, 29, 18, 6, 11, 29, 7, 29, 29, 29, 7, 12, 6, 29, 10, 15, 7, 12, 13, 29, 29, 29, 29, 29, 7, 29, 29, 29, 13, 29, 29, 29, 8, 21, 13, 26, 16, 19, 29, 16, 29, 13, 29, 7, 21, 7, 29, 29, 11, 29, 7, 29, 29, 29, 8, 7, 29, 13, 6, 29, 23, 29, 29, 11, 21, 29, 10, 9, 8, 29, 7, 12, 29, 29, 29, 29, 29, 29, 29, 29, 7, 12, 11, 29, 6, 29, 29, 6, 17, 29, 9, 10, 16, 29, 8, 10, 7, 15, 29, 10, 26, 29, 10, 11, 29, 29, 24, 8, 7, 17, 7, 29, 29, 12, 7, 29, 29, 8, 13, 29, 17, 6, 7, 29, 29, 17, 9, 29, 14, 9, 6, 29, 20, 16, 6, 12, 29, 6, 29, 29, 21, 8, 6, 11, 8, 28, 29, 29, 6, 29, 29, 18, 12, 29, 29, 29, 16, 20, 29, 24, 29, 29, 23, 28, 8, 6, 16, 7, 14, 11, 9, 29, 6, 12, 20, 23, 7, 6, 6, 7, 29, 29, 29, 12, 8, 6, 29, 29, 29, 29, 12, 25, 9, 29, 21, 29, 29, 29, 7, 9, 7, 7, 13, 23, 29, 9, 8, 29, 29, 29, 10, 12, 18, 12, 15, 29, 6, 9, 29, 29, 6, 12, 8, 6, 29, 29, 29, 8, 12, 29, 29, 23, 29, 17, 29, 11, 29, 28, 8, 6, 29, 17, 10, 11, 9, 29, 12, 29, 8, 10, 26, 29, 7, 6, 29, 7, 11, 29, 16, 29, 29, 29, 11, 29, 20, 29, 29, 18, 29, 24, 29, 6, 15, 14, 13, 12, 8, 29, 10, 6, 29, 29, 29, 8, 8, 29, 29, 14, 29, 29, 25, 24, 29, 29, 29, 24, 7, 28, 6, 6, 29, 29, 13, 28, 13, 29, 29, 16, 28, 21, 16, 14, 25, 18, 12, 29, 11, 12, 8, 8, 19, 8, 11, 18, 8, 10, 22, 22, 29, 29, 29, 22, 11, 29, 17, 29, 29, 6, 29, 7, 29, 29, 8, 10, 11, 29, 29, 29, 7, 28, 6, 29, 9, 15, 10, 29, 29, 29, 29, 29, 18, 6, 7, 29, 29, 29, 6, 11, 15, 29, 29, 7, 13, 29, 29, 28, 6, 8, 29, 29, 29, 29, 29, 29, 15, 29, 7, 29, 29, 19, 13, 24, 29, 8, 6, 24, 6, 26, 11, 29, 12, 29, 29, 29, 13, 29, 21, 14, 29, 6, 12, 19, 6, 29, 29, 27, 7, 6, 6, 29, 24, 10, 29, 10, 29, 29, 20, 29, 19, 7, 9, 14, 14, 7, 8, 10, 29, 29, 22, 29, 29, 29, 29, 8, 29, 15, 7, 8, 11, 28, 29, 28, 7, 7, 12, 11, 29, 6, 24, 18, 29, 7, 29, 16, 29, 12, 9, 29, 29, 16, 29, 17, 22, 23, 13, 22, 21, 23, 7, 29, 29, 29, 20, 8, 29, 29, 20, 29, 29, 6, 7, 16, 10, 29, 8, 29, 29, 7, 8, 7, 29, 29, 8, 9, 6, 7, 10, 16, 29, 8, 6, 29, 11, 16, 8, 7, 6, 7, 10, 9, 9, 29, 9, 7, 14, 29, 6, 15, 10, 26, 10, 29, 29, 7, 29, 29, 17, 26, 29, 16, 8, 29, 29, 29, 7, 29, 7, 8, 6, 29, 7, 18, 16, 29, 22, 8, 29, 29, 29, 12, 6, 29, 14, 29, 6, 29, 18, 29, 29, 7, 29, 8, 29, 7, 6, 9, 26, 16, 29, 29, 28, 22, 13, 9, 29, 11, 6, 29, 29, 10, 10, 9, 8, 10, 29, 6, 10, 29, 15, 7, 6, 12, 29, 11, 20, 28, 29, 29, 29, 8, 20, 10, 29, 7, 7, 29, 18, 9, 29, 8, 11, 26, 9, 6, 23, 16, 9, 12, 29, 7, 29, 29, 29, 18, 12, 19, 26, 6, 29, 21, 29, 6, 29, 29, 29, 29, 29, 29, 29, 7, 29, 22, 6, 29, 29, 13, 29, 25, 9, 8, 28, 29, 29, 29, 20, 11, 15, 18, 6, 29, 29, 9, 7, 6, 29, 8, 29, 29, 26, 11, 11, 12, 10, 29, 29, 29, 10, 23, 9, 29, 19, 12, 7, 6, 29, 15, 8, 29, 29, 29, 13, 29, 9, 29, 29, 29, 29, 9, 29, 29, 18, 13, 29, 21, 8, 29, 29, 29, 29, 29, 29, 17, 29, 25, 29, 29, 13, 29, 29, 8, 29, 12, 29, 22, 29, 26, 6, 29, 29, 29, 6, 29, 6, 29, 29, 6, 12, 29, 11, 22, 24, 9, 7, 29, 29, 15, 11, 7, 29, 10, 29, 29, 29, 16, 29, 29, 6, 25, 7, 29, 14, 6, 29, 29, 29, 13, 8, 29, 29, 15, 7, 29, 29, 26, 29, 29, 29, 16, 13, 24, 13, 29, 7, 29, 29, 29, 29, 8, 6, 8, 29, 29, 29, 15, 29, 18, 29, 29, 8, 20, 8, 29, 29, 7, 29, 12, 17, 6, 29, 7, 20, 21, 9, 29, 7, 13, 13, 29, 29, 9, 11, 9, 29, 29, 22, 29, 9, 9, 29, 7, 13, 7, 13, 22, 29, 29, 29, 10, 10, 29, 27, 6, 29, 29, 29, 18, 11, 11, 24, 14, 29, 6, 16, 7, 7, 12, 10, 10, 10, 9, 6, 27, 29, 29, 11, 6, 6, 29, 23, 6, 29, 11, 8, 29, 29, 29, 8, 29, 6, 29, 29, 29, 8, 12, 7, 11, 10, 29, 29, 11, 29, 7, 29, 13, 29, 21, 19, 9, 29, 29, 8, 14, 29, 7, 8, 9, 29, 12, 29, 29, 29, 17, 8, 29, 29, 29, 29, 6, 14, 29, 17, 29, 12, 6, 18, 25, 29, 29, 29, 29, 12, 7, 16, 8, 8, 29, 29, 29, 20, 6, 14, 6, 29, 29, 11, 12, 14, 29, 11, 15, 26, 6, 10, 29, 17, 23, 29, 17, 15, 8, 29, 23, 29, 8, 29, 18, 29, 29, 12, 9, 29, 9, 6, 7, 24, 10, 9, 6, 11, 29, 29, 13, 9, 29, 29, 10, 9, 14, 14, 29, 7, 7, 29, 23, 29, 29, 29, 7, 29, 29, 14, 26, 18, 29, 29, 29, 29, 10, 29, 9, 7, 29, 6, 11, 10, 29, 29, 29, 6, 9, 6, 19, 29, 29, 29, 27, 6, 7, 20, 9, 29, 10, 29, 29, 29, 18, 27, 29, 6, 15, 10, 29, 6, 12, 20, 10, 8, 15, 14, 11, 9, 29, 9, 18, 29, 13, 14, 29, 16, 29, 29, 11, 13, 29, 26, 13, 29, 10, 9, 11, 9, 28, 6, 29, 29, 6, 11, 25, 29, 29, 6, 29, 13, 29, 10, 22, 29, 6, 29, 9, 12, 29, 10, 20, 10, 7, 8, 13, 6, 29, 16, 12, 19, 7, 29, 29, 9, 29, 17, 8, 22, 25, 29, 18, 7, 16, 29, 13, 8, 29, 9, 18, 29, 6, 12, 6, 6, 8, 29, 17, 7, 6, 29, 29, 29, 29, 29, 28, 10, 27, 6, 23, 13, 29, 13, 29, 11, 29, 11, 9, 7, 8, 12, 6, 6, 6, 17, 6, 29, 29, 7, 29, 29, 8, 25, 29, 11, 10, 29, 29, 29, 29, 29, 29, 8, 9, 29, 29, 10, 28, 29, 29, 29, 29, 17, 29, 29, 29, 24, 7, 12, 29, 12, 29, 29, 12, 12, 13, 17, 7, 6, 6, 29, 29, 29, 29, 24, 8, 8, 7, 9, 22, 6, 7, 29, 16, 29, 29, 29, 29, 29, 12, 29, 10, 24, 9, 29, 16, 29, 29, 8, 11, 11, 8, 29, 29, 21, 9, 29, 9, 29, 29, 29, 13, 8, 29, 6, 29, 12, 29, 27, 29, 16, 29, 19, 29, 7, 29, 29, 29, 29, 29, 29, 9, 29, 12, 29, 9, 24, 29, 21, 29, 13, 11, 15, 29, 8, 18, 15, 11, 29, 20, 17, 29, 29, 10, 29, 29, 8, 26, 29, 14, 29, 29, 7, 26, 29, 29, 6, 15, 29, 29, 26, 29, 29, 7, 6, 7, 29, 28, 6, 6, 29, 15, 6, 29, 12, 29, 14, 6, 6, 19, 6, 8, 19, 9, 6, 29, 6, 19, 28, 14, 8, 12, 29, 29, 9, 8, 10, 29, 29, 29, 8, 29, 29, 29, 11, 28, 11, 9, 6, 6, 29, 23, 7, 8, 29, 12, 29, 29, 29, 6, 29, 29, 13, 8, 10, 29, 6, 29, 29, 28, 6, 29, 29, 29, 29, 29, 6, 9, 13, 29, 11, 16, 15, 29, 28, 6, 29, 22, 29, 29, 8, 9, 29, 12, 29, 10, 24, 27, 11, 29, 29, 29, 8, 16, 22, 7, 8, 29, 6, 6, 10, 29, 29, 29, 16, 7, 12, 29, 24, 28, 29, 19, 29, 8, 29, 8, 29, 6, 16, 21, 18, 10, 22, 8, 23, 9, 29, 7, 29, 8, 29, 29, 10, 6, 29, 13, 29, 11, 29, 29, 13, 29, 29, 29, 18, 29, 10, 29, 29, 25, 29, 13, 6, 24, 10, 9, 21, 29, 29, 8, 11, 9, 23, 6, 15, 29, 29, 29, 29, 6, 6, 10, 29, 26, 6, 11, 24, 8, 6, 29, 29, 29, 24, 6, 6, 20, 29, 20, 29, 12, 7, 29, 29, 10, 15, 29, 29, 29, 17, 29, 13, 9, 29, 6, 7, 29, 29, 6, 13, 9, 10, 6, 6, 25, 16, 13, 12, 12, 7, 22, 10, 17, 11, 14, 8, 14, 9, 28, 6, 29, 29, 9, 10, 29, 29, 8, 29, 29, 29, 15, 29, 6, 18, 29, 23, 29, 8, 14, 11, 8, 7, 8, 9, 8, 29, 29, 6, 8, 6, 26, 29, 29, 17, 29, 25, 29, 29, 29, 29, 29, 29, 9, 21, 12, 6, 19, 6, 7, 29, 29, 29, 29, 6, 29, 8, 6, 8, 29, 29, 29, 29, 29, 29, 29, 29, 16, 29, 29, 29, 8, 29, 7, 8, 29, 7, 29, 29, 29, 29, 23, 24, 7, 29, 13, 29, 29, 29, 14, 6, 29, 29, 6, 7, 9, 6, 29, 29, 20, 9, 6, 29, 29, 29, 7, 22, 29, 6, 10, 29, 27, 9, 20, 7, 29, 29, 29, 6, 29, 6, 29, 29, 9, 6, 10, 12, 24, 6, 29, 19, 22, 10, 12, 8, 12, 29, 29, 29, 29, 29, 29, 8, 15, 29, 9, 29, 29, 29, 8, 7, 29, 29, 29, 29, 29, 29, 13, 7, 29, 11, 29, 9, 29, 7, 15, 29, 29, 7, 29, 29, 18, 29, 29, 29, 17, 7, 29, 6, 6, 29, 29, 29, 9, 29, 29, 23, 29, 8, 7, 13, 29, 17, 7, 23, 8, 8, 6, 20, 12, 29, 29, 29, 13, 6, 9, 20, 29, 28, 10, 10, 7, 15, 29, 8, 7, 19, 29, 9, 13, 15, 29, 29, 29, 6, 14, 29, 6, 29, 10, 14, 21, 29, 29, 29, 29, 29, 29, 14, 10, 18, 29, 29, 6, 29, 29, 29, 18, 10, 29, 29, 24, 15, 29, 6, 29, 6, 29, 29, 18, 29, 29, 16, 6, 29, 6, 29, 18, 8, 11, 23, 29, 29, 21, 17, 29, 7, 16, 28, 8, 20, 29, 29, 8, 29, 7, 29, 19, 29, 29, 6, 6, 21, 29, 29, 29, 29, 24, 29, 29, 7, 29, 29, 13, 9, 29, 29, 8, 29, 10, 9, 10, 29, 6, 29, 29, 7, 11, 13, 7, 29, 8, 7, 8, 6, 29, 13, 7, 13, 29, 29, 11, 9, 8, 8, 8, 26, 29, 13, 7, 29, 29, 8, 29, 22, 29, 29, 13, 21, 9, 7, 29, 29, 7, 29, 25, 29, 29, 29, 29, 19, 19, 9, 11, 29, 29, 29, 16, 6, 22, 10, 29, 10, 11, 29, 29, 28, 9, 9, 27, 7, 6, 29, 7, 29, 6, 29, 8, 8, 6, 22, 29, 9, 7, 29, 13, 9, 23, 7, 29, 6, 18, 7, 29, 11, 29, 8, 9, 10, 6, 10, 29, 22, 6, 24, 9, 29, 7, 10, 19, 29, 21, 29, 8, 29, 10, 14, 6, 6, 7, 29, 9, 29, 25, 6, 29, 29, 29, 29, 29, 26, 16, 29, 17, 29, 10, 20, 13, 26, 9, 29, 29, 29, 6, 25, 29, 29, 22, 13, 21, 9, 6, 9, 6, 29, 12, 29, 29, 7, 20, 7, 29, 29, 29, 19, 29, 12, 29, 29, 9, 8, 11, 9, 24, 7, 22, 29, 20, 25, 10, 29, 10, 12, 29, 29, 9, 29, 12, 10, 29, 13, 6, 29, 6, 12, 29, 6, 13, 12, 29, 29, 10, 29, 8, 29, 17, 18, 7, 24, 16, 29, 23, 11, 29, 8, 8, 11, 7, 29, 12, 6, 29, 6, 29, 9, 6, 29, 19, 23, 6, 8, 29, 28, 29, 29, 10, 20, 29, 29, 29, 29, 6, 21, 12, 29, 26, 9, 8, 7, 8, 29, 29, 10, 29, 29, 21, 7, 6, 7, 29, 29, 15, 20, 29, 29, 8, 8, 29, 29, 6, 29, 29, 29, 6, 6, 29, 29, 8, 9, 16, 11, 29, 28, 17, 29, 8, 29, 7, 29, 29, 29, 19, 29, 7, 21, 29, 17, 19, 29, 29, 29, 29, 29, 19, 29, 29, 29, 6, 6, 14, 19, 29, 6, 18, 29, 15, 29, 29, 18, 29, 24, 29, 10, 7, 29, 29, 29, 29, 7, 6, 10, 14, 13, 12, 8, 29, 18, 29, 29, 6, 8, 18, 29, 18, 10, 29, 27, 15, 6, 12, 29, 9, 8, 29, 11, 6, 9, 29, 12, 29, 11, 12, 11, 9, 14, 6, 6, 12, 29, 29, 22, 12, 11, 11, 29, 18, 6, 29, 7, 15, 29, 29, 29, 6, 7, 7, 9, 23, 29, 11, 10, 20, 9, 29, 7, 27, 29, 25, 7, 10, 7, 29, 29, 29, 29, 29, 20, 8, 6, 9, 6, 14, 29, 6, 29, 6, 29, 29, 29, 8, 6, 15, 29, 15, 8, 22, 12, 8, 28, 9, 13, 19, 29, 29, 29, 29, 13, 29, 6, 8, 9, 29, 8, 16, 19, 13, 29, 7, 7, 12, 21, 12, 13, 24, 10, 16, 6, 13, 29, 17, 29, 12, 14, 9, 21, 29, 29, 15, 28, 7, 6, 15, 13, 19, 12, 25, 10, 29, 13, 29, 29, 27, 13, 18, 29, 29, 29, 29, 7, 29, 12, 29, 7, 9, 11, 29, 11, 29, 9, 15, 8, 12, 29, 29, 21, 29, 8, 29, 17, 12, 16, 29, 29, 8, 8, 7, 13, 7, 12, 8, 29, 29, 22, 7, 17, 14, 13, 6, 29, 29, 29, 29, 29, 22, 11, 29, 29, 29, 29, 13, 29, 18, 8, 29, 29, 29, 6, 8, 6, 29, 29, 10, 9, 6, 29, 29, 29, 9, 6, 20, 6, 16, 29, 7, 29, 20, 29, 29, 10, 7, 29, 29, 13, 29, 8, 7, 6, 8, 29, 8, 7, 16, 29, 29, 12, 8, 9, 29, 29, 14, 6, 29, 7, 22, 12, 15, 29, 29, 8, 29, 26, 16, 17, 29, 10, 9, 11, 29, 7, 27, 29, 29, 24, 29, 29, 8, 29, 6, 6, 9, 20, 29, 29, 29, 10, 7, 29, 29, 29, 8, 29, 18, 29, 16, 24, 6, 29, 14, 29, 6, 29, 17, 9, 16, 8, 29, 29, 9, 29, 17, 17, 6, 10, 8, 23, 10, 29, 29, 29, 12, 29, 16, 19, 6, 29, 7, 25, 29, 29, 18, 14, 29, 6, 9, 25, 19, 29, 10, 7, 16, 10, 10, 27, 29, 16, 21, 6, 16, 12, 14, 29, 23, 29, 21, 18, 11, 6, 29, 11, 16, 29, 7, 29, 29, 7, 24, 9, 10, 27, 20, 29, 26, 8, 6, 10, 15, 29, 29, 10, 7, 21, 6, 29, 29, 8, 29, 11, 10, 29, 29, 29, 29, 12, 8, 8, 29, 12, 29, 29, 11, 8, 24, 17, 29, 29, 6, 29, 29, 29, 13, 29, 29, 21, 7, 7, 8, 7, 29, 29, 9, 10, 29, 6, 29, 13, 24, 21, 7, 29, 29, 29, 13, 29, 11, 9, 8, 29, 29, 11, 29, 8, 29, 8, 6, 9, 29, 16, 29, 10, 15, 29, 29, 19, 25, 14, 29, 6, 29, 6, 8, 29, 12, 29, 29, 29, 19, 17, 6, 7, 8, 29, 9, 7, 16, 9, 6, 29, 14, 16, 12, 29, 6, 23, 6, 19, 10, 29, 29, 29, 29, 29, 27, 11, 6, 15, 23, 8, 20, 6, 14, 13, 7, 29, 29, 29, 29, 29, 29, 10, 8, 29, 29, 7, 18, 9, 20, 7, 29, 12, 29, 7, 16, 29, 21, 26, 9, 8, 19, 27, 9, 29, 8, 29, 29, 10, 29, 25, 22, 8, 29, 29, 29, 27, 29, 14, 10, 9, 15, 8, 29, 29, 29, 29, 24, 11, 29, 29, 29, 26, 29, 29, 6, 25, 13, 12, 27, 18, 29, 29, 7, 29, 29, 29, 8, 29, 17, 29, 15, 29, 29, 10, 16, 29, 29, 10, 7, 9, 29, 29, 10, 29, 29, 12, 13, 29, 29, 29, 29, 17, 18, 15, 29, 28, 6, 29, 12, 29, 7, 29, 29, 29, 29, 29, 8, 29, 7, 8, 7, 6, 12, 9, 27, 6, 6, 16, 28, 29, 29, 29, 25, 13, 18, 16, 29, 24, 8, 11, 13, 8, 29, 9, 9, 8, 7, 7, 6, 12, 29, 29, 14, 21, 7, 29, 29, 21, 29, 29, 9, 29, 29, 29, 29, 26, 29, 7, 29, 29, 29, 29, 29, 12, 29, 8, 9, 8, 29, 29, 10, 9, 29, 29, 7, 29, 29, 29, 21, 14, 7, 29, 29, 29, 6, 29, 20, 28, 29, 29, 6, 13, 6, 29, 6, 27, 6, 8, 9, 29, 29, 6, 14, 7, 29, 14, 29, 29, 29, 7, 19, 7, 26, 29, 8, 6, 7, 29, 29, 17, 29, 10, 29, 29, 12, 21, 9, 6, 12, 7, 29, 10, 8, 29, 29, 29, 29, 6, 10, 29, 6, 29, 8, 29, 19, 6, 29, 9, 14, 16, 29, 13, 29, 8, 8, 29, 26, 6, 29, 29, 29, 9, 8, 9, 29, 11, 29, 10, 12, 21, 16, 6, 29, 7, 29, 13, 16, 6, 29, 29, 9, 13, 11, 8, 7, 29, 11, 28, 6, 29, 17, 29, 29, 29, 6, 29, 29, 13, 24, 20, 8, 29, 6, 29, 6, 10, 29, 18, 8, 6, 12, 6, 19, 29, 18, 13, 6, 29, 29, 9, 29, 20, 29, 8, 29, 29, 29, 29, 9, 29, 29, 9, 10, 7, 8, 29, 15, 11, 12, 16, 29, 29, 15, 11, 29, 7, 6, 10, 29, 6, 29, 21, 8, 29, 29, 29, 25, 10, 28, 12, 29, 29, 6, 10, 6, 29, 16, 24, 29, 6, 29, 6, 29, 29, 7, 29, 14, 11, 13, 19, 9, 29, 8, 6, 9, 29, 20, 7, 29, 12, 29, 7, 29, 9, 29, 6, 29, 19, 20, 28, 29, 9, 29, 27, 29, 11, 9, 27, 24, 7, 29, 29, 29, 29, 29, 26, 29, 12, 7, 20, 29, 10, 19, 11, 11, 29, 29, 29, 8, 9, 16, 26, 7, 29, 29, 6, 23, 7, 29, 22, 9, 29, 8, 29, 9, 7, 29, 18, 7, 19, 29, 9, 29, 29, 20, 13, 15, 7, 8, 27, 29, 23, 6, 14, 29, 7, 10, 10, 11, 29, 29, 29, 29, 29, 29, 6, 28, 7, 8, 29, 6, 15, 29, 29, 29, 11, 9, 17, 29, 29, 10, 29, 15, 29, 21, 9, 8, 6, 29, 29, 21, 18, 14, 29, 19, 29, 29, 29, 28, 7, 7, 19, 29, 13, 14, 6, 6, 6, 12, 11, 6, 7, 6, 10, 7, 24, 6, 7, 29, 13, 6, 21, 29, 11, 6, 18, 11, 29, 15, 29, 13, 6, 19, 29, 29, 8, 6, 11, 29, 29, 6, 9, 29, 29, 10, 29, 29, 29, 9, 29, 25, 29, 8, 28, 17, 8, 6, 29, 19, 9, 9, 25, 17, 22, 8, 29, 29, 8, 29, 9, 6, 20, 21, 29, 29, 18, 8, 6, 24, 29, 6, 29, 29, 11, 29, 18, 28, 29, 11, 29, 9, 15, 22, 6, 29, 27, 6, 8, 8, 12, 8, 15, 29, 29, 29, 23, 29, 29, 29, 6, 11, 13, 11, 29, 16, 24, 20, 29, 6, 29, 29, 29, 29, 12, 29, 8, 29, 29, 29, 14, 12, 29, 29, 6, 18, 9, 17, 29, 17, 9, 16, 7, 29, 29, 6, 16, 29, 29, 29, 29, 15, 29, 29, 12, 29, 7, 11, 8, 29, 29, 7, 8, 17, 29, 10, 29, 29, 9, 7, 10, 9, 29, 11, 29, 25, 7, 12, 6, 29, 7, 29, 29, 29, 29, 27, 23, 29, 8, 7, 6, 9, 23, 20, 29, 25, 21, 29, 29, 29, 11, 7, 29, 8, 8, 29, 29, 29, 29, 18, 16, 10, 21, 29, 8, 29, 6, 14, 12, 7, 6, 10, 29, 21, 29, 29, 12, 23, 6, 11, 29, 14, 6, 6, 29, 7, 6, 11, 26, 29, 29, 29, 20, 12, 29, 29, 29, 6, 29, 22, 15, 29, 29, 29, 9, 6, 29, 29, 13, 29, 29, 19, 29, 10, 22, 6, 18, 29, 8, 6, 19, 8, 8, 29, 6, 29, 9, 29, 7, 6, 6, 14, 15, 29, 16, 6, 29, 18, 11, 8, 10, 9, 7, 29, 22, 11, 9, 13, 29, 29, 29, 10, 12, 28, 6, 8, 20, 29, 29, 29, 6, 17, 29, 29, 7, 29, 29, 8, 7, 12, 11, 29, 19, 15, 9, 24, 7, 29, 13, 29, 6, 6, 29, 29, 29, 29, 9, 29, 13, 7, 29, 9, 29, 8, 7, 14, 29, 14, 8, 29, 25, 21, 11, 29, 13, 29, 29, 25, 29, 29, 6, 29, 29, 22, 29, 29, 29, 12, 15, 29, 11, 29, 29, 29, 7, 7, 29, 7, 29, 29, 21, 8, 29, 10, 6, 29, 6, 7, 29, 29, 6, 14, 16, 7, 11, 9, 29, 29, 29, 29, 9, 16, 29, 29, 29, 6, 8, 7, 6, 12, 7, 29, 29, 13, 7, 20, 7, 18, 9, 14, 12, 8, 17, 29, 16, 6, 6, 11, 24, 29, 9, 15, 15, 29, 6, 10, 7, 6, 7, 7, 7, 7, 29, 29, 19, 10, 29, 10, 20, 13, 6, 7, 13, 29, 29, 29, 29, 7, 29, 29, 29, 29, 6, 29, 12, 16, 29, 20, 13, 13, 29, 29, 14, 10, 11, 29, 7, 9, 9, 7, 29, 29, 13, 29, 6, 11, 12, 10, 7, 29, 29, 18, 29, 29, 11, 29, 15, 8, 27, 29, 8, 12, 27, 13, 29, 29, 29, 29, 8, 17, 25, 15, 29, 6, 13, 29, 12, 12, 7, 25, 29, 9, 29, 25, 29, 11, 29, 29, 29, 14, 29, 29, 29, 7, 29, 19, 10, 6, 6, 15, 7, 19, 29, 29, 10, 22, 17, 29, 29, 8, 29, 7, 29, 21, 29, 10, 24, 13, 6, 11, 29, 29, 7, 29, 18, 6, 8, 28, 29, 8, 6, 11, 16, 29, 15, 29, 29, 18, 29, 29, 9, 9, 13, 19, 19, 7, 6, 29, 29, 13, 11, 29, 12, 29, 10, 7, 29, 25, 29, 10, 8, 8, 29, 29, 7, 14, 7, 7, 29, 18, 13, 10, 8, 10, 29, 29, 29, 12, 14, 29, 29, 28, 29, 29, 29, 29, 6, 8, 6, 16, 12, 11, 10, 6, 29, 29, 29, 29, 29, 16, 29, 29, 11, 29, 13, 26, 11, 11, 29, 6, 29, 6, 15, 14, 12, 6, 6, 24, 6, 29, 6, 29, 15, 9, 12, 9, 13, 8, 28, 6, 11, 29, 29, 29, 14, 7, 29, 29, 7, 17, 29, 8, 12, 10, 9, 7, 6, 19, 16, 7, 12, 29, 7, 7, 20, 7, 7, 29, 10, 21, 18, 29, 29, 29, 29, 29, 29, 29, 29, 24, 9, 7, 29, 29, 7, 6, 29, 20, 29, 29, 24, 29, 29, 29, 29, 29, 29, 29, 29, 29, 6, 6, 11, 29, 29, 29, 29, 9, 26, 29, 10, 12, 29, 29, 21, 29, 29, 6, 24, 10, 12, 6, 25, 9, 18, 7, 29, 14, 29, 29, 13, 13, 6, 7, 12, 7, 6, 6, 29, 29, 29, 23, 29, 21, 29, 29, 14, 7, 29, 29, 7, 13, 12, 7, 23, 8, 29, 14, 29, 29, 29, 20, 29, 18, 29, 29, 29, 7, 29, 29, 12, 15, 13, 7, 29, 10, 21, 29, 29, 12, 29, 16, 17, 29, 13, 19, 6, 11, 14, 23, 29, 29, 29, 7, 28, 10, 15, 21, 29, 29, 29, 29, 29, 13, 8, 29, 26, 29, 10, 29, 10, 29, 29, 29, 7, 29, 7, 11, 11, 10, 6, 16, 29, 12, 6, 29, 27, 29, 29, 29, 8, 27, 12, 6, 6, 12, 29, 9, 14, 29, 17, 12, 6, 10, 9, 29, 29, 8, 29, 27, 6, 29, 29, 10, 20, 29, 24, 29, 7, 29, 29, 23, 11, 16, 6, 29, 29, 11, 12, 29, 7, 7, 29, 29, 7, 6, 11, 11, 29, 29, 6, 7, 7, 17, 7, 14, 29, 8, 11, 19, 29, 9, 21, 29, 29, 29, 29, 12, 29, 29, 16, 11, 29, 28, 29, 11, 12, 21, 22, 29, 29, 22, 7, 8, 6, 29, 6, 8, 12, 29, 6, 7, 10, 24, 6, 8, 15, 11, 9, 10, 7, 6, 12, 29, 29, 7, 29, 29, 29, 29, 29, 9, 29, 29, 29, 29, 29, 29, 6, 29, 14, 29, 29, 21, 9, 13, 6, 29, 8, 29, 9, 22, 8, 21, 29, 29, 29, 22, 11, 22, 14, 29, 9, 20, 23, 17, 12, 25, 7, 15, 21, 15, 29, 19, 7, 29, 29, 19, 29, 19, 8, 19, 16, 29, 13, 27, 29, 29, 28, 29, 11, 29, 29, 9, 8, 29, 8, 16, 19, 8, 26, 29, 12, 23, 23, 13, 8, 9, 6, 29, 6, 29, 16, 27, 9, 6, 7, 29, 9, 19, 29, 16, 7, 8, 21, 8, 11, 29, 29, 6, 18, 22, 7, 24, 7, 29, 29, 12, 29, 6, 10, 29, 17, 29, 26, 29, 29, 12, 7, 29, 29, 29, 29, 29, 10, 29, 8, 8, 29, 29, 7, 29, 10, 15, 13, 29, 29, 6, 29, 19, 6, 11, 29, 21, 6, 29, 29, 19, 7, 19, 29, 29, 8, 29, 6, 29, 9, 10, 29, 7, 29, 29, 29, 7, 18, 29, 11, 16, 10, 11, 29, 6, 12, 29, 6, 21, 29, 6, 8, 29, 29, 29, 11, 7, 10, 29, 29, 22, 15, 29, 12, 29, 24, 6, 6, 29, 6, 7, 18, 15, 7, 7, 14, 7, 14, 29, 29, 29, 8, 8, 22, 29, 29, 25, 29, 9, 9, 29, 7, 26, 8, 23, 8, 29, 7, 29, 14, 11, 29, 29, 29, 29, 12, 6, 18, 29, 24, 7, 28, 6, 29, 29, 15, 29, 28, 15, 22, 29, 12, 29, 29, 29, 24, 29, 29, 25, 29, 29, 29, 14, 7, 29, 14, 29, 9, 29, 16, 29, 10, 8, 24, 6, 7, 9, 21, 29, 29, 29, 6, 8, 13, 7, 17, 24, 13, 29, 29, 29, 6, 6, 29, 29, 8, 29, 15, 29, 29, 29, 9, 15, 13, 29, 6, 12, 10, 15, 29, 6, 10, 29, 8, 9, 19, 27, 11, 29, 7, 8, 29, 10, 10, 6, 29, 9, 6, 15, 10, 8, 7, 15, 6, 8, 29, 29, 8, 29, 6, 8, 29, 7, 29, 8, 16, 21, 18, 15, 29, 29, 11, 29, 9, 29, 29, 6, 29, 21, 14, 29, 18, 15, 21, 14, 29, 29, 14, 29, 7, 11, 6, 7, 9, 6, 29, 29, 23, 29, 29, 7, 8, 9, 10, 8, 27, 28, 29, 6, 22, 29, 10, 6, 12, 29, 8, 29, 6, 12, 8, 14, 29, 13, 13, 29, 9, 20, 29, 29, 29, 12, 23, 29, 10, 8, 9, 29, 29, 19, 29, 23, 15, 9, 29, 14, 6, 29, 15, 29, 12, 29, 8, 9, 16, 7, 8, 29, 29, 12, 8, 29, 7, 9, 29, 29, 15, 21, 6, 12, 20, 9, 29, 10, 10, 29, 12, 14, 22, 29, 17, 29, 28, 29, 29, 16, 13, 7, 29, 20, 22, 8, 13, 23, 25, 29, 12, 8, 29, 11, 6, 7, 8, 29, 29, 29, 29, 29, 18, 6, 29, 6, 29, 20, 16, 29, 12, 29, 13, 29, 12, 29, 8, 25, 29, 29, 29, 11, 8, 29, 17, 29, 8, 11, 29, 29, 12, 15, 29, 13, 27, 8, 6, 7, 8, 13, 29, 29, 10, 7, 29, 29, 6, 29, 18, 20, 6, 22, 8, 8, 29, 21, 11, 8, 29, 29, 23, 6, 18, 10, 6, 21, 17, 29, 20, 29, 13, 12, 29, 13, 9, 7, 7, 6, 8, 29, 18, 29, 29, 14, 29, 29, 14, 18, 29, 22, 29, 29, 12, 10, 29, 7, 8, 9, 29, 29, 29, 6, 9, 17, 7, 6, 29, 29, 29, 12, 6, 6, 21, 29, 22, 7, 6, 6, 7, 9, 9, 29, 28, 9, 10, 9, 19, 27, 29, 14, 6, 29, 29, 29, 16, 29, 6, 15, 29, 11, 14, 11, 10, 29, 9, 29, 29, 16, 9, 13, 8, 9, 11, 22, 11, 9, 29, 29, 27, 21, 8, 29, 16, 29, 29, 25, 16, 29, 16, 29, 12, 29, 12, 29, 9, 29, 29, 15, 29, 29, 6, 29, 10, 29, 29, 17, 27, 19, 29, 29, 29, 29, 11, 6, 9, 29, 6, 29, 15, 7, 13, 29, 7, 6, 29, 29, 29, 18, 29, 29, 6, 6, 7, 6, 7, 29, 29, 29, 10, 19, 7, 9, 29, 29, 8, 24, 9, 8, 29, 7, 13, 11, 29, 29, 29, 6, 6, 26, 7, 19, 29, 8, 29, 9, 6, 21, 7, 27, 29, 29, 27, 29, 29, 19, 29, 29, 16, 21, 29, 29, 29, 8, 29, 6, 29, 20, 24, 29, 29, 21, 29, 29, 19, 29, 12, 29, 29, 29, 12, 14, 10, 23, 13, 9, 29, 29, 6, 29, 10, 10, 28, 12, 6, 6, 17, 13, 7, 6, 10, 28, 29, 14, 29, 6, 15, 9, 7, 23, 19, 6, 15, 14, 29, 29, 26, 29, 29, 29, 17, 29, 24, 11, 7, 7, 29, 29, 7, 29, 7, 29, 6, 29, 29, 9, 12, 6, 6, 10, 29, 29, 29, 8, 29, 29, 21, 8, 13, 29, 29, 29, 21, 29, 23, 29, 29, 29, 29, 29, 10, 6, 29, 29, 29, 29, 29, 28, 29, 8, 18, 10, 8, 22, 29, 29, 13, 6, 9, 12, 29, 11, 12, 17, 14, 29, 29, 6, 29, 17, 8, 29, 14, 29, 13, 29, 28, 29, 20, 16, 11, 29, 14, 11, 29, 18, 8, 21, 29, 29, 29, 29, 12, 12, 10, 6, 7, 27, 6, 9, 10, 6, 23, 29, 29, 29, 8, 29, 19, 20, 12, 29, 7, 9, 16, 19, 29, 29, 20, 6, 17, 29, 29, 29, 13, 7, 29, 9, 11, 25, 28, 29, 6, 16, 7, 29, 10, 13, 6, 29, 6, 25, 13, 29, 26, 29, 17, 29, 7, 8, 29, 7, 9, 8, 29, 13, 29, 11, 29, 29, 22, 22, 29, 26, 28, 10, 6, 6, 7, 6, 27, 11, 29, 29, 17, 11, 14, 29, 29, 29, 29, 29, 29, 8, 6, 29, 21, 17, 29, 25, 12, 12, 14, 9, 7, 12, 29, 29, 29, 18, 29, 29, 20, 14, 19, 29, 6, 9, 29, 7, 12, 23, 11, 29, 29, 15, 8, 24, 29, 29, 7, 19, 29, 29, 8, 7, 29, 6, 6, 12, 29, 10, 29, 6, 6, 29, 29, 6, 19, 24, 6, 8, 29, 9, 13, 15, 7, 6, 29, 16, 6, 29, 29, 6, 16, 19, 29, 29, 10, 27, 29, 29, 7, 29, 8, 22, 26, 29, 29, 29, 9, 8, 29, 12, 14, 11, 29, 6, 29, 15, 29, 29, 29, 13, 29, 29, 8, 9, 9, 8, 29, 7, 29, 29, 29, 12, 29, 6, 29, 29, 7, 7, 23, 18, 9, 13, 9, 9, 26, 29, 29, 29, 6, 21, 27, 29, 29, 29, 29, 29, 6, 7, 29, 6, 8, 8, 25, 6, 6, 28, 13, 13, 11, 10, 21, 29, 29, 29, 7, 29, 10, 29, 29, 7, 29, 7, 11, 22, 29, 29, 29, 10, 11, 24, 29, 29, 7, 7, 6, 7, 29, 6, 13, 6, 6, 29, 15, 29, 29, 6, 29, 29, 29, 29, 7, 7, 19, 15, 29, 6, 6, 8, 29, 29, 29, 7, 29, 26, 29, 7, 13, 12, 15, 6, 29, 6, 8, 8, 8, 29, 8, 23, 16, 23, 6, 26, 19, 29, 29, 8, 29, 29, 29, 24, 23, 6, 29, 8, 8, 11, 13, 19, 8, 23, 7, 9, 9, 13, 29, 8, 11, 18, 26, 29, 11, 7, 14, 29, 8, 29, 29, 29, 12, 9, 26, 19, 29, 16, 7, 29, 29, 29, 29, 11, 7, 13, 8, 7, 15, 24, 29, 29, 22, 7, 29, 9, 29, 29, 7, 14, 7, 9, 6, 6, 6, 7, 11, 29, 6, 22, 29, 7, 28, 6, 6, 7, 17, 28, 14, 8, 29, 6, 12, 6, 12, 29, 9, 18, 6, 14, 19, 29, 16, 29, 29, 29, 8, 9, 29, 21, 29, 29, 29, 23, 29, 29, 29, 11, 10, 29, 29, 29, 29, 15, 26, 8, 10, 29, 11, 8, 29, 29, 6, 24, 29, 29, 29, 8, 11, 12, 7, 6, 15, 11, 29, 29, 11, 29, 12, 11, 14, 6, 6, 7, 18, 29, 29, 8, 9, 17, 26, 10, 16, 10, 29, 8, 9, 6, 29, 29, 9, 29, 6, 29, 29, 29, 6, 29, 15, 14, 18, 19, 6, 8, 11, 11, 29, 6, 29, 29, 29, 29, 29, 29, 29, 29, 9, 6, 29, 9, 29, 7, 7, 29, 29, 7, 29, 29, 29, 29, 29, 29, 29, 29, 29, 20, 7, 27, 29, 10, 19, 29, 13, 29, 12, 10, 6, 29, 29, 9, 7, 29, 6, 19, 17, 29, 29, 8, 7, 29, 29, 9, 29, 29, 9, 29, 6, 17, 11, 12, 29, 25, 7, 7, 29, 10, 11, 21, 29, 25, 29, 8, 9, 8, 19, 18, 8, 19, 12, 15, 6, 6, 9, 20, 17, 19, 17, 7, 29, 11, 29, 29, 6, 28, 6, 14, 29, 15, 29, 7, 29, 7, 29, 29, 6, 9, 29, 8, 29, 14, 13, 10, 24, 21, 11, 11, 6, 18, 7, 9, 29, 29, 29, 24, 17, 29, 12, 9, 29, 12, 29, 29, 29, 29, 29, 17, 23, 16, 6, 6, 27, 29, 9, 7, 14, 10, 7, 29, 24, 29, 9, 7, 7, 7, 16, 29, 11, 10, 7, 29, 29, 6, 26, 29, 7, 7, 15, 29, 29, 29, 29, 11, 10, 17, 13, 13, 29, 10, 29, 10, 28, 7, 29, 29, 29, 29, 7, 21, 29, 11, 6, 11, 29, 7, 11, 29, 12, 6, 29, 27, 29, 29, 29, 9, 21, 20, 29, 6, 7, 7, 17, 9, 11, 29, 9, 9, 29, 20, 29, 29, 29, 18, 29, 29, 29, 29, 29, 9, 29, 11, 16, 6, 10, 27, 29, 18, 29, 26, 11, 19, 29, 29, 29, 8, 7, 25, 29, 9, 10, 9, 9, 29, 7, 7, 12, 9, 24, 28, 26, 8, 21, 16, 29, 29, 6, 6, 16, 15, 29, 29, 11, 21, 7, 18, 7, 14, 6, 25, 13, 7, 16, 7, 20, 29, 6, 23, 29, 29, 11, 18, 24, 9, 13, 29, 29, 21, 29, 15, 11, 29, 29, 19, 7, 13, 29, 28, 25, 29, 29, 18, 29, 9, 29, 9, 6, 11, 8, 28, 12, 21, 29, 12, 9, 12, 26, 6, 16, 7, 6, 10, 9, 8, 7, 29, 16, 10, 29, 12, 29, 29, 6, 29, 29, 7, 29, 10, 6, 29, 29, 24, 29, 9, 29, 11, 29, 29, 29, 29, 29, 29, 29, 16, 29, 13, 29, 29, 29, 13, 29, 13, 6, 22, 18, 29, 18, 8, 29, 29, 6, 29, 29, 29, 6, 29, 7, 10, 6, 24, 29, 17, 13, 12, 6, 29, 29, 6, 6, 7, 29, 29, 29, 29, 29, 29, 29, 21, 29, 29, 29, 29, 29, 29, 10, 29, 17, 29, 6, 29, 13, 6, 8, 6, 29, 6, 10, 7, 29, 17, 29, 22, 6, 7, 29, 29, 7, 8, 29, 15, 26, 29, 29, 29, 9, 17, 9, 6, 7, 13, 29, 29, 9, 6, 12, 6, 29, 13, 15, 15, 17, 29, 29, 9, 6, 16, 8, 16, 19, 15, 12, 8, 29, 29, 29, 29, 29, 29, 7, 29, 10, 11, 29, 29, 18, 12, 29, 29, 7, 18, 29, 8, 6, 9, 29, 15, 19, 10, 29, 29, 6, 29, 26, 6, 29, 7, 22, 14, 7, 29, 6, 27, 29, 29, 21, 29, 11, 29, 9, 29, 7, 29, 29, 29, 29, 29, 20, 8, 29, 29, 29, 29, 11, 9, 18, 8, 29, 22, 8, 29, 13, 29, 16, 9, 11, 11, 9, 7, 16, 9, 29, 6, 9, 9, 29, 13, 8, 29, 6, 25, 7, 29, 29, 17, 29, 7, 8, 29, 29, 20, 18, 11, 29, 29, 29, 25, 29, 29, 6, 29, 9, 6, 25, 29, 29, 29, 9, 29, 29, 29, 29, 29, 8, 29, 22, 21, 16, 9, 29, 25, 29, 8, 8, 15, 29, 8, 27, 29, 8, 7, 29, 6, 14, 29, 21, 29, 7, 29, 14, 29, 13, 20, 29, 29, 29, 7, 29, 29, 29, 29, 6, 29, 29, 19, 29, 29, 13, 8, 29, 18, 6, 29, 7, 29, 29, 6, 6, 29, 29, 29, 9, 8, 8, 13, 29, 7, 29, 15, 29, 9, 29, 29, 29, 21, 7, 29, 29, 12, 7, 6, 7, 7, 6, 29, 26, 29, 15, 29, 8, 29, 7, 29, 7, 10, 29, 17, 15, 26, 9, 20, 20, 6, 17, 18, 29, 14, 28, 24, 29, 29, 21, 18, 27, 8, 7, 9, 8, 11, 29, 6, 6, 11, 8, 29, 7, 8, 29, 8, 7, 6, 29, 29, 29, 29, 6, 16, 29, 29, 8, 9, 7, 29, 6, 6, 29, 16, 15, 18, 29, 29, 29, 29, 17, 8, 29, 6, 16, 29, 29, 29, 29, 24, 29, 11, 11, 29, 8, 6, 6, 14, 10, 29, 6, 13, 18, 11, 7, 7, 29, 29, 29, 14, 12, 15, 9, 25, 7, 23, 8, 29, 15, 6, 29, 29, 9, 13, 29, 6, 9, 7, 20, 10, 7, 29, 27, 29, 6, 29, 29, 29, 13, 29, 27, 29, 17, 13, 11, 20, 24, 9, 17, 24, 10, 6, 29, 29, 29, 29, 29, 24, 17, 29, 6, 29, 18, 29, 10, 14, 29, 9, 7, 13, 29, 29, 15, 29, 29, 23, 7, 29, 7, 8, 9, 19, 6, 29, 16, 29, 21, 11, 10, 6, 7, 12, 9, 29, 7, 29, 21, 18, 8, 26, 29, 8, 8, 6, 29, 8, 29, 15, 29, 7, 23, 8, 29, 29, 19, 13, 12, 11, 8, 10, 20, 12, 7, 29, 29, 29, 24, 29, 29, 10, 7, 19, 29, 29, 29, 29, 8, 18, 29, 12, 6, 20, 29, 13, 6, 26, 8, 8, 9, 11, 13, 7, 14, 25, 29, 10, 29, 29, 29, 17, 7, 6, 29, 9, 15, 16, 29, 6, 29, 29, 23, 29, 19, 12, 29, 10, 29, 29, 18, 29, 29, 29, 29, 6, 20, 29, 29, 10, 29, 24, 29, 7, 6, 14, 19, 29, 29, 20, 25, 21, 6, 29, 18, 29, 13, 17, 14, 29, 6, 8, 29, 7, 29, 19, 8, 9, 8, 29, 29, 11, 12, 20, 13, 9, 29, 29, 16, 29, 8, 6, 9, 6, 9, 29, 8, 10, 29, 7, 29, 16, 11, 8, 29, 18, 29, 29, 29, 8, 7, 16, 29, 12, 15, 6, 29, 29, 14, 29, 18, 29, 29, 7, 28, 7, 29, 8, 29, 29, 15, 6, 29, 25, 9, 8, 10, 8, 6, 7, 29, 29, 29, 15, 9, 8, 29, 29, 29, 7, 29, 22, 29, 29, 22, 29, 7, 11, 15, 29, 29, 29, 29, 11, 9, 29, 29, 29, 7, 11, 9, 7, 19, 29, 29, 7, 13, 15, 21, 29, 6, 7, 29, 21, 10, 24, 29, 8, 6, 13, 7, 29, 16, 6, 8, 9, 29, 8, 9, 29, 6, 29, 7, 10, 18, 18, 20, 11, 8, 29, 29, 29, 29, 29, 29, 29, 8, 7, 29, 7, 29, 29, 29, 29, 6, 6, 26, 29, 29, 29, 29, 7, 7, 27, 29, 6, 29, 18, 7, 29, 29, 29, 29, 9, 6, 7, 14, 29, 29, 29, 29, 29, 21, 14, 24, 29, 7, 9, 29, 6, 28, 14, 29, 29, 21, 29, 21, 29, 14, 29, 15, 22, 21, 21, 20, 8, 11, 9, 6, 29, 29, 7, 29, 26, 10, 29, 10, 13, 8, 8, 18, 13, 29, 6, 8, 29, 11, 29, 14, 29, 6, 12, 8, 19, 13, 29, 10, 29, 29, 18, 29, 10, 29, 6, 29, 23, 6, 29, 6, 13, 8, 8, 29, 15, 29, 9, 29, 7, 7, 29, 29, 25, 13, 11, 6, 29, 6, 13, 10, 8, 13, 17, 29, 12, 8, 29, 8, 29, 15, 29, 9, 29, 8, 12, 18, 29, 29, 14, 9, 10, 6, 6, 29, 9, 13, 29, 29, 6, 29, 6, 23, 13, 6, 29, 11, 29, 12, 7, 6, 6, 13, 20, 15, 29, 8, 29, 9, 29, 8, 12, 10, 6, 29, 17, 21, 7, 29, 7, 29, 29, 17, 29, 15, 20, 8, 18, 11, 29, 29, 6, 13, 26, 6, 29, 25, 8, 12, 13, 29, 29, 29, 29, 29, 6, 29, 8, 29, 20, 29, 19, 8, 29, 29, 16, 17, 8, 10, 13, 7, 23, 7, 7, 11, 9, 7, 29, 14, 19, 29, 29, 6, 6, 29, 8, 7, 29, 6, 7, 29, 29, 19, 15, 29, 16, 12, 29, 6, 8, 16, 29, 29, 21, 29, 6, 26, 7, 29, 26, 6, 7, 12, 28, 7, 29, 8, 9, 6, 6, 29, 18, 9, 29, 29, 11, 29, 10, 12, 7, 9, 7, 29, 18, 29, 7, 29, 17, 20, 7, 12, 11, 12, 20, 29, 29, 29, 13, 24, 29, 8, 29, 29, 29, 29, 29, 29, 29, 9, 8, 23, 7, 11, 8, 19, 11, 24, 7, 20, 7, 29, 29, 8, 12, 29, 8, 27, 11, 7, 29, 10, 29, 29, 6, 12, 19, 29, 29, 6, 29, 29, 22, 12, 6, 29, 29, 7, 29, 8, 29, 26, 29, 29, 26, 29, 29, 29, 23, 16, 19, 29, 7, 29, 29, 20, 27, 29, 19, 10, 28, 8, 12, 12, 12, 9, 9, 29, 29, 29, 29, 12, 29, 29, 6, 15, 23, 18, 29, 25, 25, 29, 29, 6, 8, 29, 6, 6, 7, 9, 29, 29, 29, 7, 29, 29, 29, 9, 29, 18, 12, 23, 29, 29, 14, 25, 19, 8, 29, 29, 29, 6, 10, 29, 29, 11, 26, 8, 10, 29, 29, 7, 29, 29, 29, 29, 29, 29, 12, 17, 29, 7, 29, 15, 10, 29, 12, 17, 29, 14, 23, 15, 17, 29, 29, 29, 6, 29, 7, 6, 29, 7, 29, 20, 20, 10, 7, 26, 7, 6, 13, 24, 10, 9, 17, 29, 29, 7, 8, 29, 9, 11, 29, 24, 6, 20, 29, 29, 22, 18, 29, 12, 23, 15, 6, 8, 11, 29, 9, 6, 29, 29, 29, 29, 29, 29, 27, 12, 8, 12, 7, 29, 15, 11, 15, 26, 14, 13, 11, 29, 29, 29, 18, 25, 29, 29, 8, 16, 29, 29, 29, 29, 28, 15, 29, 11, 19, 6, 11, 29, 29, 26, 29, 29, 11, 12, 10, 29, 29, 14, 29, 29, 6, 26, 29, 12, 29, 7, 8, 29, 15, 29, 7, 29, 29, 22, 29, 29, 29, 13, 29, 29, 29, 29, 9, 29, 21, 9, 6, 7, 27, 29, 6, 12, 13, 29, 29, 13, 12, 29, 29, 9, 29, 8, 29, 10, 6, 29, 23, 14, 29, 7, 20, 29, 10, 29, 29, 11, 14, 9, 29, 21, 29, 29, 13, 9, 6, 14, 29, 6, 29, 29, 29, 29, 16, 14, 29, 29, 8, 10, 6, 29, 13, 29, 29, 10, 6, 21, 10, 29, 8, 29, 23, 29, 21, 14, 29, 20, 29, 6, 29, 29, 29, 12, 29, 29, 11, 9, 29, 29, 29, 8, 29, 10, 29, 6, 7, 6, 29, 29, 7, 17, 7, 15, 14, 6, 6, 29, 14, 11, 7, 11, 6, 29, 29, 6, 11, 29, 6, 18, 29, 24, 12, 29, 14, 6, 18, 29, 11, 6, 29, 23, 9, 29, 9, 29, 29, 9, 10, 8, 7, 6, 29, 8, 16, 14, 17, 29, 16, 18, 24, 15, 8, 12, 29, 22, 29, 29, 9, 19, 12, 8, 29, 10, 29, 29, 23, 29, 18, 11, 29, 29, 29, 29, 9, 15, 29, 28, 7, 9, 29, 29, 8, 29, 28, 29, 9, 6, 29, 12, 12, 29, 6, 29, 9, 6, 8, 11, 12, 27, 29, 22, 6, 15, 29, 26, 29, 29, 7, 16, 10, 29, 6, 9, 6, 29, 22, 6, 29, 6, 12, 11, 6, 11, 10, 29, 29, 9, 9, 29, 7, 11, 6, 9, 22, 13, 29, 13, 28, 16, 14, 29, 25, 29, 6, 29, 29, 16, 6, 8, 11, 29, 6, 28, 21, 29, 29, 29, 16, 29, 29, 29, 6, 7, 29, 29, 9, 29, 11, 13, 6, 29, 7, 14, 29, 10, 29, 6, 29, 29, 28, 9, 7, 8, 7, 25, 19, 29, 29, 7, 12, 10, 14, 7, 29, 12, 14, 6, 29, 29, 29, 16, 29, 29, 29, 29, 29, 29, 29, 6, 10, 22, 8, 9, 16, 10, 12, 6, 21, 29, 7, 25, 29, 29, 10, 17, 29, 15, 10, 29, 11, 29, 12, 6, 29, 25, 8, 8, 9, 23, 6, 29, 15, 29, 29, 29, 10, 29, 29, 29, 9, 7, 7, 29, 29, 29, 7, 25, 20, 29, 17, 27, 29, 7, 29, 20, 6, 20, 8, 29, 13, 8, 9, 29, 22, 7, 6, 20, 29, 12, 22, 29, 7, 29, 29, 29, 29, 20, 6, 29, 29, 29, 29, 15, 11, 22, 29, 28, 9, 13, 13, 10, 9, 9, 10, 29, 6, 29, 18, 26, 8, 10, 29, 29, 10, 29, 19, 29, 7, 6, 6, 8, 29, 7, 9, 7, 29, 12, 15, 25, 8, 29, 24, 26, 29, 7, 29, 29, 29, 6, 29, 29, 16, 29, 29, 6, 8, 29, 8, 29, 29, 29, 12, 12, 8, 29, 10, 8, 29, 7, 29, 17, 7, 29, 29, 29, 20, 14, 11, 29, 21, 9, 6, 18, 29, 19, 29, 29, 10, 29, 29, 6, 29, 6, 10, 25, 29, 29, 29, 29, 9, 29, 11, 20, 29, 11, 7, 9, 29, 12, 6, 7, 29, 8, 29, 9, 9, 29, 29, 29, 6, 29, 11, 29, 29, 29, 19, 14, 29, 29, 14, 29, 11, 29, 29, 6, 7, 18, 10, 27, 29, 29, 29, 29, 29, 21, 6, 29, 29, 26, 29, 24, 29, 29, 24, 17, 29, 9, 29, 8, 29, 29, 15, 17, 29, 10, 10, 22, 28, 6, 29, 29, 18, 8, 29, 29, 20, 29, 13, 29, 16, 29, 11, 29, 18, 19, 19, 29, 8, 9, 20, 13, 20, 11, 6, 6, 8, 7, 21, 29, 8, 29, 29, 13, 7, 8, 6, 13, 14, 29, 29, 7, 18, 7, 6, 24, 10, 16, 29, 29, 25, 29, 29, 6, 28, 6, 11, 25, 6, 11, 29, 25, 21, 29, 29, 8, 10, 17, 9, 22, 24, 18, 6, 7, 9, 29, 29, 29, 29, 29, 6, 21, 10, 11, 24, 29, 6, 29, 29, 21, 6, 7, 29, 6, 12, 29, 11, 29, 21, 29, 7, 10, 29, 6, 29, 29, 11, 6, 29, 17, 29, 23, 17, 29, 9, 8, 7, 25, 29, 29, 29, 8, 20, 29, 6, 7, 18, 19, 29, 25, 29, 10, 29, 17, 7, 8, 29, 7, 15, 11, 17, 7, 25, 6, 6, 8, 27, 16, 6, 7, 29, 13, 29, 19, 17, 29, 29, 15, 29, 11, 29, 24, 6, 29, 29, 23, 29, 13, 28, 20, 29, 16, 13, 18, 6, 29, 11, 6, 29, 10, 29, 13, 29, 29, 29, 29, 19, 10, 29, 16, 23, 6, 29, 11, 7, 14, 18, 26, 7, 10, 29, 29, 29, 19, 29, 13, 22, 16, 7, 29, 8, 7, 22, 29, 29, 7, 29, 18, 6, 7, 19, 12, 11, 12, 6, 29, 27, 6, 6, 26, 14, 18, 9, 29, 14, 17, 8, 7, 9, 10, 9, 25, 29, 9, 29, 28, 27, 11, 29, 29, 29, 29, 9, 18, 29, 16, 12, 12, 10, 7, 13, 29, 29, 12, 29, 16, 9, 18, 7, 9, 6, 8, 29, 23, 15, 29, 21, 29, 10, 6, 29, 10, 29, 28, 29, 7, 24, 29, 29, 29, 29, 29, 24, 29, 8, 21, 8, 8, 29, 9, 29, 26, 29, 7, 6, 8, 29, 7, 7, 27, 15, 18, 6, 8, 13, 8, 19, 6, 8, 10, 11, 8, 29, 9, 7, 7, 15, 22, 29, 26, 29, 14, 29, 29, 29, 8, 29, 29, 8, 9, 29, 10, 29, 24, 15, 6, 29, 29, 29, 29, 29, 7, 29, 29, 8, 29, 15, 6, 29, 19, 14, 29, 29, 29, 29, 6, 29, 29, 13, 14, 6, 12, 29, 27, 9, 14, 14, 29, 29, 7, 11, 29, 7, 9, 29, 8, 29, 6, 10, 29, 22, 23, 8, 23, 7, 29, 9, 6, 11, 10, 29, 29, 22, 15, 10, 29, 29, 22, 6, 29, 6, 25, 6, 20, 29, 12, 21, 29, 29, 14, 29, 6, 6, 11, 29, 15, 6, 29, 29, 8, 14, 7, 29, 29, 20, 6, 10, 29, 15, 14, 29, 9, 29, 29, 29, 13, 19, 29, 27, 16, 20, 6, 29, 29, 6, 13, 7, 23, 29, 29, 29, 12, 9, 16, 29, 9, 6, 29, 29, 9, 11, 6, 11, 20, 29, 9, 29, 28, 12, 6, 29, 15, 23, 25, 29, 25, 29, 29, 9, 27, 11, 29, 25, 10, 8, 28, 6, 29, 28, 6, 22, 10, 29, 7, 29, 11, 25, 29, 29, 29, 29, 15, 29, 7, 10, 7, 29, 29, 21, 15, 19, 29, 18, 29, 29, 29, 20, 8, 14, 29, 12, 29, 27, 28, 7, 29, 29, 18, 6, 9, 29, 13, 6, 6, 8, 17, 29, 14, 16, 29, 7, 29, 29, 11, 29, 29, 24, 6, 29, 26, 11, 29, 29, 29, 29, 19, 10, 29, 29, 29, 29, 7, 15, 29, 16, 16, 27, 10, 29, 29, 29, 7, 8, 8, 14, 29, 29, 11, 9, 29, 29, 9, 18, 10, 29, 29, 29, 6, 6, 6, 23, 29, 29, 29, 24, 29, 29, 29, 14, 29, 11, 22, 20, 29, 7, 29, 29, 11, 29, 29, 6, 11, 29, 7, 10, 7, 6, 10, 29, 6, 29, 29, 11, 29, 18, 7, 12, 16, 15, 29, 29, 25, 9, 19, 12, 29, 29, 29, 21, 29, 29, 18, 9, 14, 14, 9, 29, 29, 29, 29, 29, 16, 29, 29, 6, 17, 29, 29, 16, 27, 7, 29, 29, 6, 8, 29, 12, 6, 29, 29, 22, 24, 29, 17, 18, 29, 8, 29, 18, 29, 19, 7, 12, 21, 19, 18, 22, 13, 29, 29, 29, 29, 29, 8, 15, 9, 22, 29, 11, 29, 29, 15, 10, 6, 10, 6, 14, 29, 24, 29, 29, 29, 15, 16, 8, 19, 14, 29, 29, 29, 9, 29, 15, 6, 29, 29, 13, 29, 28, 29, 29, 8, 29, 8, 26, 21, 29, 29, 21, 10, 29, 8, 29, 17, 7, 16, 11, 24, 29, 18, 29, 9, 29, 14, 29, 29, 6, 10, 10, 6, 11, 21, 8, 13, 29, 12, 29, 20, 29, 23, 29, 29, 14, 29, 29, 12, 29, 16, 7, 29, 29, 29, 29, 21, 29, 20, 15, 12, 27, 12, 29, 6, 13, 7, 29, 28, 7, 15, 7, 7, 29, 25, 12, 29, 29, 6, 6, 29, 29, 7, 10, 29, 29, 22, 9, 7, 11, 6, 14, 29, 11, 29, 7, 11, 6, 10, 7, 29, 6, 8, 6, 8, 8, 7, 7, 9, 7, 11, 9, 9, 8, 29, 13, 6, 8, 29, 29, 6, 26, 29, 29, 29, 6, 6, 29, 6, 29, 8, 8, 15, 23, 29, 29, 29, 29, 29, 29, 17, 29, 6, 29, 29, 7, 29, 26, 14, 29, 29, 12, 28, 9, 29, 6, 10, 21, 29, 29, 11, 29, 29, 29, 29, 9, 13, 6, 28, 7, 10, 9, 29, 25, 7, 29, 7, 11, 16, 29, 29, 20, 9, 29, 29, 29, 29, 29, 8, 29, 14, 29, 8, 13, 29, 7, 21, 29, 12, 13, 17, 8, 7, 29, 6, 18, 29, 11, 29, 20, 8, 9, 6, 29, 14, 7, 10, 29, 29, 15, 6, 28, 19, 21, 29, 12, 29, 29, 7, 13, 29, 14, 29, 21, 9, 10, 28, 25, 29, 6, 29, 14, 29, 29, 29, 17, 29, 7, 29, 29, 29, 29, 9, 12, 13, 29, 29, 29, 29, 8, 23, 20, 8, 16, 14, 29, 29, 24, 10, 15, 15, 29, 12, 29, 8, 29, 9, 10, 29, 29, 14, 11, 19, 12, 29, 6, 29, 6, 29, 16, 16, 11, 23, 29, 9, 6, 6, 29, 20, 13, 29, 10, 6, 29, 7, 11, 25, 10, 8, 9, 29, 6, 29, 10, 6, 29, 29, 28, 29, 11, 29, 29, 29, 20, 11, 11, 22, 6, 29, 29, 7, 8, 29, 19, 9, 7, 29, 8, 6, 29, 7, 6, 6, 13, 15, 29, 9, 7, 29, 29, 29, 6, 29, 27, 29, 21, 29, 8, 11, 29, 17, 8, 7, 22, 8, 29, 29, 12, 29, 25, 29, 29, 8, 10, 7, 22, 29, 29, 8, 29, 20, 29, 8, 29, 16, 29, 29, 29, 13, 29, 29, 29, 29, 29, 7, 29, 29, 29, 14, 29, 11, 29, 29, 20, 12, 6, 8, 14, 29, 10, 10, 6, 29, 27, 10, 29, 29, 8, 29, 29, 29, 29, 26, 8, 22, 6, 9, 29, 7, 25, 29, 19, 29, 8, 29, 29, 13, 29, 29, 9, 9, 6, 29, 28, 29, 29, 13, 10, 29, 23, 29, 29, 29, 9, 7, 9, 14, 20, 18, 29, 29, 9, 10, 29, 29, 29, 13, 12, 7, 29, 29, 16, 24, 7, 6, 9, 7, 17, 29, 11, 8, 27, 6, 6, 12, 8, 29, 29, 29, 29, 29, 12, 6, 18, 21, 9, 7, 29, 24, 29, 11, 29, 29, 6, 29, 29, 29, 29, 9, 18, 7, 7, 29, 12, 29, 29, 10, 24, 29, 8, 29, 29, 29, 7, 29, 7, 10, 29, 29, 13, 17, 22, 6, 19, 9, 11, 6, 7, 20, 13, 29, 29, 6, 29, 29, 29, 13, 16, 29, 29, 29, 10, 29, 29, 27, 6, 7, 23, 6, 29, 20, 6, 17, 8, 29, 27, 6, 10, 22, 29, 11, 20, 6, 29, 29, 6, 29, 10, 29, 15, 13, 29, 6, 29, 29, 29, 29, 8, 27, 13, 6, 29, 29, 10, 8, 6, 12, 14, 29, 8, 6, 29, 9, 7, 6, 10, 29, 24, 29, 29, 29, 29, 7, 12, 29, 24, 6, 15, 16, 27, 8, 11, 29, 29, 29, 18, 11, 10, 10, 29, 29, 23, 29, 8, 8, 6, 29, 29, 11, 29, 11, 29, 29, 7, 6, 29, 7, 6, 29, 29, 10, 29, 29, 19, 7, 29, 29, 29, 29, 18, 6, 29, 9, 29, 29, 29, 8, 6, 13, 7, 29, 29, 7, 13, 13, 11, 6, 9, 29, 19, 29, 8, 29, 7, 28, 29, 29, 29, 29, 17, 29, 23, 29, 29, 8, 29, 15, 7, 17, 22, 28, 13, 23, 11, 29, 13, 29, 8, 8, 7, 15, 16, 8, 10, 6, 6, 29, 29, 29, 29, 29, 16, 29, 13, 27, 29, 25, 7, 29, 24, 29, 8, 29, 8, 12, 15, 29, 29, 29, 29, 6, 29, 18, 22, 29, 29, 18, 14, 29, 29, 9, 29, 9, 21, 29, 10, 29, 28, 29, 7, 29, 29, 29, 29, 29, 13, 6, 16, 29, 10, 27, 7, 7, 17, 10, 9, 29, 25, 29, 11, 9, 29, 29, 29, 29, 29, 8, 10, 6, 16, 29, 29, 29, 29, 29, 29, 11, 10, 7, 29, 29, 7, 23, 9, 10, 18, 20, 7, 29, 29, 7, 7, 14, 29, 29, 29, 12, 29, 22, 11, 14, 7, 8, 29, 29, 8, 29, 25, 9, 29, 19, 12, 29, 29, 6, 29, 11, 9, 7, 16, 29, 12, 20, 6, 29, 9, 6, 11, 6, 29, 13, 29, 22, 6, 11, 11, 23, 29, 29, 16, 6, 29, 8, 9, 28, 25, 8, 19, 29, 29, 21, 29, 29, 29, 14, 14, 29, 29, 29, 10, 14, 6, 6, 29, 8, 6, 29, 11, 16, 8, 29, 29, 28, 20, 29, 19, 6, 8, 6, 11, 14, 23, 29, 7, 29, 12, 26, 23, 12, 29, 6, 29, 16, 13, 19, 13, 6, 8, 25, 6, 29, 29, 29, 27, 7, 29, 12, 22, 10, 20, 29, 29, 11, 19, 29, 17, 11, 6, 13, 13, 29, 9, 6, 10, 20, 29, 8, 14, 6, 12, 6, 8, 6, 12, 9, 10, 6, 7, 9, 7, 13, 15, 9, 6, 8, 8, 7, 15, 7, 7, 7, 9, 7, 29, 8, 6, 6]\n"
          ]
        }
      ],
      "source": [
        "import pandas as pd\n",
        "\n",
        "# Assuming tmdb_eda is your DataFrame\n",
        "\n",
        "# 1. Calculate quartiles and IQR:\n",
        "Q1 = tmdb_eda['vote_count'].quantile(0.25)\n",
        "Q3 = tmdb_eda['vote_count'].quantile(0.75)\n",
        "IQR = Q3 - Q1\n",
        "\n",
        "# 2. Calculate bounds:\n",
        "lower_bound = Q1 - 1.5 * IQR\n",
        "upper_bound = Q3 + 1.5 * IQR\n",
        "\n",
        "# 3. Identify outliers:\n",
        "outliers = tmdb_eda[(tmdb_eda['vote_count'] < lower_bound) | (tmdb_eda['vote_count'] > upper_bound)]\n",
        "\n",
        "# 4. Print outlier information:\n",
        "print(\"Number of outliers:\", len(outliers))\n",
        "print(\"Outlier values:\", outliers['vote_count'].tolist())\n"
      ]
    },
    {
      "cell_type": "markdown",
      "source": [
        "#"
      ],
      "metadata": {
        "id": "6WqIB9_sfKBK"
      }
    },
    {
      "cell_type": "markdown",
      "source": [
        "# IQR vote_count & cap Outliers"
      ],
      "metadata": {
        "id": "sAeG5iAxfUWX"
      }
    },
    {
      "cell_type": "code",
      "source": [
        "import pandas as pd\n",
        "import numpy as np\n",
        "\n",
        "# Assuming tmdb_eda is your DataFrame\n",
        "\n",
        "# 1. Calculate quartiles and IQR:\n",
        "Q1 = tmdb_eda['vote_count'].quantile(0.25)\n",
        "Q3 = tmdb_eda['vote_count'].quantile(0.75)\n",
        "IQR = Q3 - Q1\n",
        "\n",
        "# 2. Calculate bounds:\n",
        "lower_bound = Q1 - 1.5 * IQR\n",
        "upper_bound = Q3 + 1.5 * IQR\n",
        "\n",
        "# 3. Cap outliers:\n",
        "tmdb_eda['vote_count'] = np.clip(tmdb_eda['vote_count'], lower_bound, upper_bound)\n",
        "\n",
        "# 4. (Optional) Print information:\n",
        "print(\"Lower bound:\", lower_bound)\n",
        "print(\"Upper bound:\", upper_bound)\n",
        "# You can also print the DataFrame to see the capped values\n",
        "print(tmdb_eda['vote_count'])\n"
      ],
      "metadata": {
        "colab": {
          "base_uri": "https://localhost:8080/"
        },
        "outputId": "4dba49c5-dbd4-4441-af7f-b210d1e06df5",
        "id": "9sw27rcIcdJ4"
      },
      "execution_count": 10,
      "outputs": [
        {
          "output_type": "stream",
          "name": "stdout",
          "text": [
            "Lower bound: -3.0\n",
            "Upper bound: 5.0\n",
            "0        0\n",
            "1        3\n",
            "2        0\n",
            "3        5\n",
            "4        0\n",
            "        ..\n",
            "82867    0\n",
            "82868    0\n",
            "82869    3\n",
            "82870    1\n",
            "82871    0\n",
            "Name: vote_count, Length: 82872, dtype: int64\n"
          ]
        }
      ]
    },
    {
      "cell_type": "markdown",
      "source": [
        "# The 'episode_run_time' IQR Analysis"
      ],
      "metadata": {
        "id": "ZoWxVTuM8l_2"
      }
    },
    {
      "cell_type": "code",
      "execution_count": 11,
      "metadata": {
        "colab": {
          "base_uri": "https://localhost:8080/"
        },
        "outputId": "9c384d5f-9ccd-4326-bdfc-262a721649e0",
        "id": "O3qxj6w182wB"
      },
      "outputs": [
        {
          "output_type": "stream",
          "name": "stdout",
          "text": [
            "Number of outliers: 0\n",
            "Outlier values: []\n"
          ]
        }
      ],
      "source": [
        "import pandas as pd\n",
        "\n",
        "# Assuming tmdb_eda is your DataFrame\n",
        "\n",
        "# 1. Calculate quartiles and IQR:\n",
        "Q1 = tmdb_eda['episode_run_time'].quantile(0.25)\n",
        "Q3 = tmdb_eda['episode_run_time'].quantile(0.75)\n",
        "IQR = Q3 - Q1\n",
        "\n",
        "# 2. Calculate bounds:\n",
        "lower_bound = Q1 - 1.5 * IQR\n",
        "upper_bound = Q3 + 1.5 * IQR\n",
        "\n",
        "# 3. Identify outliers:\n",
        "outliers = tmdb_eda[(tmdb_eda['episode_run_time'] < lower_bound) | (tmdb_eda['episode_run_time'] > upper_bound)]\n",
        "\n",
        "# 4. Print outlier information:\n",
        "print(\"Number of outliers:\", len(outliers))\n",
        "print(\"Outlier values:\", outliers['episode_run_time'].tolist())\n"
      ]
    },
    {
      "cell_type": "code",
      "execution_count": 12,
      "metadata": {
        "colab": {
          "base_uri": "https://localhost:8080/",
          "height": 458
        },
        "id": "vd-T2gFcXVWO",
        "outputId": "90b5b822-d0ed-4e32-c3bc-50855590d374"
      },
      "outputs": [
        {
          "output_type": "execute_result",
          "data": {
            "text/plain": [
              "0        30\n",
              "1        50\n",
              "2         0\n",
              "3        30\n",
              "4         0\n",
              "         ..\n",
              "82867     0\n",
              "82868    70\n",
              "82869    49\n",
              "82870     0\n",
              "82871     0\n",
              "Name: episode_run_time, Length: 82872, dtype: int64"
            ],
            "text/html": [
              "<div>\n",
              "<style scoped>\n",
              "    .dataframe tbody tr th:only-of-type {\n",
              "        vertical-align: middle;\n",
              "    }\n",
              "\n",
              "    .dataframe tbody tr th {\n",
              "        vertical-align: top;\n",
              "    }\n",
              "\n",
              "    .dataframe thead th {\n",
              "        text-align: right;\n",
              "    }\n",
              "</style>\n",
              "<table border=\"1\" class=\"dataframe\">\n",
              "  <thead>\n",
              "    <tr style=\"text-align: right;\">\n",
              "      <th></th>\n",
              "      <th>episode_run_time</th>\n",
              "    </tr>\n",
              "  </thead>\n",
              "  <tbody>\n",
              "    <tr>\n",
              "      <th>0</th>\n",
              "      <td>30</td>\n",
              "    </tr>\n",
              "    <tr>\n",
              "      <th>1</th>\n",
              "      <td>50</td>\n",
              "    </tr>\n",
              "    <tr>\n",
              "      <th>2</th>\n",
              "      <td>0</td>\n",
              "    </tr>\n",
              "    <tr>\n",
              "      <th>3</th>\n",
              "      <td>30</td>\n",
              "    </tr>\n",
              "    <tr>\n",
              "      <th>4</th>\n",
              "      <td>0</td>\n",
              "    </tr>\n",
              "    <tr>\n",
              "      <th>...</th>\n",
              "      <td>...</td>\n",
              "    </tr>\n",
              "    <tr>\n",
              "      <th>82867</th>\n",
              "      <td>0</td>\n",
              "    </tr>\n",
              "    <tr>\n",
              "      <th>82868</th>\n",
              "      <td>70</td>\n",
              "    </tr>\n",
              "    <tr>\n",
              "      <th>82869</th>\n",
              "      <td>49</td>\n",
              "    </tr>\n",
              "    <tr>\n",
              "      <th>82870</th>\n",
              "      <td>0</td>\n",
              "    </tr>\n",
              "    <tr>\n",
              "      <th>82871</th>\n",
              "      <td>0</td>\n",
              "    </tr>\n",
              "  </tbody>\n",
              "</table>\n",
              "<p>82872 rows × 1 columns</p>\n",
              "</div><br><label><b>dtype:</b> int64</label>"
            ]
          },
          "metadata": {},
          "execution_count": 12
        }
      ],
      "source": [
        "tmdb_eda['episode_run_time']"
      ]
    },
    {
      "cell_type": "markdown",
      "metadata": {
        "id": "0_7ODqTuXksa"
      },
      "source": [
        "# IQR episode_run_time  & cap Outliers"
      ]
    },
    {
      "cell_type": "code",
      "source": [
        "import pandas as pd\n",
        "import numpy as np\n",
        "\n",
        "# Assuming tmdb_eda is your DataFrame\n",
        "\n",
        "# 1. Calculate quartiles and IQR:\n",
        "Q1 = tmdb_eda['episode_run_time'].quantile(0.25)\n",
        "Q3 = tmdb_eda['episode_run_time'].quantile(0.75)\n",
        "IQR = Q3 - Q1\n",
        "\n",
        "# 2. Calculate bounds:\n",
        "lower_bound = Q1 - 1.5 * IQR\n",
        "upper_bound = Q3 + 1.5 * IQR\n",
        "\n",
        "# 3. Cap outliers:\n",
        "tmdb_eda['episode_run_time'] = np.clip(tmdb_eda['episode_run_time'], lower_bound, upper_bound)\n",
        "\n",
        "# 4. (Optional) Print information:\n",
        "print(\"Lower bound:\", lower_bound)\n",
        "print(\"Upper bound:\", upper_bound)\n",
        "# You can also print the DataFrame to see the capped values\n",
        "print(tmdb_eda['episode_run_time'])\n"
      ],
      "metadata": {
        "colab": {
          "base_uri": "https://localhost:8080/"
        },
        "id": "rRHTzHABbnMA",
        "outputId": "eaf668b9-0980-47e4-8471-490539e20172"
      },
      "execution_count": 13,
      "outputs": [
        {
          "output_type": "stream",
          "name": "stdout",
          "text": [
            "Lower bound: -67.5\n",
            "Upper bound: 112.5\n",
            "0        30\n",
            "1        50\n",
            "2         0\n",
            "3        30\n",
            "4         0\n",
            "         ..\n",
            "82867     0\n",
            "82868    70\n",
            "82869    49\n",
            "82870     0\n",
            "82871     0\n",
            "Name: episode_run_time, Length: 82872, dtype: int64\n"
          ]
        }
      ]
    },
    {
      "cell_type": "markdown",
      "metadata": {
        "id": "jGi2FCFCvhdK"
      },
      "source": [
        "# TMDB Target Values\n",
        "\n",
        "project purpose:\n",
        "\n",
        "building a predictive model to determine the success of a TV show. To do this, I need to define a target variable – what you're trying to predict.\n",
        "\n",
        "Pridicting the Popularity:\n",
        "\n",
        "This is a numerical value provided by TMDB, reflecting the overall popularity of a TV show.\n",
        "It's a complex metric calculated by TMDB based on various factors like page views, user ratings, and interactions.\n",
        "Pros: It represents a holistic view of success, incorporating different aspects.\n",
        "Cons: It might be difficult to interpret directly and can be influenced by external factors.\n",
        "\n"
      ]
    },
    {
      "cell_type": "markdown",
      "metadata": {
        "id": "SIvXfG_tTphH"
      },
      "source": [
        "# Creating Dummies - tmdb_eda 'adult' column\n",
        "\n",
        "\n",
        "Dummy variables are a way to represent categorical data (like TV show genres, languages, or status) as numerical values that machine learning models can understand. They are essentially binary (0 or 1) variables that indicate the presence or absence of a particular category.\n",
        "\n",
        "\n",
        "Most machine learning algorithms work with numerical data. They can't directly handle categorical data in its original form (e.g., text labels). Dummy variables convert categorical data into a numerical format that these algorithms can process."
      ]
    },
    {
      "cell_type": "code",
      "source": [
        "import pandas as pd\n",
        "\n",
        "# Assuming tmdb_eda is your DataFrame\n",
        "\n",
        "tmdb_eda = pd.get_dummies(tmdb_eda, columns=['adult'], prefix=['adult'], drop_first=True)\n",
        "\n",
        "# Display the modified DataFrame\n",
        "print(tmdb_eda.head())\n"
      ],
      "metadata": {
        "colab": {
          "base_uri": "https://localhost:8080/"
        },
        "id": "tSgAsJHN49se",
        "outputId": "8d99d9f7-8fb6-4fd5-c26b-017b0a22e803"
      },
      "execution_count": 14,
      "outputs": [
        {
          "output_type": "stream",
          "name": "stdout",
          "text": [
            "              name        id  number_of_seasons  number_of_episodes  \\\n",
            "0          minutes   39280.0                  1                 0.0   \n",
            "1              man  222838.6                  1                 5.0   \n",
            "2   erne tur retur  222838.6                  1                10.0   \n",
            "3                    34835.0                  1                12.0   \n",
            "4             bama   42598.0                  1                 0.0   \n",
            "\n",
            "   vote_count  vote_average first_air_date last_air_date  popularity  type  \\\n",
            "0           0           0.0           None          None    0.470004     4   \n",
            "1           3           7.7     2023-05-28    2023-06-25    1.723837     4   \n",
            "2           0           0.0     2014-05-15    2014-07-17    0.470004     4   \n",
            "3           5           6.4     2006-10-06    2006-12-22    2.375928     4   \n",
            "4           0           0.0           None          None    0.470004     4   \n",
            "\n",
            "   genres  created_by  languages  networks  origin_country  \\\n",
            "0      19          20          6        18              19   \n",
            "1      12          20         10        18              12   \n",
            "2      19          20         13        18               5   \n",
            "3      19          20         10        18              12   \n",
            "4       5          20         13        18              20   \n",
            "\n",
            "   production_companies  episode_run_time  popularity_log  adult_True  \n",
            "0                    18                30        0.385265       False  \n",
            "1                    18                50        1.002042       False  \n",
            "2                    18                 0        0.385265       False  \n",
            "3                    18                30        1.216670       False  \n",
            "4                    18                 0        0.385265       False  \n"
          ]
        }
      ]
    },
    {
      "cell_type": "code",
      "execution_count": 15,
      "metadata": {
        "colab": {
          "base_uri": "https://localhost:8080/"
        },
        "id": "Gm7r65_cVtog",
        "outputId": "6374ffc6-74d9-4965-eab1-3d987a227d08"
      },
      "outputs": [
        {
          "output_type": "stream",
          "name": "stdout",
          "text": [
            "<class 'pandas.core.frame.DataFrame'>\n",
            "RangeIndex: 82872 entries, 0 to 82871\n",
            "Data columns (total 19 columns):\n",
            " #   Column                Non-Null Count  Dtype  \n",
            "---  ------                --------------  -----  \n",
            " 0   name                  82872 non-null  object \n",
            " 1   id                    82872 non-null  float64\n",
            " 2   number_of_seasons     82872 non-null  int64  \n",
            " 3   number_of_episodes    82872 non-null  float64\n",
            " 4   vote_count            82872 non-null  int64  \n",
            " 5   vote_average          82872 non-null  float64\n",
            " 6   first_air_date        62883 non-null  object \n",
            " 7   last_air_date         63444 non-null  object \n",
            " 8   popularity            82872 non-null  float64\n",
            " 9   type                  82872 non-null  int64  \n",
            " 10  genres                82872 non-null  int64  \n",
            " 11  created_by            82872 non-null  int64  \n",
            " 12  languages             82872 non-null  int64  \n",
            " 13  networks              82872 non-null  int64  \n",
            " 14  origin_country        82872 non-null  int64  \n",
            " 15  production_companies  82872 non-null  int64  \n",
            " 16  episode_run_time      82872 non-null  int64  \n",
            " 17  popularity_log        82872 non-null  float64\n",
            " 18  adult_True            82872 non-null  bool   \n",
            "dtypes: bool(1), float64(5), int64(10), object(3)\n",
            "memory usage: 11.5+ MB\n"
          ]
        }
      ],
      "source": [
        "tmdb_eda.info()"
      ]
    },
    {
      "cell_type": "markdown",
      "metadata": {
        "id": "FD18mFRioZh5"
      },
      "source": [
        "# Convert  'first_air_date' & 'last_air_date' to datetime objects & adding Column 'air_time'\n",
        "\n",
        "Data Type: Converting to datetime objects allows you to perform date and time-based calculations and analysis (like finding the difference between dates).\n",
        "Feature Engineering: The 'air_time' column you create is a new feature that might be useful for your predictive model. It represents the total duration a TV show has been on air, which could be related to its popularity or success."
      ]
    },
    {
      "cell_type": "code",
      "execution_count": 16,
      "metadata": {
        "colab": {
          "base_uri": "https://localhost:8080/"
        },
        "id": "GRaTzY0cms3y",
        "outputId": "90113066-120d-41c3-9bec-f630034cff46"
      },
      "outputs": [
        {
          "output_type": "stream",
          "name": "stdout",
          "text": [
            "  first_air_date last_air_date  air_time\n",
            "0            NaT           NaT       NaN\n",
            "1     2023-05-28    2023-06-25      28.0\n",
            "2     2014-05-15    2014-07-17      63.0\n",
            "3     2006-10-06    2006-12-22      77.0\n",
            "4            NaT           NaT       NaN\n"
          ]
        }
      ],
      "source": [
        "import pandas as pd\n",
        "\n",
        "# Assuming tmdb_eda is your DataFrame\n",
        "tmdb_test = tmdb_eda.copy()  # Create a copy to avoid modifying the original DataFrame\n",
        "\n",
        "# Convert 'first_air_date' and 'last_air_date' to datetime objects\n",
        "tmdb_test['first_air_date'] = pd.to_datetime(tmdb_test['first_air_date'], errors='coerce')  # errors='coerce' handles invalid dates\n",
        "tmdb_test['last_air_date'] = pd.to_datetime(tmdb_test['last_air_date'], errors='coerce')\n",
        "\n",
        "# Calculate the difference and store in a new column 'air_time'\n",
        "tmdb_test['air_time'] = (tmdb_test['last_air_date'] - tmdb_test['first_air_date']).dt.days\n",
        "# Updating the tmdb_eda DatFrame with the changes\n",
        "tmdb_eda = tmdb_test.copy()\n",
        "# Display the DataFrame to see the changes\n",
        "print(tmdb_eda[['first_air_date', 'last_air_date', 'air_time']].head())"
      ]
    },
    {
      "cell_type": "markdown",
      "source": [
        "# Correlation and other relationship Analysis:\n",
        " Analys different features to identify multicollinearity and feature importance."
      ],
      "metadata": {
        "id": "SrddcvIY2U6A"
      }
    },
    {
      "cell_type": "markdown",
      "source": [
        "# Convert boolean columns to int64"
      ],
      "metadata": {
        "id": "wHuGcyWVTDi6"
      }
    },
    {
      "cell_type": "code",
      "source": [
        "# Assuming tmdb_eda is your DataFrame\n",
        "\n",
        "# Select boolean columns\n",
        "bool_cols = tmdb_eda.select_dtypes(include=['bool']).columns\n",
        "\n",
        "# Convert boolean columns to int64\n",
        "tmdb_eda[bool_cols] = tmdb_eda[bool_cols].astype(int)\n",
        "\n",
        "# Verify the changes\n",
        "tmdb_eda.info()"
      ],
      "metadata": {
        "colab": {
          "base_uri": "https://localhost:8080/"
        },
        "id": "DgKxZcyJ4oI-",
        "outputId": "82decb86-3edc-4ada-9271-9421cc050dd4"
      },
      "execution_count": 17,
      "outputs": [
        {
          "output_type": "stream",
          "name": "stdout",
          "text": [
            "<class 'pandas.core.frame.DataFrame'>\n",
            "RangeIndex: 82872 entries, 0 to 82871\n",
            "Data columns (total 20 columns):\n",
            " #   Column                Non-Null Count  Dtype         \n",
            "---  ------                --------------  -----         \n",
            " 0   name                  82872 non-null  object        \n",
            " 1   id                    82872 non-null  float64       \n",
            " 2   number_of_seasons     82872 non-null  int64         \n",
            " 3   number_of_episodes    82872 non-null  float64       \n",
            " 4   vote_count            82872 non-null  int64         \n",
            " 5   vote_average          82872 non-null  float64       \n",
            " 6   first_air_date        62883 non-null  datetime64[ns]\n",
            " 7   last_air_date         63444 non-null  datetime64[ns]\n",
            " 8   popularity            82872 non-null  float64       \n",
            " 9   type                  82872 non-null  int64         \n",
            " 10  genres                82872 non-null  int64         \n",
            " 11  created_by            82872 non-null  int64         \n",
            " 12  languages             82872 non-null  int64         \n",
            " 13  networks              82872 non-null  int64         \n",
            " 14  origin_country        82872 non-null  int64         \n",
            " 15  production_companies  82872 non-null  int64         \n",
            " 16  episode_run_time      82872 non-null  int64         \n",
            " 17  popularity_log        82872 non-null  float64       \n",
            " 18  adult_True            82872 non-null  int64         \n",
            " 19  air_time              62836 non-null  float64       \n",
            "dtypes: datetime64[ns](2), float64(6), int64(11), object(1)\n",
            "memory usage: 12.6+ MB\n"
          ]
        }
      ]
    },
    {
      "cell_type": "code",
      "source": [
        "tmdb_eda.head(3)"
      ],
      "metadata": {
        "colab": {
          "base_uri": "https://localhost:8080/",
          "height": 181
        },
        "id": "BoLNY-D-5FXa",
        "outputId": "3237706e-4742-4ac8-a094-bac321785bd4"
      },
      "execution_count": 18,
      "outputs": [
        {
          "output_type": "execute_result",
          "data": {
            "text/plain": [
              "              name        id  number_of_seasons  number_of_episodes  \\\n",
              "0          minutes   39280.0                  1                 0.0   \n",
              "1              man  222838.6                  1                 5.0   \n",
              "2   erne tur retur  222838.6                  1                10.0   \n",
              "\n",
              "   vote_count  vote_average first_air_date last_air_date  popularity  type  \\\n",
              "0           0           0.0            NaT           NaT    0.470004     4   \n",
              "1           3           7.7     2023-05-28    2023-06-25    1.723837     4   \n",
              "2           0           0.0     2014-05-15    2014-07-17    0.470004     4   \n",
              "\n",
              "   genres  created_by  languages  networks  origin_country  \\\n",
              "0      19          20          6        18              19   \n",
              "1      12          20         10        18              12   \n",
              "2      19          20         13        18               5   \n",
              "\n",
              "   production_companies  episode_run_time  popularity_log  adult_True  \\\n",
              "0                    18                30        0.385265           0   \n",
              "1                    18                50        1.002042           0   \n",
              "2                    18                 0        0.385265           0   \n",
              "\n",
              "   air_time  \n",
              "0       NaN  \n",
              "1      28.0  \n",
              "2      63.0  "
            ],
            "text/html": [
              "\n",
              "  <div id=\"df-57dcb1ad-4a00-48bf-93cc-dedbd1bba976\" class=\"colab-df-container\">\n",
              "    <div>\n",
              "<style scoped>\n",
              "    .dataframe tbody tr th:only-of-type {\n",
              "        vertical-align: middle;\n",
              "    }\n",
              "\n",
              "    .dataframe tbody tr th {\n",
              "        vertical-align: top;\n",
              "    }\n",
              "\n",
              "    .dataframe thead th {\n",
              "        text-align: right;\n",
              "    }\n",
              "</style>\n",
              "<table border=\"1\" class=\"dataframe\">\n",
              "  <thead>\n",
              "    <tr style=\"text-align: right;\">\n",
              "      <th></th>\n",
              "      <th>name</th>\n",
              "      <th>id</th>\n",
              "      <th>number_of_seasons</th>\n",
              "      <th>number_of_episodes</th>\n",
              "      <th>vote_count</th>\n",
              "      <th>vote_average</th>\n",
              "      <th>first_air_date</th>\n",
              "      <th>last_air_date</th>\n",
              "      <th>popularity</th>\n",
              "      <th>type</th>\n",
              "      <th>genres</th>\n",
              "      <th>created_by</th>\n",
              "      <th>languages</th>\n",
              "      <th>networks</th>\n",
              "      <th>origin_country</th>\n",
              "      <th>production_companies</th>\n",
              "      <th>episode_run_time</th>\n",
              "      <th>popularity_log</th>\n",
              "      <th>adult_True</th>\n",
              "      <th>air_time</th>\n",
              "    </tr>\n",
              "  </thead>\n",
              "  <tbody>\n",
              "    <tr>\n",
              "      <th>0</th>\n",
              "      <td>minutes</td>\n",
              "      <td>39280.0</td>\n",
              "      <td>1</td>\n",
              "      <td>0.0</td>\n",
              "      <td>0</td>\n",
              "      <td>0.0</td>\n",
              "      <td>NaT</td>\n",
              "      <td>NaT</td>\n",
              "      <td>0.470004</td>\n",
              "      <td>4</td>\n",
              "      <td>19</td>\n",
              "      <td>20</td>\n",
              "      <td>6</td>\n",
              "      <td>18</td>\n",
              "      <td>19</td>\n",
              "      <td>18</td>\n",
              "      <td>30</td>\n",
              "      <td>0.385265</td>\n",
              "      <td>0</td>\n",
              "      <td>NaN</td>\n",
              "    </tr>\n",
              "    <tr>\n",
              "      <th>1</th>\n",
              "      <td>man</td>\n",
              "      <td>222838.6</td>\n",
              "      <td>1</td>\n",
              "      <td>5.0</td>\n",
              "      <td>3</td>\n",
              "      <td>7.7</td>\n",
              "      <td>2023-05-28</td>\n",
              "      <td>2023-06-25</td>\n",
              "      <td>1.723837</td>\n",
              "      <td>4</td>\n",
              "      <td>12</td>\n",
              "      <td>20</td>\n",
              "      <td>10</td>\n",
              "      <td>18</td>\n",
              "      <td>12</td>\n",
              "      <td>18</td>\n",
              "      <td>50</td>\n",
              "      <td>1.002042</td>\n",
              "      <td>0</td>\n",
              "      <td>28.0</td>\n",
              "    </tr>\n",
              "    <tr>\n",
              "      <th>2</th>\n",
              "      <td>erne tur retur</td>\n",
              "      <td>222838.6</td>\n",
              "      <td>1</td>\n",
              "      <td>10.0</td>\n",
              "      <td>0</td>\n",
              "      <td>0.0</td>\n",
              "      <td>2014-05-15</td>\n",
              "      <td>2014-07-17</td>\n",
              "      <td>0.470004</td>\n",
              "      <td>4</td>\n",
              "      <td>19</td>\n",
              "      <td>20</td>\n",
              "      <td>13</td>\n",
              "      <td>18</td>\n",
              "      <td>5</td>\n",
              "      <td>18</td>\n",
              "      <td>0</td>\n",
              "      <td>0.385265</td>\n",
              "      <td>0</td>\n",
              "      <td>63.0</td>\n",
              "    </tr>\n",
              "  </tbody>\n",
              "</table>\n",
              "</div>\n",
              "    <div class=\"colab-df-buttons\">\n",
              "\n",
              "  <div class=\"colab-df-container\">\n",
              "    <button class=\"colab-df-convert\" onclick=\"convertToInteractive('df-57dcb1ad-4a00-48bf-93cc-dedbd1bba976')\"\n",
              "            title=\"Convert this dataframe to an interactive table.\"\n",
              "            style=\"display:none;\">\n",
              "\n",
              "  <svg xmlns=\"http://www.w3.org/2000/svg\" height=\"24px\" viewBox=\"0 -960 960 960\">\n",
              "    <path d=\"M120-120v-720h720v720H120Zm60-500h600v-160H180v160Zm220 220h160v-160H400v160Zm0 220h160v-160H400v160ZM180-400h160v-160H180v160Zm440 0h160v-160H620v160ZM180-180h160v-160H180v160Zm440 0h160v-160H620v160Z\"/>\n",
              "  </svg>\n",
              "    </button>\n",
              "\n",
              "  <style>\n",
              "    .colab-df-container {\n",
              "      display:flex;\n",
              "      gap: 12px;\n",
              "    }\n",
              "\n",
              "    .colab-df-convert {\n",
              "      background-color: #E8F0FE;\n",
              "      border: none;\n",
              "      border-radius: 50%;\n",
              "      cursor: pointer;\n",
              "      display: none;\n",
              "      fill: #1967D2;\n",
              "      height: 32px;\n",
              "      padding: 0 0 0 0;\n",
              "      width: 32px;\n",
              "    }\n",
              "\n",
              "    .colab-df-convert:hover {\n",
              "      background-color: #E2EBFA;\n",
              "      box-shadow: 0px 1px 2px rgba(60, 64, 67, 0.3), 0px 1px 3px 1px rgba(60, 64, 67, 0.15);\n",
              "      fill: #174EA6;\n",
              "    }\n",
              "\n",
              "    .colab-df-buttons div {\n",
              "      margin-bottom: 4px;\n",
              "    }\n",
              "\n",
              "    [theme=dark] .colab-df-convert {\n",
              "      background-color: #3B4455;\n",
              "      fill: #D2E3FC;\n",
              "    }\n",
              "\n",
              "    [theme=dark] .colab-df-convert:hover {\n",
              "      background-color: #434B5C;\n",
              "      box-shadow: 0px 1px 3px 1px rgba(0, 0, 0, 0.15);\n",
              "      filter: drop-shadow(0px 1px 2px rgba(0, 0, 0, 0.3));\n",
              "      fill: #FFFFFF;\n",
              "    }\n",
              "  </style>\n",
              "\n",
              "    <script>\n",
              "      const buttonEl =\n",
              "        document.querySelector('#df-57dcb1ad-4a00-48bf-93cc-dedbd1bba976 button.colab-df-convert');\n",
              "      buttonEl.style.display =\n",
              "        google.colab.kernel.accessAllowed ? 'block' : 'none';\n",
              "\n",
              "      async function convertToInteractive(key) {\n",
              "        const element = document.querySelector('#df-57dcb1ad-4a00-48bf-93cc-dedbd1bba976');\n",
              "        const dataTable =\n",
              "          await google.colab.kernel.invokeFunction('convertToInteractive',\n",
              "                                                    [key], {});\n",
              "        if (!dataTable) return;\n",
              "\n",
              "        const docLinkHtml = 'Like what you see? Visit the ' +\n",
              "          '<a target=\"_blank\" href=https://colab.research.google.com/notebooks/data_table.ipynb>data table notebook</a>'\n",
              "          + ' to learn more about interactive tables.';\n",
              "        element.innerHTML = '';\n",
              "        dataTable['output_type'] = 'display_data';\n",
              "        await google.colab.output.renderOutput(dataTable, element);\n",
              "        const docLink = document.createElement('div');\n",
              "        docLink.innerHTML = docLinkHtml;\n",
              "        element.appendChild(docLink);\n",
              "      }\n",
              "    </script>\n",
              "  </div>\n",
              "\n",
              "\n",
              "<div id=\"df-10b30c5b-2092-4177-9bec-190544f3a6c6\">\n",
              "  <button class=\"colab-df-quickchart\" onclick=\"quickchart('df-10b30c5b-2092-4177-9bec-190544f3a6c6')\"\n",
              "            title=\"Suggest charts\"\n",
              "            style=\"display:none;\">\n",
              "\n",
              "<svg xmlns=\"http://www.w3.org/2000/svg\" height=\"24px\"viewBox=\"0 0 24 24\"\n",
              "     width=\"24px\">\n",
              "    <g>\n",
              "        <path d=\"M19 3H5c-1.1 0-2 .9-2 2v14c0 1.1.9 2 2 2h14c1.1 0 2-.9 2-2V5c0-1.1-.9-2-2-2zM9 17H7v-7h2v7zm4 0h-2V7h2v10zm4 0h-2v-4h2v4z\"/>\n",
              "    </g>\n",
              "</svg>\n",
              "  </button>\n",
              "\n",
              "<style>\n",
              "  .colab-df-quickchart {\n",
              "      --bg-color: #E8F0FE;\n",
              "      --fill-color: #1967D2;\n",
              "      --hover-bg-color: #E2EBFA;\n",
              "      --hover-fill-color: #174EA6;\n",
              "      --disabled-fill-color: #AAA;\n",
              "      --disabled-bg-color: #DDD;\n",
              "  }\n",
              "\n",
              "  [theme=dark] .colab-df-quickchart {\n",
              "      --bg-color: #3B4455;\n",
              "      --fill-color: #D2E3FC;\n",
              "      --hover-bg-color: #434B5C;\n",
              "      --hover-fill-color: #FFFFFF;\n",
              "      --disabled-bg-color: #3B4455;\n",
              "      --disabled-fill-color: #666;\n",
              "  }\n",
              "\n",
              "  .colab-df-quickchart {\n",
              "    background-color: var(--bg-color);\n",
              "    border: none;\n",
              "    border-radius: 50%;\n",
              "    cursor: pointer;\n",
              "    display: none;\n",
              "    fill: var(--fill-color);\n",
              "    height: 32px;\n",
              "    padding: 0;\n",
              "    width: 32px;\n",
              "  }\n",
              "\n",
              "  .colab-df-quickchart:hover {\n",
              "    background-color: var(--hover-bg-color);\n",
              "    box-shadow: 0 1px 2px rgba(60, 64, 67, 0.3), 0 1px 3px 1px rgba(60, 64, 67, 0.15);\n",
              "    fill: var(--button-hover-fill-color);\n",
              "  }\n",
              "\n",
              "  .colab-df-quickchart-complete:disabled,\n",
              "  .colab-df-quickchart-complete:disabled:hover {\n",
              "    background-color: var(--disabled-bg-color);\n",
              "    fill: var(--disabled-fill-color);\n",
              "    box-shadow: none;\n",
              "  }\n",
              "\n",
              "  .colab-df-spinner {\n",
              "    border: 2px solid var(--fill-color);\n",
              "    border-color: transparent;\n",
              "    border-bottom-color: var(--fill-color);\n",
              "    animation:\n",
              "      spin 1s steps(1) infinite;\n",
              "  }\n",
              "\n",
              "  @keyframes spin {\n",
              "    0% {\n",
              "      border-color: transparent;\n",
              "      border-bottom-color: var(--fill-color);\n",
              "      border-left-color: var(--fill-color);\n",
              "    }\n",
              "    20% {\n",
              "      border-color: transparent;\n",
              "      border-left-color: var(--fill-color);\n",
              "      border-top-color: var(--fill-color);\n",
              "    }\n",
              "    30% {\n",
              "      border-color: transparent;\n",
              "      border-left-color: var(--fill-color);\n",
              "      border-top-color: var(--fill-color);\n",
              "      border-right-color: var(--fill-color);\n",
              "    }\n",
              "    40% {\n",
              "      border-color: transparent;\n",
              "      border-right-color: var(--fill-color);\n",
              "      border-top-color: var(--fill-color);\n",
              "    }\n",
              "    60% {\n",
              "      border-color: transparent;\n",
              "      border-right-color: var(--fill-color);\n",
              "    }\n",
              "    80% {\n",
              "      border-color: transparent;\n",
              "      border-right-color: var(--fill-color);\n",
              "      border-bottom-color: var(--fill-color);\n",
              "    }\n",
              "    90% {\n",
              "      border-color: transparent;\n",
              "      border-bottom-color: var(--fill-color);\n",
              "    }\n",
              "  }\n",
              "</style>\n",
              "\n",
              "  <script>\n",
              "    async function quickchart(key) {\n",
              "      const quickchartButtonEl =\n",
              "        document.querySelector('#' + key + ' button');\n",
              "      quickchartButtonEl.disabled = true;  // To prevent multiple clicks.\n",
              "      quickchartButtonEl.classList.add('colab-df-spinner');\n",
              "      try {\n",
              "        const charts = await google.colab.kernel.invokeFunction(\n",
              "            'suggestCharts', [key], {});\n",
              "      } catch (error) {\n",
              "        console.error('Error during call to suggestCharts:', error);\n",
              "      }\n",
              "      quickchartButtonEl.classList.remove('colab-df-spinner');\n",
              "      quickchartButtonEl.classList.add('colab-df-quickchart-complete');\n",
              "    }\n",
              "    (() => {\n",
              "      let quickchartButtonEl =\n",
              "        document.querySelector('#df-10b30c5b-2092-4177-9bec-190544f3a6c6 button');\n",
              "      quickchartButtonEl.style.display =\n",
              "        google.colab.kernel.accessAllowed ? 'block' : 'none';\n",
              "    })();\n",
              "  </script>\n",
              "</div>\n",
              "\n",
              "    </div>\n",
              "  </div>\n"
            ],
            "application/vnd.google.colaboratory.intrinsic+json": {
              "type": "dataframe",
              "variable_name": "tmdb_eda",
              "summary": "{\n  \"name\": \"tmdb_eda\",\n  \"rows\": 82872,\n  \"fields\": [\n    {\n      \"column\": \"name\",\n      \"properties\": {\n        \"dtype\": \"string\",\n        \"num_unique_values\": 82429,\n        \"samples\": [\n          \"coraz\\u00f3n de fuego\",\n          \"camino de santiago\",\n          \"sweeney todd\"\n        ],\n        \"semantic_type\": \"\",\n        \"description\": \"\"\n      }\n    },\n    {\n      \"column\": \"id\",\n      \"properties\": {\n        \"dtype\": \"number\",\n        \"std\": 64120.49330878165,\n        \"min\": 5623.55,\n        \"max\": 222838.59999999998,\n        \"num_unique_values\": 74586,\n        \"samples\": [\n          19515.0,\n          21230.0,\n          56843.0\n        ],\n        \"semantic_type\": \"\",\n        \"description\": \"\"\n      }\n    },\n    {\n      \"column\": \"number_of_seasons\",\n      \"properties\": {\n        \"dtype\": \"number\",\n        \"std\": 0,\n        \"min\": 1,\n        \"max\": 1,\n        \"num_unique_values\": 1,\n        \"samples\": [\n          1\n        ],\n        \"semantic_type\": \"\",\n        \"description\": \"\"\n      }\n    },\n    {\n      \"column\": \"number_of_episodes\",\n      \"properties\": {\n        \"dtype\": \"number\",\n        \"std\": 15.845607784013538,\n        \"min\": 0.0,\n        \"max\": 48.5,\n        \"num_unique_values\": 50,\n        \"samples\": [\n          2.0\n        ],\n        \"semantic_type\": \"\",\n        \"description\": \"\"\n      }\n    },\n    {\n      \"column\": \"vote_count\",\n      \"properties\": {\n        \"dtype\": \"number\",\n        \"std\": 1,\n        \"min\": 0,\n        \"max\": 5,\n        \"num_unique_values\": 6,\n        \"samples\": [\n          0\n        ],\n        \"semantic_type\": \"\",\n        \"description\": \"\"\n      }\n    },\n    {\n      \"column\": \"vote_average\",\n      \"properties\": {\n        \"dtype\": \"number\",\n        \"std\": 3.5183891123122106,\n        \"min\": 0.0,\n        \"max\": 9.0,\n        \"num_unique_values\": 2134,\n        \"samples\": [\n          8.279\n        ],\n        \"semantic_type\": \"\",\n        \"description\": \"\"\n      }\n    },\n    {\n      \"column\": \"first_air_date\",\n      \"properties\": {\n        \"dtype\": \"date\",\n        \"min\": \"1921-01-01 00:00:00\",\n        \"max\": \"2024-04-23 00:00:00\",\n        \"num_unique_values\": 16414,\n        \"samples\": [\n          \"1975-07-16 00:00:00\"\n        ],\n        \"semantic_type\": \"\",\n        \"description\": \"\"\n      }\n    },\n    {\n      \"column\": \"last_air_date\",\n      \"properties\": {\n        \"dtype\": \"date\",\n        \"min\": \"1921-07-09 00:00:00\",\n        \"max\": \"2024-04-04 00:00:00\",\n        \"num_unique_values\": 16882,\n        \"samples\": [\n          \"2001-09-27 00:00:00\"\n        ],\n        \"semantic_type\": \"\",\n        \"description\": \"\"\n      }\n    },\n    {\n      \"column\": \"popularity\",\n      \"properties\": {\n        \"dtype\": \"number\",\n        \"std\": 0.7343813898551264,\n        \"min\": 0.47000362924573563,\n        \"max\": 2.758229208097164,\n        \"num_unique_values\": 9477,\n        \"samples\": [\n          1.2770373751829411\n        ],\n        \"semantic_type\": \"\",\n        \"description\": \"\"\n      }\n    },\n    {\n      \"column\": \"type\",\n      \"properties\": {\n        \"dtype\": \"number\",\n        \"std\": 1,\n        \"min\": 0,\n        \"max\": 4,\n        \"num_unique_values\": 5,\n        \"samples\": [\n          0\n        ],\n        \"semantic_type\": \"\",\n        \"description\": \"\"\n      }\n    },\n    {\n      \"column\": \"genres\",\n      \"properties\": {\n        \"dtype\": \"number\",\n        \"std\": 5,\n        \"min\": 3,\n        \"max\": 19,\n        \"num_unique_values\": 17,\n        \"samples\": [\n          19\n        ],\n        \"semantic_type\": \"\",\n        \"description\": \"\"\n      }\n    },\n    {\n      \"column\": \"created_by\",\n      \"properties\": {\n        \"dtype\": \"number\",\n        \"std\": 0,\n        \"min\": 20,\n        \"max\": 20,\n        \"num_unique_values\": 1,\n        \"samples\": [\n          20\n        ],\n        \"semantic_type\": \"\",\n        \"description\": \"\"\n      }\n    },\n    {\n      \"column\": \"languages\",\n      \"properties\": {\n        \"dtype\": \"number\",\n        \"std\": 3,\n        \"min\": 4,\n        \"max\": 18,\n        \"num_unique_values\": 15,\n        \"samples\": [\n          14\n        ],\n        \"semantic_type\": \"\",\n        \"description\": \"\"\n      }\n    },\n    {\n      \"column\": \"networks\",\n      \"properties\": {\n        \"dtype\": \"number\",\n        \"std\": 4,\n        \"min\": 3,\n        \"max\": 18,\n        \"num_unique_values\": 16,\n        \"samples\": [\n          18\n        ],\n        \"semantic_type\": \"\",\n        \"description\": \"\"\n      }\n    },\n    {\n      \"column\": \"origin_country\",\n      \"properties\": {\n        \"dtype\": \"number\",\n        \"std\": 6,\n        \"min\": 2,\n        \"max\": 20,\n        \"num_unique_values\": 19,\n        \"samples\": [\n          19\n        ],\n        \"semantic_type\": \"\",\n        \"description\": \"\"\n      }\n    },\n    {\n      \"column\": \"production_companies\",\n      \"properties\": {\n        \"dtype\": \"number\",\n        \"std\": 0,\n        \"min\": 18,\n        \"max\": 18,\n        \"num_unique_values\": 1,\n        \"samples\": [\n          18\n        ],\n        \"semantic_type\": \"\",\n        \"description\": \"\"\n      }\n    },\n    {\n      \"column\": \"episode_run_time\",\n      \"properties\": {\n        \"dtype\": \"number\",\n        \"std\": 24,\n        \"min\": 0,\n        \"max\": 70,\n        \"num_unique_values\": 71,\n        \"samples\": [\n          42\n        ],\n        \"semantic_type\": \"\",\n        \"description\": \"\"\n      }\n    },\n    {\n      \"column\": \"popularity_log\",\n      \"properties\": {\n        \"dtype\": \"number\",\n        \"std\": 0.3290125842161258,\n        \"min\": 0.3852648696622474,\n        \"max\": 1.4116889085375326,\n        \"num_unique_values\": 10961,\n        \"samples\": [\n          1.2025646014675468\n        ],\n        \"semantic_type\": \"\",\n        \"description\": \"\"\n      }\n    },\n    {\n      \"column\": \"adult_True\",\n      \"properties\": {\n        \"dtype\": \"number\",\n        \"std\": 0,\n        \"min\": 0,\n        \"max\": 1,\n        \"num_unique_values\": 2,\n        \"samples\": [\n          1\n        ],\n        \"semantic_type\": \"\",\n        \"description\": \"\"\n      }\n    },\n    {\n      \"column\": \"air_time\",\n      \"properties\": {\n        \"dtype\": \"number\",\n        \"std\": 1067.8392711956913,\n        \"min\": -13958.0,\n        \"max\": 22464.0,\n        \"num_unique_values\": 3889,\n        \"samples\": [\n          6507.0\n        ],\n        \"semantic_type\": \"\",\n        \"description\": \"\"\n      }\n    }\n  ]\n}"
            }
          },
          "metadata": {},
          "execution_count": 18
        }
      ]
    },
    {
      "cell_type": "markdown",
      "source": [
        "# Missing Values:\n",
        "Address missing data through imputation methods (e.g., mean, median, mode) or by removing incomplete records, depending on the context and importance of the missing information."
      ],
      "metadata": {
        "id": "JMZGvgUImafH"
      }
    },
    {
      "cell_type": "code",
      "source": [
        "print(tmdb_eda.isnull().sum())"
      ],
      "metadata": {
        "colab": {
          "base_uri": "https://localhost:8080/"
        },
        "id": "JBoFaGxSmSmF",
        "outputId": "c3406261-6ba0-4595-a01b-6aa1fd18249a"
      },
      "execution_count": 19,
      "outputs": [
        {
          "output_type": "stream",
          "name": "stdout",
          "text": [
            "name                        0\n",
            "id                          0\n",
            "number_of_seasons           0\n",
            "number_of_episodes          0\n",
            "vote_count                  0\n",
            "vote_average                0\n",
            "first_air_date          19989\n",
            "last_air_date           19428\n",
            "popularity                  0\n",
            "type                        0\n",
            "genres                      0\n",
            "created_by                  0\n",
            "languages                   0\n",
            "networks                    0\n",
            "origin_country              0\n",
            "production_companies        0\n",
            "episode_run_time            0\n",
            "popularity_log              0\n",
            "adult_True                  0\n",
            "air_time                20036\n",
            "dtype: int64\n"
          ]
        }
      ]
    },
    {
      "cell_type": "markdown",
      "source": [
        "# Plotting the missingness (nullity) matrix\n",
        "\n",
        "A missingness matrix is a visual representation of missing values in a dataset. It helps you quickly identify patterns of missing data and understand the extent of missingness in your dataset."
      ],
      "metadata": {
        "id": "EnRQYkqqmsr6"
      }
    },
    {
      "cell_type": "code",
      "source": [
        "!pip install missingno\n",
        "import missingno as msno\n",
        "\n",
        "### plot the missingness (nullity) matrix\n",
        "missingdata_df = tmdb_eda.columns[tmdb_eda.isnull().any()].tolist()\n",
        "msno.matrix(tmdb_eda[missingdata_df])"
      ],
      "metadata": {
        "colab": {
          "base_uri": "https://localhost:8080/",
          "height": 786
        },
        "id": "JY43v-2Pmq6r",
        "outputId": "473f8689-0b11-44d0-ff7e-a84d130e0065"
      },
      "execution_count": 20,
      "outputs": [
        {
          "output_type": "stream",
          "name": "stdout",
          "text": [
            "Requirement already satisfied: missingno in /usr/local/lib/python3.11/dist-packages (0.5.2)\n",
            "Requirement already satisfied: numpy in /usr/local/lib/python3.11/dist-packages (from missingno) (2.0.2)\n",
            "Requirement already satisfied: matplotlib in /usr/local/lib/python3.11/dist-packages (from missingno) (3.10.0)\n",
            "Requirement already satisfied: scipy in /usr/local/lib/python3.11/dist-packages (from missingno) (1.14.1)\n",
            "Requirement already satisfied: seaborn in /usr/local/lib/python3.11/dist-packages (from missingno) (0.13.2)\n",
            "Requirement already satisfied: contourpy>=1.0.1 in /usr/local/lib/python3.11/dist-packages (from matplotlib->missingno) (1.3.1)\n",
            "Requirement already satisfied: cycler>=0.10 in /usr/local/lib/python3.11/dist-packages (from matplotlib->missingno) (0.12.1)\n",
            "Requirement already satisfied: fonttools>=4.22.0 in /usr/local/lib/python3.11/dist-packages (from matplotlib->missingno) (4.56.0)\n",
            "Requirement already satisfied: kiwisolver>=1.3.1 in /usr/local/lib/python3.11/dist-packages (from matplotlib->missingno) (1.4.8)\n",
            "Requirement already satisfied: packaging>=20.0 in /usr/local/lib/python3.11/dist-packages (from matplotlib->missingno) (24.2)\n",
            "Requirement already satisfied: pillow>=8 in /usr/local/lib/python3.11/dist-packages (from matplotlib->missingno) (11.1.0)\n",
            "Requirement already satisfied: pyparsing>=2.3.1 in /usr/local/lib/python3.11/dist-packages (from matplotlib->missingno) (3.2.1)\n",
            "Requirement already satisfied: python-dateutil>=2.7 in /usr/local/lib/python3.11/dist-packages (from matplotlib->missingno) (2.8.2)\n",
            "Requirement already satisfied: pandas>=1.2 in /usr/local/lib/python3.11/dist-packages (from seaborn->missingno) (2.2.2)\n",
            "Requirement already satisfied: pytz>=2020.1 in /usr/local/lib/python3.11/dist-packages (from pandas>=1.2->seaborn->missingno) (2025.1)\n",
            "Requirement already satisfied: tzdata>=2022.7 in /usr/local/lib/python3.11/dist-packages (from pandas>=1.2->seaborn->missingno) (2025.1)\n",
            "Requirement already satisfied: six>=1.5 in /usr/local/lib/python3.11/dist-packages (from python-dateutil>=2.7->matplotlib->missingno) (1.17.0)\n"
          ]
        },
        {
          "output_type": "execute_result",
          "data": {
            "text/plain": [
              "<Axes: >"
            ]
          },
          "metadata": {},
          "execution_count": 20
        },
        {
          "output_type": "display_data",
          "data": {
            "text/plain": [
              "<Figure size 2500x1000 with 2 Axes>"
            ],
            "image/png": "[encoded data removed]"
          },
          "metadata": {}
        }
      ]
    },
    {
      "cell_type": "markdown",
      "source": [
        "# Missingness Correlation HeatMap\n",
        "\n",
        "A missingness correlation heatmap is a visualization that helps you understand the relationships between missing values in different columns of your dataset. It shows the correlation between the presence or absence of data in one column and the presence or absence of data in another column."
      ],
      "metadata": {
        "id": "2H8KbSZYnNia"
      }
    },
    {
      "cell_type": "code",
      "source": [
        "##Creating the  missingness correlation heatmap\n",
        "msno.heatmap(tmdb_eda[missingdata_df], figsize=(5,5))"
      ],
      "metadata": {
        "colab": {
          "base_uri": "https://localhost:8080/",
          "height": 571
        },
        "id": "TAwc0-henPIj",
        "outputId": "3dc3acfe-2ce7-4fe2-cf10-5527ec97ca5d"
      },
      "execution_count": 21,
      "outputs": [
        {
          "output_type": "execute_result",
          "data": {
            "text/plain": [
              "<Axes: >"
            ]
          },
          "metadata": {},
          "execution_count": 21
        },
        {
          "output_type": "display_data",
          "data": {
            "text/plain": [
              "<Figure size 500x500 with 2 Axes>"
            ],
            "image/png": "[encoded data removed]"
          },
          "metadata": {}
        }
      ]
    },
    {
      "cell_type": "markdown",
      "source": [
        "# Missing Values & Imputation Methods using MICE and KNN\n",
        "\n",
        "Missing values imputation is crucial for data analysis and machine learning. Two effective methods are Multiple Imputation by Chained Equations (MICE) and K-Nearest Neighbors (KNN).\n",
        "\n",
        "**MICE Imputation**\n",
        "\n",
        "MICE is a statistical method that fills in missing data by iteratively predicting missing values based on other variables in the dataset. It's particularly useful for handling missing values in complex datasets with multiple variables and complex relationships.\n",
        "\n",
        "**Reasoning:**\n",
        "\n",
        "Handles various data types: MICE can impute missing values for both numerical and categorical variables.\n",
        "Preserves data distribution: By iteratively predicting missing values, MICE aims to maintain the original data distribution.\n",
        "Flexible and robust: It can handle different missing data patterns and complex relationships between variables."
      ],
      "metadata": {
        "id": "MVI002gnnfME"
      }
    },
    {
      "cell_type": "markdown",
      "source": [
        "# MICE Imputation\n",
        "\n",
        "MICE is a statistical method that fills in missing data by iteratively predicting missing values based on other variables in the dataset. It's particularly useful for handling missing values in complex datasets with multiple variables and complex relationships.\n",
        "\n",
        "**Reasoning:**\n",
        "\n",
        "Handles various data types: MICE can impute missing values for both numerical and categorical variables.\n",
        "Preserves data distribution: By iteratively predicting missing values, MICE aims to maintain the original data distribution.\n",
        "Flexible and robust: It can handle different missing data patterns and complex relationships between variables."
      ],
      "metadata": {
        "id": "6Y_ON7fICllY"
      }
    },
    {
      "cell_type": "code",
      "source": [
        "!pip install fancyimpute\n",
        "import pandas as pd\n",
        "from fancyimpute import IterativeImputer\n",
        "\n",
        "# Using DataFrame is called 'tmdb_eda'\n",
        "\n",
        "# Selecting the columns with missing values to impute, excluding datetime columns and object columns\n",
        "\n",
        "columns_to_impute = [col for col in tmdb_eda.columns\n",
        "                     if tmdb_eda[col].isnull().any() and\n",
        "                     tmdb_eda[col].dtype != 'datetime64[ns]' and\n",
        "                     tmdb_eda[col].dtype != 'object']  # Exclude datetime and object columns\n",
        "\n",
        "# Create an IterativeImputer object\n",
        "imputer = IterativeImputer()\n",
        "\n",
        "# Impute missing values only in the selected columns\n",
        "if columns_to_impute: # Check if columns_to_impute is not empty\n",
        "    tmdb_eda[columns_to_impute] = imputer.fit_transform(tmdb_eda[columns_to_impute])\n",
        "else:\n",
        "    print(\"No suitable columns found for imputation.\")"
      ],
      "metadata": {
        "colab": {
          "base_uri": "https://localhost:8080/"
        },
        "id": "sN7FyzdqDA7O",
        "outputId": "c0ba58b2-73f0-4b17-edc2-46016f1822db"
      },
      "execution_count": 22,
      "outputs": [
        {
          "output_type": "stream",
          "name": "stdout",
          "text": [
            "Collecting fancyimpute\n",
            "  Downloading fancyimpute-0.7.0.tar.gz (25 kB)\n",
            "  Preparing metadata (setup.py) ... \u001b[?25l\u001b[?25hdone\n",
            "Collecting knnimpute>=0.1.0 (from fancyimpute)\n",
            "  Downloading knnimpute-0.1.0.tar.gz (8.3 kB)\n",
            "  Preparing metadata (setup.py) ... \u001b[?25l\u001b[?25hdone\n",
            "Requirement already satisfied: scikit-learn>=0.24.2 in /usr/local/lib/python3.11/dist-packages (from fancyimpute) (1.6.1)\n",
            "Requirement already satisfied: cvxpy in /usr/local/lib/python3.11/dist-packages (from fancyimpute) (1.6.4)\n",
            "Requirement already satisfied: cvxopt in /usr/local/lib/python3.11/dist-packages (from fancyimpute) (1.3.2)\n",
            "Requirement already satisfied: pytest in /usr/local/lib/python3.11/dist-packages (from fancyimpute) (8.3.5)\n",
            "Collecting nose (from fancyimpute)\n",
            "  Downloading nose-1.3.7-py3-none-any.whl.metadata (1.7 kB)\n",
            "Requirement already satisfied: six in /usr/local/lib/python3.11/dist-packages (from knnimpute>=0.1.0->fancyimpute) (1.17.0)\n",
            "Requirement already satisfied: numpy>=1.10 in /usr/local/lib/python3.11/dist-packages (from knnimpute>=0.1.0->fancyimpute) (2.0.2)\n",
            "Requirement already satisfied: scipy>=1.6.0 in /usr/local/lib/python3.11/dist-packages (from scikit-learn>=0.24.2->fancyimpute) (1.14.1)\n",
            "Requirement already satisfied: joblib>=1.2.0 in /usr/local/lib/python3.11/dist-packages (from scikit-learn>=0.24.2->fancyimpute) (1.4.2)\n",
            "Requirement already satisfied: threadpoolctl>=3.1.0 in /usr/local/lib/python3.11/dist-packages (from scikit-learn>=0.24.2->fancyimpute) (3.6.0)\n",
            "Requirement already satisfied: osqp>=0.6.2 in /usr/local/lib/python3.11/dist-packages (from cvxpy->fancyimpute) (0.6.7.post3)\n",
            "Requirement already satisfied: clarabel>=0.5.0 in /usr/local/lib/python3.11/dist-packages (from cvxpy->fancyimpute) (0.10.0)\n",
            "Requirement already satisfied: scs>=3.2.4.post1 in /usr/local/lib/python3.11/dist-packages (from cvxpy->fancyimpute) (3.2.7.post2)\n",
            "Requirement already satisfied: iniconfig in /usr/local/lib/python3.11/dist-packages (from pytest->fancyimpute) (2.1.0)\n",
            "Requirement already satisfied: packaging in /usr/local/lib/python3.11/dist-packages (from pytest->fancyimpute) (24.2)\n",
            "Requirement already satisfied: pluggy<2,>=1.5 in /usr/local/lib/python3.11/dist-packages (from pytest->fancyimpute) (1.5.0)\n",
            "Requirement already satisfied: qdldl in /usr/local/lib/python3.11/dist-packages (from osqp>=0.6.2->cvxpy->fancyimpute) (0.1.7.post5)\n",
            "Downloading nose-1.3.7-py3-none-any.whl (154 kB)\n",
            "\u001b[2K   \u001b[90m━━━━━━━━━━━━━━━━━━━━━━━━━━━━━━━━━━━━━━━━\u001b[0m \u001b[32m154.7/154.7 kB\u001b[0m \u001b[31m4.2 MB/s\u001b[0m eta \u001b[36m0:00:00\u001b[0m\n",
            "\u001b[?25hBuilding wheels for collected packages: fancyimpute, knnimpute\n",
            "  Building wheel for fancyimpute (setup.py) ... \u001b[?25l\u001b[?25hdone\n",
            "  Created wheel for fancyimpute: filename=fancyimpute-0.7.0-py3-none-any.whl size=29879 sha256=79cd8949f204ca7f80f05d4ba169cef6ad9d65e67c39f6e979f080caa361451a\n",
            "  Stored in directory: /root/.cache/pip/wheels/1a/f3/a1/f7f10b5ae2c2459398762a3fcf4ac18c325311c7e3163d5a15\n",
            "  Building wheel for knnimpute (setup.py) ... \u001b[?25l\u001b[?25hdone\n",
            "  Created wheel for knnimpute: filename=knnimpute-0.1.0-py3-none-any.whl size=11329 sha256=fd0de5923ef81e911bf1fc5e66582f03f18957cc44640ba8c608d5b9e4146980\n",
            "  Stored in directory: /root/.cache/pip/wheels/ea/e8/e0/79872972161e54486517ae507f94b2c7cea27fb7ef793bd415\n",
            "Successfully built fancyimpute knnimpute\n",
            "Installing collected packages: nose, knnimpute, fancyimpute\n",
            "Successfully installed fancyimpute-0.7.0 knnimpute-0.1.0 nose-1.3.7\n"
          ]
        }
      ]
    },
    {
      "cell_type": "markdown",
      "source": [
        "# Alternative Approach (KNN Imputation):\n",
        "\n",
        "While MICE is the preferred approach, you could consider KNN imputation as an alternative, especially for numerical features with relatively few missing values. However, remember to scale your numerical features before applying KNN imputation"
      ],
      "metadata": {
        "id": "Io-fefYLB09z"
      }
    },
    {
      "cell_type": "code",
      "source": [
        "!pip install sklearn\n",
        "import pandas as pd\n",
        "from sklearn.impute import KNNImputer\n",
        "from sklearn.preprocessing import StandardScaler\n",
        "\n",
        "# Assuming your DataFrame is called 'tmdb_eda'\n",
        "# Select numerical columns with missing values\n",
        "numerical_cols = tmdb_eda.select_dtypes(include=['number']).columns[tmdb_eda.select_dtypes(include=['number']).isnull().any()]\n",
        "\n",
        "# Check if numerical_cols is empty or contains all-NaN columns\n",
        "if numerical_cols.empty:\n",
        "    print(\"No numerical columns with missing values found.\")\n",
        "else:\n",
        "    # Remove columns with all NaN values\n",
        "    numerical_cols = [col for col in numerical_cols if not tmdb_eda[col].isnull().all()]\n",
        "\n",
        "    # Check if numerical_cols is empty after removing all-NaN columns\n",
        "    if numerical_cols.empty:\n",
        "        print(\"No numerical columns with missing values found (after removing all-NaN columns).\")\n",
        "    else:\n",
        "        # Scale numerical features\n",
        "        scaler = StandardScaler()\n",
        "        tmdb_eda[numerical_cols] = scaler.fit_transform(tmdb_eda[numerical_cols])\n",
        "\n",
        "        # Create a KNNImputer object\n",
        "        imputer = KNNImputer(n_neighbors=5)  # Adjust n_neighbors as needed\n",
        "\n",
        "        # Impute missing values for numerical features\n",
        "        tmdb_eda[numerical_cols] = imputer.fit_transform(tmdb_eda[numerical_cols])\n",
        "\n",
        "        # Inverse transform to original scale (if necessary)\n",
        "        tmdb_eda[numerical_cols] = scaler.inverse_transform(tmdb_eda[numerical_cols])"
      ],
      "metadata": {
        "colab": {
          "base_uri": "https://localhost:8080/"
        },
        "id": "55cUq4vrCIua",
        "outputId": "b7688cd3-1174-4c8d-aab2-5f83e767c8a9"
      },
      "execution_count": 23,
      "outputs": [
        {
          "output_type": "stream",
          "name": "stdout",
          "text": [
            "Collecting sklearn\n",
            "  Downloading sklearn-0.0.post12.tar.gz (2.6 kB)\n",
            "  \u001b[1;31merror\u001b[0m: \u001b[1msubprocess-exited-with-error\u001b[0m\n",
            "  \n",
            "  \u001b[31m×\u001b[0m \u001b[32mpython setup.py egg_info\u001b[0m did not run successfully.\n",
            "  \u001b[31m│\u001b[0m exit code: \u001b[1;36m1\u001b[0m\n",
            "  \u001b[31m╰─>\u001b[0m See above for output.\n",
            "  \n",
            "  \u001b[1;35mnote\u001b[0m: This error originates from a subprocess, and is likely not a problem with pip.\n",
            "  Preparing metadata (setup.py) ... \u001b[?25l\u001b[?25herror\n",
            "\u001b[1;31merror\u001b[0m: \u001b[1mmetadata-generation-failed\u001b[0m\n",
            "\n",
            "\u001b[31m×\u001b[0m Encountered error while generating package metadata.\n",
            "\u001b[31m╰─>\u001b[0m See above for output.\n",
            "\n",
            "\u001b[1;35mnote\u001b[0m: This is an issue with the package mentioned above, not pip.\n",
            "\u001b[1;36mhint\u001b[0m: See above for details.\n",
            "No numerical columns with missing values found.\n"
          ]
        }
      ]
    },
    {
      "cell_type": "code",
      "source": [
        "import pandas as pd\n",
        "\n",
        "# Using tmdb_eda as DataFrame\n",
        "\n",
        "# 1. Check for Missing Values:\n",
        "print(tmdb_eda.isnull().sum())\n",
        "\n",
        "# 2. Imputation Methods:\n",
        "\n",
        "# a. Mean/Median Imputation (for numerical features):\n",
        "\n",
        "for column in tmdb_eda.select_dtypes(include=['number']).columns:\n",
        "    if tmdb_eda[column].isnull().any():\n",
        "        # Use mean if the data is normally distributed, otherwise use median\n",
        "        if tmdb_eda[column].skew() < 1:  # Check for skewness\n",
        "            tmdb_eda[column].fillna(tmdb_eda[column].mean(), inplace=True)\n",
        "        else:\n",
        "            tmdb_eda[column].fillna(tmdb_eda[column].median(), inplace=True)\n",
        "\n",
        "# b. Mode Imputation (for categorical features):\n",
        "\n",
        "for column in tmdb_eda.select_dtypes(include=['object']).columns:\n",
        "    if tmdb_eda[column].isnull().any():\n",
        "        tmdb_eda[column].fillna(tmdb_eda[column].mode()[0], inplace=True)\n",
        "\n",
        "# 3. Removing Incomplete Records (optional):\n",
        "\n",
        "# If a significant portion of data is missing for certain rows,\n",
        "# consider removing those rows:\n",
        "# tmdb_eda.dropna(inplace=True)\n",
        "\n",
        "# 4. Verify Changes:\n",
        "print(tmdb_eda.isnull().sum())"
      ],
      "metadata": {
        "colab": {
          "base_uri": "https://localhost:8080/"
        },
        "id": "J9U4QMLjnf-Z",
        "outputId": "6dc86409-0fc0-4e66-c3b8-537bf70ab43e"
      },
      "execution_count": 24,
      "outputs": [
        {
          "output_type": "stream",
          "name": "stdout",
          "text": [
            "name                        0\n",
            "id                          0\n",
            "number_of_seasons           0\n",
            "number_of_episodes          0\n",
            "vote_count                  0\n",
            "vote_average                0\n",
            "first_air_date          19989\n",
            "last_air_date           19428\n",
            "popularity                  0\n",
            "type                        0\n",
            "genres                      0\n",
            "created_by                  0\n",
            "languages                   0\n",
            "networks                    0\n",
            "origin_country              0\n",
            "production_companies        0\n",
            "episode_run_time            0\n",
            "popularity_log              0\n",
            "adult_True                  0\n",
            "air_time                    0\n",
            "dtype: int64\n",
            "name                        0\n",
            "id                          0\n",
            "number_of_seasons           0\n",
            "number_of_episodes          0\n",
            "vote_count                  0\n",
            "vote_average                0\n",
            "first_air_date          19989\n",
            "last_air_date           19428\n",
            "popularity                  0\n",
            "type                        0\n",
            "genres                      0\n",
            "created_by                  0\n",
            "languages                   0\n",
            "networks                    0\n",
            "origin_country              0\n",
            "production_companies        0\n",
            "episode_run_time            0\n",
            "popularity_log              0\n",
            "adult_True                  0\n",
            "air_time                    0\n",
            "dtype: int64\n"
          ]
        }
      ]
    },
    {
      "cell_type": "markdown",
      "metadata": {
        "id": "smDdRnjYvRgh"
      },
      "source": [
        "# Missing Values Imputation\n",
        "\n",
        "Missing values imputation is the process of filling in missing data points in your dataset with estimated values. It's an important step in data preprocessing because many machine learning algorithms cannot handle missing values directly.\n",
        "\n",
        "\n",
        "Using two main imputation methods:\n",
        "\n",
        "**1.Mean/Median Imputation:**\n",
        "\n",
        "For numerical features:\n",
        "\n",
        "If the data is normally distributed (low skewness), missing values are filled with the mean of the column.\n",
        "If the data is skewed, missing values are filled with the median of the column.\n",
        "\n",
        "Reasoning:\n",
        "\n",
        "Mean imputation is appropriate for normally distributed data as it preserves the overall distribution.\n",
        "\n",
        "Median imputation is more robust to outliers and is preferred for skewed data.\n",
        "\n",
        "**2. Mode Imputation: **\n",
        "\n",
        "For categorical features:\n",
        "\n",
        "Missing values are filled with the mode (most frequent value) of the column.\n",
        "Reasoning:\n",
        "\n",
        "Mode imputation is the most common approach for categorical data as it replaces missing values with the most likely category."
      ]
    },
    {
      "cell_type": "code",
      "source": [
        "tmdb_eda.info()"
      ],
      "metadata": {
        "colab": {
          "base_uri": "https://localhost:8080/"
        },
        "id": "kGv6lR_S_yN_",
        "outputId": "c33ea29c-e36f-48c8-d231-86e1e22630dd"
      },
      "execution_count": 25,
      "outputs": [
        {
          "output_type": "stream",
          "name": "stdout",
          "text": [
            "<class 'pandas.core.frame.DataFrame'>\n",
            "RangeIndex: 82872 entries, 0 to 82871\n",
            "Data columns (total 20 columns):\n",
            " #   Column                Non-Null Count  Dtype         \n",
            "---  ------                --------------  -----         \n",
            " 0   name                  82872 non-null  object        \n",
            " 1   id                    82872 non-null  float64       \n",
            " 2   number_of_seasons     82872 non-null  int64         \n",
            " 3   number_of_episodes    82872 non-null  float64       \n",
            " 4   vote_count            82872 non-null  int64         \n",
            " 5   vote_average          82872 non-null  float64       \n",
            " 6   first_air_date        62883 non-null  datetime64[ns]\n",
            " 7   last_air_date         63444 non-null  datetime64[ns]\n",
            " 8   popularity            82872 non-null  float64       \n",
            " 9   type                  82872 non-null  int64         \n",
            " 10  genres                82872 non-null  int64         \n",
            " 11  created_by            82872 non-null  int64         \n",
            " 12  languages             82872 non-null  int64         \n",
            " 13  networks              82872 non-null  int64         \n",
            " 14  origin_country        82872 non-null  int64         \n",
            " 15  production_companies  82872 non-null  int64         \n",
            " 16  episode_run_time      82872 non-null  int64         \n",
            " 17  popularity_log        82872 non-null  float64       \n",
            " 18  adult_True            82872 non-null  int64         \n",
            " 19  air_time              82872 non-null  float64       \n",
            "dtypes: datetime64[ns](2), float64(6), int64(11), object(1)\n",
            "memory usage: 12.6+ MB\n"
          ]
        }
      ]
    },
    {
      "cell_type": "markdown",
      "source": [
        "# Investigating the option for Imputing enpty rows (5%) from the tmdb_eda Data Set"
      ],
      "metadata": {
        "id": "9FEF77vY_9mJ"
      }
    },
    {
      "cell_type": "code",
      "source": [
        "#tmdb_eda2 = tmdb_eda[['first_air_date','last_air_date ']].replace(0, np.NaN)\n",
        "tmdb_eda.info()\n",
        "tmdb_eda2 = tmdb_eda.copy()\n",
        "\n",
        "# drop rows with missing values\n",
        "\n",
        "tmdb_eda2.dropna(inplace=True)\n",
        "# summarize the number of rows and columns in the dataset\n",
        "tmdb_eda2.info()\n",
        "\n",
        "print(tmdb_eda2.shape)"
      ],
      "metadata": {
        "colab": {
          "base_uri": "https://localhost:8080/"
        },
        "id": "GVVfH-7eZuk0",
        "outputId": "a93cb0da-bc9e-4429-c4fb-b243bc91d496"
      },
      "execution_count": 26,
      "outputs": [
        {
          "output_type": "stream",
          "name": "stdout",
          "text": [
            "<class 'pandas.core.frame.DataFrame'>\n",
            "RangeIndex: 82872 entries, 0 to 82871\n",
            "Data columns (total 20 columns):\n",
            " #   Column                Non-Null Count  Dtype         \n",
            "---  ------                --------------  -----         \n",
            " 0   name                  82872 non-null  object        \n",
            " 1   id                    82872 non-null  float64       \n",
            " 2   number_of_seasons     82872 non-null  int64         \n",
            " 3   number_of_episodes    82872 non-null  float64       \n",
            " 4   vote_count            82872 non-null  int64         \n",
            " 5   vote_average          82872 non-null  float64       \n",
            " 6   first_air_date        62883 non-null  datetime64[ns]\n",
            " 7   last_air_date         63444 non-null  datetime64[ns]\n",
            " 8   popularity            82872 non-null  float64       \n",
            " 9   type                  82872 non-null  int64         \n",
            " 10  genres                82872 non-null  int64         \n",
            " 11  created_by            82872 non-null  int64         \n",
            " 12  languages             82872 non-null  int64         \n",
            " 13  networks              82872 non-null  int64         \n",
            " 14  origin_country        82872 non-null  int64         \n",
            " 15  production_companies  82872 non-null  int64         \n",
            " 16  episode_run_time      82872 non-null  int64         \n",
            " 17  popularity_log        82872 non-null  float64       \n",
            " 18  adult_True            82872 non-null  int64         \n",
            " 19  air_time              82872 non-null  float64       \n",
            "dtypes: datetime64[ns](2), float64(6), int64(11), object(1)\n",
            "memory usage: 12.6+ MB\n",
            "<class 'pandas.core.frame.DataFrame'>\n",
            "Index: 62836 entries, 1 to 82871\n",
            "Data columns (total 20 columns):\n",
            " #   Column                Non-Null Count  Dtype         \n",
            "---  ------                --------------  -----         \n",
            " 0   name                  62836 non-null  object        \n",
            " 1   id                    62836 non-null  float64       \n",
            " 2   number_of_seasons     62836 non-null  int64         \n",
            " 3   number_of_episodes    62836 non-null  float64       \n",
            " 4   vote_count            62836 non-null  int64         \n",
            " 5   vote_average          62836 non-null  float64       \n",
            " 6   first_air_date        62836 non-null  datetime64[ns]\n",
            " 7   last_air_date         62836 non-null  datetime64[ns]\n",
            " 8   popularity            62836 non-null  float64       \n",
            " 9   type                  62836 non-null  int64         \n",
            " 10  genres                62836 non-null  int64         \n",
            " 11  created_by            62836 non-null  int64         \n",
            " 12  languages             62836 non-null  int64         \n",
            " 13  networks              62836 non-null  int64         \n",
            " 14  origin_country        62836 non-null  int64         \n",
            " 15  production_companies  62836 non-null  int64         \n",
            " 16  episode_run_time      62836 non-null  int64         \n",
            " 17  popularity_log        62836 non-null  float64       \n",
            " 18  adult_True            62836 non-null  int64         \n",
            " 19  air_time              62836 non-null  float64       \n",
            "dtypes: datetime64[ns](2), float64(6), int64(11), object(1)\n",
            "memory usage: 10.1+ MB\n",
            "(62836, 20)\n"
          ]
        }
      ]
    },
    {
      "cell_type": "markdown",
      "source": [
        "#Conclution: The dropout reduce the DataSet  shape   from ( 82872) into (58,587)  \n",
        "\n",
        "# Therefore I do not procced with tne New Dataset  and use the Old Dataset."
      ],
      "metadata": {
        "id": "PJsga4sQbknE"
      }
    },
    {
      "cell_type": "code",
      "source": [
        "tmdb_eda.info()"
      ],
      "metadata": {
        "colab": {
          "base_uri": "https://localhost:8080/"
        },
        "id": "pHYbfJA_UOeM",
        "outputId": "e32f2baf-cfef-4476-d620-98610ec83768"
      },
      "execution_count": 27,
      "outputs": [
        {
          "output_type": "stream",
          "name": "stdout",
          "text": [
            "<class 'pandas.core.frame.DataFrame'>\n",
            "RangeIndex: 82872 entries, 0 to 82871\n",
            "Data columns (total 20 columns):\n",
            " #   Column                Non-Null Count  Dtype         \n",
            "---  ------                --------------  -----         \n",
            " 0   name                  82872 non-null  object        \n",
            " 1   id                    82872 non-null  float64       \n",
            " 2   number_of_seasons     82872 non-null  int64         \n",
            " 3   number_of_episodes    82872 non-null  float64       \n",
            " 4   vote_count            82872 non-null  int64         \n",
            " 5   vote_average          82872 non-null  float64       \n",
            " 6   first_air_date        62883 non-null  datetime64[ns]\n",
            " 7   last_air_date         63444 non-null  datetime64[ns]\n",
            " 8   popularity            82872 non-null  float64       \n",
            " 9   type                  82872 non-null  int64         \n",
            " 10  genres                82872 non-null  int64         \n",
            " 11  created_by            82872 non-null  int64         \n",
            " 12  languages             82872 non-null  int64         \n",
            " 13  networks              82872 non-null  int64         \n",
            " 14  origin_country        82872 non-null  int64         \n",
            " 15  production_companies  82872 non-null  int64         \n",
            " 16  episode_run_time      82872 non-null  int64         \n",
            " 17  popularity_log        82872 non-null  float64       \n",
            " 18  adult_True            82872 non-null  int64         \n",
            " 19  air_time              82872 non-null  float64       \n",
            "dtypes: datetime64[ns](2), float64(6), int64(11), object(1)\n",
            "memory usage: 12.6+ MB\n"
          ]
        }
      ]
    },
    {
      "cell_type": "code",
      "source": [
        "tmdb_clean=tmdb_eda.copy()"
      ],
      "metadata": {
        "id": "cOvzDVYTsQpY"
      },
      "execution_count": 28,
      "outputs": []
    },
    {
      "cell_type": "markdown",
      "source": [
        "# Download tmdb_clean as pickel file to my Google Drive"
      ],
      "metadata": {
        "id": "FQgsOzWZqYPZ"
      }
    },
    {
      "cell_type": "code",
      "execution_count": 29,
      "metadata": {
        "colab": {
          "base_uri": "https://localhost:8080/"
        },
        "outputId": "35927e44-d5da-48ae-9565-65b05c729d44",
        "id": "EPC-x3y9s0ID"
      },
      "outputs": [
        {
          "output_type": "stream",
          "name": "stdout",
          "text": [
            "Drive already mounted at /content/drive; to attempt to forcibly remount, call drive.mount(\"/content/drive\", force_remount=True).\n",
            "tmdb_clean saved to /content/drive/My Drive/1pBDwupkA4bAYBLsQilnu8YrNra72QfKz/tmdb_clean.pkl\n"
          ]
        }
      ],
      "source": [
        "# Import necessary libraries\n",
        "import pickle\n",
        "from google.colab import drive\n",
        "\n",
        "# Mount Google Drive\n",
        "drive.mount('/content/drive')\n",
        "\n",
        "# Define the file path where you want to save the pickle file in your Google Drive\n",
        "# Make sure to replace 'your_folder' with the actual folder name in your Google Drive, or create the folder.\n",
        "file_path = '/content/drive/My Drive/1pBDwupkA4bAYBLsQilnu8YrNra72QfKz/tmdb_clean.pkl'\n",
        "\n",
        "# Check if the directory exists, and if not, create it\n",
        "import os\n",
        "directory = os.path.dirname(file_path)\n",
        "if not os.path.exists(directory):\n",
        "    os.makedirs(directory)\n",
        "    print(f\"Created directory: {directory}\")\n",
        "\n",
        "# Now, let's save the tmdb_NP DataFrame to a pickle file\n",
        "try:\n",
        "  with open(file_path, 'wb') as file:\n",
        "      pickle.dump(tmdb_clean, file)\n",
        "  print(f\"tmdb_clean saved to {file_path}\")\n",
        "except NameError:\n",
        "  print('Run all the code in the notebook until the Dataframe tmdb_eda is created')"
      ]
    },
    {
      "cell_type": "markdown",
      "source": [
        "# Import tmdb_clean as pickel file from my Google Drive"
      ],
      "metadata": {
        "id": "IUasD5EeqRhY"
      }
    },
    {
      "cell_type": "code",
      "execution_count": 30,
      "metadata": {
        "colab": {
          "base_uri": "https://localhost:8080/"
        },
        "outputId": "d9f7fbf5-475c-4ccb-e41c-0ad1363b181e",
        "id": "y6GO6K0otbqP"
      },
      "outputs": [
        {
          "output_type": "stream",
          "name": "stdout",
          "text": [
            "Drive already mounted at /content/drive; to attempt to forcibly remount, call drive.mount(\"/content/drive\", force_remount=True).\n",
            "tmdb_clean loaded from /content/drive/My Drive/1pBDwupkA4bAYBLsQilnu8YrNra72QfKz/tmdb_clean.pkl successfully.\n",
            "              name        id  number_of_seasons  number_of_episodes  \\\n",
            "0          minutes   39280.0                  1                 0.0   \n",
            "1              man  222838.6                  1                 5.0   \n",
            "2   erne tur retur  222838.6                  1                10.0   \n",
            "3                    34835.0                  1                12.0   \n",
            "4             bama   42598.0                  1                 0.0   \n",
            "\n",
            "   vote_count  vote_average first_air_date last_air_date  popularity  type  \\\n",
            "0           0           0.0            NaT           NaT    0.470004     4   \n",
            "1           3           7.7     2023-05-28    2023-06-25    1.723837     4   \n",
            "2           0           0.0     2014-05-15    2014-07-17    0.470004     4   \n",
            "3           5           6.4     2006-10-06    2006-12-22    2.375928     4   \n",
            "4           0           0.0            NaT           NaT    0.470004     4   \n",
            "\n",
            "   genres  created_by  languages  networks  origin_country  \\\n",
            "0      19          20          6        18              19   \n",
            "1      12          20         10        18              12   \n",
            "2      19          20         13        18               5   \n",
            "3      19          20         10        18              12   \n",
            "4       5          20         13        18              20   \n",
            "\n",
            "   production_companies  episode_run_time  popularity_log  adult_True  \\\n",
            "0                    18                30        0.385265           0   \n",
            "1                    18                50        1.002042           0   \n",
            "2                    18                 0        0.385265           0   \n",
            "3                    18                30        1.216670           0   \n",
            "4                    18                 0        0.385265           0   \n",
            "\n",
            "    air_time  \n",
            "0  380.45014  \n",
            "1   28.00000  \n",
            "2   63.00000  \n",
            "3   77.00000  \n",
            "4  380.45014  \n"
          ]
        }
      ],
      "source": [
        "import pickle\n",
        "from google.colab import drive\n",
        "\n",
        "# Mount Google Drive (if you haven't already)\n",
        "drive.mount('/content/drive')\n",
        "\n",
        "# Define the file path where the pickle file is located in your Google Drive\n",
        "file_path = '/content/drive/My Drive/1pBDwupkA4bAYBLsQilnu8YrNra72QfKz/tmdb_clean.pkl'  # Replace 'your_folder' with the actual folder name\n",
        "\n",
        "# Load the data from the pickle file\n",
        "try:\n",
        "    with open(file_path, 'rb') as file:\n",
        "        tmdb_clean = pickle.load(file)\n",
        "    print(f\"tmdb_clean loaded from {file_path} successfully.\")\n",
        "\n",
        "    #  use the loaded DataFrame (tmdb_eda)\n",
        "    #  display the first few rows:\n",
        "    print(tmdb_clean.head())\n",
        "except FileNotFoundError:\n",
        "    print(f\"Error: File not found at {file_path}. Please check the file path and ensure the file exists in your Google Drive.\")\n",
        "except Exception as e:\n",
        "    print(f\"An error occurred: {e}\")\n"
      ]
    }
  ],
  "metadata": {
    "colab": {
      "gpuType": "L4",
      "machine_shape": "hm",
      "provenance": [],
      "include_colab_link": true
    },
    "kernelspec": {
      "display_name": "Python 3",
      "name": "python3"
    },
    "language_info": {
      "codemirror_mode": {
        "name": "ipython",
        "version": 3
      },
      "file_extension": ".py",
      "mimetype": "text/x-python",
      "name": "python",
      "nbconvert_exporter": "python",
      "pygments_lexer": "ipython3",
      "version": "3.8.8"
    }
  },
  "nbformat": 4,
  "nbformat_minor": 0
}